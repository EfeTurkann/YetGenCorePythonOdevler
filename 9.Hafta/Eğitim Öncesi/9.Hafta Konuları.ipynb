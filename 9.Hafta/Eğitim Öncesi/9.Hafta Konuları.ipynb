{
 "cells": [
  {
   "attachments": {},
   "cell_type": "markdown",
   "metadata": {},
   "source": [
    "``*********************************************************************************************************``"
   ]
  },
  {
   "attachments": {},
   "cell_type": "markdown",
   "metadata": {},
   "source": [
    "``*********************************************************************************************************``\n"
   ]
  },
  {
   "attachments": {},
   "cell_type": "markdown",
   "metadata": {},
   "source": [
    "# Class Variables(Sınıf Değişkenleri) - İnstance Variables(Nesne Değişkenleri)"
   ]
  },
  {
   "cell_type": "code",
   "execution_count": 2,
   "metadata": {},
   "outputs": [
    {
     "name": "stdout",
     "output_type": "stream",
     "text": [
      "{'isim': 'Ali', 'maaş': 5000}\n",
      "{'isim': 'Efe', 'maaş': 7500}\n",
      "{'__module__': '__main__', '__init__': <function calisan.__init__ at 0x00000210D8090900>, '__dict__': <attribute '__dict__' of 'calisan' objects>, '__weakref__': <attribute '__weakref__' of 'calisan' objects>, '__doc__': None}\n"
     ]
    }
   ],
   "source": [
    "class calisan:\n",
    "    def __init__(self,isim,maaş):\n",
    "        self.isim = isim\n",
    "        self.maaş = maaş\n",
    "\n",
    "calisan1 = calisan(\"Ali\",5000) \n",
    "calisan2 = calisan(\"Efe\",7500)\n",
    "#\"Ali\",5000,\"Efe\",7500 instance variables(nesnelerin değişkenleri)'dir.\n",
    "\n",
    "print(calisan1.__dict__) #calisan1 ' in sahip olduğu özellikleri sözlük olarak yazar.\n",
    "print(calisan2.__dict__)#calisan2 ' nin sahip olduğu özellikleri sözlük olarak yazar.\n",
    "print(calisan.__dict__)#classımın kendisi olan  calisan'in özellikleri\n"
   ]
  },
  {
   "attachments": {},
   "cell_type": "markdown",
   "metadata": {},
   "source": [
    "Eğer ben sınıf içerisinde yer alan her şey için ortak bir değişken tanımlamak istersem:"
   ]
  },
  {
   "cell_type": "code",
   "execution_count": 3,
   "metadata": {},
   "outputs": [
    {
     "name": "stdout",
     "output_type": "stream",
     "text": [
      "1.1\n",
      "1.1\n",
      "1.1\n"
     ]
    }
   ],
   "source": [
    "class calisan:\n",
    "    zam_orani = 1.1 #Class variables (Sınıf Değişkenidir.)\n",
    "    def __init__(self,isim,maaş):\n",
    "        self.isim = isim\n",
    "        self.maaş = maaş\n",
    "\n",
    "calisan1 = calisan(\"Ali\",5000) \n",
    "calisan2 = calisan(\"Efe\",7500)\n",
    "                         #class variableslere :\n",
    "print(calisan.zam_orani) #istersem class'ın kendi üzerinden\n",
    "print(calisan1.zam_orani)#istersem class'dan ürettiğim nesneler üzerinden erişebilirim.\n",
    "print(calisan2.zam_orani)"
   ]
  },
  {
   "cell_type": "code",
   "execution_count": 4,
   "metadata": {},
   "outputs": [
    {
     "name": "stdout",
     "output_type": "stream",
     "text": [
      "{'__module__': '__main__', 'zam_orani': 1.1, '__init__': <function calisan.__init__ at 0x00000210D8091080>, '__dict__': <attribute '__dict__' of 'calisan' objects>, '__weakref__': <attribute '__weakref__' of 'calisan' objects>, '__doc__': None}\n",
      "{'isim': 'Ali', 'maaş': 5000}\n",
      "{'isim': 'Efe', 'maaş': 7500}\n"
     ]
    }
   ],
   "source": [
    "print(calisan.__dict__)#class'ın kendi özelliklerinde zam_orani var ancak:\n",
    "print(calisan1.__dict__)#nesnenin özelliklerinde zam_orani yok.Çünkü\n",
    "print(calisan2.__dict__)"
   ]
  },
  {
   "attachments": {},
   "cell_type": "markdown",
   "metadata": {},
   "source": [
    "------"
   ]
  },
  {
   "attachments": {},
   "cell_type": "markdown",
   "metadata": {},
   "source": [
    "``\n",
    "Sebep açıklama\n",
    "``"
   ]
  },
  {
   "attachments": {},
   "cell_type": "markdown",
   "metadata": {},
   "source": [
    "- calisan1 üzerinden zam_oranina ulaşabilirken calisan1'in özelliklerini yazdırdığımızda zam_orani özellikler arasında yer almadı.Çünkü:"
   ]
  },
  {
   "attachments": {},
   "cell_type": "markdown",
   "metadata": {},
   "source": [
    "- calisan1 nesnesinin özelliklerinin, calisan sınıfının kendi özelliklerini değil, sadece sınıfın özelliklerini (yani sınıf değişkenleri) kopyalamasıdır. Yani zam_orani özelliği, calisan1 nesnesinin özelliklerinde görünmez çünkü bu özellik, sınıf özelliği olarak tanımlandı ve nesne özelliklerine kopyalanmadı.\n",
    "- Sınıf özellikleri, sınıfın tüm örnekleri arasında paylaşılır ve değiştirilirse tüm örnekleri etkiler. Bu nedenle, sınıf özellikleri özellikle sabit olan veriler için kullanışlıdır.\n",
    "- Eğer zam_orani özelliğinin her bir örnek için ayrı bir değer almasını istiyorsanız, bu özelliği sınıf özelliği olarak tanımlamak yerine, __init__ metodunda örnek özelliği olarak tanımlayabilirsiniz. Bu şekilde, her örnek için ayrı bir zam_orani özelliği olacaktır. Örnek olarak:"
   ]
  },
  {
   "cell_type": "code",
   "execution_count": 23,
   "metadata": {},
   "outputs": [
    {
     "name": "stdout",
     "output_type": "stream",
     "text": [
      "{'isim': 'Ahmet', 'maas': 3000, 'zam_orani': 0.2}\n"
     ]
    }
   ],
   "source": [
    "class Calisan:\n",
    "    def __init__(self, isim, maas, zam_orani):\n",
    "        self.isim = isim\n",
    "        self.maas = maas\n",
    "        self.zam_orani = zam_orani   # burada özellik örnek özelliği olarak tanımlandı\n",
    "\n",
    "calisan3 = Calisan(\"Ahmet\", 3000, 0.2)\n",
    "print(calisan3.__dict__)  # bu sefer zam_orani özelliği örnek özelliği olarak tanımlandığı için görünecektir\n"
   ]
  },
  {
   "attachments": {},
   "cell_type": "markdown",
   "metadata": {},
   "source": [
    "------"
   ]
  },
  {
   "attachments": {},
   "cell_type": "markdown",
   "metadata": {},
   "source": [
    "``\n",
    "Kaldığımız yerden devam ediyoruz.\n",
    "``"
   ]
  },
  {
   "cell_type": "code",
   "execution_count": 28,
   "metadata": {},
   "outputs": [
    {
     "name": "stdout",
     "output_type": "stream",
     "text": [
      "1.2\n",
      "1.2\n",
      "1.2\n"
     ]
    }
   ],
   "source": [
    "calisan.zam_orani = 1.2 \n",
    "#Class üzerinden değiştirilen oran tüm nesnelerin ve sınıfın oranını değiştirdi.\n",
    "print(calisan.zam_orani)\n",
    "print(calisan1.zam_orani)\n",
    "print(calisan2.zam_orani)"
   ]
  },
  {
   "cell_type": "code",
   "execution_count": 32,
   "metadata": {},
   "outputs": [
    {
     "name": "stdout",
     "output_type": "stream",
     "text": [
      "1.2\n",
      "1.3\n",
      "1.2\n"
     ]
    }
   ],
   "source": [
    "calisan1.zam_orani = 1.3\n",
    "#Nesne üzerinden değiştirilen oran, sadece o nesneyi etkiler.\n",
    "print(calisan.zam_orani)\n",
    "print(calisan1.zam_orani)\n",
    "print(calisan2.zam_orani)\n"
   ]
  },
  {
   "cell_type": "code",
   "execution_count": 33,
   "metadata": {},
   "outputs": [
    {
     "name": "stdout",
     "output_type": "stream",
     "text": [
      "{'isim': 'Ali', 'maaş': 5000, 'zam_orani': 1.3}\n",
      "{'isim': 'Efe', 'maaş': 7500}\n"
     ]
    }
   ],
   "source": [
    "print(calisan1.__dict__)\n",
    "#Bir üstte calisan1 üzerinden zam_orani'nı güncellediğim için onu sanki calisan1'in bir özelliği olarak algılar.\n",
    "#self.zam_orani = 1.3 yapmışsın ve bunu nesne özelliği yapmışsın gibi oldu.\n",
    "#calisan1.zam_orani = 1.3 yapmıştık :)\n",
    "print(calisan2.__dict__)"
   ]
  },
  {
   "attachments": {},
   "cell_type": "markdown",
   "metadata": {},
   "source": [
    "- Class'ımıza yeni bir değişken ekleyelim."
   ]
  },
  {
   "cell_type": "code",
   "execution_count": 6,
   "metadata": {},
   "outputs": [
    {
     "name": "stdout",
     "output_type": "stream",
     "text": [
      "0\n",
      "1\n",
      "2\n"
     ]
    }
   ],
   "source": [
    "class calisan:\n",
    "    personel_sayisi = 0\n",
    "    def __init__(self,isim,maaş):\n",
    "        self.isim = isim\n",
    "        self.maaş = maaş\n",
    "        calisan.personel_sayisi +=1\n",
    "        #init bloğu her türlü çalışacağından her eklenen nesnede(calisanda) personel sayısını +1 arttıracak.\n",
    "print(calisan.personel_sayisi) #0 nesne\n",
    "calisan1 = calisan(\"Ali\",5000) \n",
    "print(calisan.personel_sayisi) #1 nesne(init 1 kere çalıştı.)\n",
    "calisan2 = calisan(\"Efe\",7500)\n",
    "print(calisan.personel_sayisi) #2 nesne[init 2.kez çalıştı.]"
   ]
  },
  {
   "attachments": {},
   "cell_type": "markdown",
   "metadata": {},
   "source": [
    "# Class Methods | Instance Methods | Static Methods"
   ]
  },
  {
   "attachments": {},
   "cell_type": "markdown",
   "metadata": {},
   "source": [
    "## Class Methods | Instance Methods"
   ]
  },
  {
   "cell_type": "code",
   "execution_count": 25,
   "metadata": {},
   "outputs": [
    {
     "name": "stdout",
     "output_type": "stream",
     "text": [
      "('Mevcut Personel Sayınınız: ', 0)\n",
      "Ad: Ali Yaş:20\n",
      "Ad: Ali Yaş:20\n",
      "('Mevcut Personel Sayınınız: ', 2)\n"
     ]
    }
   ],
   "source": [
    "from datetime import date\n",
    "class kisi:\n",
    "    zam_orani = 1.1\n",
    "    personel_sayisi = 0\n",
    "    def __init__(self,isim,yaş):\n",
    "        self.isim = isim\n",
    "        self.yaş = yaş\n",
    "        kisi.personel_sayisi +=1\n",
    "\n",
    "    def bilgilerini_goster(self): #Instance Methods = oluşturulmuş nesnelerle ilgili işlem yapar.\n",
    "        return f\"Ad: {self.isim} Yaş:{self.yaş}\" #Instance Methodları bir nesne kullanamadan kullanamazsın.Çünkü çalıştırmak istediğinde senden bir self parametresi (nesne) ister.\n",
    "                      \n",
    "    #classmetod == yapıcı method = constructor // Instance Methodların aksine bir nesne kullanmadan kullanabilirsin.Çünkü çalıştırmak istediğinde senden bir self par. değil class par. ister ki zaten bizim de classımız vardır.\n",
    "    @classmethod #Class Methods = Üretilmiş bir nesneye bağlı değildir,sınıfın kendisine bağlıdır.Farklı yapılardaki elemanlardan aynı özelliklere sahip nesneler çıkartması(gruplaması) en önemli özelliğidir.\n",
    "    def kisi_sayisini_söyle(cls): #Tıpkı self yerine nesne adı gelmesi gibi cls yerine de class adı gelir.\n",
    "        return \"Mevcut Personel Sayınınız: \" ,  cls.personel_sayisi       #self.isim = isim ->> kisi1.isim = isim 'e dönüşürken              \n",
    "                                                                        #cls.personel_sayisi ->> kisi.personel_sayisi'na dönüşür\n",
    "    @classmethod\n",
    "    def string_ile_olustur(cls,metin):\n",
    "        name,age = metin.split(\"-\") #Örneğin bize gelen veriler bizim beklediğimiz gibi (\"Ayşe,42\") şeklinde değil de (\"Ayşe-42\") şeklinde geldiyse bu yöntemle onu istediğimiz şekle sokabiliriz.\n",
    "        return cls(name,age) \n",
    "    #Böldüğün metnin sonucu olan ikiliyi classım olan kisi'ye gönder ve nesne oluştur.\n",
    "    #Aslında initin içine giren isim = name,  yaş = age yapıyoruz.\n",
    "\n",
    "    @classmethod\n",
    "    def dogum_yili_ile_olustur(cls,ad,dogum_yili):\n",
    "        return cls(ad,date.today().year - dogum_yili)\n",
    "\n",
    "\n",
    "print(kisi.kisi_sayisini_söyle()) #class method olduğundan  çalışması için herhangi bir nesne üretilmesine bağlı değildir.\n",
    "\n",
    "kisi1 =kisi(\"Ali\",20)\n",
    "kisi2 =kisi(\"Efe\",36)\n",
    "\n",
    "print(kisi1.bilgilerini_goster())\n",
    "#veya\n",
    "print(kisi.bilgilerini_goster(kisi1))\n",
    "\n",
    "print(kisi.kisi_sayisini_söyle()) #2tane yeni nesne oluşturduğum için 0'dan 2 oldu."
   ]
  },
  {
   "attachments": {},
   "cell_type": "markdown",
   "metadata": {},
   "source": [
    "Class Method oluşturdum çünkü:"
   ]
  },
  {
   "cell_type": "code",
   "execution_count": 28,
   "metadata": {},
   "outputs": [
    {
     "ename": "TypeError",
     "evalue": "kisi.__init__() missing 1 required positional argument: 'yaş'",
     "output_type": "error",
     "traceback": [
      "\u001b[1;31m---------------------------------------------------------------------------\u001b[0m",
      "\u001b[1;31mTypeError\u001b[0m                                 Traceback (most recent call last)",
      "Cell \u001b[1;32mIn[28], line 2\u001b[0m\n\u001b[0;32m      1\u001b[0m \u001b[39m#Eğer oluşturmasaydım ve veri bana:\u001b[39;00m\n\u001b[1;32m----> 2\u001b[0m kisi3 \u001b[39m=\u001b[39m kisi(\u001b[39m\"\u001b[39;49m\u001b[39mAyşe-42\u001b[39;49m\u001b[39m\"\u001b[39;49m) \u001b[39m#Şeklinde gelseydi hata alırdım:\u001b[39;00m\n\u001b[0;32m      3\u001b[0m \u001b[39mprint\u001b[39m(kisi3\u001b[39m.\u001b[39mbilgilerini_goster)\n",
      "\u001b[1;31mTypeError\u001b[0m: kisi.__init__() missing 1 required positional argument: 'yaş'"
     ]
    }
   ],
   "source": [
    "#Eğer oluşturmasaydım ve veri bana:\n",
    "kisi3 = kisi(\"Ayşe-42\") #Şeklinde gelseydi hata alırdım: \n",
    "#kisi.__init__() missing 1 required positional argument: 'yaş' = Yaş parametresini girmedin diyor.\n",
    "print(kisi3.bilgilerini_goster)"
   ]
  },
  {
   "cell_type": "code",
   "execution_count": 26,
   "metadata": {},
   "outputs": [
    {
     "name": "stdout",
     "output_type": "stream",
     "text": [
      "Ad: Ayşe Yaş:42\n",
      "('Mevcut Personel Sayınınız: ', 3)\n",
      "Ad: Elif Yaş:33\n",
      "('Mevcut Personel Sayınınız: ', 4)\n"
     ]
    }
   ],
   "source": [
    "#Bu gibi sorunları  aşmak için Class Methodlarımızdan faydalanalım:\n",
    "kisi3 = kisi.string_ile_olustur(\"Ayşe-42\") #Ayşe-42 yi => Ayşe,42 haline getirdik.\n",
    "print(kisi3.bilgilerini_goster())\n",
    "print(kisi.kisi_sayisini_söyle())\n",
    "kisi4 = kisi.dogum_yili_ile_olustur(\"Elif\",1990)#Elif -1990'ı => Elif,33 haline getirdik.\n",
    "print(kisi4.bilgilerini_goster())\n",
    "print(kisi.kisi_sayisini_söyle())\n",
    "\n"
   ]
  },
  {
   "attachments": {},
   "cell_type": "markdown",
   "metadata": {},
   "source": [
    "## Static Methods"
   ]
  },
  {
   "cell_type": "code",
   "execution_count": 60,
   "metadata": {},
   "outputs": [
    {
     "name": "stdout",
     "output_type": "stream",
     "text": [
      "20\n",
      "2003\n",
      "Parametresiz kullandım.\n"
     ]
    }
   ],
   "source": [
    "class kisi:\n",
    "    zam_orani = 1.1\n",
    "    personel_sayisi = 0\n",
    "    def __init__(self,isim,yaş):\n",
    "        self.isim = isim\n",
    "        self.yaş = yaş\n",
    "        kisi.personel_sayisi +=1\n",
    "    def bilgilerini_goster(self): \n",
    "        return f\"Ad: {self.isim} Yaş:{self.yaş}\"\n",
    "    @classmethod \n",
    "    def kisi_sayisini_söyle(cls): \n",
    "        return \"Mevcut Personel Sayınınız: \" ,  cls.personel_sayisi                                                                       \n",
    "    @classmethod\n",
    "    def string_ile_olustur(cls,metin):\n",
    "        name,age = metin.split(\"-\")\n",
    "        return cls(name,age) \n",
    "    @classmethod\n",
    "    def dogum_yili_ile_olustur(cls,ad,dogum_yili):\n",
    "        return cls(ad,date.today().year - dogum_yili)\n",
    "    \n",
    "    @staticmethod #classmethod'dan farklı olarak içine cls gibi herhangi bir parametre almak zorunda değildir.\n",
    "    def dogum_yili_hesapla(insan): #Parametre ile kullanımı\n",
    "        return date.today().year - insan.yaş\n",
    "    @staticmethod\n",
    "    def parametresiz_kullanim(): #Parametresiz kullanım.\n",
    "        return \"Parametresiz kullandım.\"\n",
    "print(kisi1.yaş)\n",
    "print(kisi.dogum_yili_hesapla(kisi1))\n",
    "print(kisi.parametresiz_kullanim())\n",
    "\n"
   ]
  },
  {
   "attachments": {},
   "cell_type": "markdown",
   "metadata": {},
   "source": [
    "# Inheritance(Kalıtım)"
   ]
  },
  {
   "cell_type": "code",
   "execution_count": 99,
   "metadata": {},
   "outputs": [
    {
     "name": "stdout",
     "output_type": "stream",
     "text": [
      "AslanAkbey@sirket.com\n"
     ]
    }
   ],
   "source": [
    "class Calisan: #BaseClass\n",
    "    zam_orani = 1.1\n",
    "    def __init__(self,isim,soyisim,maas):\n",
    "        self.isim = isim\n",
    "        self.soyisim = soyisim\n",
    "        self.maas = maas\n",
    "        self.email = isim + soyisim + \"@sirket.com\"\n",
    "    def bilgileri_goster(self): #Instance methodları da miras alırız\n",
    "        return \"Ad: {} Soyad: {} Maaş: {} E-mail: {}\".format(self.isim,self.soyisim,self.maas,self.email)\n",
    "\n",
    "calisan1 = Calisan(\"Süleyman\",\"Çakır\",5000)\n",
    "calisan2 = Calisan(\"Aslan\",\"Akbey\",7500)\n",
    "print(calisan2.email)"
   ]
  },
  {
   "attachments": {},
   "cell_type": "markdown",
   "metadata": {},
   "source": [
    "Bu class'tan miras alan bir class daha oluşturalım:"
   ]
  },
  {
   "cell_type": "code",
   "execution_count": 80,
   "metadata": {},
   "outputs": [
    {
     "ename": "TypeError",
     "evalue": "Calisan.__init__() missing 3 required positional arguments: 'isim', 'soyisim', and 'maas'",
     "output_type": "error",
     "traceback": [
      "\u001b[1;31m---------------------------------------------------------------------------\u001b[0m",
      "\u001b[1;31mTypeError\u001b[0m                                 Traceback (most recent call last)",
      "Cell \u001b[1;32mIn[80], line 4\u001b[0m\n\u001b[0;32m      1\u001b[0m \u001b[39mclass\u001b[39;00m \u001b[39mYazilimci\u001b[39;00m(Calisan):\u001b[39m#Önce miras alan,sonra miras veren\u001b[39;00m\n\u001b[0;32m      2\u001b[0m     yazilimi_zam_orani \u001b[39m=\u001b[39m \u001b[39m1.5\u001b[39m\n\u001b[1;32m----> 4\u001b[0m yazilimci1 \u001b[39m=\u001b[39m Yazilimci() \u001b[39m#Bu da 3 tane parametre ister çünkü Calisan'in özelliklerini devraldı. \u001b[39;00m\n",
      "\u001b[1;31mTypeError\u001b[0m: Calisan.__init__() missing 3 required positional arguments: 'isim', 'soyisim', and 'maas'"
     ]
    }
   ],
   "source": [
    "class Yazilimci(Calisan):#Önce miras alan,sonra miras veren\n",
    "    pass\n",
    "\n",
    "yazilimci1 = Yazilimci() #Bu da 3 tane parametre ister çünkü Calisan'in özelliklerini devraldı. "
   ]
  },
  {
   "cell_type": "code",
   "execution_count": 112,
   "metadata": {},
   "outputs": [
    {
     "name": "stdout",
     "output_type": "stream",
     "text": [
      "DoğuEşrefoglu@sirket.com\n",
      "ElifEylül@sirket.com\n"
     ]
    }
   ],
   "source": [
    "class Yazilimci(Calisan):#Önce miras alan (Sub Class),sonra miras veren(Base Class)\n",
    "    # yazilimci_zam_orani = 1.5\n",
    "    zam_orani = 1.7\n",
    "    def bilgileri_goster(self):\n",
    "        return \"SUBCLASS'A BU FONK. EKLEDİĞİM İÇİN ARTIK BU FONK.'U SUBCLASS'TAN ALACAK VE  BU YAZI ÇIKACAK.\"\n",
    "yazilimci1 = Yazilimci(\"Doğu\",\"Eşrefoglu\",3500)\n",
    "yazilimci2 = Yazilimci(\"Elif\",\"Eylül\",8500)\n",
    "print(yazilimci1.email)\n",
    "print(yazilimci2.email)"
   ]
  },
  {
   "cell_type": "code",
   "execution_count": 89,
   "metadata": {},
   "outputs": [
    {
     "name": "stdout",
     "output_type": "stream",
     "text": [
      "1.1\n",
      "1.7\n"
     ]
    }
   ],
   "source": [
    "print(calisan1.zam_orani)\n",
    "print(yazilimci1.zam_orani) #zaten kendi classında bir zam orani olduğu için miras alınan class'a bakmaz.\n",
    "#Eğer yazilimcinin içinde zam_orani ' nı bir daha tanımlamasaydık o zaman gider miras alınan class'a bakar ve  bize 1.1 çıktısını verirdi.\n",
    "#print(yazilimci1.yazilimci_zam_orani) => 1.5 outputunu verirdi.\n"
   ]
  },
  {
   "cell_type": "code",
   "execution_count": 109,
   "metadata": {},
   "outputs": [
    {
     "name": "stdout",
     "output_type": "stream",
     "text": [
      "Ad: Süleyman Soyad: Çakır Maaş: 5000 E-mail: SüleymanÇakır@sirket.com\n",
      "Ad: Doğu Soyad: Eşrefoglu Maaş: 3500 E-mail: DoğuEşrefoglu@sirket.com\n"
     ]
    }
   ],
   "source": [
    "print(calisan1.bilgileri_goster())\n",
    "print(yazilimci1.bilgileri_goster()) #Eğer ben aynı fonk. yazmazsam Base Class'dan Instance methodları da miras alır. "
   ]
  },
  {
   "cell_type": "code",
   "execution_count": 117,
   "metadata": {},
   "outputs": [
    {
     "name": "stdout",
     "output_type": "stream",
     "text": [
      "SUBCLASS'A BU FONK. EKLEDİĞİM İÇİN ARTIK BU FONK.DA BU YAZI ÇIKACAK.\n",
      "Doğu\n"
     ]
    }
   ],
   "source": [
    "print(yazilimci1.bilgileri_goster()) #SubClass'dan aldı.\n",
    "#Yani aslında nesne önce SubClass'a bakar eğer Base Class'da olan bir özelliğin aynısı SubClass'da varsa oradan alır.\n",
    "#Ancak SubClass'da o özelliği bulamazsa gider ve o özelliği BaseClass'dan alır.\n",
    "print(yazilimci1.isim) # Base Class'dan aldı.\n"
   ]
  },
  {
   "attachments": {},
   "cell_type": "markdown",
   "metadata": {},
   "source": [
    "* __init__ fonksiyonu içerisinde bazı özellikleri BaseClass'dan bazı özellikleri de SubClass'dan almak istersek ``super()`` fonksiyonunu kullanırız.\n",
    "Kullanımı:\n",
    "\n",
    "```\n",
    "super().BaseClass(aktarılmasını istediğimiz parametreler...)\n",
    "```\n",
    "şeklindedir."
   ]
  },
  {
   "cell_type": "code",
   "execution_count": 118,
   "metadata": {},
   "outputs": [],
   "source": [
    "class Calisan: #BaseClass\n",
    "    zam_orani = 1.1\n",
    "    def __init__(self,isim,soyisim,maas):\n",
    "        self.isim = isim\n",
    "        self.soyisim = soyisim\n",
    "        self.maas = maas\n",
    "        self.email = isim + soyisim + \"@sirket.com\"\n",
    "    def bilgileri_goster(self): \n",
    "        return \"Ad: {} Soyad: {} Maaş: {} E-mail: {}\".format(self.isim,self.soyisim,self.maas,self.email)\n",
    "\n",
    "calisan1 = Calisan(\"Süleyman\",\"Çakır\",5000)\n",
    "calisan2 = Calisan(\"Aslan\",\"Akbey\",7500)\n"
   ]
  },
  {
   "cell_type": "code",
   "execution_count": 148,
   "metadata": {},
   "outputs": [
    {
     "name": "stdout",
     "output_type": "stream",
     "text": [
      "Ad: Doğu Soyad: Eşrefoglu Maaş: 3500 E-mail: DoğuEşrefoglu@sirket.com IDE Çeşitleri: VS Code,PyCharm\n",
      "IDEler: VS Code,PyCharm\n"
     ]
    }
   ],
   "source": [
    "class Yazilimci(Calisan):\n",
    "    def __init__(self, isim, soyisim, maas,IDE_cesitleri):\n",
    "        super().__init__(isim, soyisim, maas) #Bu parametreleri Base Class'tan al.\n",
    "        self.IDE_cesitleri = IDE_cesitleri #Bu parametreleri ben vereceğim.\n",
    "    \n",
    "    # def bilgileri_goster(self):\n",
    "    #  return \"Ad: {}Soyad: {} Maaş: {} E-mail: {} IDE Çeşitleri {}\".format(self.isim,self.soyisim,self.maas,self.email,self.Ide_cesitleri)\n",
    "    #veya böyle uzun uzadıya yazmak yerine:\n",
    "    def bilgileri_goster(self):\n",
    "        return super().bilgileri_goster() + \" IDE Çeşitleri: {}\".format(self.IDE_cesitleri)\n",
    "    #Bu şekilde de yapabiliriz.\n",
    "\n",
    "    def IDEyi_söyle(self):\n",
    "       return f\"IDEler: {self.IDE_cesitleri}\"\n",
    "\n",
    "    \n",
    "yazilimci1 = Yazilimci(\"Doğu\",\"Eşrefoglu\",3500,\"VS Code,PyCharm\")\n",
    "yazilimci2 = Yazilimci(\"Elif\",\"Eylül\",8500,\"VS Code\")\n",
    "print(yazilimci1.bilgileri_goster())\n",
    "print(yazilimci1.IDEyi_söyle())"
   ]
  },
  {
   "attachments": {},
   "cell_type": "markdown",
   "metadata": {},
   "source": [
    "\n",
    "```\n",
    "Biraz daha karmaşıklaştırarak bir de Calisan BaseClass'ından Yönetici SubClass'ı üretelim.Ve ona özgü bazı fonksiyonlar ekleyelim.\n",
    "```"
   ]
  },
  {
   "cell_type": "code",
   "execution_count": 236,
   "metadata": {},
   "outputs": [
    {
     "name": "stdout",
     "output_type": "stream",
     "text": [
      "Ad: Doğu Soyad: Eşrefoglu Maaş: 3500 E-mail: DoğuEşrefoglu@sirket.com IDE Çeşitleri: VS Code,PyCharm\n",
      "Ad: Elif Soyad: Eylül Maaş: 8500 E-mail: ElifEylül@sirket.com IDE Çeşitleri: VS Code\n",
      "['Ahmet', 'Mehmet'] \n",
      "\n",
      "Ad: Doğu Soyad: Eşrefoglu Maaş: 3500 E-mail: DoğuEşrefoglu@sirket.com IDE Çeşitleri: VS Code,PyCharm\n",
      "Ad: Elif Soyad: Eylül Maaş: 8500 E-mail: ElifEylül@sirket.com IDE Çeşitleri: VS Code\n",
      "Ad: Doğu Soyad: Eşrefoglu Maaş: 3500 E-mail: DoğuEşrefoglu@sirket.com IDE Çeşitleri: VS Code,PyCharm\n",
      "Ad: Elif Soyad: Eylül Maaş: 8500 E-mail: ElifEylül@sirket.com IDE Çeşitleri: VS Code\n"
     ]
    },
    {
     "data": {
      "text/plain": [
       "'Ad: Doğu Soyad: Eşrefoglu Maaş: 3500 E-mail: DoğuEşrefoglu@sirket.com IDE Çeşitleri: VS Code,PyCharm'"
      ]
     },
     "execution_count": 236,
     "metadata": {},
     "output_type": "execute_result"
    }
   ],
   "source": [
    "class Yönetici(Calisan):\n",
    "    def __init__(self, isim, soyisim, maas, sorumlu_calisanlar=None):\n",
    "        super().__init__(isim, soyisim, maas)\n",
    "        if sorumlu_calisanlar == None:\n",
    "            self.sorumlu_calisanlar = []\n",
    "        else:\n",
    "            self.sorumlu_calisanlar = sorumlu_calisanlar\n",
    "    \n",
    "    def ise_alma(self,ise_alınacak_calisan):\n",
    "        if ise_alınacak_calisan not in self.sorumlu_calisanlar:\n",
    "            self.sorumlu_calisanlar.append(ise_alınacak_calisan)\n",
    "    \n",
    "    def isten_atma(self,isten_atılacak_calisan):\n",
    "        if isten_atılacak_calisan in self.sorumlu_calisanlar:\n",
    "            self.sorumlu_calisanlar.remove(isten_atılacak_calisan)\n",
    "    \n",
    "    def calisanlari_goster(self):\n",
    "        for calisan in self.sorumlu_calisanlar:\n",
    "            print(calisan.bilgileri_goster())\n",
    "\n",
    "yönetici3 = Yönetici(\"Feyza\",\"Koçak\",11000,[yazilimci1,yazilimci2])\n",
    "yönetici3.calisanlari_goster()\n",
    "yönetici1 = Yönetici(\"Polat\",\"Alemdar\",15000) #sorumlu_calisanlar parametresi None olduğundan if durumuna\n",
    "yönetici2 = Yönetici(\"Ali\", \"Yılmaz\", 5000, [\"Ahmet\", \"Mehmet\"]) #sorumlu_calisanlar parametresi verildiğinden else durumuna girer.\n",
    "print(yönetici2.sorumlu_calisanlar , \"\\n\")\n",
    "#Veya böyle yapmak yerine:\n",
    "yönetici3 = Yönetici(\"Feyza\",\"Koçak\",11000,[yazilimci1,yazilimci2])\n",
    "yönetici3.calisanlari_goster() #şeklinde de yapabilirsin.\n",
    "\n",
    "yönetici1.ise_alma(yazilimci1)\n",
    "yönetici1.ise_alma(yazilimci2)\n",
    "\n",
    "yönetici1.calisanlari_goster()\n",
    "yönetici1.sorumlu_calisanlar[0].bilgileri_goster()\n",
    "# yönetici1'in sorumlu_calisanlar listesini doğrudan görüntüleyemezsiniz,\n",
    "# çünkü bu değişken sınıfın içindeki bir özelliktir ve doğrudan erişilemez. \n",
    "# ancak yönetici1.sorumlu_calisanlar[0].bilgileri_goster() olduğu gibi indexlerin bilgilerini görüntüleyebilirsiniz.\n",
    "# Ancak calisanlari_goster() metodunu kullanarak bu listenin içeriğini görüntüleyebilirsiniz."
   ]
  },
  {
   "cell_type": "code",
   "execution_count": 239,
   "metadata": {},
   "outputs": [
    {
     "data": {
      "text/plain": [
       "'Ad: Elif Soyad: Eylül Maaş: 8500 E-mail: ElifEylül@sirket.com IDE Çeşitleri: VS Code'"
      ]
     },
     "execution_count": 239,
     "metadata": {},
     "output_type": "execute_result"
    }
   ],
   "source": [
    "yönetici3.sorumlu_calisanlar[1].bilgileri_goster()"
   ]
  },
  {
   "cell_type": "code",
   "execution_count": 229,
   "metadata": {},
   "outputs": [
    {
     "name": "stdout",
     "output_type": "stream",
     "text": [
      "Ad: Elif Soyad: Eylül Maaş: 8500 E-mail: ElifEylül@sirket.com IDE Çeşitleri: VS Code\n",
      "*************************************************************************************\n",
      "Ad: Elif Soyad: Eylül Maaş: 8500 E-mail: ElifEylül@sirket.com IDE Çeşitleri: VS Code\n"
     ]
    }
   ],
   "source": [
    "yönetici1.calisanlari_goster()\n",
    "yönetici1.isten_atma(yazilimci1)\n",
    "print(85*\"*\")\n",
    "(yönetici1.calisanlari_goster())"
   ]
  },
  {
   "attachments": {},
   "cell_type": "markdown",
   "metadata": {},
   "source": [
    "## Bir sınıfın diğer sınıfa göre durumunu kontrol etme\n",
    "- Hangisi BaseClass, Hangisi SubClass yoksa biri diğerinin nesnesi mi? vs...."
   ]
  },
  {
   "attachments": {},
   "cell_type": "markdown",
   "metadata": {},
   "source": [
    "````py\n",
    "isinstance(Parametre1,Parametre2)\n",
    "İki adet parametre alır.Parametre1'in Parametre2'nin instancesi olup olmadığını kontrol eder.\n"
   ]
  },
  {
   "cell_type": "code",
   "execution_count": 245,
   "metadata": {},
   "outputs": [
    {
     "name": "stdout",
     "output_type": "stream",
     "text": [
      "True\n"
     ]
    }
   ],
   "source": [
    "print(isinstance(yazilimci1,Calisan))\n",
    "#TRUE DÖNDÜRDÜ : Yani yazilimci1 Calisan(BaseClass) classından üretilmiş bir örnektir demek."
   ]
  },
  {
   "cell_type": "code",
   "execution_count": 246,
   "metadata": {},
   "outputs": [
    {
     "name": "stdout",
     "output_type": "stream",
     "text": [
      "True\n"
     ]
    }
   ],
   "source": [
    "print(isinstance(yazilimci1,Yazilimci))\n",
    "#TRUE : yazilimci1 Yazilimci(SubClass) classının bir nesnesidir."
   ]
  },
  {
   "cell_type": "code",
   "execution_count": 243,
   "metadata": {},
   "outputs": [
    {
     "name": "stdout",
     "output_type": "stream",
     "text": [
      "True\n"
     ]
    }
   ],
   "source": [
    "print(isinstance(calisan1,Calisan))\n",
    "#TRUE : calisan1 Calisan Classının bir nesnesidir."
   ]
  },
  {
   "cell_type": "code",
   "execution_count": 248,
   "metadata": {},
   "outputs": [
    {
     "name": "stdout",
     "output_type": "stream",
     "text": [
      "False\n"
     ]
    }
   ],
   "source": [
    "print(isinstance(calisan1,Yazilimci))\n",
    "#FALSE: calisan1 Yazilimci classının bir nesnesi değildir.Çünkü o Calisan classının bir nesnesiydi."
   ]
  },
  {
   "cell_type": "code",
   "execution_count": 249,
   "metadata": {},
   "outputs": [
    {
     "data": {
      "text/plain": [
       "True"
      ]
     },
     "execution_count": 249,
     "metadata": {},
     "output_type": "execute_result"
    }
   ],
   "source": [
    "isinstance(yönetici1,Yönetici)"
   ]
  },
  {
   "cell_type": "code",
   "execution_count": 254,
   "metadata": {},
   "outputs": [
    {
     "data": {
      "text/plain": [
       "True"
      ]
     },
     "execution_count": 254,
     "metadata": {},
     "output_type": "execute_result"
    }
   ],
   "source": [
    "isinstance(yönetici1,Calisan)"
   ]
  },
  {
   "cell_type": "code",
   "execution_count": 253,
   "metadata": {},
   "outputs": [
    {
     "data": {
      "text/plain": [
       "False"
      ]
     },
     "execution_count": 253,
     "metadata": {},
     "output_type": "execute_result"
    }
   ],
   "source": [
    "isinstance(yazilimci1,Yönetici)"
   ]
  },
  {
   "attachments": {},
   "cell_type": "markdown",
   "metadata": {},
   "source": [
    "````py\n",
    "issubclass(Parametre1,Parametre2)\n",
    "Parametre1 Parametre2'nin bir SubClassı mıdır?"
   ]
  },
  {
   "cell_type": "code",
   "execution_count": 255,
   "metadata": {},
   "outputs": [
    {
     "data": {
      "text/plain": [
       "False"
      ]
     },
     "execution_count": 255,
     "metadata": {},
     "output_type": "execute_result"
    }
   ],
   "source": [
    "issubclass(Calisan,Yazilimci)"
   ]
  },
  {
   "cell_type": "code",
   "execution_count": 256,
   "metadata": {},
   "outputs": [
    {
     "data": {
      "text/plain": [
       "True"
      ]
     },
     "execution_count": 256,
     "metadata": {},
     "output_type": "execute_result"
    }
   ],
   "source": [
    "issubclass(Yazilimci,Calisan)"
   ]
  },
  {
   "cell_type": "code",
   "execution_count": 257,
   "metadata": {},
   "outputs": [
    {
     "data": {
      "text/plain": [
       "True"
      ]
     },
     "execution_count": 257,
     "metadata": {},
     "output_type": "execute_result"
    }
   ],
   "source": [
    "issubclass(Yönetici,Calisan)"
   ]
  },
  {
   "cell_type": "code",
   "execution_count": 258,
   "metadata": {},
   "outputs": [
    {
     "data": {
      "text/plain": [
       "False"
      ]
     },
     "execution_count": 258,
     "metadata": {},
     "output_type": "execute_result"
    }
   ],
   "source": [
    "issubclass(Yazilimci,Yönetici)"
   ]
  },
  {
   "attachments": {},
   "cell_type": "markdown",
   "metadata": {},
   "source": [
    "``*********************************************************************************************************``"
   ]
  },
  {
   "attachments": {},
   "cell_type": "markdown",
   "metadata": {},
   "source": [
    "``*********************************************************************************************************``"
   ]
  },
  {
   "attachments": {},
   "cell_type": "markdown",
   "metadata": {},
   "source": [
    "# METHOTLAR"
   ]
  },
  {
   "cell_type": "code",
   "execution_count": 267,
   "metadata": {},
   "outputs": [],
   "source": [
    "class Yazılımcı():\n",
    "    \n",
    "    def __init__(self,isim,soyisim,numara,maaş,diller):\n",
    "        self.isim = isim\n",
    "        self.soyisim = soyisim\n",
    "        self.numara = numara    # Yazılımcı objelerinin özellikleri \n",
    "        self.maaş = maaş\n",
    "        self.diller = diller\n",
    "    def bilgilerigöster(self):\n",
    "        print(\"\"\"\n",
    "        Çalışan Bilgisi:\n",
    "        İsim :  {}\n",
    "        Soyisim : {}\n",
    "        Şirket Numarası: {}\n",
    "        Maaş :  {}\n",
    "        Diller: {}\n",
    "        \"\"\".format(self.isim,self.soyisim,self.numara,self.maaş,self.diller))\n",
    "    \n",
    "    def dil_ekle(self,yeni_dil):\n",
    "        print(\"Dil ekleniyor.\")\n",
    "        self.diller.append(yeni_dil)\n",
    "    \n",
    "    def maas_yukselt(self,zam_miktarı):\n",
    "        print(\"Maaş yükseliyor...\")\n",
    "        self.maaş += zam_miktarı"
   ]
  },
  {
   "cell_type": "code",
   "execution_count": 264,
   "metadata": {},
   "outputs": [],
   "source": [
    "yazilimci1 =  Yazılımcı(\"Berkcan\",\"Gümüşışık\",12345,3000,[\"Python\",\"Flutter\",\"JavaScript\"])"
   ]
  },
  {
   "cell_type": "code",
   "execution_count": 268,
   "metadata": {},
   "outputs": [
    {
     "name": "stdout",
     "output_type": "stream",
     "text": [
      "\n",
      "        Çalışan Bilgisi:\n",
      "        İsim :  Berkcan\n",
      "        Soyisim : Gümüşışık\n",
      "        Şirket Numarası: 12345\n",
      "        Maaş :  3000\n",
      "        Diller: ['Python', 'Flutter', 'JavaScript']\n",
      "        \n"
     ]
    }
   ],
   "source": [
    "yazilimci1.bilgilerigöster()"
   ]
  },
  {
   "cell_type": "code",
   "execution_count": 269,
   "metadata": {},
   "outputs": [
    {
     "name": "stdout",
     "output_type": "stream",
     "text": [
      "Maaş yükseliyor...\n"
     ]
    }
   ],
   "source": [
    "yazilimci1.maas_yukselt(1250)"
   ]
  },
  {
   "cell_type": "code",
   "execution_count": 270,
   "metadata": {},
   "outputs": [
    {
     "name": "stdout",
     "output_type": "stream",
     "text": [
      "\n",
      "        Çalışan Bilgisi:\n",
      "        İsim :  Berkcan\n",
      "        Soyisim : Gümüşışık\n",
      "        Şirket Numarası: 12345\n",
      "        Maaş :  4250\n",
      "        Diller: ['Python', 'Flutter', 'JavaScript']\n",
      "        \n"
     ]
    }
   ],
   "source": [
    "yazilimci1.bilgilerigöster()"
   ]
  },
  {
   "cell_type": "code",
   "execution_count": 271,
   "metadata": {},
   "outputs": [
    {
     "name": "stdout",
     "output_type": "stream",
     "text": [
      "Dil ekleniyor.\n"
     ]
    }
   ],
   "source": [
    "yazilimci1.dil_ekle(\"C++\")"
   ]
  },
  {
   "cell_type": "code",
   "execution_count": 272,
   "metadata": {},
   "outputs": [
    {
     "name": "stdout",
     "output_type": "stream",
     "text": [
      "\n",
      "        Çalışan Bilgisi:\n",
      "        İsim :  Berkcan\n",
      "        Soyisim : Gümüşışık\n",
      "        Şirket Numarası: 12345\n",
      "        Maaş :  4250\n",
      "        Diller: ['Python', 'Flutter', 'JavaScript', 'C++']\n",
      "        \n"
     ]
    }
   ],
   "source": [
    "yazilimci1.bilgilerigöster()"
   ]
  },
  {
   "attachments": {},
   "cell_type": "markdown",
   "metadata": {},
   "source": [
    "# Inheritance(Kalıtım)\n",
    "- Bu konsepti aslında bizim kendi anne babamızdan değişik özellikleri ve davranışları miras almamıza benzetebiliriz.\n",
    "- Bir sınıfın özelliklerinin ve metotlarının başka sınıflara aktarılarak işlevinin artırılmasını sağlar.\n",
    "- Mesela öğrenci ve öğretmeni düşündüğümüz zaman öğrencinin adı, soyadı, adresi, cinsiyeti ve numarası vardır. Öğretmeninse ad, soyad, adres, cinsiyet ve branşı vardır. Bunun yerine kisi sınıfı oluşturup ad, soyad, adres ve cinsiyet tutulur. Öğrenci ve öğretmen classında ise öğrenciye veya öğretmene özgü özellikler ve metotlar tutulur.\n",
    "- super() en genel anlamıyla miras aldığımız sınıfın metodlarını alt sınıflardan kullanmamızı sağlar\n",
    "- super().__init__() metodu çalışırken sınıfın özelliklerini ve metotlarını kullanır.  \n",
    "- Base Class ana sınıftır.\n",
    "- Sub Class Base class'ının özelliklerini ve metotlarını kullanır.\n",
    "- ögrenci ve ögretmen : Sub Class iken,  kisi : Base Class'tır."
   ]
  },
  {
   "cell_type": "code",
   "execution_count": 275,
   "metadata": {},
   "outputs": [],
   "source": [
    "class Person:\n",
    "    def __init__(self, name, surname, age):\n",
    "        self.name = name\n",
    "        self.surname = surname\n",
    "        self.age = age\n",
    "        print(\"Person sınıfından nesne türetildi.\")\n",
    "\n",
    "    def intro(self):\n",
    "        print(self.name, self.surname, self.age)\n",
    "\n",
    "class Student(Person): #SubClass(BaseClass):\n",
    "    def __init__(self, name, surname, age, number):\n",
    "        super().__init__(name,surname,age) #Bu parametreleri Base Class'tan al.\n",
    "        self.number = number #Bu parametreleri ben vereceğim.\n",
    "        print(\"Person sınıfının alt sınıfı olan Student sınıfından nesne türetildi.\")\n",
    "\n",
    "    def intro(self):\n",
    "        print(self.name, self.surname, self.age, self.number)\n",
    "\n",
    "    def study(self):\n",
    "        print(f\"{self.number} numaralı öğrenci ders çalışıyor.\")\n",
    "\n",
    "class Teacher(Person):\n",
    "    def __init__(self, name, surname, age, branch):\n",
    "        super().__init__(name,surname,age)#Bu parametreleri Base Class'tan al.\n",
    "        self.branch = branch #Bu parametreleri ben vereceğim.\n",
    "        print(\"Person sınıfının alt sınıfı olan Teacher sınıfından nesne türetildi.\")\n",
    "    \n",
    "    def intro(self):\n",
    "        print(self.name, self.surname, self.age, self.branch)\n",
    "\n",
    "    def teach(self):\n",
    "        print(f\"{self.name} isimli öğretmen {self.branch} eğitimi veriyor.\")\n"
   ]
  },
  {
   "cell_type": "code",
   "execution_count": 276,
   "metadata": {},
   "outputs": [
    {
     "name": "stdout",
     "output_type": "stream",
     "text": [
      "Person sınıfından nesne türetildi.\n",
      "Berkcan Gümüşışık 23\n"
     ]
    }
   ],
   "source": [
    "Person1 = Person(\"Berkcan\",\"Gümüşışık\",23)\n",
    "Person1.intro() # person"
   ]
  },
  {
   "cell_type": "code",
   "execution_count": 277,
   "metadata": {},
   "outputs": [
    {
     "name": "stdout",
     "output_type": "stream",
     "text": [
      "Person sınıfından nesne türetildi.\n",
      "Person sınıfının alt sınıfı olan Student sınıfından nesne türetildi.\n",
      "Efe Türkan 20 28085\n",
      "28085 numaralı öğrenci ders çalışıyor.\n"
     ]
    }
   ],
   "source": [
    "Sutudent1 = Student(\"Efe\",\"Türkan\",20,28085)\n",
    "Sutudent1.intro() # student\n",
    "Sutudent1.study()"
   ]
  },
  {
   "cell_type": "code",
   "execution_count": 278,
   "metadata": {},
   "outputs": [
    {
     "name": "stdout",
     "output_type": "stream",
     "text": [
      "Person sınıfından nesne türetildi.\n",
      "Person sınıfının alt sınıfı olan Teacher sınıfından nesne türetildi.\n",
      "Ali Çapan 32 Matematik\n",
      "Ali isimli öğretmen Matematik eğitimi veriyor.\n"
     ]
    }
   ],
   "source": [
    "Teacher1 = Teacher(\"Ali\",\"Çapan\",32,\"Matematik\")\n",
    "Teacher1.intro()\n",
    "Teacher1.teach()"
   ]
  },
  {
   "cell_type": "code",
   "execution_count": 288,
   "metadata": {},
   "outputs": [
    {
     "name": "stdout",
     "output_type": "stream",
     "text": [
      "şu anda aktif 0 user var.\n",
      "şu anda aktif 0 moderator var.\n",
      "Şevval Baydemir yazılım grubundan bir post sildi.\n",
      "Nurana Jumageldıyeva Tasarım grubunda bir post güncelledi.\n",
      "şu anda aktif 3 user var.\n",
      "şu anda aktif 2 moderator var.\n",
      "Berkcan Gümüşışık\n",
      "Şevval Baydemir\n",
      "True\n",
      "False\n",
      "True\n",
      "True\n"
     ]
    }
   ],
   "source": [
    "class User:\n",
    "    active_users = 0\n",
    "    @classmethod\n",
    "    def display_active_users(cls):\n",
    "        return f\"şu anda aktif {cls.active_users} user var.\"\n",
    "\n",
    "    def __init__(self,firstname,lastname):\n",
    "        self.firstname = firstname\n",
    "        self.lastname = lastname\n",
    "        User.active_users += 1\n",
    "\n",
    "    def fullname(self):\n",
    "        return f\"{self.firstname} {self.lastname}\"\n",
    "\n",
    "class Moderator(User):\n",
    "    active_moderators = 0\n",
    "    @classmethod\n",
    "    def display_active_moderators(cls):\n",
    "        return f\"şu anda aktif {cls.active_moderators} moderator var.\"\n",
    "\n",
    "    def __init__(self,firstname,lastname,community):\n",
    "        super().__init__(firstname,lastname)\n",
    "        self.community = community\n",
    "        Moderator.active_moderators += 1\n",
    "\n",
    "    def remove_post(self):\n",
    "        return f\"{self.fullname()} {self.community} grubundan bir post sildi.\"\n",
    "\n",
    "    def update_post(self):\n",
    "        return f\"{self.fullname()} {self.community} grubunda bir post güncelledi.\"\n",
    "\n",
    "print(User.display_active_users())\n",
    "print(Moderator.display_active_moderators())\n",
    "\n",
    "u1 = User(\"Berkcan\",\"Gümüşışık\")\n",
    "m1 = Moderator(\"Şevval\",\"Baydemir\",\"yazılım\")\n",
    "m2 = Moderator(\"Nurana\",\"Jumageldıyeva\",\"Tasarım\")\n",
    "\n",
    "print(m1.remove_post())\n",
    "print(m2.update_post())\n",
    "\n",
    "print(User.display_active_users())\n",
    "print(Moderator.display_active_moderators())\n",
    "\n",
    "print(u1.fullname())\n",
    "print(m1.fullname())\n",
    "\n",
    "print(isinstance(u1, User))\n",
    "print(isinstance(u1, Moderator))\n",
    "\n",
    "print(isinstance(m1, User))\n",
    "print(isinstance(m1, Moderator))"
   ]
  }
 ],
 "metadata": {
  "kernelspec": {
   "display_name": "Python 3",
   "language": "python",
   "name": "python3"
  },
  "language_info": {
   "codemirror_mode": {
    "name": "ipython",
    "version": 3
   },
   "file_extension": ".py",
   "mimetype": "text/x-python",
   "name": "python",
   "nbconvert_exporter": "python",
   "pygments_lexer": "ipython3",
   "version": "3.11.1"
  },
  "orig_nbformat": 4
 },
 "nbformat": 4,
 "nbformat_minor": 2
}
