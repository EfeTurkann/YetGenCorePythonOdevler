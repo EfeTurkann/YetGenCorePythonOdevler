{
 "cells": [
  {
   "attachments": {},
   "cell_type": "markdown",
   "metadata": {},
   "source": [
    "``*********************************************************************************************************``"
   ]
  },
  {
   "attachments": {},
   "cell_type": "markdown",
   "metadata": {},
   "source": [
    "``*********************************************************************************************************``\n"
   ]
  },
  {
   "attachments": {},
   "cell_type": "markdown",
   "metadata": {},
   "source": [
    "# Class Variables(Sınıf Değişkenleri) - İnstance Variables(Nesne Değişkenleri)"
   ]
  },
  {
   "cell_type": "code",
   "execution_count": 25,
   "metadata": {},
   "outputs": [
    {
     "name": "stdout",
     "output_type": "stream",
     "text": [
      "{'isim': 'Ali', 'maaş': 5000}\n",
      "{'isim': 'Efe', 'maaş': 7500}\n",
      "{'__module__': '__main__', '__init__': <function calisan.__init__ at 0x0000020BB5844F40>, '__dict__': <attribute '__dict__' of 'calisan' objects>, '__weakref__': <attribute '__weakref__' of 'calisan' objects>, '__doc__': None}\n"
     ]
    }
   ],
   "source": [
    "class calisan:\n",
    "    def __init__(self,isim,maaş):\n",
    "        self.isim = isim\n",
    "        self.maaş = maaş\n",
    "\n",
    "calisan1 = calisan(\"Ali\",5000) \n",
    "calisan2 = calisan(\"Efe\",7500)\n",
    "#\"Ali\",5000,\"Efe\",7500 instance variables(nesnelerin değişkenleri)'dir.\n",
    "\n",
    "print(calisan1.__dict__) #calisan1 ' in sahip olduğu özellikleri sözlük olarak yazar.\n",
    "print(calisan2.__dict__)#calisan2 ' nin sahip olduğu özellikleri sözlük olarak yazar.\n",
    "print(calisan.__dict__)#classımın kendisi olan  calisan'in özellikleri\n"
   ]
  },
  {
   "attachments": {},
   "cell_type": "markdown",
   "metadata": {},
   "source": [
    "Eğer ben sınıf içerisinde yer alan her şey için ortak bir değişken tanımlamak istersem:"
   ]
  },
  {
   "cell_type": "code",
   "execution_count": 26,
   "metadata": {},
   "outputs": [
    {
     "name": "stdout",
     "output_type": "stream",
     "text": [
      "1.1\n",
      "1.1\n",
      "1.1\n"
     ]
    }
   ],
   "source": [
    "class calisan:\n",
    "    zam_orani = 1.1\n",
    "    def __init__(self,isim,maaş):\n",
    "        self.isim = isim\n",
    "        self.maaş = maaş\n",
    "\n",
    "calisan1 = calisan(\"Ali\",5000) \n",
    "calisan2 = calisan(\"Efe\",7500)\n",
    "\n",
    "print(calisan.zam_orani) #istersem class'ın kendi üzerinden\n",
    "print(calisan1.zam_orani)#istersem class'dan ürettiğim nesneler üzerinden erişebilirim.\n",
    "print(calisan2.zam_orani)"
   ]
  },
  {
   "cell_type": "code",
   "execution_count": 27,
   "metadata": {},
   "outputs": [
    {
     "name": "stdout",
     "output_type": "stream",
     "text": [
      "{'__module__': '__main__', 'zam_orani': 1.1, '__init__': <function calisan.__init__ at 0x0000020BB58453A0>, '__dict__': <attribute '__dict__' of 'calisan' objects>, '__weakref__': <attribute '__weakref__' of 'calisan' objects>, '__doc__': None}\n",
      "{'isim': 'Ali', 'maaş': 5000}\n"
     ]
    }
   ],
   "source": [
    "print(calisan.__dict__)#class'ın kendi özelliklerinde zam_orani var ancak:\n",
    "print(calisan1.__dict__)#nesnenin özelliklerinde zam_orani yok.Çünkü\n"
   ]
  },
  {
   "attachments": {},
   "cell_type": "markdown",
   "metadata": {},
   "source": [
    "------"
   ]
  },
  {
   "attachments": {},
   "cell_type": "markdown",
   "metadata": {},
   "source": [
    "``\n",
    "Sebep açıklama\n",
    "``"
   ]
  },
  {
   "attachments": {},
   "cell_type": "markdown",
   "metadata": {},
   "source": [
    "- calisan1 üzerinden zam_oranina ulaşabilirken calisan1'in özelliklerini yazdırdığımızda zam_orani özellikler arasında yer almadı.Çünkü:"
   ]
  },
  {
   "attachments": {},
   "cell_type": "markdown",
   "metadata": {},
   "source": [
    "- calisan1 nesnesinin özelliklerinin, calisan sınıfının kendi özelliklerini değil, sadece sınıfın özelliklerini (yani sınıf değişkenleri) kopyalamasıdır. Yani zam_orani özelliği, calisan1 nesnesinin özelliklerinde görünmez çünkü bu özellik, sınıf özelliği olarak tanımlandı ve nesne özelliklerine kopyalanmadı.\n",
    "- Sınıf özellikleri, sınıfın tüm örnekleri arasında paylaşılır ve değiştirilirse tüm örnekleri etkiler. Bu nedenle, sınıf özellikleri özellikle sabit olan veriler için kullanışlıdır.\n",
    "- Eğer zam_orani özelliğinin her bir örnek için ayrı bir değer almasını istiyorsanız, bu özelliği sınıf özelliği olarak tanımlamak yerine, __init__ metodunda örnek özelliği olarak tanımlayabilirsiniz. Bu şekilde, her örnek için ayrı bir zam_orani özelliği olacaktır. Örnek olarak:"
   ]
  },
  {
   "cell_type": "code",
   "execution_count": 23,
   "metadata": {},
   "outputs": [
    {
     "name": "stdout",
     "output_type": "stream",
     "text": [
      "{'isim': 'Ahmet', 'maas': 3000, 'zam_orani': 0.2}\n"
     ]
    }
   ],
   "source": [
    "class Calisan:\n",
    "    def __init__(self, isim, maas, zam_orani):\n",
    "        self.isim = isim\n",
    "        self.maas = maas\n",
    "        self.zam_orani = zam_orani   # burada özellik örnek özelliği olarak tanımlandı\n",
    "\n",
    "calisan3 = Calisan(\"Ahmet\", 3000, 0.2)\n",
    "print(calisan3.__dict__)  # bu sefer zam_orani özelliği örnek özelliği olarak tanımlandığı için görünecektir\n"
   ]
  },
  {
   "attachments": {},
   "cell_type": "markdown",
   "metadata": {},
   "source": [
    "------"
   ]
  },
  {
   "attachments": {},
   "cell_type": "markdown",
   "metadata": {},
   "source": [
    "``\n",
    "Kaldığımız yerden devam ediyoruz.\n",
    "``"
   ]
  },
  {
   "cell_type": "code",
   "execution_count": 28,
   "metadata": {},
   "outputs": [
    {
     "name": "stdout",
     "output_type": "stream",
     "text": [
      "1.2\n",
      "1.2\n",
      "1.2\n"
     ]
    }
   ],
   "source": [
    "calisan.zam_orani = 1.2 \n",
    "#Class üzerinden değiştirilen oran tüm nesnelerin ve sınıfın oranını değiştirdi.\n",
    "print(calisan.zam_orani)\n",
    "print(calisan1.zam_orani)\n",
    "print(calisan2.zam_orani)"
   ]
  },
  {
   "cell_type": "code",
   "execution_count": 32,
   "metadata": {},
   "outputs": [
    {
     "name": "stdout",
     "output_type": "stream",
     "text": [
      "1.2\n",
      "1.3\n",
      "1.2\n"
     ]
    }
   ],
   "source": [
    "calisan1.zam_orani = 1.3\n",
    "#Nesne üzerinden değiştirilen oran, sadece o nesneyi etkiler.\n",
    "print(calisan.zam_orani)\n",
    "print(calisan1.zam_orani)\n",
    "print(calisan2.zam_orani)\n"
   ]
  },
  {
   "cell_type": "code",
   "execution_count": 33,
   "metadata": {},
   "outputs": [
    {
     "name": "stdout",
     "output_type": "stream",
     "text": [
      "{'isim': 'Ali', 'maaş': 5000, 'zam_orani': 1.3}\n",
      "{'isim': 'Efe', 'maaş': 7500}\n"
     ]
    }
   ],
   "source": [
    "print(calisan1.__dict__)\n",
    "#Bir üstte calisan1 üzerinden zam_orani'nı güncellediğim için onu sanki calisan1'in bir özelliği olarak algılar.\n",
    "#self.zam_orani = 1.3 yapmışsın gibi oldu.\n",
    "#calisan1.zam_orani = 1.3 yapmıştık :)\n",
    "print(calisan2.__dict__)"
   ]
  },
  {
   "attachments": {},
   "cell_type": "markdown",
   "metadata": {},
   "source": [
    "- Class'ımıza yeni bir değişken ekleyelim."
   ]
  },
  {
   "cell_type": "code",
   "execution_count": 34,
   "metadata": {},
   "outputs": [
    {
     "name": "stdout",
     "output_type": "stream",
     "text": [
      "0\n",
      "1\n",
      "2\n"
     ]
    }
   ],
   "source": [
    "class calisan:\n",
    "    personel_sayisi = 0\n",
    "    def __init__(self,isim,maaş):\n",
    "        self.isim = isim\n",
    "        self.maaş = maaş\n",
    "        calisan.personel_sayisi +=1\n",
    "        #init bloğu her türlü çalışacağından her eklenen nesnede(calisanda) personel sayısını +1 arttıracak.\n",
    "print(calisan.personel_sayisi) #0 nesne\n",
    "calisan1 = calisan(\"Ali\",5000) \n",
    "print(calisan.personel_sayisi) #1 nesne(init 1 kere çalıştı.)\n",
    "calisan2 = calisan(\"Efe\",7500)\n",
    "print(calisan.personel_sayisi) #2 nesne[init 2.kez çalıştı.]"
   ]
  },
  {
   "attachments": {},
   "cell_type": "markdown",
   "metadata": {},
   "source": [
    "## Class Methods | Instance Methods | Static Methods"
   ]
  },
  {
   "cell_type": "code",
   "execution_count": 43,
   "metadata": {},
   "outputs": [
    {
     "name": "stdout",
     "output_type": "stream",
     "text": [
      "Ad: Ali Yaş:20\n",
      "Ad: Ali Yaş:20\n",
      "2\n"
     ]
    }
   ],
   "source": [
    "from datetime import date\n",
    "class kisi:\n",
    "    zam_orani = 1.1\n",
    "    personel_sayisi = 0\n",
    "    def __init__(self,isim,yaş):\n",
    "        self.isim = isim\n",
    "        self.yaş = yaş\n",
    "        kisi.personel_sayisi +=1\n",
    "    \n",
    "    def bilgilerini_goster(self): #Instance Methods = oluşturulmuş nesnelerle ilgili işlem yapar.\n",
    "        return f\"Ad: {self.isim} Yaş:{self.yaş}\"\n",
    "    \n",
    "    #classmetod == yapıcı method = contractor\n",
    "    @classmethod #Class Methods = Üretilmiş bir nesneye bağlı değildir,sınıfın kendisine bağlıdır.Farklı yapılardaki elemanlardan aynı özelliklere sahip nesneler çıkartması(gruplaması) en önemli özelliğidir.\n",
    "    def kisi_sayisini_söyle(cls): #Tıpkı self yerine nesne adı gelmesi gibi cls yerine de class adı gelir.\n",
    "        return cls.personel_sayisi       #self.isim = isim   #cls.personel_sayisi\n",
    "                                         #kisi1.isim = isim  #kisi.personel_sayisi\n",
    "                                            #ALT ALTA OLANLAN AYNI ŞEYLER\n",
    "    @classmethod\n",
    "    def string_ile_olustur(cls,metin):\n",
    "        name,age = metin.split(\"-\")\n",
    "        return cls(name,age) \n",
    "    #Böldüğün metnin sonucu olan ikiliyi classım olan kisi'ye gönder ve nesne oluştur.\n",
    "    #Aslında initin içine giren isim = name,yaş = age yapıyoruz.\n",
    "\n",
    "    @classmethod\n",
    "    def dogum_yili_ile_olustur(cls,ad,dogum_yili):\n",
    "        return cls(ad,date.today().year - dogum_yili)\n",
    "\n",
    "\n",
    "\n",
    "kisi1 =kisi(\"Ali\",20)\n",
    "kisi2 =kisi(\"Efe\",36)\n",
    "\n",
    "print(kisi1.bilgilerini_goster())\n",
    "#veya\n",
    "print(kisi.bilgilerini_goster(kisi1))\n",
    "\n",
    "print(kisi.kisi_sayisini_söyle())"
   ]
  },
  {
   "cell_type": "code",
   "execution_count": 44,
   "metadata": {},
   "outputs": [
    {
     "name": "stdout",
     "output_type": "stream",
     "text": [
      "3\n",
      "4\n",
      "Ad: Elif Yaş:33\n"
     ]
    }
   ],
   "source": [
    "kisi3 = kisi.string_ile_olustur(\"Ayşe-42\")\n",
    "print(kisi.kisi_sayisini_söyle())\n",
    "kisi4 = kisi.dogum_yili_ile_olustur(\"Elif\",1990)\n",
    "print(kisi.kisi_sayisini_söyle())\n",
    "print(kisi4.bilgilerini_goster())\n"
   ]
  },
  {
   "attachments": {},
   "cell_type": "markdown",
   "metadata": {},
   "source": [
    "``*********************************************************************************************************``"
   ]
  },
  {
   "attachments": {},
   "cell_type": "markdown",
   "metadata": {},
   "source": [
    "``*********************************************************************************************************``"
   ]
  },
  {
   "attachments": {},
   "cell_type": "markdown",
   "metadata": {},
   "source": [
    "# METHOTLAR"
   ]
  },
  {
   "cell_type": "code",
   "execution_count": 45,
   "metadata": {},
   "outputs": [],
   "source": [
    "class Yazılımcı():\n",
    "    \n",
    "    def __init__(self,isim,soyisim,numara,maaş,diller):\n",
    "        self.isim = isim\n",
    "        self.soyisim = soyisim\n",
    "        self.numara = numara    # Yazılımcı objelerinin özellikleri \n",
    "        self.maaş = maaş\n",
    "        self.diller = diller\n",
    "    def bilgilerigöster(self):\n",
    "        print(\"\"\"\n",
    "        Çalışan Bilgisi:\n",
    "        \n",
    "        İsim :  {}\n",
    "        \n",
    "        Soyisim : {}\n",
    "        \n",
    "        Şirket Numarası: {}\n",
    "        \n",
    "        Maaş :  {}\n",
    "        \n",
    "        Diller: {}\n",
    "        \"\"\".format(self.isim,self.soyisim,self.numara,self.maaş,self.diller))\n",
    "    \n",
    "    def dil_ekle(self,yeni_dil):\n",
    "        print(\"Dil ekleniyor.\")\n",
    "        self.diller.append(yeni_dil)\n",
    "    \n",
    "    def maas_yukselt(self,zam_miktarı):\n",
    "        print(\"Maaş yükseliyor...\")\n",
    "        self.maaş += zam_miktarı"
   ]
  },
  {
   "cell_type": "code",
   "execution_count": 47,
   "metadata": {},
   "outputs": [],
   "source": [
    "yazilimci1 =  Yazılımcı(\"Berkcan\",\"Gümüşışık\",12345,3000,[\"Python\",\"Flutter\",\"JavaScript\"])"
   ]
  },
  {
   "cell_type": "code",
   "execution_count": 48,
   "metadata": {},
   "outputs": [
    {
     "name": "stdout",
     "output_type": "stream",
     "text": [
      "\n",
      "        Çalışan Bilgisi:\n",
      "        \n",
      "        İsim :  Berkcan\n",
      "        \n",
      "        Soyisim : Gümüşışık\n",
      "        \n",
      "        Şirket Numarası: 12345\n",
      "        \n",
      "        Maaş :  3000\n",
      "        \n",
      "        Diller: ['Python', 'Flutter', 'JavaScript']\n",
      "        \n"
     ]
    }
   ],
   "source": [
    "yazilimci1.bilgilerigöster()"
   ]
  },
  {
   "cell_type": "code",
   "execution_count": 49,
   "metadata": {},
   "outputs": [
    {
     "name": "stdout",
     "output_type": "stream",
     "text": [
      "Maaş yükseliyor...\n"
     ]
    }
   ],
   "source": [
    "yazilimci1.maas_yukselt(1250)"
   ]
  },
  {
   "cell_type": "code",
   "execution_count": 50,
   "metadata": {},
   "outputs": [
    {
     "name": "stdout",
     "output_type": "stream",
     "text": [
      "\n",
      "        Çalışan Bilgisi:\n",
      "        \n",
      "        İsim :  Berkcan\n",
      "        \n",
      "        Soyisim : Gümüşışık\n",
      "        \n",
      "        Şirket Numarası: 12345\n",
      "        \n",
      "        Maaş :  4250\n",
      "        \n",
      "        Diller: ['Python', 'Flutter', 'JavaScript']\n",
      "        \n"
     ]
    }
   ],
   "source": [
    "yazilimci1.bilgilerigöster()"
   ]
  },
  {
   "attachments": {},
   "cell_type": "markdown",
   "metadata": {},
   "source": [
    "# Inheritance(Kalıtım)\n",
    "- Bu konsepti aslında bizim kendi anne babamızdan değişik özellikleri ve davranışları miras almamıza benzetebiliriz.\n",
    "- Bir sınıfın özelliklerinin ve metotlarının başka sınıflara aktarılarak işlevinin artırılmasını sağlar.\n",
    "- Mesela öğrenci ve öğretmeni düşündüğümüz zaman öğrencinin adı, soyadı, adresi, cinsiyeti ve numarası vardır. Öğretmeninse ad, soyad, adres, cinsiyet ve branşı vardır. Bunun yerine kisi sınıfı oluşturup ad, soyad, adres ve cinsiyet tutulur. Öğrenci ve öğretmen classında ise öğrenciye veya öğretmene özgü özellikler ve metotlar tutulur.\n",
    "- super() en genel anlamıyla miras aldığımız sınıfın metodlarını alt sınıflardan kullanmamızı sağlar\n",
    "- super().__init__() metodu çalışırken sınıfın özelliklerini ve metotlarını kullanır.  \n",
    "- Base Class ana sınıftır.\n",
    "- Sub Class Base class'ının özelliklerini ve metotlarını kullanır.\n",
    "- ögrenci ve ögretmen : Sub Class iken,  kisi : Base Class'tır."
   ]
  },
  {
   "cell_type": "code",
   "execution_count": 52,
   "metadata": {},
   "outputs": [],
   "source": [
    "class Person:\n",
    "    def __init__(self, name, surname, age):\n",
    "        self.name = name\n",
    "        self.surname = surname\n",
    "        self.age = age\n",
    "        print(\"Person sınıfından nesne türetildi.\")\n",
    "\n",
    "    def intro(self):\n",
    "        print(self.name, self.surname, self.age)\n",
    "\n",
    "class Student(Person): #SubClass(BaseClass):\n",
    "    def __init__(self, name, surname, age, number):\n",
    "        super().__init__(name,surname,age) #Bu parametreleri Base Class'tan al.\n",
    "        self.number = number #Bu parametreleri ben vereceğim.\n",
    "        print(\"Person sınıfının alt sınıfı olan Student sınıfından nesne türetildi.\")\n",
    "\n",
    "    def intro(self):\n",
    "        print(self.name, self.surname, self.age, self.number)\n",
    "\n",
    "    def study(self):\n",
    "        print(f\"{self.number} numaralı öğrenci ders çalışıyor.\")\n",
    "\n",
    "class Teacher(Person):\n",
    "    def __init__(self, name, surname, age, branch):\n",
    "        super().__init__(name,surname,age)#Bu parametreleri Base Class'tan al.\n",
    "        self.branch = branch #Bu parametreleri ben vereceğim.\n",
    "        print(\"Person sınıfının alt sınıfı olan Teacher sınıfından nesne türetildi.\")\n",
    "    \n",
    "    def intro(self):\n",
    "        print(self.name, self.surname, self.age, self.branch)\n",
    "\n",
    "    def teach(self):\n",
    "        print(f\"{self.name} isimli öğretmen {self.branch} eğitimi veriyor.\")\n"
   ]
  },
  {
   "cell_type": "code",
   "execution_count": 53,
   "metadata": {},
   "outputs": [
    {
     "name": "stdout",
     "output_type": "stream",
     "text": [
      "Person sınıfından nesne türetildi.\n",
      "Berkcan Gümüşışık 23\n"
     ]
    }
   ],
   "source": [
    "Person1 = Person(\"Berkcan\",\"Gümüşışık\",23)\n",
    "Person1.intro() # person"
   ]
  },
  {
   "cell_type": "code",
   "execution_count": 54,
   "metadata": {},
   "outputs": [
    {
     "name": "stdout",
     "output_type": "stream",
     "text": [
      "Person sınıfından nesne türetildi.\n",
      "Person sınıfının alt sınıfı olan Student sınıfından nesne türetildi.\n",
      "Efe Türkan 20 28085\n",
      "28085 numaralı öğrenci ders çalışıyor.\n"
     ]
    }
   ],
   "source": [
    "Sutudent1 = Student(\"Efe\",\"Türkan\",20,28085)\n",
    "Sutudent1.intro() # student\n",
    "Sutudent1.study()"
   ]
  },
  {
   "cell_type": "code",
   "execution_count": 55,
   "metadata": {},
   "outputs": [
    {
     "name": "stdout",
     "output_type": "stream",
     "text": [
      "Person sınıfından nesne türetildi.\n",
      "Person sınıfının alt sınıfı olan Teacher sınıfından nesne türetildi.\n",
      "Ali Çapan 32 Matematik\n",
      "Ali isimli öğretmen Matematik eğitimi veriyor.\n"
     ]
    }
   ],
   "source": [
    "Teacher1 = Teacher(\"Ali\",\"Çapan\",32,\"Matematik\")\n",
    "Teacher1.intro()\n",
    "Teacher1.teach()"
   ]
  },
  {
   "cell_type": "code",
   "execution_count": null,
   "metadata": {},
   "outputs": [],
   "source": [
    "# User      \n",
    "# Moderator\n",
    "\n",
    "\n",
    "class User:\n",
    "    active_users = 0\n",
    "    \n",
    "    @classmethod\n",
    "    def display_active_users(cls):\n",
    "        return f\"şu anda aktif {cls.active_users} user var.\"\n",
    "\n",
    "    def __init__(self,firstname,lastname):\n",
    "        self.firstname = firstname\n",
    "        self.lastname = lastname\n",
    "        User.active_users += 1\n",
    "    \n",
    "    def fullname(self):\n",
    "        return f\"{self.firstname} {self.lastname}\"\n",
    "\n",
    "\n",
    "class Moderator(User):\n",
    "    active_moderators = 0\n",
    "\n",
    "    @classmethod\n",
    "    def display_active_moderators(cls):\n",
    "        return f\"şu anda aktif {cls.active_moderators} moderator var.\"\n",
    "\n",
    "    def __init__(self,firstname,lastname,community):\n",
    "        super().__init__(firstname,lastname)\n",
    "        self.community = community\n",
    "        Moderator.active_moderators += 1\n",
    "\n",
    "    def remove_post(self):\n",
    "        return f\"{self.fullname()} {self.community} grubundan bir post sildi.\"\n",
    "\n",
    "    def update_post(self):\n",
    "        return f\"{self.fullname()} {self.community} grubunda bir post güncelledi.\"\n",
    "\n",
    "print(User.display_active_users())\n",
    "print(Moderator.display_active_moderators())\n",
    "\n",
    "u1 = User(\"Berkcan\",\"Gümüşışık\")\n",
    "m1 = Moderator(\"Şevval\",\"Baydemir\",\"yazılım\")\n",
    "m2 = Moderator(\"Nurana\",\"Jumageldıyeva\",\"Tasarım\")\n",
    "\n",
    "print(m1.remove_post())\n",
    "print(m2.update_post())\n",
    "\n",
    "print(User.display_active_users())\n",
    "print(Moderator.display_active_moderators())\n",
    "\n",
    "# print(u1.fullname())\n",
    "# print(m1.fullname())\n",
    "\n",
    "# print(isinstance(u1, User))\n",
    "# print(isinstance(u1, Moderator))\n",
    "\n",
    "# print(isinstance(m1, User))\n",
    "# print(isinstance(m1, Moderator))"
   ]
  }
 ],
 "metadata": {
  "kernelspec": {
   "display_name": "Python 3",
   "language": "python",
   "name": "python3"
  },
  "language_info": {
   "codemirror_mode": {
    "name": "ipython",
    "version": 3
   },
   "file_extension": ".py",
   "mimetype": "text/x-python",
   "name": "python",
   "nbconvert_exporter": "python",
   "pygments_lexer": "ipython3",
   "version": "3.11.1"
  },
  "orig_nbformat": 4
 },
 "nbformat": 4,
 "nbformat_minor": 2
}
