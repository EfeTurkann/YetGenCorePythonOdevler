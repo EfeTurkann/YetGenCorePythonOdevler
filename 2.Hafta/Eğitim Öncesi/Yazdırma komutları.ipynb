{
 "cells": [
  {
   "cell_type": "code",
   "execution_count": 2,
   "metadata": {},
   "outputs": [
    {
     "name": "stdout",
     "output_type": "stream",
     "text": [
      "Merhaba Efe\n",
      "Merhaba Efe\n",
      "Merhaba Efe\n",
      "Merhaba Efe\n"
     ]
    }
   ],
   "source": [
    "isim = input(\"İsim Giriniz:\")\n",
    "print(f\"Merhaba {isim}\")\n",
    "print(\"Merhaba\" , isim )\n",
    "print(\"Merhaba \" +  isim )\n",
    "print(\"Merhaba {}\" .format(isim))"
   ]
  },
  {
   "cell_type": "code",
   "execution_count": 9,
   "metadata": {},
   "outputs": [
    {
     "name": "stdout",
     "output_type": "stream",
     "text": [
      "Efe Türkan 20\n",
      "Efe Türkan\n"
     ]
    },
    {
     "ename": "TypeError",
     "evalue": "can only concatenate str (not \"int\") to str",
     "output_type": "error",
     "traceback": [
      "\u001b[1;31m---------------------------------------------------------------------------\u001b[0m",
      "\u001b[1;31mTypeError\u001b[0m                                 Traceback (most recent call last)",
      "Cell \u001b[1;32mIn[9], line 6\u001b[0m\n\u001b[0;32m      4\u001b[0m \u001b[39mprint\u001b[39m(isim , soyisim , yas)\n\u001b[0;32m      5\u001b[0m \u001b[39mprint\u001b[39m (isim \u001b[39m+\u001b[39m \u001b[39m\"\u001b[39m\u001b[39m \u001b[39m\u001b[39m\"\u001b[39m \u001b[39m+\u001b[39m  soyisim)\n\u001b[1;32m----> 6\u001b[0m \u001b[39mprint\u001b[39m( isim \u001b[39m+\u001b[39;49m soyisim \u001b[39m+\u001b[39;49m yas)\n",
      "\u001b[1;31mTypeError\u001b[0m: can only concatenate str (not \"int\") to str"
     ]
    }
   ],
   "source": [
    "isim = \"Efe\"\n",
    "soyisim = \"Türkan\"\n",
    "yas = 20\n",
    "print(isim , soyisim , yas)\n",
    "print (isim + \" \" +  soyisim)\n",
    "print( isim + soyisim + yas)"
   ]
  },
  {
   "cell_type": "code",
   "execution_count": 7,
   "metadata": {},
   "outputs": [
    {
     "name": "stdout",
     "output_type": "stream",
     "text": [
      "Efe  Türkan  20\n"
     ]
    }
   ],
   "source": [
    "print(isim , \"\" , soyisim,  \"\" , yas)"
   ]
  }
 ],
 "metadata": {
  "kernelspec": {
   "display_name": "Python 3",
   "language": "python",
   "name": "python3"
  },
  "language_info": {
   "codemirror_mode": {
    "name": "ipython",
    "version": 3
   },
   "file_extension": ".py",
   "mimetype": "text/x-python",
   "name": "python",
   "nbconvert_exporter": "python",
   "pygments_lexer": "ipython3",
   "version": "3.11.1"
  },
  "orig_nbformat": 4
 },
 "nbformat": 4,
 "nbformat_minor": 2
}
