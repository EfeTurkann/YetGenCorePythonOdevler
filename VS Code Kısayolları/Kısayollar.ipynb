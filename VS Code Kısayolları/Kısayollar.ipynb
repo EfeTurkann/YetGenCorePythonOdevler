{
 "cells": [
  {
   "attachments": {},
   "cell_type": "markdown",
   "metadata": {},
   "source": [
    "# PYTHON SÖZLÜĞÜ"
   ]
  },
  {
   "attachments": {},
   "cell_type": "markdown",
   "metadata": {},
   "source": [
    "```py\n",
    "- variable : değişken\n",
    "- callable : çağrılabilir( Mesela fonksiyonlar çağrılabilir nesnelerdir.)\n",
    "- iterable : itere edilebilen, gezinilebilen (Liste(list), sözlük(dict), kümeler(set) ve hatta range gibi Python koleksiyonlarının çoğu iterable olarak ele alınabilir)\n",
    "- subscriptable : indislenebilir\n",
    "- operand : işlemci , işlem gören\n",
    "- condition : koşul\n",
    "- clause : cümle,madde\n",
    "```"
   ]
  },
  {
   "attachments": {},
   "cell_type": "markdown",
   "metadata": {},
   "source": [
    "--------"
   ]
  },
  {
   "attachments": {},
   "cell_type": "markdown",
   "metadata": {},
   "source": [
    "#  KLAVYE KISAYOLLARI\n"
   ]
  },
  {
   "attachments": {},
   "cell_type": "markdown",
   "metadata": {},
   "source": [
    "- Ctrl + Enter = Kodu Çalıştır\n",
    "- Ctrl + F = Repo içinde kelime sözcük arama(Tarayıcıdaki F3 ile aynı işlevdedir.)\n",
    "- Ctrl + K + C = Seçtiğin kodların hepsine tekli yorum satırı(#) ekler.\n",
    "- Ctrl + K + U = Koyulan yorum satırlarını kaldırır."
   ]
  },
  {
   "attachments": {},
   "cell_type": "markdown",
   "metadata": {},
   "source": [
    "------"
   ]
  },
  {
   "attachments": {},
   "cell_type": "markdown",
   "metadata": {},
   "source": [
    "# BLOGLAR VS.\n"
   ]
  },
  {
   "attachments": {},
   "cell_type": "markdown",
   "metadata": {},
   "source": [
    "- ``Kaçış Dizileri`` ; https://python-istihza.yazbel.com/kacis_dizileri.html\n",
    "- `Python trickleri` ; https://yigitsener.medium.com/pythonda-uygulamal%C4%B1-25-adet-i%CC%87pucu-tricks-152e706654a9\n",
    "- `Python Liste Elemanlarını Yazdırma (7 Farklı Yöntem)` ; https://www.yazilimkodlama.com/python-ornekleri/python-liste-elemanlarini-yazdirma-7-farkli-yontem/"
   ]
  },
  {
   "attachments": {},
   "cell_type": "markdown",
   "metadata": {},
   "source": [
    "---\n",
    "\n"
   ]
  },
  {
   "attachments": {},
   "cell_type": "markdown",
   "metadata": {},
   "source": [
    "# VS CODE KULLANIMLARI\n"
   ]
  },
  {
   "attachments": {},
   "cell_type": "markdown",
   "metadata": {},
   "source": [
    "# Görsel ekleme:"
   ]
  },
  {
   "attachments": {},
   "cell_type": "markdown",
   "metadata": {},
   "source": [
    "-------------"
   ]
  },
  {
   "attachments": {},
   "cell_type": "markdown",
   "metadata": {},
   "source": [
    "            Çalışmıyor Sonra Bakılacak\n",
    "                        <> "
   ]
  },
  {
   "attachments": {},
   "cell_type": "markdown",
   "metadata": {},
   "source": [
    "\n",
    "Visual Studio Code'da Python çalışma sayfasına görsel eklemek için aşağıdaki adımları izleyebilirsiniz:\n",
    "\n",
    "- Visual Studio Code'u açın ve sol taraftaki menüdeki Explorer (Keşfet) sekmesini tıklayın.\n",
    "- Çalışma dizininizi açın ve sağ tarafta, çalışma dizininizdeki Python dosyasını seçin.\n",
    "- Python dosyanızı seçtikten sonra, sağ tarafta açılan editör bölmesinde, dosya içeriğini görebilirsiniz.\n",
    "- Görsel eklemek istediğiniz yere imlecinizi getirin ve Ctrl + Shift + P tuşlarına basarak komut paletini açın.\n",
    "- Komut paletinde \"Markdown: Insert Image\" (Markdown: Resim Ekle) komutunu arayın ve seçin.\n",
    "- Resim dosyanızın yolunu tam olarak belirten bir URL'yi yazın veya \"Browse...\" (Gözat...) düğmesine tıklayarak dosya seçiciyi kullanın.\n",
    "- Resim dosyanız seçildikten sonra, dosya yolunu Markdown biçiminde yazacak şekilde otomatik olarak eklenir.\n",
    "- Bu adımları tamamladıktan sonra, Markdown biçimindeki resminiz çalışma sayfasında görüntülenecektir."
   ]
  },
  {
   "attachments": {},
   "cell_type": "markdown",
   "metadata": {},
   "source": [
    "## Markdown komutu yoksa:\n"
   ]
  },
  {
   "attachments": {},
   "cell_type": "markdown",
   "metadata": {},
   "source": [
    "![köpek resmi](\"C:\\Users\\90545\\Desktop\\YETGEN PYTHON JUMP\\1. Hafta - (Python ve Git'e Giriş)\\köpek.jpg\")"
   ]
  },
  {
   "attachments": {},
   "cell_type": "markdown",
   "metadata": {},
   "source": [
    "--------------\n"
   ]
  },
  {
   "attachments": {},
   "cell_type": "markdown",
   "metadata": {},
   "source": [
    "## Web üzerinden görsel ekleme\n",
    "-  ![Image](Görsel Linki)"
   ]
  },
  {
   "attachments": {},
   "cell_type": "markdown",
   "metadata": {},
   "source": [
    "![Image](https://yetkingencler.com/wp-content/uploads/2021/07/cropped-yetgen-favicon.png)"
   ]
  },
  {
   "attachments": {},
   "cell_type": "markdown",
   "metadata": {},
   "source": [
    "## Bilgisayar üzerinden görsel ekleme\n"
   ]
  },
  {
   "attachments": {},
   "cell_type": "markdown",
   "metadata": {},
   "source": [
    "- Görseli Vs code a sürükleyip bırak ve daha sonra adını yaz."
   ]
  },
  {
   "attachments": {},
   "cell_type": "markdown",
   "metadata": {},
   "source": [
    " ### <img src=\"görsel adı.png\" alt=\"görsel yorumu\">  <<<< Metodu görmek için Buraya çift tık yap!\n"
   ]
  },
  {
   "attachments": {},
   "cell_type": "markdown",
   "metadata": {},
   "source": [
    "<img src=\"09.jpg\" alt=\"GÖRSEL EKLEDİM\">"
   ]
  },
  {
   "attachments": {},
   "cell_type": "markdown",
   "metadata": {},
   "source": [
    "-------"
   ]
  },
  {
   "attachments": {},
   "cell_type": "markdown",
   "metadata": {},
   "source": [
    "# TRİCKLER,GÜZEL KULLANIMLAR"
   ]
  },
  {
   "attachments": {},
   "cell_type": "markdown",
   "metadata": {},
   "source": [
    "# sıralı ikili for kullanımı"
   ]
  },
  {
   "cell_type": "code",
   "execution_count": 1,
   "metadata": {},
   "outputs": [
    {
     "name": "stdout",
     "output_type": "stream",
     "text": [
      "(1, 'Yılmaz')\n",
      "(2, 'Öztürk')\n",
      "(3, 'Dağdeviren')\n"
     ]
    }
   ],
   "source": [
    "liste = [(1,'Yılmaz'), (2,'Öztürk'), (3,'Dağdeviren')]\n",
    "for i in liste:\n",
    "    print(i)"
   ]
  },
  {
   "cell_type": "code",
   "execution_count": 9,
   "metadata": {},
   "outputs": [
    {
     "name": "stdout",
     "output_type": "stream",
     "text": [
      "1\n",
      "2\n",
      "3\n"
     ]
    }
   ],
   "source": [
    "for i,j in liste:\n",
    "    print(i)"
   ]
  },
  {
   "cell_type": "code",
   "execution_count": 10,
   "metadata": {},
   "outputs": [
    {
     "name": "stdout",
     "output_type": "stream",
     "text": [
      "Yılmaz\n",
      "Öztürk\n",
      "Dağdeviren\n"
     ]
    }
   ],
   "source": [
    "for i,j in liste:\n",
    "    print(j)"
   ]
  },
  {
   "cell_type": "code",
   "execution_count": 11,
   "metadata": {},
   "outputs": [
    {
     "name": "stdout",
     "output_type": "stream",
     "text": [
      "1 Yılmaz\n",
      "2 Öztürk\n",
      "3 Dağdeviren\n"
     ]
    }
   ],
   "source": [
    "for i,j in liste:\n",
    "    print(i,j)"
   ]
  },
  {
   "cell_type": "code",
   "execution_count": 12,
   "metadata": {},
   "outputs": [
    {
     "name": "stdout",
     "output_type": "stream",
     "text": [
      "1\n",
      "Yılmaz\n",
      "2\n",
      "Öztürk\n",
      "3\n",
      "Dağdeviren\n"
     ]
    }
   ],
   "source": [
    "for i,j in liste:\n",
    "    print(i)\n",
    "    print(j)"
   ]
  },
  {
   "attachments": {},
   "cell_type": "markdown",
   "metadata": {},
   "source": [
    "# sıralı üçlü(dörtlü,beşli...) ile for kullanımı"
   ]
  },
  {
   "cell_type": "code",
   "execution_count": 28,
   "metadata": {},
   "outputs": [
    {
     "name": "stdout",
     "output_type": "stream",
     "text": [
      "1 Yılmaz Burak\n",
      "2 Öztürk Hasan\n",
      "3 Dağdeviren Hüseyin\n"
     ]
    }
   ],
   "source": [
    "liste = [(1,'Yılmaz',\"Burak\"), (2,'Öztürk',\"Hasan\"), (3,'Dağdeviren',\"Hüseyin\")]\n",
    "for i,j,m in liste:\n",
    "    print(i,j,m)"
   ]
  },
  {
   "cell_type": "code",
   "execution_count": 30,
   "metadata": {},
   "outputs": [
    {
     "name": "stdout",
     "output_type": "stream",
     "text": [
      "1\n",
      "2\n",
      "3\n"
     ]
    }
   ],
   "source": [
    "for i,j,m in liste:\n",
    "    print(i)"
   ]
  },
  {
   "cell_type": "code",
   "execution_count": 31,
   "metadata": {},
   "outputs": [
    {
     "name": "stdout",
     "output_type": "stream",
     "text": [
      "Yılmaz\n",
      "Öztürk\n",
      "Dağdeviren\n"
     ]
    }
   ],
   "source": [
    "for i,j,m in liste:\n",
    "    print(j)"
   ]
  },
  {
   "cell_type": "code",
   "execution_count": 32,
   "metadata": {},
   "outputs": [
    {
     "name": "stdout",
     "output_type": "stream",
     "text": [
      "Burak\n",
      "Hasan\n",
      "Hüseyin\n"
     ]
    }
   ],
   "source": [
    "for i,j,m in liste:\n",
    "    print(m)"
   ]
  },
  {
   "attachments": {},
   "cell_type": "markdown",
   "metadata": {},
   "source": [
    "#  break - continue farkı"
   ]
  },
  {
   "cell_type": "code",
   "execution_count": 31,
   "metadata": {},
   "outputs": [
    {
     "name": "stdout",
     "output_type": "stream",
     "text": [
      "İ 1 iken, j : 0\n",
      "İ 2 iken, j : 0\n"
     ]
    }
   ],
   "source": [
    "for i in range(1,3):\n",
    "    for j in range(0,i+1):\n",
    "        print(\"İ\" , i ,\"iken, j :\" , j)\n",
    "        break\n",
    "    "
   ]
  },
  {
   "cell_type": "code",
   "execution_count": 32,
   "metadata": {},
   "outputs": [
    {
     "name": "stdout",
     "output_type": "stream",
     "text": [
      "İ 1 iken, j : 0\n",
      "İ 1 iken, j : 1\n",
      "İ 2 iken, j : 0\n",
      "İ 2 iken, j : 1\n",
      "İ 2 iken, j : 2\n"
     ]
    }
   ],
   "source": [
    "for i in range(1,3):\n",
    "    for j in range(0,i+1):\n",
    "        print(\"İ\" , i ,\"iken, j :\" , j)\n",
    "        continue"
   ]
  },
  {
   "attachments": {},
   "cell_type": "markdown",
   "metadata": {},
   "source": [
    "# while-else for-else : deyimlerinin if-else deyimine oldukça benzer bir yapısı var."
   ]
  },
  {
   "cell_type": "code",
   "execution_count": 1,
   "metadata": {},
   "outputs": [
    {
     "name": "stdout",
     "output_type": "stream",
     "text": [
      "10\n"
     ]
    }
   ],
   "source": [
    "a = 1\n",
    "while a < 10: # a, 10'dan küçük olduğu sürece\n",
    "    a += 1  # a, 1 birim arttırılır.\n",
    "else: # Şayet a, 10'dan küçük olmazsa\n",
    "    print(a)  # a'nın değeri ekrana yazdırılır."
   ]
  },
  {
   "cell_type": "code",
   "execution_count": 8,
   "metadata": {},
   "outputs": [
    {
     "name": "stdout",
     "output_type": "stream",
     "text": [
      "9\n"
     ]
    }
   ],
   "source": [
    "for i in range(10): # 0'dan 9'a kadar olan her bir i sayısı için\n",
    "    pass # pass komutu çalıştırılır. Yani hiçbir işlem yapılmaz.\n",
    "else: # Bu döngü bittikten sonra \n",
    "    print(i) # i değerinin aldığı son değer ekrana yazdırılır."
   ]
  },
  {
   "cell_type": "code",
   "execution_count": 25,
   "metadata": {},
   "outputs": [],
   "source": [
    "for i in range(2,2): #Çıktı vermez.\n",
    "    print(i)"
   ]
  },
  {
   "cell_type": "code",
   "execution_count": 28,
   "metadata": {},
   "outputs": [
    {
     "name": "stdout",
     "output_type": "stream",
     "text": [
      "2\n",
      "3\n",
      "5\n",
      "7\n"
     ]
    }
   ],
   "source": [
    "for i in range(2, 10): # 2'den 10'a kadar olan her bir i sayısı için\n",
    "    for j in range(2, i): # 2'den i'ye kadar olan her bir j sayısı için\n",
    "        if i % j == 0: # Eğer i bölü j işleminde kalan 0 ise\n",
    "            break # İçteki for döngüsü durdurulur.\n",
    "    else: # Şayet içteki for döngüsünü durdurmayan sayı değerleri var ise\n",
    "        print(i) # Bu değerler ekrana yazdırılır."
   ]
  },
  {
   "cell_type": "code",
   "execution_count": 33,
   "metadata": {},
   "outputs": [
    {
     "name": "stdout",
     "output_type": "stream",
     "text": [
      "3\n",
      "5\n",
      "5\n",
      "5\n",
      "7\n",
      "7\n",
      "7\n",
      "7\n",
      "7\n",
      "9\n"
     ]
    }
   ],
   "source": [
    "# elseyi bir blok içerde kullanırsan:\n",
    "for i in range(2, 10): # 2'den 10'a kadar olan her bir i sayısı için\n",
    "    for j in range(2, i): # 2'den i'ye kadar olan her bir j sayısı için\n",
    "        if i % j == 0: # Eğer i bölü j işleminde kalan 0 ise\n",
    "            break # İçteki for döngüsü durdurulur.\n",
    "        else: #elseyi içerde kullansaydın böyle olurdu:\n",
    "         print(i) \n",
    "\n",
    "#output açıklamaları:\n",
    "# 3 : i=3 ,j=2 iken 3 % 2 = 0 olmadığından else bloğuna girip 3 yazar.\n",
    "# 4 OUTPUT OLMADI. = i=4 ,j=2 iken 4 % 2 = 0 olduğundan if bloğuna girip içteki for döngüsünü sonlandırarak j nin 3 olmasını denememez.\n",
    "# 5 : i =5 , j=2 iken 5 % 2 = olmadığından else bloğuna girip 5 yazar.\n",
    "# 5 : i =5 , j=3 iken 5 % 3 = olmadığından else bloğuna girip 5 yazar.\n",
    "# 5 : i =5 , j=4 iken 5 % 4 = olmadığından else bloğuna girip 5 yazar.  \n",
    "# 6 OUTPUT OLMADI. i=6, j=2 iken 6%2=0 olduğundan if bloğuna girip içteki for döngüsünü sonlandırdı.j nin 3,4,5 olmasını denemedi.\n",
    "# 7 : i=7 , j=2 iken 7%2 = 0 olmadığından else bloğuna girip 7 yazar.\n",
    "# 7 : i=7 , j=3 iken 7%3 = 0 olmadığından else bloğuna girip 7 yazar.\n",
    "# 7 : i=7 , j=4 iken 7%4 = 0 olmadığından else bloğuna girip 7 yazar.\n",
    "# 7 : i=7 , j=5 iken 7%5 = 0 olmadığından else bloğuna girip 7 yazar.\n",
    "# 7 : i=7 , j=6 iken 7%6 = 0 olmadığından else bloğuna girip 7 yazar.\n",
    "# 8 OUTPUT OLMADI. i=8, j=2 iken 8%2=0 olduğundan if bloğuna girip içteki for döngüsünü sonlandırdı.j nin 3,4,5,6,7 olmasını denemedi.\n",
    "# 9 : i=9, j=2 iken 9%2=0 olmadığından else bloğuna girip 9 yazar.\n",
    "# 9 OUTPUT OLMADI. i=9 , j=3 iken 9%3 = 0 olduğundan if bloğuna girip içteki for döngüsünü sonlandırdı.j nin 3,4,5,6,7,8 olmasını denemedi.\n",
    "\n",
    "    "
   ]
  },
  {
   "cell_type": "code",
   "execution_count": 38,
   "metadata": {},
   "outputs": [
    {
     "data": {
      "text/plain": [
       "True"
      ]
     },
     "execution_count": 38,
     "metadata": {},
     "output_type": "execute_result"
    }
   ],
   "source": [
    "\"8\".isnumeric() "
   ]
  },
  {
   "cell_type": "code",
   "execution_count": 39,
   "metadata": {},
   "outputs": [
    {
     "data": {
      "text/plain": [
       "False"
      ]
     },
     "execution_count": 39,
     "metadata": {},
     "output_type": "execute_result"
    }
   ],
   "source": [
    "\"8AB\".isnumeric()"
   ]
  },
  {
   "cell_type": "code",
   "execution_count": 36,
   "metadata": {},
   "outputs": [
    {
     "name": "stdout",
     "output_type": "stream",
     "text": [
      "98\n"
     ]
    }
   ],
   "source": [
    "veri_girisi = input(\"Sayı gir: \") # Kullanıcıdan değer girmesi istenir.\n",
    "while not veri_girisi.isnumeric(): # Kullanıcının girdiği değer sayı olmadığı müddetçe\n",
    "    veri_girisi = input(\"İçerisinde sadece rakamlar bulunan bir sayı giriniz: \") # Kullanıcıdan tekrar değer girmesi istenir.\n",
    "else: # Şayet kullanıcının girdiği değer sayı ise\n",
    "    print(veri_girisi) # Bu değer ekrana yazdırılır."
   ]
  },
  {
   "attachments": {},
   "cell_type": "markdown",
   "metadata": {},
   "source": [
    "-------"
   ]
  },
  {
   "attachments": {},
   "cell_type": "markdown",
   "metadata": {},
   "source": [
    "# METODLAR\n"
   ]
  },
  {
   "attachments": {},
   "cell_type": "markdown",
   "metadata": {},
   "source": [
    "## join metodu"
   ]
  },
  {
   "attachments": {},
   "cell_type": "markdown",
   "metadata": {},
   "source": [
    "Python'daki join() fonksiyonu, bir dizi (list) veya demet (tuple) gibi iterable veri tiplerinin elemanlarını birleştirerek tek bir string (metin) oluşturmanıza olanak tanır.\n",
    "\n",
    "join() metodu, bir stringin birleştirici karakteri (delimiter) olarak kullanılacak bir string parametresi alır ve iterable veri yapısını tek bir string haline getirir. Iterable yapının elemanları arasına birleştirici karakter yerleştirilir. Bu sayede, iterable veri yapısındaki elemanları birbirine bağlayarak bir string oluşturabilirsiniz.\n",
    "\n",
    "Örneğin, aşağıdaki kod örneğinde bir liste oluşturuyoruz ve join() fonksiyonunu kullanarak bu listenin elemanlarını birleştirerek tek bir string elde ediyoruz:"
   ]
  },
  {
   "cell_type": "code",
   "execution_count": 1,
   "metadata": {},
   "outputs": [
    {
     "name": "stdout",
     "output_type": "stream",
     "text": [
      "hello world how are you\n"
     ]
    }
   ],
   "source": [
    "my_list = ['hello', 'world', 'how', 'are', 'you']\n",
    "delimiter = ' '\n",
    "result = delimiter.join(my_list)\n",
    "print(result)\n"
   ]
  },
  {
   "attachments": {},
   "cell_type": "markdown",
   "metadata": {},
   "source": [
    "Yukarıdaki örnekte, join() fonksiyonu delimiter değişkeni (boşluk karakteri) ile my_list listesinin elemanlarını birleştirerek bir string oluşturuyor. Sonuç olarak, çıktı olarak hello world how are you stringi elde ediliyor.\n",
    "\n",
    "join() fonksiyonu, iterable veri yapıları ile çalışırken oldukça kullanışlı bir fonksiyondur ve özellikle string manipülasyonunda sıkça kullanılır."
   ]
  },
  {
   "attachments": {},
   "cell_type": "markdown",
   "metadata": {},
   "source": [
    "Kodu biraz daha kısaltmak istersek:"
   ]
  },
  {
   "cell_type": "code",
   "execution_count": 4,
   "metadata": {},
   "outputs": [
    {
     "name": "stdout",
     "output_type": "stream",
     "text": [
      "hello world how are you\n"
     ]
    }
   ],
   "source": [
    "my_list = ['hello', 'world', 'how', 'are', 'you']\n",
    "result = \" \".join(my_list)\n",
    "print(result)\n"
   ]
  },
  {
   "cell_type": "code",
   "execution_count": 5,
   "metadata": {},
   "outputs": [
    {
     "name": "stdout",
     "output_type": "stream",
     "text": [
      "helloworldhowareyou\n"
     ]
    }
   ],
   "source": [
    "my_list = ['hello', 'world', 'how', 'are', 'you']\n",
    "result = \"\".join(my_list)\n",
    "print(result)\n"
   ]
  },
  {
   "cell_type": "code",
   "execution_count": 6,
   "metadata": {},
   "outputs": [
    {
     "name": "stdout",
     "output_type": "stream",
     "text": [
      "hello;world;how;are;you\n"
     ]
    }
   ],
   "source": [
    "my_list = ['hello', 'world', 'how', 'are', 'you']\n",
    "result = \";\".join(my_list)\n",
    "print(result)\n"
   ]
  },
  {
   "cell_type": "code",
   "execution_count": 7,
   "metadata": {},
   "outputs": [
    {
     "name": "stdout",
     "output_type": "stream",
     "text": [
      "hello,world,how,are,you\n"
     ]
    }
   ],
   "source": [
    "my_list = ['hello', 'world', 'how', 'are', 'you']\n",
    "result = \",\".join(my_list)\n",
    "print(result)\n"
   ]
  },
  {
   "cell_type": "code",
   "execution_count": 10,
   "metadata": {},
   "outputs": [
    {
     "name": "stdout",
     "output_type": "stream",
     "text": [
      "['apple', 'banana', 'orange']\n",
      "apple, banana, orange\n"
     ]
    }
   ],
   "source": [
    "my_list = ['apple', 'banana', 'orange']\n",
    "print(my_list)\n",
    "result = ', '.join(my_list)\n",
    "print(result)\n"
   ]
  },
  {
   "cell_type": "code",
   "execution_count": 15,
   "metadata": {},
   "outputs": [
    {
     "name": "stdout",
     "output_type": "stream",
     "text": [
      "['apple\\n', 'banana\\n', 'orange\\n']\n",
      "apple\n",
      "banana\n",
      "orange\n",
      "\n"
     ]
    }
   ],
   "source": [
    "my_list = ['apple\\n', 'banana\\n', 'orange\\n']\n",
    "print(my_list)\n",
    "result = ''.join(my_list)\n",
    "print(result)\n"
   ]
  },
  {
   "attachments": {},
   "cell_type": "markdown",
   "metadata": {},
   "source": [
    "---"
   ]
  },
  {
   "attachments": {},
   "cell_type": "markdown",
   "metadata": {},
   "source": [
    "# FONKSİYONLAR\n"
   ]
  },
  {
   "attachments": {},
   "cell_type": "markdown",
   "metadata": {},
   "source": [
    "# len() Fonksiyonu"
   ]
  },
  {
   "attachments": {},
   "cell_type": "markdown",
   "metadata": {},
   "source": [
    "- len() fonksiyonu **str** bir ifadenin kaç karakterden oluştuğunu hesaplar örneğin Hasan ifadesini len fonksiyonu içine sokarsak bize 5 cevabını verecektir.str(\"1634\") ifadesini sokarsak ise bize 4 cevabını verecektir.İnt olarak soksaydık int ifadeleri bir bütün olarak algılayacağından 4 cevabını vermiyor olacaktır."
   ]
  },
  {
   "cell_type": "code",
   "execution_count": 1,
   "metadata": {},
   "outputs": [
    {
     "ename": "NameError",
     "evalue": "name 'Hasan' is not defined",
     "output_type": "error",
     "traceback": [
      "\u001b[1;31m---------------------------------------------------------------------------\u001b[0m",
      "\u001b[1;31mNameError\u001b[0m                                 Traceback (most recent call last)",
      "Cell \u001b[1;32mIn[1], line 1\u001b[0m\n\u001b[1;32m----> 1\u001b[0m \u001b[39mlen\u001b[39m(Hasan)\n",
      "\u001b[1;31mNameError\u001b[0m: name 'Hasan' is not defined"
     ]
    }
   ],
   "source": [
    "len(Hasan)"
   ]
  },
  {
   "cell_type": "code",
   "execution_count": 14,
   "metadata": {},
   "outputs": [
    {
     "data": {
      "text/plain": [
       "5"
      ]
     },
     "execution_count": 14,
     "metadata": {},
     "output_type": "execute_result"
    }
   ],
   "source": [
    "len(\"Hasan\")\n"
   ]
  },
  {
   "cell_type": "code",
   "execution_count": 15,
   "metadata": {},
   "outputs": [
    {
     "ename": "TypeError",
     "evalue": "object of type 'int' has no len()",
     "output_type": "error",
     "traceback": [
      "\u001b[1;31m---------------------------------------------------------------------------\u001b[0m",
      "\u001b[1;31mTypeError\u001b[0m                                 Traceback (most recent call last)",
      "Cell \u001b[1;32mIn[15], line 1\u001b[0m\n\u001b[1;32m----> 1\u001b[0m \u001b[39mlen\u001b[39;49m(\u001b[39m1634\u001b[39;49m)\n",
      "\u001b[1;31mTypeError\u001b[0m: object of type 'int' has no len()"
     ]
    }
   ],
   "source": [
    "len(1634)"
   ]
  },
  {
   "cell_type": "code",
   "execution_count": 17,
   "metadata": {},
   "outputs": [
    {
     "data": {
      "text/plain": [
       "4"
      ]
     },
     "execution_count": 17,
     "metadata": {},
     "output_type": "execute_result"
    }
   ],
   "source": [
    "len(\"1634\") #Çift tırnak(\"\") kullanarak 1634 ifadesini int yapıdan str yapıya çevirdik."
   ]
  },
  {
   "cell_type": "code",
   "execution_count": 19,
   "metadata": {},
   "outputs": [
    {
     "data": {
      "text/plain": [
       "4"
      ]
     },
     "execution_count": 19,
     "metadata": {},
     "output_type": "execute_result"
    }
   ],
   "source": [
    "len(str(1634)) #Çift tırnak kullanmak yerine direkt bu yöntemle de str yapıya çevirebiliriz.:)"
   ]
  },
  {
   "attachments": {},
   "cell_type": "markdown",
   "metadata": {},
   "source": [
    "- İnt yapıdaki verileri python bunu bir bütün olarak algılar örneğin 1634 verisini int olarak girdiğimizde ve len fonksiyonunu kullandığımızda python bize hata verecek olacaktır.Ancak biz 1634 verisibi str olarak girdiğimizde 1,6.4 ve 3'ü teker teker ayrı bir veri olarak algılayacaktır.Ancak kare alırken örneğin a ifadesi str yapıdayken karesini alamayız.Kare alma gibi matematiksel işlemlerde  int yapıları kullanmamız gerekir.1634'ün karesini alabiliriz."
   ]
  },
  {
   "attachments": {},
   "cell_type": "markdown",
   "metadata": {},
   "source": [
    "------"
   ]
  },
  {
   "attachments": {},
   "cell_type": "markdown",
   "metadata": {},
   "source": [
    "# end()"
   ]
  },
  {
   "cell_type": "code",
   "execution_count": 3,
   "metadata": {},
   "outputs": [
    {
     "name": "stdout",
     "output_type": "stream",
     "text": [
      "1\n",
      "2\n",
      "3\n",
      "4\n"
     ]
    }
   ],
   "source": [
    "for i in range(1,5):\n",
    "    print(i)"
   ]
  },
  {
   "cell_type": "code",
   "execution_count": 4,
   "metadata": {},
   "outputs": [
    {
     "name": "stdout",
     "output_type": "stream",
     "text": [
      "1 2 3 4 "
     ]
    }
   ],
   "source": [
    "for i in range(1,5):\n",
    "    print(i , end=\" \")"
   ]
  },
  {
   "attachments": {},
   "cell_type": "markdown",
   "metadata": {},
   "source": [
    "-----"
   ]
  },
  {
   "attachments": {},
   "cell_type": "markdown",
   "metadata": {},
   "source": [
    "# sort()\n",
    "- Listeyi sıralamayı sağlar.\n"
   ]
  },
  {
   "cell_type": "code",
   "execution_count": 10,
   "metadata": {},
   "outputs": [],
   "source": [
    "alfabe = [\"A\" , \"C\" , \"B\" , \"D\"]"
   ]
  },
  {
   "cell_type": "code",
   "execution_count": 11,
   "metadata": {},
   "outputs": [
    {
     "name": "stdout",
     "output_type": "stream",
     "text": [
      "['A', 'B', 'C', 'D']\n"
     ]
    }
   ],
   "source": [
    "alfabe.sort()\n",
    "print(alfabe) #Alfabetik olarak sıraladı."
   ]
  },
  {
   "cell_type": "code",
   "execution_count": 12,
   "metadata": {},
   "outputs": [
    {
     "name": "stdout",
     "output_type": "stream",
     "text": [
      "[1, 12, 42, 99]\n"
     ]
    }
   ],
   "source": [
    "L = [42, 99, 1, 12] \n",
    "L.sort()\n",
    "print(L) #numaratik olarak sıraladı."
   ]
  },
  {
   "attachments": {},
   "cell_type": "markdown",
   "metadata": {},
   "source": [
    "- Tersini TRUE olarak ayarlayarak listeyi ters sırada da sıralayabilirsiniz."
   ]
  },
  {
   "cell_type": "code",
   "execution_count": 13,
   "metadata": {},
   "outputs": [
    {
     "name": "stdout",
     "output_type": "stream",
     "text": [
      "['d', 'c', 'b', 'a']\n"
     ]
    }
   ],
   "source": [
    "L = ['a', 'b', 'c', 'd']\n",
    "L.sort(reverse=True)\n",
    "print(L)"
   ]
  },
  {
   "attachments": {},
   "cell_type": "markdown",
   "metadata": {},
   "source": [
    "- Daha karmaşık özel sıralama için key parametresini kullanın. Bir anahtar parametre, karşılaştırma yapmadan önce her bir liste öğesinde yürütülecek bir işlevi belirtir.O işleve göre sıralar.Mesela aşağıda len keyine göre sıralama yaptı."
   ]
  },
  {
   "cell_type": "code",
   "execution_count": 14,
   "metadata": {},
   "outputs": [
    {
     "name": "stdout",
     "output_type": "stream",
     "text": [
      "['red', 'blue', 'green', 'orange']\n"
     ]
    }
   ],
   "source": [
    "L = ['red', 'green', 'blue', 'orange']\n",
    "L.sort(key=len)\n",
    "print(L)\n",
    "# len(uzunluk) metoduna göre en kısadan en uzuna sıraladı.\n"
   ]
  },
  {
   "cell_type": "code",
   "execution_count": 1,
   "metadata": {},
   "outputs": [
    {
     "name": "stdout",
     "output_type": "stream",
     "text": [
      "['Adana', 'Ankara', 'Istanbul', 'Tekirdag', 'istanbul', 'İstanbul']\n"
     ]
    }
   ],
   "source": [
    "\n",
    "cities2 = [\"Ankara\" , \"Adana\" , \"Istanbul\" ,\"İstanbul\" , \"Tekirdag\", \"istanbul\" ]\n",
    "cities2.sort()\n",
    "print(cities2)  # Bu şekilde sıralamasının nedeni?\n"
   ]
  },
  {
   "attachments": {},
   "cell_type": "markdown",
   "metadata": {},
   "source": [
    "Bunun sebebi pythonun sort fonksiyonunun çalışma metodudur. Varsayılan olarak, sort() yöntemi, listeyi gerçek alfabetik sıra yerine ASCIIbetik sıraya göre sıralar. Bu, büyük harflerin küçük harflerden önce geldiği anlamına gelir."
   ]
  },
  {
   "cell_type": "code",
   "execution_count": 2,
   "metadata": {},
   "outputs": [
    {
     "name": "stdout",
     "output_type": "stream",
     "text": [
      "['Green', 'Red', 'blue', 'orange']\n"
     ]
    }
   ],
   "source": [
    "L = ['Red', 'blue', 'Green', 'orange']\n",
    "L.sort()\n",
    "print(L)"
   ]
  },
  {
   "attachments": {},
   "cell_type": "markdown",
   "metadata": {},
   "source": [
    "- Değerleri normal alfabetik sıraya göre sıralamak istiyorsanız, anahtarı(key = str.lower)  olarak ayarlayın.Bu, sort() işlevinin listedeki değerleri fiilen değiştirmeden tüm liste öğelerini küçük harfmiş gibi ele almasına neden olur."
   ]
  },
  {
   "cell_type": "code",
   "execution_count": 94,
   "metadata": {},
   "outputs": [
    {
     "name": "stdout",
     "output_type": "stream",
     "text": [
      "['blue', 'Green', 'orange', 'Red']\n"
     ]
    }
   ],
   "source": [
    "L = ['Red', 'blue', 'Green', 'orange']\n",
    "L.sort(key= str.lower) #Küçük harfe göre sırala\n",
    "print(L)\n"
   ]
  },
  {
   "attachments": {},
   "cell_type": "markdown",
   "metadata": {},
   "source": [
    "# sort() vs sorted()\n",
    "- sort() yöntemi hiçbir şey döndürmez, orijinal listeyi değiştirir (yani yerinde sıralar). Orijinal listeyi değiştirmek istemiyorsanız sorted() işlevini kullanın. Listenin sıralanmış bir kopyasını döndürür.Diğer bir fark ise sort() yönteminin yalnızca listeler için tanımlanmış olmasıdır. Bunun tersine, sorted() işlevi, tuple(demet), sözlük(dictionary) vb. yinelenebilirleri kabul eder. Ayrıca, sort() yönteminin yeni bir liste oluşturması gerekmez, bu nedenle ikisi arasında daha hızlıdır."
   ]
  },
  {
   "cell_type": "code",
   "execution_count": 5,
   "metadata": {},
   "outputs": [
    {
     "name": "stdout",
     "output_type": "stream",
     "text": [
      "['blue', 'green', 'orange', 'red']\n"
     ]
    }
   ],
   "source": [
    "# sorted() ile listenin sıralanmış bir kopyasını alın\n",
    "L = ['red', 'green', 'blue', 'orange']\n",
    "x = sorted(L)\n",
    "print(x)"
   ]
  },
  {
   "cell_type": "code",
   "execution_count": 6,
   "metadata": {},
   "outputs": [
    {
     "name": "stdout",
     "output_type": "stream",
     "text": [
      "['red', 'green', 'blue', 'orange']\n"
     ]
    }
   ],
   "source": [
    "print(L) #Orijinal liste değişmedi. "
   ]
  },
  {
   "cell_type": "code",
   "execution_count": 9,
   "metadata": {},
   "outputs": [
    {
     "name": "stdout",
     "output_type": "stream",
     "text": [
      "['blue', 'green', 'orange', 'red']\n"
     ]
    }
   ],
   "source": [
    "# Sort ile yapsaydık liste değişirdi.\n",
    "Ldeneme = ['red', 'green', 'blue', 'orange']\n",
    "Ldeneme.sort()\n",
    "print(Ldeneme)\n"
   ]
  },
  {
   "cell_type": "code",
   "execution_count": 7,
   "metadata": {},
   "outputs": [
    {
     "name": "stdout",
     "output_type": "stream",
     "text": [
      "blue\n",
      "green\n",
      "orange\n",
      "red\n"
     ]
    }
   ],
   "source": [
    "# Orijinali değiştirmeden sıralanmış bir listeyi yineleyin.\n",
    "L = ['red', 'green', 'blue', 'orange']\n",
    "for x in sorted(L):\n",
    "    print(x)"
   ]
  },
  {
   "cell_type": "code",
   "execution_count": 8,
   "metadata": {},
   "outputs": [
    {
     "name": "stdout",
     "output_type": "stream",
     "text": [
      "['red', 'green', 'blue', 'orange']\n"
     ]
    }
   ],
   "source": [
    "print(L) #Orijinal liste değişmedi. "
   ]
  },
  {
   "attachments": {},
   "cell_type": "markdown",
   "metadata": {},
   "source": [
    "# isinstance()\n",
    "- 1.parametresine veriyi alır 2.parametresine veri tipini alır eğer eşlerirlerse True,eşleşmezlerse False döndürür."
   ]
  },
  {
   "cell_type": "code",
   "execution_count": 17,
   "metadata": {},
   "outputs": [
    {
     "name": "stdout",
     "output_type": "stream",
     "text": [
      "True\n",
      "True\n"
     ]
    }
   ],
   "source": [
    "x , y , z , m = 1 , \"Efe\" , True , 10.4\n",
    "print(isinstance(x,int))\n",
    "print(isinstance(z ,int)) #True döndürür çünkü 1 = True 0 = Falsedir."
   ]
  },
  {
   "cell_type": "code",
   "execution_count": 10,
   "metadata": {},
   "outputs": [
    {
     "data": {
      "text/plain": [
       "True"
      ]
     },
     "execution_count": 10,
     "metadata": {},
     "output_type": "execute_result"
    }
   ],
   "source": [
    "0 == False"
   ]
  },
  {
   "cell_type": "code",
   "execution_count": 15,
   "metadata": {},
   "outputs": [
    {
     "data": {
      "text/plain": [
       "True"
      ]
     },
     "execution_count": 15,
     "metadata": {},
     "output_type": "execute_result"
    }
   ],
   "source": [
    "1 == True "
   ]
  },
  {
   "cell_type": "code",
   "execution_count": 12,
   "metadata": {},
   "outputs": [
    {
     "data": {
      "text/plain": [
       "False"
      ]
     },
     "execution_count": 12,
     "metadata": {},
     "output_type": "execute_result"
    }
   ],
   "source": [
    "2 == True or False"
   ]
  },
  {
   "cell_type": "code",
   "execution_count": 20,
   "metadata": {},
   "outputs": [
    {
     "name": "stdout",
     "output_type": "stream",
     "text": [
      "False\n",
      "True\n"
     ]
    }
   ],
   "source": [
    "print(isinstance(y ,int))\n",
    "print(isinstance(m ,float))"
   ]
  },
  {
   "attachments": {},
   "cell_type": "markdown",
   "metadata": {},
   "source": [
    "-------"
   ]
  },
  {
   "attachments": {},
   "cell_type": "markdown",
   "metadata": {},
   "source": [
    "# İndexlere göre listeleri vs. sıralama\n",
    "- https://www.geeksforgeeks.org/python-sort-list-of-list-by-specified-index/\n",
    "- https://www.youtube.com/watch?v=k3E30V-uQSU\n",
    "- https://careerkarma.com/blog/python-sort-a-dictionary-by-value/#:~:text=To%20sort%20a%20dictionary%20by%20value%20in%20Python%20you%20can,Dictionaries%20are%20unordered%20data%20structures.\n",
    "- https://www.youtube.com/watch?v=OxfJVvdv_i0&list=PL3kMAPso9YQ1Ls-5uTTIWWMkJoF_vyj5J&index=40&t=298s"
   ]
  },
  {
   "attachments": {},
   "cell_type": "markdown",
   "metadata": {},
   "source": [
    "### Yöntem 1: Kabarcık sıralama(bubble sort) algoritmasını kullanma\n",
    "* Kabarcık sıralama, sıralanacak listede art arda adım atan, her bir bitişik öğe çiftini karşılaştıran ve yanlış sıradalarsa onları değiştiren basit bir sıralama algoritmasıdır. Listeden geçiş, listenin sıralandığını gösteren hiçbir takas gerekmeyene kadar tekrarlanır.\n",
    "- * Giriş listesinin uzunluğuna göre bir n değişkeni başlatın.\n",
    "- * Listede n kez döngü yapın.\n",
    "- * Her yineleme için, listede 0 dizininden n-2 dizinine kadar döngü yapın .\n",
    "- * Bitişik öğelerin her çifti için, sol öğenin ikinci öğesinin sağ öğenin ikinci öğesinden büyük olup olmadığını kontrol edin. Evet ise, iki öğeyi değiştirin.\n",
    "- * Tüm yinelemeleri tamamladıktan sonra sıralanmış listeyi döndürün."
   ]
  },
  {
   "cell_type": "code",
   "execution_count": 10,
   "metadata": {},
   "outputs": [
    {
     "name": "stdout",
     "output_type": "stream",
     "text": [
      "orijinal listemiz:   \t    [['Efennos', 4, 28], ['Efenn', 2, 20], ['Efe', 1, 20], ['Efee', 3, 21]]\n",
      "0.indexlerin uzunluğuna göre sıralanmış :  [['Efe', 1, 20], ['Efee', 3, 21], ['Efenn', 2, 20], ['Efennos', 4, 28]]\n"
     ]
    }
   ],
   "source": [
    "# liste oluşturalım\n",
    "listem = [['Efennos', 4, 28], ['Efenn', 2, 20],\n",
    "\t\t\t['Efe', 1, 20], ['Efee', 3, 21]]\n",
    "\n",
    "# orijinal listeyi yazdıralım.\n",
    "print(\"orijinal listemiz:   \t   \" , listem)\n",
    "\n",
    "# 1.indexlere göre bubble sort(kabarcık sıralama) yapalım.\n",
    "n = len(listem)\n",
    "for i in range(n):\n",
    "\tfor j in range(n-1):\n",
    "\t\tif len(listem[j][0]) > len(listem[j+1][0]):\n",
    "\t\t\tlistem[j], listem[j+1] = listem[j+1], listem[j]\n",
    "\n",
    "# sonucu yazdıralım.\n",
    "print(\"0.indexlerin uzunluğuna göre sıralanmış : \"  , listem)\n"
   ]
  },
  {
   "cell_type": "code",
   "execution_count": 121,
   "metadata": {},
   "outputs": [
    {
     "name": "stdout",
     "output_type": "stream",
     "text": [
      "orijinal listemiz:   \t    [['Rash', 4, 28], ['Varsha', 2, 20], ['Nikhil', 1, 20], ['Akshat', 3, 21]]\n",
      "1.indexe göre sıralanmış :  [['Nikhil', 1, 20], ['Varsha', 2, 20], ['Akshat', 3, 21], ['Rash', 4, 28]]\n"
     ]
    }
   ],
   "source": [
    "# liste oluşturalım\n",
    "listem = [['Rash', 4, 28], ['Varsha', 2, 20],\n",
    "\t\t\t['Nikhil', 1, 20], ['Akshat', 3, 21]]\n",
    "\n",
    "# orijinal listeyi yazdıralım.\n",
    "print(\"orijinal listemiz:   \t   \" , listem)\n",
    "\n",
    "# 1.indexlere göre bubble sort(kabarcık sıralama) yapalım.\n",
    "n = len(listem)\n",
    "for i in range(n):\n",
    "\tfor j in range(n-1):\n",
    "\t\tif listem[j][1] > listem[j+1][1]:\n",
    "\t\t\tlistem[j], listem[j+1] = listem[j+1], listem[j]\n",
    "\n",
    "# sonucu yazdıralım.\n",
    "print(\"1.indexe göre sıralanmış : \"  , listem)\n"
   ]
  },
  {
   "cell_type": "code",
   "execution_count": 4,
   "metadata": {},
   "outputs": [
    {
     "name": "stdout",
     "output_type": "stream",
     "text": [
      "orijinal listemiz:   \t    [['Rash', 4, 28], ['Varsha', 2, 20], ['Nikhil', 1, 23], ['Akshat', 3, 21]]\n",
      "2.indexe göre sıralanmış :  [['Varsha', 2, 20], ['Akshat', 3, 21], ['Nikhil', 1, 23], ['Rash', 4, 28]]\n"
     ]
    }
   ],
   "source": [
    "# liste oluşturalım\n",
    "listem = [['Rash', 4, 28], ['Varsha', 2, 20],\n",
    "\t\t\t['Nikhil', 1, 23], ['Akshat', 3, 21]]\n",
    "\n",
    "# orijinal listeyi yazdıralım.\n",
    "print(\"orijinal listemiz:   \t   \" , listem)\n",
    "\n",
    "# 1.indexlere göre bubble sort(kabarcık sıralama) yapalım.\n",
    "n = len(listem)\n",
    "for i in range(n):\n",
    "\tfor j in range(n-1):\n",
    "\t\tif listem[j][2] > listem[j+1][2]:\n",
    "\t\t\tlistem[j], listem[j+1] = listem[j+1], listem[j]\n",
    "\n",
    "# sonucu yazdıralım.\n",
    "print(\"2.indexe göre sıralanmış : \"  , listem)\n"
   ]
  },
  {
   "attachments": {},
   "cell_type": "markdown",
   "metadata": {},
   "source": [
    "### Yöntem 2: sort() + lambda\n",
    "* key parametresi her iç içe geçmiş listenin seçilmiş öğesini döndüren bir lambda işlevine ayarlıyken sort() yöntemini kullanarak \" deneme_listesi \" öğesini sıralayın ; bu, dizin 1'deki tamsayıdır."
   ]
  },
  {
   "attachments": {},
   "cell_type": "markdown",
   "metadata": {},
   "source": [
    "#### String kısımlara göre sıralama"
   ]
  },
  {
   "cell_type": "code",
   "execution_count": 115,
   "metadata": {},
   "outputs": [
    {
     "name": "stdout",
     "output_type": "stream",
     "text": [
      "Orijinal listemiz:\t\t     [['d', 4, 28], ['C', 2, 20], ['b', 1, 20], ['a', 3, 21]]\n",
      "0. indexe göre sıralanmış listemiz:  [['a', 3, 21], ['b', 1, 20], ['C', 2, 20], ['d', 4, 28]]\n"
     ]
    }
   ],
   "source": [
    "# liste oluşturalım.\n",
    "deneme_listesi = [['d', 4, 28], ['C', 2, 20],\n",
    "\t\t\t['b', 1, 20], ['a', 3, 21]]\n",
    "\n",
    "#orijinal listeyi yazdıralım.\n",
    "print (\"Orijinal listemiz:\t\t    \" , deneme_listesi)\n",
    "\n",
    "# sort yöntemi ile listeyi sıralayalım.\n",
    "# 0.indexe göre sıralama işlemi yapalım.\n",
    "deneme_listesi.sort(key = lambda deneme_listesi:deneme_listesi[0].lower()) #lower kısmı = hepsini küçük harf olarak algıla demek.\n",
    "# \t\t\t\t\tkey\t=  lambda parametreler : yapılacak işlem\n",
    "\n",
    "print (\"0. indexe göre sıralanmış listemiz: \" , deneme_listesi)\n",
    "# 0 indexdekileri alfabetik olarak sıraladı.\n"
   ]
  },
  {
   "cell_type": "code",
   "execution_count": 16,
   "metadata": {},
   "outputs": [
    {
     "name": "stdout",
     "output_type": "stream",
     "text": [
      "orijinal listemiz:   \t                          [['Efennos', 4, 28], ['Efenn', 2, 20], ['Efe', 1, 20], ['Efee', 3, 21]]\n",
      "Str kısımların uzunluğuna göre sıralanmış listem: ['Efe', 'Efee', 'Efenn', 'Efennos']\n"
     ]
    }
   ],
   "source": [
    "# liste oluşturalım\n",
    "listem = [['Efennos', 4, 28], ['Efenn', 2, 20],\n",
    "\t\t\t['Efe', 1, 20], ['Efee', 3, 21]]\n",
    "\n",
    "# orijinal listeyi yazdıralım.\n",
    "print(\"orijinal listemiz:   \t                         \" , listem)\n",
    "yeni_listem = [] #string ifadeleri eklemek için boş bir liste oluşturalım.\n",
    "\n",
    "# 0.indexlere göre yeni bir liste oluşturarak onu yazdıralım.\n",
    "for i in listem:\n",
    "    for j in i:\n",
    "        if j == str(j):\n",
    "            yeni_listem.append(j)\n",
    "\n",
    "\n",
    "yeni_listem.sort(key= len)\n",
    "print(\"Str kısımların uzunluğuna göre sıralanmış listem:\" , yeni_listem)\n",
    "          \n"
   ]
  },
  {
   "attachments": {},
   "cell_type": "markdown",
   "metadata": {},
   "source": [
    "#### İnteger kısımlara göre sıralama"
   ]
  },
  {
   "cell_type": "code",
   "execution_count": 66,
   "metadata": {},
   "outputs": [
    {
     "name": "stdout",
     "output_type": "stream",
     "text": [
      "Orijinal listemiz:\t\t     [['Efe', 4, 28], ['Efen', 2, 20], ['Efenno', 1, 23], ['Efennos', 3, 21]]\n",
      "1. indexe göre sıralanmış listemiz:  [['Efenno', 1, 23], ['Efen', 2, 20], ['Efennos', 3, 21], ['Efe', 4, 28]]\n"
     ]
    }
   ],
   "source": [
    "# liste oluşturalım.\n",
    "deneme_listesi = [['Efe', 4, 28], ['Efen', 2, 20],\n",
    "\t\t\t['Efenno', 1, 23], ['Efennos', 3, 21]]\n",
    "\n",
    "#orijinal listeyi yazdıralım.\n",
    "print (\"Orijinal listemiz:\t\t    \" , deneme_listesi)\n",
    "\n",
    "# sort yöntemi ile listeyi sıralayalım.\n",
    "# 1.indexe göre sıralama işlemi yapalım.\n",
    "deneme_listesi.sort(key = lambda deneme_listesi:deneme_listesi[1])\n",
    "\n",
    "# sonucumuzu bastıralım.\n",
    "print (\"1. indexe göre sıralanmış listemiz: \" , deneme_listesi)\n"
   ]
  },
  {
   "attachments": {},
   "cell_type": "markdown",
   "metadata": {},
   "source": [
    "------"
   ]
  },
  {
   "attachments": {},
   "cell_type": "markdown",
   "metadata": {},
   "source": [
    "             lambda kullanmak yerine fonksiyon tanımlayarak da yapabilirdim"
   ]
  },
  {
   "cell_type": "code",
   "execution_count": 2,
   "metadata": {},
   "outputs": [
    {
     "name": "stdout",
     "output_type": "stream",
     "text": [
      "[['Efenno', 1, 23], ['Efen', 2, 20], ['Efennos', 3, 21], ['Efe', 4, 28]]\n"
     ]
    }
   ],
   "source": [
    "deneme_listesi = [['Efe', 4, 28], ['Efen', 2, 20],\n",
    "\t\t\t['Efenno', 1, 23], ['Efennos', 3, 21]]\n",
    "\n",
    "def birinci_indexe_göre_sirala(x):\n",
    "    return x[1] #Bu fonksiyon deneme listesi içerisindeki elemanların 1.indexini döndürür.\n",
    "\n",
    "deneme_listesi.sort(key= birinci_indexe_göre_sirala) # key olarak birinci_indexe_göre_sıralama fonksiyonumu kullan.\n",
    "print(deneme_listesi)"
   ]
  },
  {
   "attachments": {},
   "cell_type": "markdown",
   "metadata": {},
   "source": [
    "-------"
   ]
  },
  {
   "cell_type": "code",
   "execution_count": 65,
   "metadata": {},
   "outputs": [
    {
     "name": "stdout",
     "output_type": "stream",
     "text": [
      "Orijinal listemiz:\t\t     [['Efe', 4, 28], ['Efen', 2, 20], ['Efenno', 1, 23], ['Efennos', 3, 21]]\n",
      "2. indexe göre sıralanmış listemiz:  [['Efen', 2, 20], ['Efennos', 3, 21], ['Efenno', 1, 23], ['Efe', 4, 28]]\n"
     ]
    }
   ],
   "source": [
    "# liste oluşturalım.\n",
    "deneme_listesi = [['Efe', 4, 28], ['Efen', 2, 20],\n",
    "\t\t\t['Efenno', 1, 23], ['Efennos', 3, 21]]\n",
    "\n",
    "#orijinal listeyi yazdıralım.\n",
    "print (\"Orijinal listemiz:\t\t    \" , deneme_listesi)\n",
    "\n",
    "# sort yöntemi ile listeyi sıralayalım.\n",
    "# 2.indexe göre sıralama işlemi yapalım.\n",
    "deneme_listesi.sort(key = lambda deneme_listesi:deneme_listesi[2])\n",
    "\n",
    "# sonucumuzu bastıralım.\n",
    "print (\"2. indexe göre sıralanmış listemiz: \" , deneme_listesi)\n"
   ]
  },
  {
   "cell_type": "code",
   "execution_count": 3,
   "metadata": {},
   "outputs": [
    {
     "name": "stdout",
     "output_type": "stream",
     "text": [
      "[['Efen', 2, 20], ['Efennos', 3, 21], ['Efenno', 1, 23], ['Efe', 4, 28]]\n"
     ]
    }
   ],
   "source": [
    "deneme_listesi = [['Efe', 4, 28], ['Efen', 2, 20],\n",
    "\t\t\t['Efenno', 1, 23], ['Efennos', 3, 21]]\n",
    "\n",
    "def ikinci_indexe_göre_sirala(x):\n",
    "    return x[2]\n",
    "\n",
    "deneme_listesi.sort(key= ikinci_indexe_göre_sirala)\n",
    "print(deneme_listesi)"
   ]
  },
  {
   "attachments": {},
   "cell_type": "markdown",
   "metadata": {},
   "source": [
    "             lambda kullanmak yerine fonksiyon tanımlayarak da yapabilirdim"
   ]
  },
  {
   "attachments": {},
   "cell_type": "markdown",
   "metadata": {},
   "source": [
    "### Yöntem 3: sorted() + itemgetter()\n",
    "* Benzer işlevsellik elde etmek için lambda işlevi yerine Itemgetter kullanılabilir . itemgetter(), sıralama işleminin gerçekleştirilmesi gereken dizin öğesini almak için kullanılır.  "
   ]
  },
  {
   "cell_type": "code",
   "execution_count": 17,
   "metadata": {},
   "outputs": [
    {
     "name": "stdout",
     "output_type": "stream",
     "text": [
      "Orijinal listemiz:\t\t     [['Efe', 4, 28], ['Efen', 2, 20], ['Efenno', 1, 23], ['Efennos', 3, 21]]\n",
      "1. indexe göre sıralanmış listemiz:  [['Efenno', 1, 23], ['Efen', 2, 20], ['Efennos', 3, 21], ['Efe', 4, 28]]\n"
     ]
    }
   ],
   "source": [
    "# liste oluşturalım.\n",
    "from operator import itemgetter\n",
    "\n",
    "deneme_listesi = [['Efe', 4, 28], ['Efen', 2, 20],\n",
    "\t\t\t['Efenno', 1, 23], ['Efennos', 3, 21]]\n",
    "\n",
    "#orijinal listeyi yazdıralım.\n",
    "print (\"Orijinal listemiz:\t\t    \" , deneme_listesi)\n",
    "\n",
    "# sort yöntemi ile listeyi sıralayalım.\n",
    "# 1.indexe göre sıralama işlemi yapalım.\n",
    "yenisi = sorted(deneme_listesi, key = itemgetter(1))\n",
    "\n",
    "# sonucumuzu bastıralım.\n",
    "print (\"1. indexe göre sıralanmış listemiz: \" ,yenisi)\n"
   ]
  },
  {
   "cell_type": "code",
   "execution_count": 127,
   "metadata": {},
   "outputs": [
    {
     "name": "stdout",
     "output_type": "stream",
     "text": [
      "Orijinal listemiz:\t\t     [['Efe', 4, 28], ['Efen', 2, 20], ['Efenno', 1, 23], ['Efennos', 3, 21]]\n",
      "2. indexe göre sıralanmış listemiz:  [['Efen', 2, 20], ['Efennos', 3, 21], ['Efenno', 1, 23], ['Efe', 4, 28]]\n"
     ]
    }
   ],
   "source": [
    "# liste oluşturalım.\n",
    "from operator import itemgetter\n",
    "\n",
    "deneme_listesi = [['Efe', 4, 28], ['Efen', 2, 20],\n",
    "\t\t\t['Efenno', 1, 23], ['Efennos', 3, 21]]\n",
    "\n",
    "#orijinal listeyi yazdıralım.\n",
    "print (\"Orijinal listemiz:\t\t    \" , deneme_listesi)\n",
    "\n",
    "# sort yöntemi ile listeyi sıralayalım.\n",
    "# 2.indexe göre sıralama işlemi yapalım.\n",
    "yenisi = sorted(deneme_listesi, key = itemgetter(2))\n",
    "\n",
    "# sonucumuzu bastıralım.\n",
    "print (\"2. indexe göre sıralanmış listemiz: \" ,yenisi)\n"
   ]
  },
  {
   "attachments": {},
   "cell_type": "markdown",
   "metadata": {},
   "source": [
    "### Yöntem 4: Özel bir fonksiyon tanımlama (Yöntem 2'nin tanımlanması)"
   ]
  },
  {
   "cell_type": "code",
   "execution_count": 152,
   "metadata": {},
   "outputs": [
    {
     "name": "stdout",
     "output_type": "stream",
     "text": [
      "Orijinal listemiz:\t\t     [['Efe', 4, 28], ['Efen', 2, 20], ['Efenno', 1, 23], ['Efennos', 3, 21]]\n",
      "1. indexe göre sıralanmış listemiz:  [['Efenno', 1, 23], ['Efen', 2, 20], ['Efennos', 3, 21], ['Efe', 4, 28]]\n",
      "2. indexe göre sıralanmış listemiz:  [['Efen', 2, 20], ['Efennos', 3, 21], ['Efenno', 1, 23], ['Efe', 4, 28]]\n"
     ]
    }
   ],
   "source": [
    "def indexlere_göre_sıralama(listem, indexim): #parametre isimleri\n",
    "\treturn sorted(listem, key=lambda x: x[indexim])\n",
    "\t\t\t\t\t\t\t#lambda #x = parametre : #x lerin[indexine göre] (yapılacak işlem)\n",
    "# liste oluşturalım.\n",
    "deneme_listesi = [['Efe', 4, 28], ['Efen', 2, 20],\n",
    "\t\t\t['Efenno', 1, 23], ['Efennos', 3, 21]]\n",
    "\n",
    "#orijinal listeyi yazdıralım.\n",
    "print (\"Orijinal listemiz:\t\t    \" , deneme_listesi)\n",
    "\n",
    "# fonksiyonumuzla sıralama işlemi yapalım.\n",
    "# 2.indexe göre sıralama işlemi yapalım.\n",
    "yenilistem = indexlere_göre_sıralama(deneme_listesi,1)\n",
    "\n",
    "# sonucumuzu bastıralım.\n",
    "print (\"1. indexe göre sıralanmış listemiz: \" , yenilistem)\n",
    "\n",
    "yenilistem2= indexlere_göre_sıralama(deneme_listesi,2)\n",
    "print (\"2. indexe göre sıralanmış listemiz: \" , yenilistem2)\n",
    "\n",
    "\n",
    "\n",
    "# test_list = [['Rash', 4, 28], ['Varsha', 2, 20],\n",
    "# \t\t\t['Nikhil', 1, 20], ['Akshat', 3, 21]]\n",
    "\n",
    "# # sort by second index\n",
    "# result_list = sort_list_of_lists(test_list, 1)\n",
    "\n",
    "# # printing result\n",
    "# print(\"List after sorting by 2nd element of lists : \" + str(result_list))\n"
   ]
  },
  {
   "attachments": {},
   "cell_type": "markdown",
   "metadata": {},
   "source": [
    "- ``Eğer bir sözlük yapısında olsaydı ve bunu sıralamak isteseydik;``\n"
   ]
  },
  {
   "cell_type": "code",
   "execution_count": 2,
   "metadata": {},
   "outputs": [
    {
     "name": "stdout",
     "output_type": "stream",
     "text": [
      "[{'İsim ': 'Ege', 'Yas': '10'}, {'İsim ': 'Ece', 'Yas': '15'}, {'İsim ': 'Efe', 'Yas': '20'}]\n"
     ]
    }
   ],
   "source": [
    "üyeler = [{\"İsim \": \"Efe\" , \"Yas\" : \"20\"}, {\"İsim \": \"Ece\" , \"Yas\" : \"15\"},{\"İsim \": \"Ege\" , \"Yas\" : \"10\"}]\n",
    "üyeler.sort(key= lambda x:x[\"Yas\"])\n",
    "print(üyeler)"
   ]
  },
  {
   "attachments": {},
   "cell_type": "markdown",
   "metadata": {},
   "source": [
    "----------"
   ]
  },
  {
   "attachments": {},
   "cell_type": "markdown",
   "metadata": {},
   "source": [
    "- \"Eğer bir ifade stringse listeye ekle.\" bunu pythona nasıl yazabiliriz.Örn:"
   ]
  },
  {
   "cell_type": "code",
   "execution_count": 5,
   "metadata": {},
   "outputs": [
    {
     "name": "stdout",
     "output_type": "stream",
     "text": [
      "Sitring Liste: ['x', 'y', 'z'] \n",
      "İnteger Liste: [1, 2, 3, 4, 5] \n",
      "Float Liste:  [1.6, 2.8]\n"
     ]
    }
   ],
   "source": [
    "liste = [1,2,3,4,5,\"x\" , \"y\" , \"z\" , 1.6 , 2.8]\n",
    "str_liste = []\n",
    "int_liste = []\n",
    "float_liste = []\n",
    "for i in liste:\n",
    "    if i == str(i):\n",
    "        str_liste.append(i)\n",
    "    elif i == int(i):\n",
    "        int_liste.append(i)\n",
    "    elif i == float(i):\n",
    "        float_liste.append(i)\n",
    "print(\"Sitring Liste:\" , str_liste , \"\\n\" \n",
    "      \"İnteger Liste:\", int_liste , \"\\n\" \n",
    "       \"Float Liste: \" , float_liste ,  )"
   ]
  }
 ],
 "metadata": {
  "kernelspec": {
   "display_name": "Python 3",
   "language": "python",
   "name": "python3"
  },
  "language_info": {
   "codemirror_mode": {
    "name": "ipython",
    "version": 3
   },
   "file_extension": ".py",
   "mimetype": "text/x-python",
   "name": "python",
   "nbconvert_exporter": "python",
   "pygments_lexer": "ipython3",
   "version": "3.11.1"
  },
  "orig_nbformat": 4,
  "vscode": {
   "interpreter": {
    "hash": "b52f0326c461c572921985537a28c1464d6f232a21b63d1eb118623ecdbf8940"
   }
  }
 },
 "nbformat": 4,
 "nbformat_minor": 2
}
