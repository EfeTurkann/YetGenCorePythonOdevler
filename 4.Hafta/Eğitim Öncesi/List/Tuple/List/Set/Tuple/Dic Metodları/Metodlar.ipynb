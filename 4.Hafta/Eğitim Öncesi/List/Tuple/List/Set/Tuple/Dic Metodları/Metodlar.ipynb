{
 "cells": [
  {
   "attachments": {},
   "cell_type": "markdown",
   "metadata": {},
   "source": [
    "# LİSTE METODLARI"
   ]
  },
  {
   "attachments": {},
   "cell_type": "markdown",
   "metadata": {},
   "source": [
    "- .append() : Listenin sonuna yeni eleman eklemeyi sağlar.\n",
    "- insert() :  Listede indexe göre ekleme işlemi yapar.\n",
    "- .remove() :  Listeden veri silmeyi sağlar. (Listenin içerisindeki elemanı siler.)\n",
    "- pop() : Listede indexe göre silme işlemi yapar. İndex verilmezse son elemanı siler.\n",
    "- clear() : Listenin içini tamamen boşaltır.\n",
    "- len() : Dizinin uzunluğunu verir.\n",
    "- index() : Listedeki elemanın indexini verir.\n",
    "- reverse() : Listeyi terse çevirmeyi sağlar.\n",
    "- sort() : Listeyi sıralamayı sağlar.(Alfabetik veya küçükten büyüğe)\n",
    "- \n",
    "\n",
    "\n",
    "\n"
   ]
  }
 ],
 "metadata": {
  "language_info": {
   "name": "python"
  },
  "orig_nbformat": 4
 },
 "nbformat": 4,
 "nbformat_minor": 2
}
