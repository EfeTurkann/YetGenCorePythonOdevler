{
 "cells": [
  {
   "attachments": {},
   "cell_type": "markdown",
   "metadata": {},
   "source": [
    "# LİSTELER"
   ]
  },
  {
   "attachments": {},
   "cell_type": "markdown",
   "metadata": {},
   "source": [
    "- [   ] içerisinde tutulurlar.\n",
    "- Indexleme, veri güncelleme, silme, veri ekleme gibi işlemler yapılabilir.\n",
    "- İç içe listeleme işlemi yapılabilir."
   ]
  },
  {
   "cell_type": "code",
   "execution_count": 40,
   "metadata": {},
   "outputs": [
    {
     "name": "stdout",
     "output_type": "stream",
     "text": [
      "['Efe', 'Baran', 'Berat', 'Eren']\n"
     ]
    }
   ],
   "source": [
    "arkadaslar = [\"Efe\",\"Baran\",\"Berat\",\"Eren\"]\n",
    "print(arkadaslar)"
   ]
  },
  {
   "cell_type": "code",
   "execution_count": 37,
   "metadata": {},
   "outputs": [
    {
     "name": "stdout",
     "output_type": "stream",
     "text": [
      "['Efe', 'Baran']\n"
     ]
    }
   ],
   "source": [
    "arkadaslarf = ['Efe','Baran']\n",
    "print(arkadaslarf)"
   ]
  },
  {
   "cell_type": "code",
   "execution_count": 48,
   "metadata": {},
   "outputs": [
    {
     "name": "stdout",
     "output_type": "stream",
     "text": [
      "['Elma', 'Karpuz', 'Kiraz']\n"
     ]
    }
   ],
   "source": [
    "#Liste almanın bir diğer yolu da list(()) yoludur. 1.Parantez liste olduğunu anlarken, ikinci paraentez listenin elemanlarının girişini sağlar.\n",
    "meyveler = list((\"Elma\",\"Karpuz\",\"Kiraz\"))\n",
    "print(meyveler)"
   ]
  },
  {
   "cell_type": "code",
   "execution_count": 11,
   "metadata": {},
   "outputs": [
    {
     "name": "stdout",
     "output_type": "stream",
     "text": [
      "Efe\n",
      "Efe\n",
      "Baran\n",
      "Baran\n"
     ]
    }
   ],
   "source": [
    "print(arkadaslar[0]) # ilk 0 sonra 1 2 3 ama tersten -1 diye başlar -2 -3 -4 diye devam eder.\n",
    "print(arkadaslar[-4])\n",
    "print(arkadaslar[1])\n",
    "print(arkadaslar[-3])"
   ]
  },
  {
   "attachments": {},
   "cell_type": "markdown",
   "metadata": {},
   "source": [
    "# LİSTE METOTLARI\n",
    "\n",
    "## .append() Metodu\n",
    "\n",
    "- Listenin sonuna yeni eleman eklemeyi sağlar.\n",
    "\n",
    "## .remove() Metodu\n",
    "\n",
    "- Listeden veri silmeyi sağlar. (Listenin içerisindeki elemanı siler.)"
   ]
  },
  {
   "cell_type": "code",
   "execution_count": 23,
   "metadata": {},
   "outputs": [
    {
     "name": "stdout",
     "output_type": "stream",
     "text": [
      "['Efe', 'Baran', 'Berat', 'Eren']\n"
     ]
    }
   ],
   "source": [
    "arkadaslar = [\"Efe\",\"Baran\",\"Berat\",\"Eren\"]\n",
    "print(arkadaslar)"
   ]
  },
  {
   "cell_type": "code",
   "execution_count": 24,
   "metadata": {},
   "outputs": [
    {
     "ename": "ValueError",
     "evalue": "list.remove(x): x not in list",
     "output_type": "error",
     "traceback": [
      "\u001b[1;31m---------------------------------------------------------------------------\u001b[0m",
      "\u001b[1;31mValueError\u001b[0m                                Traceback (most recent call last)",
      "Cell \u001b[1;32mIn[24], line 1\u001b[0m\n\u001b[1;32m----> 1\u001b[0m arkadaslar\u001b[39m.\u001b[39;49mremove(\u001b[39m2\u001b[39;49m)\n",
      "\u001b[1;31mValueError\u001b[0m: list.remove(x): x not in list"
     ]
    }
   ],
   "source": [
    "arkadaslar.remove(2)"
   ]
  },
  {
   "cell_type": "code",
   "execution_count": 2,
   "metadata": {},
   "outputs": [
    {
     "name": "stdout",
     "output_type": "stream",
     "text": [
      "['Efe', 'Baran', 'Berat', 'Eren', 'Emirhan']\n"
     ]
    }
   ],
   "source": [
    "arkadaslar.append(\"Emirhan\")\n",
    "print(arkadaslar)"
   ]
  },
  {
   "cell_type": "code",
   "execution_count": 3,
   "metadata": {},
   "outputs": [
    {
     "name": "stdout",
     "output_type": "stream",
     "text": [
      "['Baran', 'Berat', 'Eren', 'Emirhan']\n"
     ]
    }
   ],
   "source": [
    "arkadaslar.remove(\"Efe\")\n",
    "print(arkadaslar)"
   ]
  },
  {
   "cell_type": "code",
   "execution_count": 21,
   "metadata": {},
   "outputs": [
    {
     "ename": "IndexError",
     "evalue": "list assignment index out of range",
     "output_type": "error",
     "traceback": [
      "\u001b[1;31m---------------------------------------------------------------------------\u001b[0m",
      "\u001b[1;31mIndexError\u001b[0m                                Traceback (most recent call last)",
      "Cell \u001b[1;32mIn[21], line 1\u001b[0m\n\u001b[1;32m----> 1\u001b[0m arkadaslar[\u001b[39m4\u001b[39;49m] \u001b[39m=\u001b[39m\u001b[39m\"\u001b[39m\u001b[39mVeli\u001b[39m\u001b[39m\"\u001b[39m\n\u001b[0;32m      2\u001b[0m \u001b[39mprint\u001b[39m(arkadaslar) \u001b[39m# olmayan indexte veri eklemek mümkün değildir.\u001b[39;00m\n",
      "\u001b[1;31mIndexError\u001b[0m: list assignment index out of range"
     ]
    }
   ],
   "source": [
    "arkadaslar[4] =\"Veli\"\n",
    "print(arkadaslar) # olmayan indexte veri eklemek mümkün değildir."
   ]
  },
  {
   "cell_type": "code",
   "execution_count": 4,
   "metadata": {},
   "outputs": [
    {
     "name": "stdout",
     "output_type": "stream",
     "text": [
      "['Baran', 'Berat', 'Eren', 'Veli']\n"
     ]
    }
   ],
   "source": [
    "arkadaslar[3] =\"Veli\"\n",
    "print(arkadaslar) # Veri güncellemesi sağlar.Listedeki 3. elemanı Veli olarak güncelle demek. \n",
    "#Emirhan yerine Veli ekledi."
   ]
  },
  {
   "attachments": {},
   "cell_type": "markdown",
   "metadata": {},
   "source": [
    "## len() metodu\n",
    "\n",
    "- Dizinin uzunluğunu verir."
   ]
  },
  {
   "cell_type": "code",
   "execution_count": 26,
   "metadata": {},
   "outputs": [
    {
     "data": {
      "text/plain": [
       "2"
      ]
     },
     "execution_count": 26,
     "metadata": {},
     "output_type": "execute_result"
    }
   ],
   "source": [
    "sehirler = list((\"Ankara\",\"İstanbul\"))\n",
    "len(sehirler)\n"
   ]
  },
  {
   "cell_type": "code",
   "execution_count": 28,
   "metadata": {},
   "outputs": [
    {
     "name": "stdout",
     "output_type": "stream",
     "text": [
      "2\n"
     ]
    }
   ],
   "source": [
    "print(len(sehirler))"
   ]
  },
  {
   "attachments": {},
   "cell_type": "markdown",
   "metadata": {},
   "source": [
    "## clear() metodu\n",
    "- Listenin içini tamamen boşaltır."
   ]
  },
  {
   "cell_type": "code",
   "execution_count": 5,
   "metadata": {},
   "outputs": [
    {
     "name": "stdout",
     "output_type": "stream",
     "text": [
      "['Efe', 'Baran', 'Berat', 'Eren']\n"
     ]
    }
   ],
   "source": [
    "arkadaslar = [\"Efe\",\"Baran\",\"Berat\",\"Eren\"]\n",
    "print(arkadaslar)"
   ]
  },
  {
   "cell_type": "code",
   "execution_count": 6,
   "metadata": {},
   "outputs": [],
   "source": [
    "arkadaslar.clear()\n"
   ]
  },
  {
   "cell_type": "code",
   "execution_count": 7,
   "metadata": {},
   "outputs": [
    {
     "name": "stdout",
     "output_type": "stream",
     "text": [
      "[]\n"
     ]
    }
   ],
   "source": [
    "print(arkadaslar)"
   ]
  },
  {
   "attachments": {},
   "cell_type": "markdown",
   "metadata": {},
   "source": [
    "## index() metodu\n",
    "- Listedeki elemanın indexini verir.\n",
    "- Aranan veriyi ilk bulduğunda durur. Diğer verilerde aynı veri varsa getirmez.\n",
    "- Eğer veri bulunamazsa ValueError hatası verir."
   ]
  },
  {
   "cell_type": "code",
   "execution_count": 8,
   "metadata": {},
   "outputs": [],
   "source": [
    "markalar = list((\"Asus\",\"Monster\",\"Samsung\"))"
   ]
  },
  {
   "cell_type": "code",
   "execution_count": 50,
   "metadata": {},
   "outputs": [
    {
     "name": "stdout",
     "output_type": "stream",
     "text": [
      "['Asus', 'Monster', 'Samsung']\n"
     ]
    }
   ],
   "source": [
    "print(markalar)"
   ]
  },
  {
   "cell_type": "code",
   "execution_count": 9,
   "metadata": {},
   "outputs": [
    {
     "name": "stdout",
     "output_type": "stream",
     "text": [
      "Monster'ın indexi: 1\n"
     ]
    }
   ],
   "source": [
    "print(\"Monster'ın indexi:\" , markalar.index(\"Monster\")) #Monster'ın indexini bulduk. "
   ]
  },
  {
   "cell_type": "code",
   "execution_count": 54,
   "metadata": {},
   "outputs": [
    {
     "ename": "TypeError",
     "evalue": "can only concatenate str (not \"int\") to str",
     "output_type": "error",
     "traceback": [
      "\u001b[1;31m---------------------------------------------------------------------------\u001b[0m",
      "\u001b[1;31mTypeError\u001b[0m                                 Traceback (most recent call last)",
      "Cell \u001b[1;32mIn[54], line 1\u001b[0m\n\u001b[1;32m----> 1\u001b[0m \u001b[39mprint\u001b[39m(\u001b[39m\"\u001b[39;49m\u001b[39mMonster\u001b[39;49m\u001b[39m'\u001b[39;49m\u001b[39mın indexi:\u001b[39;49m\u001b[39m\"\u001b[39;49m \u001b[39m+\u001b[39;49m markalar\u001b[39m.\u001b[39;49mindex(\u001b[39m\"\u001b[39;49m\u001b[39mMonster\u001b[39;49m\u001b[39m\"\u001b[39;49m)) \u001b[39m# Virgül(,) Artı(+) olsaydı sayısal bir ifade olduğundan kabul etmeyip hata verirdi.\u001b[39;00m\n",
      "\u001b[1;31mTypeError\u001b[0m: can only concatenate str (not \"int\") to str"
     ]
    }
   ],
   "source": [
    "print(\"Monster'ın indexi:\" + markalar.index(\"Monster\")) # Virgül(,) Artı(+) olsaydı sayısal bir ifade olduğundan kabul etmeyip hata verirdi."
   ]
  },
  {
   "cell_type": "code",
   "execution_count": 55,
   "metadata": {},
   "outputs": [
    {
     "name": "stdout",
     "output_type": "stream",
     "text": [
      "Monster'ın indexi:1\n"
     ]
    }
   ],
   "source": [
    "print(\"Monster'ın indexi:\" + str(markalar.index(\"Monster\"))) # Virgül(,) Artı(+) olsaydı str bir ifade olduğundan kabul etmeyip hata verirdi.\n",
    "#Sayısal ifadeyi str e çevirerek bu sorunu aştık."
   ]
  },
  {
   "attachments": {},
   "cell_type": "markdown",
   "metadata": {},
   "source": [
    "- Eğer veri bulunamazsa ValueError hatası verir."
   ]
  },
  {
   "cell_type": "code",
   "execution_count": 57,
   "metadata": {},
   "outputs": [
    {
     "ename": "ValueError",
     "evalue": "'Casper' is not in list",
     "output_type": "error",
     "traceback": [
      "\u001b[1;31m---------------------------------------------------------------------------\u001b[0m",
      "\u001b[1;31mValueError\u001b[0m                                Traceback (most recent call last)",
      "Cell \u001b[1;32mIn[57], line 1\u001b[0m\n\u001b[1;32m----> 1\u001b[0m \u001b[39mprint\u001b[39m(\u001b[39m\"\u001b[39m\u001b[39mCasper\u001b[39m\u001b[39m'\u001b[39m\u001b[39min indexi: \u001b[39m\u001b[39m\"\u001b[39m , markalar\u001b[39m.\u001b[39;49mindex(\u001b[39m\"\u001b[39;49m\u001b[39mCasper\u001b[39;49m\u001b[39m\"\u001b[39;49m))\n\u001b[0;32m      2\u001b[0m \u001b[39m#Casper listede olmadığından ValueError hatası aldık!\u001b[39;00m\n",
      "\u001b[1;31mValueError\u001b[0m: 'Casper' is not in list"
     ]
    }
   ],
   "source": [
    "print(\"Casper'in indexi: \" , markalar.index(\"Casper\"))\n",
    "#Casper listede olmadığından ValueError hatası aldık!"
   ]
  },
  {
   "attachments": {},
   "cell_type": "markdown",
   "metadata": {},
   "source": [
    "- Aranan veriyi ilk bulduğunda durur. Diğer verilerde aynı veri varsa getirmez."
   ]
  },
  {
   "cell_type": "code",
   "execution_count": 10,
   "metadata": {},
   "outputs": [
    {
     "name": "stdout",
     "output_type": "stream",
     "text": [
      "['Asus', 'Monster', 'Samsung', 'Asus']\n"
     ]
    }
   ],
   "source": [
    "markalar = list((\"Asus\",\"Monster\",\"Samsung\",\"Asus\"))\n",
    "print(markalar)"
   ]
  },
  {
   "cell_type": "code",
   "execution_count": 11,
   "metadata": {},
   "outputs": [
    {
     "name": "stdout",
     "output_type": "stream",
     "text": [
      "Asus'un indexi: 0\n"
     ]
    }
   ],
   "source": [
    "print(\"Asus'un indexi:\" , markalar.index(\"Asus\")) #Asus 0 ve 3. indexte olmasına rağmen 0.yı bulunca durdu. "
   ]
  },
  {
   "attachments": {},
   "cell_type": "markdown",
   "metadata": {},
   "source": [
    "## pop() metodu\n",
    "- Listede indexe göre silme işlemi yapar.\n",
    "- İndex verilmezse son elemanı siler.\n",
    "- İndex verilirse verilen indexdeki elemanı siler."
   ]
  },
  {
   "cell_type": "code",
   "execution_count": 15,
   "metadata": {},
   "outputs": [],
   "source": [
    "cities = list((\"Ankara\", \"İstanbul\",\"İzmir\",\"İstanbul\"))"
   ]
  },
  {
   "cell_type": "code",
   "execution_count": 16,
   "metadata": {},
   "outputs": [
    {
     "data": {
      "text/plain": [
       "'İstanbul'"
      ]
     },
     "execution_count": 16,
     "metadata": {},
     "output_type": "execute_result"
    }
   ],
   "source": [
    "cities.pop()"
   ]
  },
  {
   "cell_type": "code",
   "execution_count": 17,
   "metadata": {},
   "outputs": [
    {
     "data": {
      "text/plain": [
       "['Ankara', 'İstanbul', 'İzmir']"
      ]
     },
     "execution_count": 17,
     "metadata": {},
     "output_type": "execute_result"
    }
   ],
   "source": [
    "cities"
   ]
  },
  {
   "cell_type": "code",
   "execution_count": 18,
   "metadata": {},
   "outputs": [
    {
     "data": {
      "text/plain": [
       "'Ankara'"
      ]
     },
     "execution_count": 18,
     "metadata": {},
     "output_type": "execute_result"
    }
   ],
   "source": [
    "cities.pop(0) #cities içindeki 0.indexi sil. "
   ]
  },
  {
   "cell_type": "code",
   "execution_count": 73,
   "metadata": {},
   "outputs": [
    {
     "name": "stdout",
     "output_type": "stream",
     "text": [
      "['İstanbul', 'İzmir']\n"
     ]
    }
   ],
   "source": [
    "print(cities)"
   ]
  },
  {
   "attachments": {},
   "cell_type": "markdown",
   "metadata": {},
   "source": [
    "## insert() metodu\n",
    "- Listede indexe göre ekleme işlemi yapar."
   ]
  },
  {
   "cell_type": "code",
   "execution_count": 35,
   "metadata": {},
   "outputs": [
    {
     "data": {
      "text/plain": [
       "['Ankara', 'İstanbul']"
      ]
     },
     "execution_count": 35,
     "metadata": {},
     "output_type": "execute_result"
    }
   ],
   "source": [
    "cities = [\"Ankara\" , \"İstanbul\"]\n",
    "cities"
   ]
  },
  {
   "cell_type": "code",
   "execution_count": 36,
   "metadata": {},
   "outputs": [
    {
     "name": "stdout",
     "output_type": "stream",
     "text": [
      "['Adana', 'Bursa', 'Tekirdağ', 'Ankara', 'İstanbul']\n"
     ]
    }
   ],
   "source": [
    "cities.insert(0, \"Adana\")\n",
    "cities.insert(1,\"Bursa\")\n",
    "cities.insert(2, \"Tekirdağ\")\n",
    "print(cities)"
   ]
  },
  {
   "attachments": {},
   "cell_type": "markdown",
   "metadata": {},
   "source": [
    "## reverse() metodu\n",
    "- Listeyi terse çevirmeyi sağlar."
   ]
  },
  {
   "cell_type": "code",
   "execution_count": 33,
   "metadata": {},
   "outputs": [],
   "source": [
    "cities.reverse()\n"
   ]
  },
  {
   "cell_type": "code",
   "execution_count": 86,
   "metadata": {},
   "outputs": [
    {
     "name": "stdout",
     "output_type": "stream",
     "text": [
      "['İstanbul', 'Ankara', 'Tekirdağ', 'Bursa', 'Adana']\n"
     ]
    }
   ],
   "source": [
    "print(cities)"
   ]
  },
  {
   "attachments": {},
   "cell_type": "markdown",
   "metadata": {},
   "source": [
    "## sort() metodu\n",
    "- Listeyi sıralamayı sağlar.\n"
   ]
  },
  {
   "cell_type": "code",
   "execution_count": 27,
   "metadata": {},
   "outputs": [],
   "source": [
    "alfabe = [\"A\" , \"C\" , \"B\" , \"D\"]"
   ]
  },
  {
   "cell_type": "code",
   "execution_count": 29,
   "metadata": {},
   "outputs": [
    {
     "name": "stdout",
     "output_type": "stream",
     "text": [
      "['A', 'B', 'C', 'D']\n"
     ]
    }
   ],
   "source": [
    "alfabe.sort()\n",
    "print(alfabe) #Alfabetik olarak sıraladı."
   ]
  },
  {
   "cell_type": "code",
   "execution_count": 15,
   "metadata": {},
   "outputs": [
    {
     "name": "stdout",
     "output_type": "stream",
     "text": [
      "[1, 12, 42, 99]\n"
     ]
    }
   ],
   "source": [
    "L = [42, 99, 1, 12] \n",
    "L.sort()\n",
    "print(L) #numaratik olarak sıraladı."
   ]
  },
  {
   "attachments": {},
   "cell_type": "markdown",
   "metadata": {},
   "source": [
    "- Tersini TRUE olarak ayarlayarak listeyi ters sırada da sıralayabilirsiniz."
   ]
  },
  {
   "cell_type": "code",
   "execution_count": 5,
   "metadata": {},
   "outputs": [
    {
     "name": "stdout",
     "output_type": "stream",
     "text": [
      "['d', 'c', 'b', 'a']\n"
     ]
    }
   ],
   "source": [
    "L = ['a', 'b', 'c', 'd']\n",
    "L.sort(reverse=True)\n",
    "print(L)"
   ]
  },
  {
   "attachments": {},
   "cell_type": "markdown",
   "metadata": {},
   "source": [
    "- Daha karmaşık özel sıralama için key parametresini kullanın. Bir anahtar parametre, karşılaştırma yapmadan önce her bir liste öğesinde yürütülecek bir işlevi belirtir."
   ]
  },
  {
   "cell_type": "code",
   "execution_count": 13,
   "metadata": {},
   "outputs": [
    {
     "name": "stdout",
     "output_type": "stream",
     "text": [
      "['red', 'blue', 'green', 'orange']\n"
     ]
    }
   ],
   "source": [
    "L = ['red', 'green', 'blue', 'orange']\n",
    "L.sort(key=len)\n",
    "print(L)\n",
    "# len(uzunluk) metoduna göre en kısadan en uzuna sıraladı.\n"
   ]
  },
  {
   "attachments": {},
   "cell_type": "markdown",
   "metadata": {},
   "source": [
    "## count() metodu\n",
    "- Girilen değerin listede kaç tane olduğunu verir.\n"
   ]
  },
  {
   "cell_type": "code",
   "execution_count": 9,
   "metadata": {},
   "outputs": [
    {
     "name": "stdout",
     "output_type": "stream",
     "text": [
      "Listedeki Efe Sayısı:  2\n"
     ]
    }
   ],
   "source": [
    "Listem = [\"Efe\" , \"Şevval\" , \"Can\" , \"Efe\"]\n",
    "print(\"Listedeki Efe Sayısı: \" , Listem.count(\"Efe\"))"
   ]
  },
  {
   "attachments": {},
   "cell_type": "markdown",
   "metadata": {},
   "source": [
    "# Liste Toplama\n",
    "- İki listeyi birleştirir.\n"
   ]
  },
  {
   "cell_type": "code",
   "execution_count": 11,
   "metadata": {},
   "outputs": [
    {
     "name": "stdout",
     "output_type": "stream",
     "text": [
      "[1, 2, 3, 4, 6, 7, 8, 9]\n"
     ]
    }
   ],
   "source": [
    "liste1 = [1,2,3,4]\n",
    "liste2 = [6,7,8,9]\n",
    "print(liste1 + liste2)"
   ]
  },
  {
   "cell_type": "code",
   "execution_count": 13,
   "metadata": {},
   "outputs": [
    {
     "name": "stdout",
     "output_type": "stream",
     "text": [
      "[1, 2, 3, 4, 6, 7, 8, 9]\n"
     ]
    }
   ],
   "source": [
    "liste3 = liste1 + liste2\n",
    "print(liste3)"
   ]
  },
  {
   "cell_type": "code",
   "execution_count": 15,
   "metadata": {},
   "outputs": [
    {
     "data": {
      "text/plain": [
       "[1, 2, 3, 4, 6, 7, 8, 9, 1, 2, 3, 4, 6, 7, 8, 9, 1, 2, 3, 4, 6, 7, 8, 9]"
      ]
     },
     "execution_count": 15,
     "metadata": {},
     "output_type": "execute_result"
    }
   ],
   "source": [
    "liste3 * 3 #3 defa yazdırdık. "
   ]
  },
  {
   "cell_type": "code",
   "execution_count": 16,
   "metadata": {},
   "outputs": [
    {
     "name": "stdout",
     "output_type": "stream",
     "text": [
      "[1, 2, 3, 4, 5, 'Berkcan', 9.2]\n"
     ]
    }
   ],
   "source": [
    "karisikListe = [1,2,3,4,5,\"Berkcan\",9.2]\n",
    "print(karisikListe)"
   ]
  },
  {
   "cell_type": "code",
   "execution_count": 17,
   "metadata": {},
   "outputs": [
    {
     "name": "stdout",
     "output_type": "stream",
     "text": [
      "1\n",
      "<class 'int'>\n"
     ]
    }
   ],
   "source": [
    "sonucum = karisikListe[0] # Listemin 0. indexini yazdır ve type'ını söyle.\n",
    "print(sonucum)\n",
    "print(type(sonucum))"
   ]
  },
  {
   "cell_type": "code",
   "execution_count": 19,
   "metadata": {},
   "outputs": [
    {
     "name": "stdout",
     "output_type": "stream",
     "text": [
      "1\n",
      "5\n",
      "berkcan\n",
      "4\n",
      "[6, 'z']\n",
      "6\n",
      "z\n"
     ]
    }
   ],
   "source": [
    "karisikListe2 = [1,5,\"berkcan\",4,[6,\"z\"]] #Liste içinde liste.iç içe liste\n",
    "print(karisikListe2[0]) #0. index\n",
    "print(karisikListe2[1]) #1. index\n",
    "print(karisikListe2[2]) #2. index\n",
    "print(karisikListe2[3]) #3. index\n",
    "print(karisikListe2[4]) #4. index\n",
    "print(karisikListe2[4][0]) # 4.indexin 0.indexi\n",
    "print(karisikListe2[4][1])# 4.indexin 1.indexi"
   ]
  },
  {
   "cell_type": "code",
   "execution_count": 19,
   "metadata": {},
   "outputs": [
    {
     "name": "stdout",
     "output_type": "stream",
     "text": [
      "[[1, 2, 3, ['a', 'b'], 50], 40, 20, ['z', 5.5], [3, ['a']]]\n"
     ]
    }
   ],
   "source": [
    "karisikListe = [[1,2,3,[\"a\",\"b\"],50],40,20,[\"z\",5.5],[3,[\"a\"]]]\n",
    "print(karisikListe)"
   ]
  },
  {
   "cell_type": "code",
   "execution_count": 20,
   "metadata": {},
   "outputs": [
    {
     "data": {
      "text/plain": [
       "5"
      ]
     },
     "execution_count": 20,
     "metadata": {},
     "output_type": "execute_result"
    }
   ],
   "source": [
    "len(karisikListe)"
   ]
  },
  {
   "cell_type": "code",
   "execution_count": 23,
   "metadata": {},
   "outputs": [
    {
     "name": "stdout",
     "output_type": "stream",
     "text": [
      "[1, 2, 3, ['a', 'b'], 50]\n",
      "b\n",
      "[20, ['z', 5.5], [3, ['a']]]\n"
     ]
    }
   ],
   "source": [
    "print(karisikListe[0])\n",
    "print(karisikListe[0][3][1])\n",
    "print(karisikListe[2:]) #2.index dahil olmak üzere ondan sonrkileri yazdır. "
   ]
  },
  {
   "cell_type": "code",
   "execution_count": 28,
   "metadata": {},
   "outputs": [
    {
     "name": "stdout",
     "output_type": "stream",
     "text": [
      "[4, 5, 6, 7, 8, 9]\n",
      "4\n"
     ]
    }
   ],
   "source": [
    "denemelistesi = [0,1,2,3,4,5,6,7,8,9]\n",
    "print(denemelistesi[4:])\n",
    "print(denemelistesi[4])"
   ]
  },
  {
   "attachments": {},
   "cell_type": "markdown",
   "metadata": {},
   "source": [
    "# TUPLE(DEMET)"
   ]
  },
  {
   "attachments": {},
   "cell_type": "markdown",
   "metadata": {},
   "source": [
    "- Tuple listelere benzerdir.\n",
    "- Tuple ile liste arasındaki en önemli fark tuple elemanlarının değiştirilemez, liste elemanlarınının değiştirilebilir olmasıdır.\n",
    "- Performanslı bir data sağlar.\n",
    "- () içerisinde tanımlanabilir.\n",
    "- İç içe tuple oluşturulabilir.\n",
    "- Liste içerisinde tuple, tuple içersinide liste tanımlamak mümkündür.\n",
    "- Bir kere tanımlandıktan sonra değiştirilemezler yalnızca okunurlar.\n",
    "- Tek elemansa tuple olduğunu belirtmek için bir virgül koyulmalıdır."
   ]
  },
  {
   "cell_type": "code",
   "execution_count": 50,
   "metadata": {},
   "outputs": [
    {
     "name": "stdout",
     "output_type": "stream",
     "text": [
      "(2, 4, 6, 'Ankara', (2, 3, 4), [])\n",
      "[2, 4, 6, 'Ankara', (2, 3, 4), ()]\n"
     ]
    }
   ],
   "source": [
    "tupleListe = (2, 4,6,\"Ankara\",(2,3,4),[])\n",
    "liste= [2,4,6,\"Ankara\",(2,3,4),()]\n",
    "print(tupleListe)\n",
    "print(liste)"
   ]
  },
  {
   "cell_type": "code",
   "execution_count": 56,
   "metadata": {},
   "outputs": [
    {
     "name": "stdout",
     "output_type": "stream",
     "text": [
      "[2, 4, 6, 'Ankara', (2, 3, 4), (), 'Efe', 'Efe', 'Efe', 'Efe', 'Efe', 'Efe']\n"
     ]
    }
   ],
   "source": [
    "liste.append(\"Efe\")\n",
    "print(liste)\n"
   ]
  },
  {
   "cell_type": "code",
   "execution_count": 57,
   "metadata": {},
   "outputs": [
    {
     "ename": "AttributeError",
     "evalue": "'tuple' object has no attribute 'append'",
     "output_type": "error",
     "traceback": [
      "\u001b[1;31m---------------------------------------------------------------------------\u001b[0m",
      "\u001b[1;31mAttributeError\u001b[0m                            Traceback (most recent call last)",
      "Cell \u001b[1;32mIn[57], line 1\u001b[0m\n\u001b[1;32m----> 1\u001b[0m tupleListe\u001b[39m.\u001b[39;49mappend(\u001b[39m\"\u001b[39m\u001b[39mEfe\u001b[39m\u001b[39m\"\u001b[39m) \u001b[39m#Listelere append gibi fonk. yapılırken tuplelara yapılamaz çünkü tuplelar değiştirilemez yalnızca okunabilir.\u001b[39;00m\n\u001b[0;32m      2\u001b[0m \u001b[39mprint\u001b[39m(tupleListe)\n",
      "\u001b[1;31mAttributeError\u001b[0m: 'tuple' object has no attribute 'append'"
     ]
    }
   ],
   "source": [
    "tupleListe.append(\"Efe\") #Listelere append gibi fonk. yapılırken tuplelara yapılamaz çünkü tuplelar değiştirilemez yalnızca okunabilir.\n",
    "print(tupleListe)"
   ]
  },
  {
   "cell_type": "code",
   "execution_count": 2,
   "metadata": {},
   "outputs": [
    {
     "name": "stdout",
     "output_type": "stream",
     "text": [
      "<class 'tuple'>\n",
      "<class 'list'>\n"
     ]
    }
   ],
   "source": [
    "print(type(tupleListe))\n",
    "print(type(liste))"
   ]
  },
  {
   "cell_type": "code",
   "execution_count": 3,
   "metadata": {},
   "outputs": [
    {
     "name": "stdout",
     "output_type": "stream",
     "text": [
      "6\n",
      "6\n"
     ]
    }
   ],
   "source": [
    "print(len(tupleListe))\n",
    "print(len(liste))"
   ]
  },
  {
   "cell_type": "code",
   "execution_count": 8,
   "metadata": {},
   "outputs": [
    {
     "name": "stdout",
     "output_type": "stream",
     "text": [
      "(2, 3, 4)\n",
      "(2, 3, 4)\n"
     ]
    }
   ],
   "source": [
    "print(liste[-2])\n",
    "print(tupleListe[-2])"
   ]
  },
  {
   "cell_type": "code",
   "execution_count": 6,
   "metadata": {},
   "outputs": [
    {
     "name": "stdout",
     "output_type": "stream",
     "text": [
      "[6, 4, 6, 'Ankara', (2, 3, 4), ()]\n"
     ]
    }
   ],
   "source": [
    "liste[0] = 6\n",
    "print(liste) #LİSTELERE SONRADAN ELEMAN EKLENİR.\n"
   ]
  },
  {
   "cell_type": "code",
   "execution_count": 7,
   "metadata": {},
   "outputs": [
    {
     "ename": "TypeError",
     "evalue": "'tuple' object does not support item assignment",
     "output_type": "error",
     "traceback": [
      "\u001b[1;31m---------------------------------------------------------------------------\u001b[0m",
      "\u001b[1;31mTypeError\u001b[0m                                 Traceback (most recent call last)",
      "Cell \u001b[1;32mIn[7], line 1\u001b[0m\n\u001b[1;32m----> 1\u001b[0m tupleListe[\u001b[39m0\u001b[39;49m] \u001b[39m=\u001b[39m \u001b[39m5\u001b[39m\n\u001b[0;32m      2\u001b[0m \u001b[39mprint\u001b[39m(tupleListe) \u001b[39m#TUPLELARA SONRADAN ELEMAN EKLENMEZ. \u001b[39;00m\n",
      "\u001b[1;31mTypeError\u001b[0m: 'tuple' object does not support item assignment"
     ]
    }
   ],
   "source": [
    "tupleListe[0] = 5\n",
    "print(tupleListe) #TUPLELARA SONRADAN ELEMAN EKLENMEZ. "
   ]
  },
  {
   "cell_type": "code",
   "execution_count": 13,
   "metadata": {},
   "outputs": [
    {
     "ename": "TypeError",
     "evalue": "'tuple' object does not support item assignment",
     "output_type": "error",
     "traceback": [
      "\u001b[1;31m---------------------------------------------------------------------------\u001b[0m",
      "\u001b[1;31mTypeError\u001b[0m                                 Traceback (most recent call last)",
      "Cell \u001b[1;32mIn[13], line 2\u001b[0m\n\u001b[0;32m      1\u001b[0m Liste \u001b[39m=\u001b[39m (\u001b[39m2\u001b[39m,\u001b[39m4\u001b[39m,\u001b[39m6\u001b[39m,\u001b[39m\"\u001b[39m\u001b[39mAnkara\u001b[39m\u001b[39m\"\u001b[39m,(\u001b[39m2\u001b[39m,\u001b[39m3\u001b[39m,\u001b[39m4\u001b[39m),[])\n\u001b[1;32m----> 2\u001b[0m Liste[\u001b[39m0\u001b[39;49m] \u001b[39m=\u001b[39m \u001b[39m7\u001b[39m   \u001b[39m#TUPLELARA SONRADAN ELEMAN EKLENMEZ. \u001b[39;00m\n",
      "\u001b[1;31mTypeError\u001b[0m: 'tuple' object does not support item assignment"
     ]
    }
   ],
   "source": [
    "Liste = (2,4,6,\"Ankara\",(2,3,4),[])\n",
    "Liste[0] = 7   #TUPLELARA SONRADAN ELEMAN EKLENMEZ. "
   ]
  },
  {
   "cell_type": "code",
   "execution_count": 22,
   "metadata": {},
   "outputs": [
    {
     "name": "stdout",
     "output_type": "stream",
     "text": [
      "[4]\n",
      "(4,)\n"
     ]
    }
   ],
   "source": [
    "tupleListe = (2,4,6,\"Ankara\",(2,3,4),[])\n",
    "liste= [2,4,6,\"Ankara\",(2,3,4),()]\n",
    "print(liste[1:2]) #LİSTENİN 1. ELEMANINDAN 2.ELEMANINA KADAR YAZDIR.(2 dahil değil!)(range fonksiyonu ile aynı mantık)\n",
    "print(tupleListe[1:2]) #TUPLELİSTENİN 1.ELEMANINDAN 2. ELEMANINA KADAR YAZDIR. (2 dahil değil!)(range fonksiyonu ile aynı mantık)\n"
   ]
  },
  {
   "cell_type": "code",
   "execution_count": 27,
   "metadata": {},
   "outputs": [
    {
     "name": "stdout",
     "output_type": "stream",
     "text": [
      "4\n",
      "4\n",
      "6\n",
      "6\n"
     ]
    }
   ],
   "source": [
    "print(liste[1])\n",
    "print(tupleListe[1])\n",
    "print(liste[2])\n",
    "print(tupleListe[2])"
   ]
  },
  {
   "attachments": {},
   "cell_type": "markdown",
   "metadata": {},
   "source": [
    "# SET (KÜMELER)"
   ]
  },
  {
   "attachments": {},
   "cell_type": "markdown",
   "metadata": {},
   "source": [
    "- Listelere benzer.\n",
    "- En önemli özelliği indexsiz ve sırasız elemanlardan oluşmasıdır.\n",
    "- Veri tekrarı söz konusu değildir. Tüm elemanlar eşsizdir.\n",
    "- {} içerisinde tanımlanır.\n",
    "- Çok hızlı bir veri tipidir."
   ]
  },
  {
   "cell_type": "code",
   "execution_count": 29,
   "metadata": {},
   "outputs": [
    {
     "name": "stdout",
     "output_type": "stream",
     "text": [
      "{'Engin', 'Salih', 'Derin', 'Berkcan'}\n",
      "<class 'set'>\n"
     ]
    }
   ],
   "source": [
    "students = {\"Engin\",\"Derin\",\"Salih\",\"Berkcan\",\"Berkcan\"}\n",
    "print(students)\n",
    "print(type(students))  "
   ]
  },
  {
   "cell_type": "code",
   "execution_count": 38,
   "metadata": {},
   "outputs": [
    {
     "data": {
      "text/plain": [
       "{'Ahmet', 'Berkcan'}"
      ]
     },
     "execution_count": 38,
     "metadata": {},
     "output_type": "execute_result"
    }
   ],
   "source": [
    "deneme = {\"Ahmet\" , \"Berkcan\" , \"Berkcan\"}\n",
    "deneme"
   ]
  },
  {
   "attachments": {},
   "cell_type": "markdown",
   "metadata": {},
   "source": [
    "- İki kez \"Berkcan\" yazmadı çünkü Set'te veri tekrarı olmaz."
   ]
  },
  {
   "cell_type": "code",
   "execution_count": 36,
   "metadata": {},
   "outputs": [
    {
     "name": "stdout",
     "output_type": "stream",
     "text": [
      "['Efe', 'Ahmet', 'Efe']\n",
      "('Efe', 'Ahmet', 'Efe')\n",
      "{'Ahmet', 'Efe'}\n"
     ]
    }
   ],
   "source": [
    "liste = [\"Efe\" , \"Ahmet\" , \"Efe\"]\n",
    "tupleListe = (\"Efe\" , \"Ahmet\" , \"Efe\")\n",
    "setListe = {\"Efe\" , \"Ahmet\" , \"Efe\"}\n",
    "print(liste)\n",
    "print(tupleListe)\n",
    "print(setListe)"
   ]
  },
  {
   "cell_type": "code",
   "execution_count": 40,
   "metadata": {},
   "outputs": [
    {
     "ename": "TypeError",
     "evalue": "'set' object is not subscriptable",
     "output_type": "error",
     "traceback": [
      "\u001b[1;31m---------------------------------------------------------------------------\u001b[0m",
      "\u001b[1;31mTypeError\u001b[0m                                 Traceback (most recent call last)",
      "Cell \u001b[1;32mIn[40], line 1\u001b[0m\n\u001b[1;32m----> 1\u001b[0m \u001b[39mprint\u001b[39m[students[\u001b[39m0\u001b[39;49m]] \u001b[39m# Setler indexlenemez\u001b[39;00m\n",
      "\u001b[1;31mTypeError\u001b[0m: 'set' object is not subscriptable"
     ]
    }
   ],
   "source": [
    "print[students[0]] # Setler indexlenemez"
   ]
  },
  {
   "cell_type": "code",
   "execution_count": 42,
   "metadata": {},
   "outputs": [
    {
     "name": "stdout",
     "output_type": "stream",
     "text": [
      "Engin\n",
      "Salih\n",
      "Derin\n",
      "Berkcan\n"
     ]
    }
   ],
   "source": [
    "for student in students: #For döngüsü ile kullanılabilirler.\n",
    "    print(student)"
   ]
  },
  {
   "cell_type": "code",
   "execution_count": 44,
   "metadata": {},
   "outputs": [
    {
     "name": "stdout",
     "output_type": "stream",
     "text": [
      "Engin Salih Derin Berkcan "
     ]
    }
   ],
   "source": [
    "for student in students:\n",
    "    print(student, end=\" \")"
   ]
  },
  {
   "cell_type": "code",
   "execution_count": 46,
   "metadata": {},
   "outputs": [
    {
     "name": "stdout",
     "output_type": "stream",
     "text": [
      "True\n"
     ]
    }
   ],
   "source": [
    "print(\"Berkcan\" in students) #stuednts'ın içinde Berkcan var mı?"
   ]
  },
  {
   "cell_type": "code",
   "execution_count": 47,
   "metadata": {},
   "outputs": [
    {
     "data": {
      "text/plain": [
       "False"
      ]
     },
     "execution_count": 47,
     "metadata": {},
     "output_type": "execute_result"
    }
   ],
   "source": [
    "\"Efe\" in students"
   ]
  },
  {
   "attachments": {},
   "cell_type": "markdown",
   "metadata": {},
   "source": [
    "# SET METODLARI"
   ]
  },
  {
   "attachments": {},
   "cell_type": "markdown",
   "metadata": {},
   "source": [
    "-  add() : Sete  tek eleman ekler. +\n",
    "-  remove() : Setten seçilen eleman siler. +\n",
    "-  clear() : Setin içerisinden eleman siler. +\n",
    "-  pop() : Setin sol baştan son elemanını siler. +\n",
    "-  update() : Sete çoklu eleman ekler. +\n",
    "-  union() : İki seti birleştirir.Birleşim  alır.Ortak elemanları tek bir alana toplar. +\n",
    "-  intersection() : İki setin kesişimini alır. +\n",
    "-  difference() : İki setin farkını alır. +\n"
   ]
  },
  {
   "cell_type": "code",
   "execution_count": 26,
   "metadata": {},
   "outputs": [],
   "source": [
    "ogrenciler = {\"Ahmet\" , \"Berkcan\"}"
   ]
  },
  {
   "cell_type": "code",
   "execution_count": 27,
   "metadata": {},
   "outputs": [
    {
     "data": {
      "text/plain": [
       "{'Ahmet', 'Berkcan', 'Enes'}"
      ]
     },
     "execution_count": 27,
     "metadata": {},
     "output_type": "execute_result"
    }
   ],
   "source": [
    "ogrenciler.add(\"Enes\") #add ile sete tek eleman eklenir çoklu eleman eklenemez onun için update kullanılır.\n",
    "ogrenciler"
   ]
  },
  {
   "cell_type": "code",
   "execution_count": 28,
   "metadata": {},
   "outputs": [
    {
     "data": {
      "text/plain": [
       "{'Ahmet', 'Berkcan', 'E', 'Enes', 'a', 'h', 'i', 'm', 'n', 'r'}"
      ]
     },
     "execution_count": 28,
     "metadata": {},
     "output_type": "execute_result"
    }
   ],
   "source": [
    "ogrenciler.update(\"Emirhan\") # update ile Böyle yazarsan OLMAZ!!\n",
    "ogrenciler"
   ]
  },
  {
   "cell_type": "code",
   "execution_count": 31,
   "metadata": {},
   "outputs": [
    {
     "data": {
      "text/plain": [
       "{'Ahmet', 'Berkcan', 'Enes'}"
      ]
     },
     "execution_count": 31,
     "metadata": {},
     "output_type": "execute_result"
    }
   ],
   "source": [
    "ogrenciler = {\"Ahmet\" , \"Berkcan\" , \"Enes\"}\n",
    "ogrenciler"
   ]
  },
  {
   "cell_type": "code",
   "execution_count": 30,
   "metadata": {},
   "outputs": [
    {
     "name": "stdout",
     "output_type": "stream",
     "text": [
      "{'Berkcan', 'Eslem', 'Enes', 'Emirhan', 'Ahmet', 'Çağla'}\n"
     ]
    }
   ],
   "source": [
    "ogrenciler.update([\"Emirhan\" , \"Eslem\" , \"Çağla\"]) #update ile böyle çoklu şekilde yazmak gerekir.\n",
    "print(ogrenciler)"
   ]
  },
  {
   "cell_type": "code",
   "execution_count": 25,
   "metadata": {},
   "outputs": [
    {
     "data": {
      "text/plain": [
       "{'Ahmet', 'Enes'}"
      ]
     },
     "execution_count": 25,
     "metadata": {},
     "output_type": "execute_result"
    }
   ],
   "source": [
    "ogrenciler.remove(\"Berkcan\")\n",
    "ogrenciler"
   ]
  },
  {
   "cell_type": "code",
   "execution_count": 11,
   "metadata": {},
   "outputs": [
    {
     "data": {
      "text/plain": [
       "{'Ahmet', 'Emirhan', 'Enes', 'Çağla'}"
      ]
     },
     "execution_count": 11,
     "metadata": {},
     "output_type": "execute_result"
    }
   ],
   "source": [
    "ogrenciler.pop() #BURAYA BAK .BÖLÜM 6.25\n",
    "ogrenciler"
   ]
  },
  {
   "cell_type": "code",
   "execution_count": 33,
   "metadata": {},
   "outputs": [
    {
     "data": {
      "text/plain": [
       "{1, 2, 3, 4}"
      ]
     },
     "execution_count": 33,
     "metadata": {},
     "output_type": "execute_result"
    }
   ],
   "source": [
    "set1 = {1,2,3}\n",
    "set2 = {2,3,4}\n",
    "set1.union(set2)"
   ]
  },
  {
   "cell_type": "code",
   "execution_count": 34,
   "metadata": {},
   "outputs": [
    {
     "data": {
      "text/plain": [
       "{2, 3}"
      ]
     },
     "execution_count": 34,
     "metadata": {},
     "output_type": "execute_result"
    }
   ],
   "source": [
    "set1.intersection(set2)"
   ]
  },
  {
   "cell_type": "code",
   "execution_count": 35,
   "metadata": {},
   "outputs": [
    {
     "data": {
      "text/plain": [
       "{1}"
      ]
     },
     "execution_count": 35,
     "metadata": {},
     "output_type": "execute_result"
    }
   ],
   "source": [
    "set1.difference(set2)"
   ]
  },
  {
   "cell_type": "code",
   "execution_count": 36,
   "metadata": {},
   "outputs": [
    {
     "data": {
      "text/plain": [
       "{4}"
      ]
     },
     "execution_count": 36,
     "metadata": {},
     "output_type": "execute_result"
    }
   ],
   "source": [
    "set2.difference(set1)"
   ]
  },
  {
   "cell_type": "code",
   "execution_count": 37,
   "metadata": {},
   "outputs": [
    {
     "data": {
      "text/plain": [
       "set()"
      ]
     },
     "execution_count": 37,
     "metadata": {},
     "output_type": "execute_result"
    }
   ],
   "source": [
    "set1.clear()\n",
    "set1"
   ]
  },
  {
   "attachments": {},
   "cell_type": "markdown",
   "metadata": {},
   "source": [
    "# Dictionary(Sözlük)"
   ]
  },
  {
   "attachments": {},
   "cell_type": "markdown",
   "metadata": {},
   "source": [
    "- Sırasız veri tutar.\n",
    "- Günlük hayatta olan sözlükler gibi düşünebiliriz.\n",
    "- { } arasında tanımlanır.\n",
    "- key: anahtar - bir bilgiye ulaşmak için kullanılır.\n",
    "- value: değer \n",
    "- key- value için örnek verecek olursak:\n",
    "   {\"06\" : \"Ankara\"} 06 keydir Ankara valuedir.\n",
    "- book keyken kitap valuedir.(value = keye karşılık gelen değer.)\n",
    "- dict(\"\") şeklinde de sözlük tanımlayabiliriz."
   ]
  },
  {
   "attachments": {},
   "cell_type": "markdown",
   "metadata": {},
   "source": [
    "# key- value pairing (anahtar kelime - değer eşleşmesi yapısı:"
   ]
  },
  {
   "attachments": {},
   "cell_type": "markdown",
   "metadata": {},
   "source": [
    "{\"anahtar kelime\" : \"deger\"}\n",
    "\n",
    "{\"key\" : \"value\"}"
   ]
  },
  {
   "cell_type": "code",
   "execution_count": 45,
   "metadata": {},
   "outputs": [
    {
     "name": "stdout",
     "output_type": "stream",
     "text": [
      "{'06': 'Ankara'}\n"
     ]
    }
   ],
   "source": [
    "sozlukk = {\"06\":\"Ankara\"}\n",
    "print(sozlukk)"
   ]
  },
  {
   "cell_type": "code",
   "execution_count": 40,
   "metadata": {},
   "outputs": [
    {
     "name": "stdout",
     "output_type": "stream",
     "text": [
      "{'Elma': 100, 'Karpuz': 200, 'Muz': 300}\n",
      "<class 'dict'>\n"
     ]
    }
   ],
   "source": [
    "yemekKaloriSozlugu = {\"Elma\":100 , \"Karpuz\":200,\"Muz\":300}\n",
    "print(yemekKaloriSozlugu)\n",
    "print(type(yemekKaloriSozlugu))"
   ]
  },
  {
   "cell_type": "code",
   "execution_count": 46,
   "metadata": {},
   "outputs": [
    {
     "name": "stdout",
     "output_type": "stream",
     "text": [
      "100\n"
     ]
    }
   ],
   "source": [
    "print(yemekKaloriSozlugu[\"Elma\"]) # key değeri yazılarak value değerine ulaşırız."
   ]
  },
  {
   "attachments": {},
   "cell_type": "markdown",
   "metadata": {},
   "source": [
    "### Sözlüklere integer, float, string ya da tuple veri tipleri kullanılırken listeler ve sözlükler kullanılmaz."
   ]
  },
  {
   "cell_type": "code",
   "execution_count": 47,
   "metadata": {},
   "outputs": [
    {
     "name": "stdout",
     "output_type": "stream",
     "text": [
      "{'book': 'kitap', 'table': 'masa'}\n"
     ]
    }
   ],
   "source": [
    "sozluk = {\"book\" : \"kitap\",\"table\" : \"masa\"}\n",
    "print(sozluk)"
   ]
  },
  {
   "cell_type": "code",
   "execution_count": 53,
   "metadata": {},
   "outputs": [
    {
     "name": "stdout",
     "output_type": "stream",
     "text": [
      "masa\n"
     ]
    }
   ],
   "source": [
    "sozluk[\"table\"]\n",
    "print(sozluk[\"table\"])"
   ]
  },
  {
   "attachments": {},
   "cell_type": "markdown",
   "metadata": {},
   "source": [
    "# Veri Ekleme"
   ]
  },
  {
   "cell_type": "code",
   "execution_count": 55,
   "metadata": {},
   "outputs": [
    {
     "name": "stdout",
     "output_type": "stream",
     "text": [
      "{'book': 'kitap', 'table': 'masa', 'pencil': 'kalem'}\n"
     ]
    }
   ],
   "source": [
    "sozluk[\"pencil\"] = \"kalem\" #pencil key, kalem ise value'dir.\n",
    "print(sozluk)"
   ]
  },
  {
   "attachments": {},
   "cell_type": "markdown",
   "metadata": {},
   "source": [
    "# Veri Güncelleme"
   ]
  },
  {
   "cell_type": "code",
   "execution_count": 56,
   "metadata": {},
   "outputs": [
    {
     "name": "stdout",
     "output_type": "stream",
     "text": [
      "{'book': 'kitaplar', 'table': 'masa', 'pencil': 'kalem'}\n"
     ]
    }
   ],
   "source": [
    "sozluk[\"book\"]  = \"kitaplar\"\n",
    "print(sozluk)"
   ]
  },
  {
   "attachments": {},
   "cell_type": "markdown",
   "metadata": {},
   "source": [
    "# Veri Silme = del komutu kullanılır."
   ]
  },
  {
   "cell_type": "code",
   "execution_count": 57,
   "metadata": {},
   "outputs": [
    {
     "name": "stdout",
     "output_type": "stream",
     "text": [
      "{'table': 'masa', 'pencil': 'kalem'}\n"
     ]
    }
   ],
   "source": [
    "del(sozluk[\"book\"])\n",
    "print(sozluk)"
   ]
  },
  {
   "cell_type": "code",
   "execution_count": 58,
   "metadata": {},
   "outputs": [
    {
     "name": "stdout",
     "output_type": "stream",
     "text": [
      "2\n"
     ]
    }
   ],
   "source": [
    "print(len(sozluk))"
   ]
  },
  {
   "attachments": {},
   "cell_type": "markdown",
   "metadata": {},
   "source": [
    "# Value'nun Sözlük Olması"
   ]
  },
  {
   "cell_type": "code",
   "execution_count": 63,
   "metadata": {},
   "outputs": [
    {
     "name": "stdout",
     "output_type": "stream",
     "text": [
      "{1: {'TL': 'Türkiye'}}\n"
     ]
    }
   ],
   "source": [
    "sozlukValue = {1:{\"TL\": \"Türkiye\"}}\n",
    "print(sozlukValue)"
   ]
  },
  {
   "cell_type": "code",
   "execution_count": 64,
   "metadata": {},
   "outputs": [
    {
     "data": {
      "text/plain": [
       "{'TL': 'Türkiye'}"
      ]
     },
     "execution_count": 64,
     "metadata": {},
     "output_type": "execute_result"
    }
   ],
   "source": [
    "sozlukValue[1]"
   ]
  },
  {
   "attachments": {},
   "cell_type": "markdown",
   "metadata": {},
   "source": [
    "# Sözlüklerde Metotlar"
   ]
  },
  {
   "attachments": {},
   "cell_type": "markdown",
   "metadata": {},
   "source": [
    "# .keys() Metodu\n",
    "- Sözlüğümüzde bulunan bütün key değerlerini verir"
   ]
  },
  {
   "cell_type": "code",
   "execution_count": 65,
   "metadata": {},
   "outputs": [
    {
     "name": "stdout",
     "output_type": "stream",
     "text": [
      "dict_keys(['table', 'pencil'])\n"
     ]
    }
   ],
   "source": [
    "print(sozluk.keys())"
   ]
  },
  {
   "attachments": {},
   "cell_type": "markdown",
   "metadata": {},
   "source": [
    "# .values() Metodu\n",
    "- Sözlüğümüzde bulunan bütün value değerlerini verir"
   ]
  },
  {
   "cell_type": "code",
   "execution_count": 66,
   "metadata": {},
   "outputs": [
    {
     "name": "stdout",
     "output_type": "stream",
     "text": [
      "dict_values(['masa', 'kalem'])\n"
     ]
    }
   ],
   "source": [
    "print(sozluk.values())"
   ]
  },
  {
   "attachments": {},
   "cell_type": "markdown",
   "metadata": {},
   "source": [
    "\n",
    "# .items() Metodu\n",
    "- Sözlüğümüzde bulunan bütün key value değerlerini tuple halinde verir."
   ]
  },
  {
   "cell_type": "code",
   "execution_count": 67,
   "metadata": {},
   "outputs": [
    {
     "name": "stdout",
     "output_type": "stream",
     "text": [
      "dict_items([('table', 'masa'), ('pencil', 'kalem')])\n"
     ]
    }
   ],
   "source": [
    "print(sozluk.items())"
   ]
  },
  {
   "attachments": {},
   "cell_type": "markdown",
   "metadata": {},
   "source": [
    "# String Parçalama\n"
   ]
  },
  {
   "cell_type": "code",
   "execution_count": 68,
   "metadata": {},
   "outputs": [],
   "source": [
    "x = \"YetGen\""
   ]
  },
  {
   "cell_type": "code",
   "execution_count": 69,
   "metadata": {},
   "outputs": [
    {
     "name": "stdout",
     "output_type": "stream",
     "text": [
      "tGe\n"
     ]
    }
   ],
   "source": [
    "print(x[2:5])"
   ]
  },
  {
   "cell_type": "code",
   "execution_count": 70,
   "metadata": {},
   "outputs": [
    {
     "name": "stdout",
     "output_type": "stream",
     "text": [
      "tGen\n"
     ]
    }
   ],
   "source": [
    "print(x[2:])"
   ]
  },
  {
   "cell_type": "code",
   "execution_count": 74,
   "metadata": {},
   "outputs": [
    {
     "name": "stdout",
     "output_type": "stream",
     "text": [
      "Ye\n"
     ]
    }
   ],
   "source": [
    "print(x[:2]) #[0:2] aynı şey"
   ]
  },
  {
   "cell_type": "code",
   "execution_count": 82,
   "metadata": {},
   "outputs": [
    {
     "name": "stdout",
     "output_type": "stream",
     "text": [
      "neGteY\n"
     ]
    }
   ],
   "source": [
    "print(x[::-1]) #Tersten yazdırır. "
   ]
  },
  {
   "attachments": {},
   "cell_type": "markdown",
   "metadata": {},
   "source": [
    "# String Metodları"
   ]
  },
  {
   "attachments": {},
   "cell_type": "markdown",
   "metadata": {},
   "source": [
    "- len() : Stringın uzunluğunu verir."
   ]
  },
  {
   "cell_type": "code",
   "execution_count": 83,
   "metadata": {},
   "outputs": [
    {
     "name": "stdout",
     "output_type": "stream",
     "text": [
      "6\n"
     ]
    }
   ],
   "source": [
    "print(len(x))"
   ]
  },
  {
   "attachments": {},
   "cell_type": "markdown",
   "metadata": {},
   "source": [
    "- upper() stringin tüm harflerini büyük harfe çevirir."
   ]
  },
  {
   "cell_type": "code",
   "execution_count": 85,
   "metadata": {},
   "outputs": [
    {
     "data": {
      "text/plain": [
       "'YETGEN'"
      ]
     },
     "execution_count": 85,
     "metadata": {},
     "output_type": "execute_result"
    }
   ],
   "source": [
    "x.upper()"
   ]
  },
  {
   "attachments": {},
   "cell_type": "markdown",
   "metadata": {},
   "source": [
    "- lower() Stringin tüm harflerini küçük harfe çevirir."
   ]
  },
  {
   "cell_type": "code",
   "execution_count": 86,
   "metadata": {},
   "outputs": [
    {
     "data": {
      "text/plain": [
       "'yetgen'"
      ]
     },
     "execution_count": 86,
     "metadata": {},
     "output_type": "execute_result"
    }
   ],
   "source": [
    "x.lower()"
   ]
  },
  {
   "attachments": {},
   "cell_type": "markdown",
   "metadata": {},
   "source": [
    "- capitalize() Stringin ilk harfini  büyük harfe çevirir."
   ]
  },
  {
   "cell_type": "code",
   "execution_count": 87,
   "metadata": {},
   "outputs": [
    {
     "data": {
      "text/plain": [
       "'Yetgen'"
      ]
     },
     "execution_count": 87,
     "metadata": {},
     "output_type": "execute_result"
    }
   ],
   "source": [
    "x.capitalize()"
   ]
  },
  {
   "attachments": {},
   "cell_type": "markdown",
   "metadata": {},
   "source": [
    "- swapcase() Sitringin tüm büyük harflerini küçük harfe, küçük harflerini de büyük harfe çvirir."
   ]
  },
  {
   "cell_type": "code",
   "execution_count": 89,
   "metadata": {},
   "outputs": [
    {
     "data": {
      "text/plain": [
       "'yETgEN'"
      ]
     },
     "execution_count": 89,
     "metadata": {},
     "output_type": "execute_result"
    }
   ],
   "source": [
    "x.swapcase()"
   ]
  },
  {
   "attachments": {},
   "cell_type": "markdown",
   "metadata": {},
   "source": [
    "- replace() : Stringin içerisindeki veriyi değiştirir."
   ]
  },
  {
   "cell_type": "code",
   "execution_count": 92,
   "metadata": {},
   "outputs": [
    {
     "data": {
      "text/plain": [
       "'YatGan'"
      ]
     },
     "execution_count": 92,
     "metadata": {},
     "output_type": "execute_result"
    }
   ],
   "source": [
    "x.replace(\"e\" , \"a\") # tüm \"e\" leri \"a\" yap."
   ]
  },
  {
   "attachments": {},
   "cell_type": "markdown",
   "metadata": {},
   "source": [
    "- split() : Stringi parçalar."
   ]
  },
  {
   "attachments": {},
   "cell_type": "markdown",
   "metadata": {},
   "source": [
    "replace( : Stringin içerisindeki veriyi deitirir.\n"
   ]
  },
  {
   "cell_type": "code",
   "execution_count": 99,
   "metadata": {},
   "outputs": [
    {
     "data": {
      "text/plain": [
       "False"
      ]
     },
     "execution_count": 99,
     "metadata": {},
     "output_type": "execute_result"
    }
   ],
   "source": [
    "yetgen = \"ACB\"\n",
    "\"cba4\".isalpha()"
   ]
  },
  {
   "cell_type": "code",
   "execution_count": 111,
   "metadata": {},
   "outputs": [
    {
     "name": "stdout",
     "output_type": "stream",
     "text": [
      "[5, 1.2]\n"
     ]
    }
   ],
   "source": [
    "\n",
    "liste = [1.2]\n",
    "liste.insert(0,5)\n",
    "print(liste)"
   ]
  }
 ],
 "metadata": {
  "kernelspec": {
   "display_name": "Python 3",
   "language": "python",
   "name": "python3"
  },
  "language_info": {
   "codemirror_mode": {
    "name": "ipython",
    "version": 3
   },
   "file_extension": ".py",
   "mimetype": "text/x-python",
   "name": "python",
   "nbconvert_exporter": "python",
   "pygments_lexer": "ipython3",
   "version": "3.11.1"
  },
  "orig_nbformat": 4
 },
 "nbformat": 4,
 "nbformat_minor": 2
}
