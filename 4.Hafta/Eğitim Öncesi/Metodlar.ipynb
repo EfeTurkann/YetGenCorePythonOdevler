{
 "cells": [
  {
   "attachments": {},
   "cell_type": "markdown",
   "metadata": {},
   "source": [
    "# LİSTE METODLARI"
   ]
  },
  {
   "attachments": {},
   "cell_type": "markdown",
   "metadata": {},
   "source": [
    "- .append(\"Efe\") : Listenin sonuna yeni eleman eklemeyi sağlar. (1)\n",
    "- insert(4, \"Efe\") :  Listede indexe göre ekleme işlemi yapar.(2)\n",
    "- .remove(\"Efe\") : Listeden seçilen elemanı siler (3)\n",
    "- pop((4)4.index) : Listede indexe göre silme işlemi yapar. İndex verilmezse son elemanı siler.(5)\n",
    "- clear() : Listenin içini tamamen boşaltır.(4)\n",
    "- len() : Dizinin uzunluğunu verir.\n",
    "- index(\"Asus\") : Listedeki elemanın indexini verir.\n",
    "- reverse() : Listeyi terse çevirmeyi sağlar.\n",
    "- sort() : Listeyi sıralamayı sağlar.(Alfabetik veya küçükten büyüğe)\n",
    "- count(\"Efe\") : Girilen değerin listede kaç tane olduğunu verir.\n",
    "\n",
    "\n",
    "\n",
    "\n",
    "\n"
   ]
  },
  {
   "attachments": {},
   "cell_type": "markdown",
   "metadata": {},
   "source": [
    "# SET(KÜME) METODLARI"
   ]
  },
  {
   "attachments": {},
   "cell_type": "markdown",
   "metadata": {},
   "source": [
    "-  add(\"Efe\") : Sete  tek eleman ekler. (1)\n",
    "-  update(\"Efe\" , \"Hasan\") : Sete çoklu eleman ekler.(2) \n",
    "-  remove(\"Efe\") : Setten seçilen eleman siler.(3) \n",
    "-  clear() : Setin içerisindeki tüm elemanları siler.(4) \n",
    "-  pop() : Setin sol baştan son elemanını siler.(5) \n",
    "-  union() : İki seti birleştirir.Birleşim  alır.Ortak elemanları tek bir kez yazar.\n",
    "-  intersection() : İki setin kesişimini alır. \n",
    "-  difference() : İki setin farkını alır. \n"
   ]
  },
  {
   "attachments": {},
   "cell_type": "markdown",
   "metadata": {},
   "source": [
    "# DİCTİONARY METODLARI"
   ]
  },
  {
   "attachments": {},
   "cell_type": "markdown",
   "metadata": {},
   "source": [
    "- del(sozluk[\"book\"]) : Sözlükten veri silmeyi sağlar.\n",
    "- keys() : Sözlükteki keyleri verir.\n",
    "- values() : Sözlükteki valueleri verir.\n",
    "- items() : Sözlükteki key ve value çiftlerini verir."
   ]
  }
 ],
 "metadata": {
  "language_info": {
   "name": "python"
  },
  "orig_nbformat": 4
 },
 "nbformat": 4,
 "nbformat_minor": 2
}
