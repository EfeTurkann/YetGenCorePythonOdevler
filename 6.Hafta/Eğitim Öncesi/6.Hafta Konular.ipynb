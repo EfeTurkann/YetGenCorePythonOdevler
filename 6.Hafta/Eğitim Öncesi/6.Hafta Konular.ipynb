{
 "cells": [
  {
   "attachments": {},
   "cell_type": "markdown",
   "metadata": {},
   "source": [
    "# Modüller\n",
    "\n",
    "## Modül Mantığı\n",
    "-  Bir Python modülünü programımıza dahil ederek bu modüller içinde yazılan fonksiyonlardan ve sınıflardan kullanabilir ve programlarımızı daha efektif bir şekilde yazabiliriz. Eğer modül diye bir kavram olmasaydı, programlarımızdaki herbir fonksiyonu ve sınıfı kendimiz yazmak zorunda kalacaktık."
   ]
  },
  {
   "attachments": {},
   "cell_type": "markdown",
   "metadata": {},
   "source": [
    "## Math Modülü"
   ]
  },
  {
   "cell_type": "code",
   "execution_count": 1,
   "metadata": {},
   "outputs": [
    {
     "data": {
      "text/plain": [
       "['__doc__',\n",
       " '__loader__',\n",
       " '__name__',\n",
       " '__package__',\n",
       " '__spec__',\n",
       " 'acos',\n",
       " 'acosh',\n",
       " 'asin',\n",
       " 'asinh',\n",
       " 'atan',\n",
       " 'atan2',\n",
       " 'atanh',\n",
       " 'cbrt',\n",
       " 'ceil',\n",
       " 'comb',\n",
       " 'copysign',\n",
       " 'cos',\n",
       " 'cosh',\n",
       " 'degrees',\n",
       " 'dist',\n",
       " 'e',\n",
       " 'erf',\n",
       " 'erfc',\n",
       " 'exp',\n",
       " 'exp2',\n",
       " 'expm1',\n",
       " 'fabs',\n",
       " 'factorial',\n",
       " 'floor',\n",
       " 'fmod',\n",
       " 'frexp',\n",
       " 'fsum',\n",
       " 'gamma',\n",
       " 'gcd',\n",
       " 'hypot',\n",
       " 'inf',\n",
       " 'isclose',\n",
       " 'isfinite',\n",
       " 'isinf',\n",
       " 'isnan',\n",
       " 'isqrt',\n",
       " 'lcm',\n",
       " 'ldexp',\n",
       " 'lgamma',\n",
       " 'log',\n",
       " 'log10',\n",
       " 'log1p',\n",
       " 'log2',\n",
       " 'modf',\n",
       " 'nan',\n",
       " 'nextafter',\n",
       " 'perm',\n",
       " 'pi',\n",
       " 'pow',\n",
       " 'prod',\n",
       " 'radians',\n",
       " 'remainder',\n",
       " 'sin',\n",
       " 'sinh',\n",
       " 'sqrt',\n",
       " 'tan',\n",
       " 'tanh',\n",
       " 'tau',\n",
       " 'trunc',\n",
       " 'ulp']"
      ]
     },
     "execution_count": 1,
     "metadata": {},
     "output_type": "execute_result"
    }
   ],
   "source": [
    "import math #import diyerek modülümüzü çağırıyoruz.\n",
    "dir(math) # Math modülünün içindekileri (fonksiyonları )görmek için dir fonksiyonunu kullanabiliriz.\n"
   ]
  },
  {
   "cell_type": "code",
   "execution_count": 2,
   "metadata": {},
   "outputs": [
    {
     "name": "stdout",
     "output_type": "stream",
     "text": [
      "Help on built-in module math:\n",
      "\n",
      "NAME\n",
      "    math\n",
      "\n",
      "DESCRIPTION\n",
      "    This module provides access to the mathematical functions\n",
      "    defined by the C standard.\n",
      "\n",
      "FUNCTIONS\n",
      "    acos(x, /)\n",
      "        Return the arc cosine (measured in radians) of x.\n",
      "        \n",
      "        The result is between 0 and pi.\n",
      "    \n",
      "    acosh(x, /)\n",
      "        Return the inverse hyperbolic cosine of x.\n",
      "    \n",
      "    asin(x, /)\n",
      "        Return the arc sine (measured in radians) of x.\n",
      "        \n",
      "        The result is between -pi/2 and pi/2.\n",
      "    \n",
      "    asinh(x, /)\n",
      "        Return the inverse hyperbolic sine of x.\n",
      "    \n",
      "    atan(x, /)\n",
      "        Return the arc tangent (measured in radians) of x.\n",
      "        \n",
      "        The result is between -pi/2 and pi/2.\n",
      "    \n",
      "    atan2(y, x, /)\n",
      "        Return the arc tangent (measured in radians) of y/x.\n",
      "        \n",
      "        Unlike atan(y/x), the signs of both x and y are considered.\n",
      "    \n",
      "    atanh(x, /)\n",
      "        Return the inverse hyperbolic tangent of x.\n",
      "    \n",
      "    cbrt(x, /)\n",
      "        Return the cube root of x.\n",
      "    \n",
      "    ceil(x, /)\n",
      "        Return the ceiling of x as an Integral.\n",
      "        \n",
      "        This is the smallest integer >= x.\n",
      "    \n",
      "    comb(n, k, /)\n",
      "        Number of ways to choose k items from n items without repetition and without order.\n",
      "        \n",
      "        Evaluates to n! / (k! * (n - k)!) when k <= n and evaluates\n",
      "        to zero when k > n.\n",
      "        \n",
      "        Also called the binomial coefficient because it is equivalent\n",
      "        to the coefficient of k-th term in polynomial expansion of the\n",
      "        expression (1 + x)**n.\n",
      "        \n",
      "        Raises TypeError if either of the arguments are not integers.\n",
      "        Raises ValueError if either of the arguments are negative.\n",
      "    \n",
      "    copysign(x, y, /)\n",
      "        Return a float with the magnitude (absolute value) of x but the sign of y.\n",
      "        \n",
      "        On platforms that support signed zeros, copysign(1.0, -0.0)\n",
      "        returns -1.0.\n",
      "    \n",
      "    cos(x, /)\n",
      "        Return the cosine of x (measured in radians).\n",
      "    \n",
      "    cosh(x, /)\n",
      "        Return the hyperbolic cosine of x.\n",
      "    \n",
      "    degrees(x, /)\n",
      "        Convert angle x from radians to degrees.\n",
      "    \n",
      "    dist(p, q, /)\n",
      "        Return the Euclidean distance between two points p and q.\n",
      "        \n",
      "        The points should be specified as sequences (or iterables) of\n",
      "        coordinates.  Both inputs must have the same dimension.\n",
      "        \n",
      "        Roughly equivalent to:\n",
      "            sqrt(sum((px - qx) ** 2.0 for px, qx in zip(p, q)))\n",
      "    \n",
      "    erf(x, /)\n",
      "        Error function at x.\n",
      "    \n",
      "    erfc(x, /)\n",
      "        Complementary error function at x.\n",
      "    \n",
      "    exp(x, /)\n",
      "        Return e raised to the power of x.\n",
      "    \n",
      "    exp2(x, /)\n",
      "        Return 2 raised to the power of x.\n",
      "    \n",
      "    expm1(x, /)\n",
      "        Return exp(x)-1.\n",
      "        \n",
      "        This function avoids the loss of precision involved in the direct evaluation of exp(x)-1 for small x.\n",
      "    \n",
      "    fabs(x, /)\n",
      "        Return the absolute value of the float x.\n",
      "    \n",
      "    factorial(n, /)\n",
      "        Find n!.\n",
      "        \n",
      "        Raise a ValueError if x is negative or non-integral.\n",
      "    \n",
      "    floor(x, /)\n",
      "        Return the floor of x as an Integral.\n",
      "        \n",
      "        This is the largest integer <= x.\n",
      "    \n",
      "    fmod(x, y, /)\n",
      "        Return fmod(x, y), according to platform C.\n",
      "        \n",
      "        x % y may differ.\n",
      "    \n",
      "    frexp(x, /)\n",
      "        Return the mantissa and exponent of x, as pair (m, e).\n",
      "        \n",
      "        m is a float and e is an int, such that x = m * 2.**e.\n",
      "        If x is 0, m and e are both 0.  Else 0.5 <= abs(m) < 1.0.\n",
      "    \n",
      "    fsum(seq, /)\n",
      "        Return an accurate floating point sum of values in the iterable seq.\n",
      "        \n",
      "        Assumes IEEE-754 floating point arithmetic.\n",
      "    \n",
      "    gamma(x, /)\n",
      "        Gamma function at x.\n",
      "    \n",
      "    gcd(*integers)\n",
      "        Greatest Common Divisor.\n",
      "    \n",
      "    hypot(...)\n",
      "        hypot(*coordinates) -> value\n",
      "        \n",
      "        Multidimensional Euclidean distance from the origin to a point.\n",
      "        \n",
      "        Roughly equivalent to:\n",
      "            sqrt(sum(x**2 for x in coordinates))\n",
      "        \n",
      "        For a two dimensional point (x, y), gives the hypotenuse\n",
      "        using the Pythagorean theorem:  sqrt(x*x + y*y).\n",
      "        \n",
      "        For example, the hypotenuse of a 3/4/5 right triangle is:\n",
      "        \n",
      "            >>> hypot(3.0, 4.0)\n",
      "            5.0\n",
      "    \n",
      "    isclose(a, b, *, rel_tol=1e-09, abs_tol=0.0)\n",
      "        Determine whether two floating point numbers are close in value.\n",
      "        \n",
      "          rel_tol\n",
      "            maximum difference for being considered \"close\", relative to the\n",
      "            magnitude of the input values\n",
      "          abs_tol\n",
      "            maximum difference for being considered \"close\", regardless of the\n",
      "            magnitude of the input values\n",
      "        \n",
      "        Return True if a is close in value to b, and False otherwise.\n",
      "        \n",
      "        For the values to be considered close, the difference between them\n",
      "        must be smaller than at least one of the tolerances.\n",
      "        \n",
      "        -inf, inf and NaN behave similarly to the IEEE 754 Standard.  That\n",
      "        is, NaN is not close to anything, even itself.  inf and -inf are\n",
      "        only close to themselves.\n",
      "    \n",
      "    isfinite(x, /)\n",
      "        Return True if x is neither an infinity nor a NaN, and False otherwise.\n",
      "    \n",
      "    isinf(x, /)\n",
      "        Return True if x is a positive or negative infinity, and False otherwise.\n",
      "    \n",
      "    isnan(x, /)\n",
      "        Return True if x is a NaN (not a number), and False otherwise.\n",
      "    \n",
      "    isqrt(n, /)\n",
      "        Return the integer part of the square root of the input.\n",
      "    \n",
      "    lcm(*integers)\n",
      "        Least Common Multiple.\n",
      "    \n",
      "    ldexp(x, i, /)\n",
      "        Return x * (2**i).\n",
      "        \n",
      "        This is essentially the inverse of frexp().\n",
      "    \n",
      "    lgamma(x, /)\n",
      "        Natural logarithm of absolute value of Gamma function at x.\n",
      "    \n",
      "    log(...)\n",
      "        log(x, [base=math.e])\n",
      "        Return the logarithm of x to the given base.\n",
      "        \n",
      "        If the base not specified, returns the natural logarithm (base e) of x.\n",
      "    \n",
      "    log10(x, /)\n",
      "        Return the base 10 logarithm of x.\n",
      "    \n",
      "    log1p(x, /)\n",
      "        Return the natural logarithm of 1+x (base e).\n",
      "        \n",
      "        The result is computed in a way which is accurate for x near zero.\n",
      "    \n",
      "    log2(x, /)\n",
      "        Return the base 2 logarithm of x.\n",
      "    \n",
      "    modf(x, /)\n",
      "        Return the fractional and integer parts of x.\n",
      "        \n",
      "        Both results carry the sign of x and are floats.\n",
      "    \n",
      "    nextafter(x, y, /)\n",
      "        Return the next floating-point value after x towards y.\n",
      "    \n",
      "    perm(n, k=None, /)\n",
      "        Number of ways to choose k items from n items without repetition and with order.\n",
      "        \n",
      "        Evaluates to n! / (n - k)! when k <= n and evaluates\n",
      "        to zero when k > n.\n",
      "        \n",
      "        If k is not specified or is None, then k defaults to n\n",
      "        and the function returns n!.\n",
      "        \n",
      "        Raises TypeError if either of the arguments are not integers.\n",
      "        Raises ValueError if either of the arguments are negative.\n",
      "    \n",
      "    pow(x, y, /)\n",
      "        Return x**y (x to the power of y).\n",
      "    \n",
      "    prod(iterable, /, *, start=1)\n",
      "        Calculate the product of all the elements in the input iterable.\n",
      "        \n",
      "        The default start value for the product is 1.\n",
      "        \n",
      "        When the iterable is empty, return the start value.  This function is\n",
      "        intended specifically for use with numeric values and may reject\n",
      "        non-numeric types.\n",
      "    \n",
      "    radians(x, /)\n",
      "        Convert angle x from degrees to radians.\n",
      "    \n",
      "    remainder(x, y, /)\n",
      "        Difference between x and the closest integer multiple of y.\n",
      "        \n",
      "        Return x - n*y where n*y is the closest integer multiple of y.\n",
      "        In the case where x is exactly halfway between two multiples of\n",
      "        y, the nearest even value of n is used. The result is always exact.\n",
      "    \n",
      "    sin(x, /)\n",
      "        Return the sine of x (measured in radians).\n",
      "    \n",
      "    sinh(x, /)\n",
      "        Return the hyperbolic sine of x.\n",
      "    \n",
      "    sqrt(x, /)\n",
      "        Return the square root of x.\n",
      "    \n",
      "    tan(x, /)\n",
      "        Return the tangent of x (measured in radians).\n",
      "    \n",
      "    tanh(x, /)\n",
      "        Return the hyperbolic tangent of x.\n",
      "    \n",
      "    trunc(x, /)\n",
      "        Truncates the Real x to the nearest Integral toward 0.\n",
      "        \n",
      "        Uses the __trunc__ magic method.\n",
      "    \n",
      "    ulp(x, /)\n",
      "        Return the value of the least significant bit of the float x.\n",
      "\n",
      "DATA\n",
      "    e = 2.718281828459045\n",
      "    inf = inf\n",
      "    nan = nan\n",
      "    pi = 3.141592653589793\n",
      "    tau = 6.283185307179586\n",
      "\n",
      "FILE\n",
      "    (built-in)\n",
      "\n",
      "\n"
     ]
    }
   ],
   "source": [
    "help(math) # Fonksiyonların görevlerini görebilmek için help fonksiyonunu kullanabiliriz.\n"
   ]
  },
  {
   "cell_type": "code",
   "execution_count": 3,
   "metadata": {},
   "outputs": [
    {
     "data": {
      "text/plain": [
       "120"
      ]
     },
     "execution_count": 3,
     "metadata": {},
     "output_type": "execute_result"
    }
   ],
   "source": [
    "math.factorial(5) # faktöriyel hesabı yapmak için factorial fonksiyonunu kullanabiliriz. "
   ]
  },
  {
   "cell_type": "code",
   "execution_count": 4,
   "metadata": {},
   "outputs": [
    {
     "data": {
      "text/plain": [
       "3628800"
      ]
     },
     "execution_count": 4,
     "metadata": {},
     "output_type": "execute_result"
    }
   ],
   "source": [
    "math.factorial(10)"
   ]
  },
  {
   "cell_type": "code",
   "execution_count": 26,
   "metadata": {},
   "outputs": [
    {
     "data": {
      "text/plain": [
       "2.718281828459045"
      ]
     },
     "execution_count": 26,
     "metadata": {},
     "output_type": "execute_result"
    }
   ],
   "source": [
    "math.e # logaritmadaki e(elen) sayısı\n"
   ]
  },
  {
   "cell_type": "code",
   "execution_count": 17,
   "metadata": {},
   "outputs": [
    {
     "name": "stdout",
     "output_type": "stream",
     "text": [
      "3\n",
      "4\n",
      "10\n"
     ]
    }
   ],
   "source": [
    "print(math.floor(3.4)) # floor ile aşağıya yuvarlama işlemi yapılır.\n",
    "print(math.floor(4.7))\n",
    "print(math.floor(10.9))"
   ]
  },
  {
   "cell_type": "code",
   "execution_count": 24,
   "metadata": {},
   "outputs": [
    {
     "name": "stdout",
     "output_type": "stream",
     "text": [
      "4\n",
      "6\n"
     ]
    }
   ],
   "source": [
    "print(math.ceil(3.5)) # ceil ile yukarıya yuvarlama işlemi yapılır.\n",
    "print(math.ceil(5.2))"
   ]
  },
  {
   "attachments": {},
   "cell_type": "markdown",
   "metadata": {},
   "source": [
    "**from modül_adı import * ile de kütüphanemizi kullanabiliriz. \n",
    "Diğer kütüphane çağırma yöntemleri için Bknz;        `6.Hafta\\Sorulacak Kısımlar\\Sorulacaklar.ipynb`**"
   ]
  },
  {
   "cell_type": "code",
   "execution_count": 2,
   "metadata": {},
   "outputs": [
    {
     "name": "stdout",
     "output_type": "stream",
     "text": [
      "Kendi Factorial fonksiyonum.\n"
     ]
    },
    {
     "data": {
      "text/plain": [
       "120"
      ]
     },
     "execution_count": 2,
     "metadata": {},
     "output_type": "execute_result"
    }
   ],
   "source": [
    "def factorial(sayı):\n",
    "    print(\"Kendi Factorial fonksiyonum.\")\n",
    "    faktoriyel = 1\n",
    "    if (sayı == 0 or sayı == 1):\n",
    "        return 1\n",
    "    while (sayı >= 1):\n",
    "        faktoriyel *= sayı \n",
    "        sayı -= 1\n",
    "    return faktoriyel\n",
    "factorial(5)\n",
    "\n",
    "# 1.adım = while'a girdim.(sayı = 5) 1 = 1*5 \n",
    "# 2.adım = while'a girdim.(sayı = 4) 1*5 = 1*5*4\n",
    "# 3.adım = while'a girdim.(sayı = 3) 1*5*4 = 1*5*4*3\n",
    "# 4.adım = while'a girdim.(sayı = 2) 1*5*4*3 = 1*5*4*3*2\n",
    "# 5.adım = if'e  girdim.  (sayı = 1) 1*5*4*3*2*1\n",
    "# 6.adım = if'e  girdim.  (sayı = 0) 1*5*4*3*2*1*1"
   ]
  },
  {
   "attachments": {},
   "cell_type": "markdown",
   "metadata": {},
   "source": [
    "                        Bu şekilde uğraşmak yerine"
   ]
  },
  {
   "cell_type": "code",
   "execution_count": 11,
   "metadata": {},
   "outputs": [
    {
     "data": {
      "text/plain": [
       "120"
      ]
     },
     "execution_count": 11,
     "metadata": {},
     "output_type": "execute_result"
    }
   ],
   "source": [
    "from math import *\n",
    "factorial(5)"
   ]
  },
  {
   "attachments": {},
   "cell_type": "markdown",
   "metadata": {},
   "source": [
    "# map Fonksiyonu\n",
    "\n",
    "- parametre2 olarak aldığı veritipindeki her elemanı sırasıyla parametre1 olarak aldığı fonksiyona parametre olarak gönderir.Bu fonksiyon sonucundan elde ettiği sonuçları(değerleri) da bir liste oluşturur.\n",
    "- map() fonksiyonunun amacı bir iterasyon yapısındaki elemanların tümüne aynı işlemi uygulamaktır.\n",
    "- iterayon için bknz; https://www.youtube.com/watch?v=4cVwvFAUgRs&list=PLA5Mjlve1MZk5roP8TYL1mNEuazkn-uH5&index=4 , https://www.youtube.com/watch?v=eQr2l4SWraQ&list=PLA5Mjlve1MZk5roP8TYL1mNEuazkn-uH5&index=5&t=2s\n",
    "\n",
    "```python\n",
    "map(parametre1 , parametre2)\n",
    "map(fonksiyon,iterasyon yapılabilecek veritipi(liste,demet vb),....)\n",
    "```"
   ]
  },
  {
   "attachments": {},
   "cell_type": "markdown",
   "metadata": {},
   "source": [
    "--- "
   ]
  },
  {
   "attachments": {},
   "cell_type": "markdown",
   "metadata": {},
   "source": [
    "- İterasyon, tekerrür, tekrarlama, yineleme ve mükerrer icrâ, ardışık işlem anlamlarına gelen iterasyon (iteration), programlamada bir dizi işlemin döngüler kullanarak yazılmasıdır.\n",
    "- İtere etmek : Bir sonrasını,devamını getirmek,sürekliliği sağlamak ta ki sonuna kadar.\n",
    "- 1 3 5 7 den sonra 9 demek aslında bir itere etmektir.Ben 7 dedikten sonra 9 olduğunu nereden bildin sorusunun cevabı iterasyonel mantıktır.9'u iterasyon yöntemiyle biliriz.Mantıksal açıdan her tahminin altında bir iterasyon mantığı yatar.\n",
    "- Örneğin [1,2,3,4,5] şeklinde bir verimiz olsun.(Tipi listedir.) Map fonksiyonu bu listeden 1'i 2'yi 3'ü 4'ü 5'i teker teker itere eder ta ki verinin içinde eleman kalmayana kadar."
   ]
  },
  {
   "attachments": {},
   "cell_type": "markdown",
   "metadata": {},
   "source": [
    "* **Döngü ve iterasyon farklı şeylerdir.**\n",
    "python\n",
    "```\n",
    "Döngü ile işlem yaparken bir sonraki işlem önemli değildir.Kombinasyon önemlidir.Döngü dediğimiz yapılar belirli bir  matematiğe göre mantığa göre işleyen kombinasyonla çalışan yapılanmalardır.Döngülerin hepsi illaki bir matematiksel kombinasyon üzerinden işlem yapmak zorundadır.Sonsuza kadar doğruladığın sürece, bir döngüyü sonsuza dek çalıştırabilirsin.\n",
    "Ama iterasyonda böyle bir durum yoktur.İterasyon sonsuza kadar çalışmaz.İterasyon dediğimiz yapılanma belirli bir kombinasyona göre işlem yapmaz.İterasyon elindeki veri kümesinin veri sayısı kadar işlem yapar.Ama döngü bir kombinasyona göre işlem yapar.\n",
    "Örneğin; [1,2,3,4,5] şeklinde bir listemiz olsun.\n",
    "Bir döngü kuralım ve bu döngü gider örneğin bu listedeki tek sayıları alır ve sana söyler.Ancak iterasyon teke çifte bakmaz her elemanı alır ve sana söyler veya ne yapacaksa işte.\n",
    "Hatta ve hatta döngüler illaki bir veri kaynağı ile çalışmak zorunda değildir.Ama iterasyonla çalışmak istiyorsan illa ki elinde bir veri kaynağı olmak zorunda.\n",
    "ÖZETLE ; Döngü ve iterasyon çok başka şeylerdir.Sadece operasyönel(işlemsel) açıdan benzer şeylerdir.\n",
    "\n",
    "```"
   ]
  },
  {
   "attachments": {},
   "cell_type": "markdown",
   "metadata": {},
   "source": [
    "---"
   ]
  },
  {
   "cell_type": "code",
   "execution_count": 5,
   "metadata": {},
   "outputs": [
    {
     "name": "stdout",
     "output_type": "stream",
     "text": [
      "[1, 4, 9, 16, 25]\n"
     ]
    }
   ],
   "source": [
    "liste = [1,2,3,4,5]\n",
    "def kare_al(x):\n",
    "    return x * x\n",
    "liste2 = []\n",
    "for i in liste:\n",
    "    liste2.append(kare_al(i))\n",
    "print(liste2)\n"
   ]
  },
  {
   "attachments": {},
   "cell_type": "markdown",
   "metadata": {},
   "source": [
    "                        !BU İŞLEMİ BÖYLE YAPMAK YERİNE map() FONSKİYONU İLE DAHA KISA ŞEKİLDE YAPABİLİRİZ!"
   ]
  },
  {
   "cell_type": "code",
   "execution_count": 11,
   "metadata": {},
   "outputs": [
    {
     "name": "stdout",
     "output_type": "stream",
     "text": [
      "<map object at 0x000002019752A740>\n"
     ]
    }
   ],
   "source": [
    "liste3 = map(kare_al , liste)\n",
    "print(liste3)\n",
    "# Bu şekilde yaptığında sonuç bir map objesidir dedi.Çünkü bu yapının kendisine has bir tipi var.\n",
    "# map objesi ile geri döndüğünden biz bu sonucu alıyoruz.\n",
    "# bunu aşmak için map objesi olarak dönen değerleri bir listeye(tuple(küme)'ye kümeye....) hangi veri tipini istiyorsan ona  çeviririz.\n"
   ]
  },
  {
   "cell_type": "code",
   "execution_count": 14,
   "metadata": {},
   "outputs": [
    {
     "name": "stdout",
     "output_type": "stream",
     "text": [
      "[1, 4, 9, 16, 25]\n"
     ]
    }
   ],
   "source": [
    "liste3 = list(map(kare_al , liste)) #list diyerek listeye çevirdik.\n",
    "print(liste3)"
   ]
  },
  {
   "cell_type": "code",
   "execution_count": 15,
   "metadata": {},
   "outputs": [
    {
     "name": "stdout",
     "output_type": "stream",
     "text": [
      "(1, 4, 9, 16, 25)\n"
     ]
    }
   ],
   "source": [
    "liste3 =tuple(map(kare_al , liste)) #tuple diyerek tuple'a(demete) çevirdik.\n",
    "print(liste3)"
   ]
  },
  {
   "cell_type": "code",
   "execution_count": 19,
   "metadata": {},
   "outputs": [
    {
     "name": "stdout",
     "output_type": "stream",
     "text": [
      "{1, 4, 9, 16, 25}\n"
     ]
    }
   ],
   "source": [
    "liste3 = set(map(kare_al , liste)) #set diyerek set'e(kümeye) çevirdik.\n",
    "print(liste3)"
   ]
  },
  {
   "attachments": {},
   "cell_type": "markdown",
   "metadata": {},
   "source": [
    "---"
   ]
  },
  {
   "attachments": {},
   "cell_type": "markdown",
   "metadata": {},
   "source": [
    "- Bir fonksiyon tanımlamadan lambda yardımı ile de yapabiliriz."
   ]
  },
  {
   "cell_type": "code",
   "execution_count": 20,
   "metadata": {},
   "outputs": [
    {
     "name": "stdout",
     "output_type": "stream",
     "text": [
      "[1, 4, 9, 16, 25, 36, 49, 64, 81]\n"
     ]
    }
   ],
   "source": [
    "liste = [1,2,3,4,5,6,7,8,9]\n",
    "liste2 = list(map(lambda x : x * x , liste))\n",
    "print(liste2)"
   ]
  },
  {
   "attachments": {},
   "cell_type": "markdown",
   "metadata": {},
   "source": [
    "-------"
   ]
  },
  {
   "attachments": {},
   "cell_type": "markdown",
   "metadata": {},
   "source": [
    "- Tek bir liste yerine birden fazla liste ile çalışalım."
   ]
  },
  {
   "cell_type": "code",
   "execution_count": 25,
   "metadata": {},
   "outputs": [
    {
     "name": "stdout",
     "output_type": "stream",
     "text": [
      "[11, 11, 11, 11, 11]\n"
     ]
    }
   ],
   "source": [
    "liste1 = [1,2,3,4,5]\n",
    "liste2 = [10,9,8,7,6]\n",
    "\n",
    "def toplam(x,y):\n",
    "    return x + y\n",
    "sonuc = list(map(toplam , liste1 , liste2))\n",
    "print(sonuc)\n",
    "# 1+10  = 11 \n",
    "# 2+9   = 11 \n",
    "# 3+8   = 11 \n",
    "# 4+7   = 11 \n",
    "# 5+6   = 11 "
   ]
  },
  {
   "attachments": {},
   "cell_type": "markdown",
   "metadata": {},
   "source": [
    "----"
   ]
  },
  {
   "attachments": {},
   "cell_type": "markdown",
   "metadata": {},
   "source": [
    "- Bir ürün listemiz olsun ve biz ürünlerimize %10 indirim yapmak isteyelim.\n"
   ]
  },
  {
   "cell_type": "code",
   "execution_count": 36,
   "metadata": {},
   "outputs": [
    {
     "name": "stdout",
     "output_type": "stream",
     "text": [
      "[['Ayakkabı', 90.0], ['Pantolon', 180.0], ['Gömlek', 270.0], ['Mont', 360.0]]\n"
     ]
    }
   ],
   "source": [
    "ürünler = [[\"Ayakkabı\",100],[\"Pantolon\",200],[\"Gömlek\",300],[\"Mont\",400]]\n",
    "def indirim_yap(x):\n",
    "    ürün , fiyat = x[0] , x[1]\n",
    "    fiyat = fiyat * (9/10)\n",
    "    return [ürün,fiyat]\n",
    "sonuc = list(map(indirim_yap,ürünler))\n",
    "print(sonuc)"
   ]
  },
  {
   "attachments": {},
   "cell_type": "markdown",
   "metadata": {},
   "source": [
    "----"
   ]
  },
  {
   "cell_type": "code",
   "execution_count": 39,
   "metadata": {},
   "outputs": [
    {
     "name": "stdout",
     "output_type": "stream",
     "text": [
      "['Efe', 'Ayşe', 'Mustafa', 'Mehmet']\n"
     ]
    }
   ],
   "source": [
    "isimler = [\"eFe\" , \"ayŞE\" , \"musTAFa\" , \"MeHmeT\"]\n",
    "isimler2 = list(map(lambda x : x.capitalize() , isimler)) #BKNZ; 4.Hafta String metodları\n",
    "print(isimler2)"
   ]
  },
  {
   "attachments": {},
   "cell_type": "markdown",
   "metadata": {},
   "source": [
    "- lambda ile uğraşmadan direkt fonksiyon adı ile de yapabiliriz.Örneğin str.capitalize, str.upper..."
   ]
  },
  {
   "cell_type": "code",
   "execution_count": 41,
   "metadata": {},
   "outputs": [
    {
     "name": "stdout",
     "output_type": "stream",
     "text": [
      "['Efe', 'Ayşe', 'Mustafa', 'Mehmet']\n"
     ]
    }
   ],
   "source": [
    "isimler = [\"eFe\" , \"ayŞE\" , \"musTAFa\" , \"MeHmeT\"]\n",
    "isimler3 = list(map(str.capitalize , isimler))\n",
    "print(isimler3)"
   ]
  },
  {
   "cell_type": "code",
   "execution_count": 42,
   "metadata": {},
   "outputs": [
    {
     "name": "stdout",
     "output_type": "stream",
     "text": [
      "['BERKCAN', 'ŞEVVAL', 'NURANA', 'METE']\n"
     ]
    }
   ],
   "source": [
    "names = [\"Berkcan\",\"Şevval\",\"Nurana\",\"Mete\"]\n",
    "result = list(map(str.upper,names))\n",
    "print(result)"
   ]
  },
  {
   "cell_type": "code",
   "execution_count": 44,
   "metadata": {},
   "outputs": [
    {
     "name": "stdout",
     "output_type": "stream",
     "text": [
      "[7, 6, 6, 4]\n"
     ]
    }
   ],
   "source": [
    "result = list(map(len,names)) #Bana nameslerin uzunluklarını ver.\n",
    "print(result)"
   ]
  },
  {
   "cell_type": "code",
   "execution_count": 58,
   "metadata": {},
   "outputs": [
    {
     "name": "stdout",
     "output_type": "stream",
     "text": [
      "[('Berkcan', 7), ('Şevval', 6), ('Nurana', 6), ('Mete', 4)]\n"
     ]
    }
   ],
   "source": [
    "names = [\"Berkcan\",\"Şevval\",\"Nurana\",\"Mete\"] #Üstteki işlemi daha da güzelleştirdik.\n",
    "def uzunluk(x):\n",
    "    return x , len(x)\n",
    "sonc = list(map(uzunluk,names))\n",
    "print(sonc)"
   ]
  },
  {
   "attachments": {},
   "cell_type": "markdown",
   "metadata": {},
   "source": [
    "-----\n"
   ]
  },
  {
   "cell_type": "code",
   "execution_count": 8,
   "metadata": {},
   "outputs": [
    {
     "name": "stdout",
     "output_type": "stream",
     "text": [
      "[4, 64, 256, 1024, 4096]\n"
     ]
    }
   ],
   "source": [
    "numbers = [2, 8, 16, 32, 64]\n",
    "def power(x):\n",
    "    return x ** 2\n",
    "powers = list(map(power, numbers)) # numbers listesindeki elemanları alıp, teker teker power fonksiyonuna gönderdi.\n",
    "                                    #LİSTENİN İÇİNDEKİ ELEMANLARI İTERE ETTİ.İTERASYION YAPTI.\n",
    "print(powers)"
   ]
  },
  {
   "cell_type": "code",
   "execution_count": 26,
   "metadata": {},
   "outputs": [
    {
     "data": {
      "text/plain": [
       "[45, 120, 231, 384]"
      ]
     },
     "execution_count": 26,
     "metadata": {},
     "output_type": "execute_result"
    }
   ],
   "source": [
    "liste1 = [1,2,3,4]\n",
    "liste2 = [5,6,7,8]\n",
    "liste3 = [9,10,11,12,13]\n",
    "list(map(lambda x,y,z : x * y * z , liste1,liste2,liste3))\n",
    "# bu kez de fonksiyon vermek yerine lambda yardımı ile fonksiyonumuzu tanımladık.\n",
    "# en az eleman içeren liste bittiğinde map fonksiyonu durur ve liste3'teki 12 ve 13 elemanlarını işleme almaz.\n",
    "# 45 = 1*5*9\n",
    "# 120 = 2*9*10\n",
    "# 231 = 3*7*11\n",
    "# 384 = 4*8*12\n"
   ]
  },
  {
   "cell_type": "code",
   "execution_count": 43,
   "metadata": {},
   "outputs": [
    {
     "name": "stdout",
     "output_type": "stream",
     "text": [
      "[1, 9, 25, 49, 81, 121, 169, 225, 289, 361]\n"
     ]
    }
   ],
   "source": [
    "numbers = [1,3,5,7,9,11,13,15,17,19]\n",
    "result = list(map(lambda x: x ** 2, numbers))\n",
    "print(result)"
   ]
  },
  {
   "attachments": {},
   "cell_type": "markdown",
   "metadata": {},
   "source": [
    "# Filter Fonksiyonu\n",
    "- İsminden de anlaşıldığı gibi filtreleme işlemi yapar.\n",
    "- Bir listeyi belirli koşullara göre filtrelememizi sağlar.\n",
    "- Burada kullandığımız fonksiyonun True ya da False değer döndürmesi gereklidir.**True değer döndürenler ile liste oluşturur.**\n",
    "\n",
    "```python\n",
    "filter(parametre1 , parametre2)\n",
    "filter(fonksiyon,iterasyon yapılabilen bir veritipi(liste vb.))\n",
    "```\n"
   ]
  },
  {
   "attachments": {},
   "cell_type": "markdown",
   "metadata": {},
   "source": [
    "--------"
   ]
  },
  {
   "cell_type": "code",
   "execution_count": 97,
   "metadata": {},
   "outputs": [
    {
     "name": "stdout",
     "output_type": "stream",
     "text": [
      "[2, 6, 8]\n",
      "(2, 6, 8)\n",
      "{8, 2, 6}\n"
     ]
    }
   ],
   "source": [
    "liste = [1,2,3,5,6,8,11,17,123,101]\n",
    "def  cift_mi(x):\n",
    "    if x % 2 ==0:\n",
    "        return True\n",
    "    else:\n",
    "        return False\n",
    "\n",
    "ciftler = list(filter(cift_mi,liste))\n",
    "print(ciftler)\n",
    "ciftler2 = tuple(filter(cift_mi,liste))\n",
    "print(ciftler2)\n",
    "ciftler3 = set(filter(cift_mi,liste))\n",
    "print(ciftler3)\n"
   ]
  },
  {
   "attachments": {},
   "cell_type": "markdown",
   "metadata": {},
   "source": [
    "                 veya lambda ile yaparsak;"
   ]
  },
  {
   "cell_type": "code",
   "execution_count": 121,
   "metadata": {},
   "outputs": [
    {
     "data": {
      "text/plain": [
       "True"
      ]
     },
     "execution_count": 121,
     "metadata": {},
     "output_type": "execute_result"
    }
   ],
   "source": [
    "100 % 2 == 0"
   ]
  },
  {
   "cell_type": "code",
   "execution_count": 122,
   "metadata": {},
   "outputs": [
    {
     "data": {
      "text/plain": [
       "False"
      ]
     },
     "execution_count": 122,
     "metadata": {},
     "output_type": "execute_result"
    }
   ],
   "source": [
    "101 % 2 == 0"
   ]
  },
  {
   "cell_type": "code",
   "execution_count": 136,
   "metadata": {},
   "outputs": [
    {
     "name": "stdout",
     "output_type": "stream",
     "text": [
      "[2, 6, 8]\n"
     ]
    }
   ],
   "source": [
    "ciftler = list(filter(lambda x : x % 2 ==0,liste)) # if e gerek yok zaten o ifadenin sonucu True ise True,False ise False döndürür. \n",
    "print(ciftler)  "
   ]
  },
  {
   "attachments": {},
   "cell_type": "markdown",
   "metadata": {},
   "source": [
    "--------"
   ]
  },
  {
   "cell_type": "code",
   "execution_count": 99,
   "metadata": {},
   "outputs": [
    {
     "name": "stdout",
     "output_type": "stream",
     "text": [
      "[11, 17]\n"
     ]
    }
   ],
   "source": [
    "def iki_basamakli(x):\n",
    "    if x >=10 and x <= 100:\n",
    "        return True\n",
    "    else:\n",
    "        return False\n",
    "    \n",
    "iki_basamaklilar = list(filter(iki_basamakli,liste))\n",
    "print(iki_basamaklilar)\n"
   ]
  },
  {
   "attachments": {},
   "cell_type": "markdown",
   "metadata": {},
   "source": [
    "                        veya lambda ile yaparsak"
   ]
  },
  {
   "cell_type": "code",
   "execution_count": 137,
   "metadata": {},
   "outputs": [
    {
     "name": "stdout",
     "output_type": "stream",
     "text": [
      "[11, 17]\n"
     ]
    }
   ],
   "source": [
    "iki_basamaklilar = list(filter(lambda x : x>=10 and x<=100, liste))\n",
    "print(iki_basamaklilar)"
   ]
  },
  {
   "attachments": {},
   "cell_type": "markdown",
   "metadata": {},
   "source": [
    "----"
   ]
  },
  {
   "cell_type": "code",
   "execution_count": 160,
   "metadata": {},
   "outputs": [
    {
     "name": "stdout",
     "output_type": "stream",
     "text": [
      "a veya A ile başlayanlar: ['ayna', 'Ahmet', 'ana', 'ambulans']\n",
      "İçinde a bulunanlar ['ayna', 'ana', 'baba', 'ambulans', 'kazak']\n",
      "Palindrom(Tersten okunuşu aynı olan) kelimeler: ['ana', 'kazak']\n"
     ]
    }
   ],
   "source": [
    "kelimeler = [\"ayna\" , \"Ahmet\" , \"ana\" , \"baba\" , \"hüseyin\" , \"ambulans\" , \"kazak\"]\n",
    "\n",
    "a_ile_baslayanlar = list(filter(lambda kelime : kelime.startswith(\"a\") or kelime.startswith(\"A\") , kelimeler))\n",
    "print(\"a veya A ile başlayanlar:\" , a_ile_baslayanlar)\n",
    "\n",
    "icinde_a_gecenler = list(filter(lambda kelime : \"a\"in kelime , kelimeler))\n",
    "print(\"İçinde a bulunanlar\" ,icinde_a_gecenler)\n",
    "\n",
    "palindromlar = list(filter(lambda kelime : kelime == kelime[::-1] , kelimeler))\n",
    "print(\"Palindrom(Tersten okunuşu aynı olan) kelimeler:\" , palindromlar)\n",
    "\n"
   ]
  },
  {
   "attachments": {},
   "cell_type": "markdown",
   "metadata": {},
   "source": [
    "-----"
   ]
  },
  {
   "cell_type": "code",
   "execution_count": 171,
   "metadata": {},
   "outputs": [
    {
     "name": "stdout",
     "output_type": "stream",
     "text": [
      "['string', 'örnek']\n",
      "[1, 2, True]\n"
     ]
    }
   ],
   "source": [
    "liste = [1,2,(1,2,3), True , \"string\" , \"örnek\" , {1,2,4}]\n",
    "stringler = list(filter(lambda x : x == str(x) , liste))\n",
    "print(stringler)\n",
    "integerlar = list(filter(lambda x : isinstance(x,int), liste))\n",
    "#isinstance fonksiyonu 1.parametresine veriyi alır 2.parametresine veri tipini alır eğer eşlerirlerse True,eşleşmezlerse False döndürür.\n",
    "print(integerlar)\n",
    "# True = 1 ve False = 0 'dır.\n"
   ]
  },
  {
   "attachments": {},
   "cell_type": "markdown",
   "metadata": {},
   "source": [
    "-----"
   ]
  },
  {
   "cell_type": "code",
   "execution_count": 183,
   "metadata": {},
   "outputs": [
    {
     "name": "stdout",
     "output_type": "stream",
     "text": [
      "[{'Ad': 'Ahmet', 'Yaş': 20}, {'Ad': 'Anıl', 'Yaş': 28}]\n",
      "[{'Ad': 'Banu', 'Yaş': 22}, {'Ad': 'Anıl', 'Yaş': 28}]\n"
     ]
    }
   ],
   "source": [
    "liste = [{\"Ad\":\"Ahmet\" , \"Yaş\" : 20},{\"Ad\":\"Banu\" , \"Yaş\" : 22},{\"Ad\":\"Can\" , \"Yaş\" : 18} , {\"Ad\":\"Anıl\" , \"Yaş\" : 28}]\n",
    "a_ile_baslayanlar = list(filter(lambda isim : isim[\"Ad\"].startswith(\"A\") ,liste))\n",
    "print(a_ile_baslayanlar)\n",
    "yirmiden_büyük = list(filter(lambda isim : isim[\"Yaş\"] > 20, liste ))\n",
    "print(yirmiden_büyük)"
   ]
  },
  {
   "attachments": {},
   "cell_type": "markdown",
   "metadata": {},
   "source": [
    "---"
   ]
  },
  {
   "cell_type": "code",
   "execution_count": 45,
   "metadata": {},
   "outputs": [
    {
     "data": {
      "text/plain": [
       "[0, 2, 4, 6, 8, 10]"
      ]
     },
     "execution_count": 45,
     "metadata": {},
     "output_type": "execute_result"
    }
   ],
   "source": [
    "list(filter(lambda x : x % 2 == 0, [0,1,2,3,4,5,6,7,8,9,10])) # Çift olan sayılar "
   ]
  },
  {
   "cell_type": "code",
   "execution_count": 9,
   "metadata": {},
   "outputs": [
    {
     "name": "stdout",
     "output_type": "stream",
     "text": [
      "[2, 3, 5, 7, 11, 13, 17, 19, 23, 29, 31, 37, 41, 43, 47, 53, 59, 61, 67, 71, 73, 79, 83, 89, 97] "
     ]
    }
   ],
   "source": [
    "def asal_mi(x):\n",
    "    i = 2\n",
    "    if (x == 1):\n",
    "        return False # Asal değil\n",
    "    elif(x == 2):\n",
    "        return True # Asal sayı\n",
    "    else:\n",
    "        while(i < x):\n",
    "            if (x % i == 0):\n",
    "                return False # Asal Değil\n",
    "            i += 1\n",
    "        return True\n",
    "print(list(filter(asal_mi, range(1,100))),end=\" \") # 1 ile 100 arasındaki asal sayılar"
   ]
  },
  {
   "attachments": {},
   "cell_type": "markdown",
   "metadata": {},
   "source": [
    "# zip Fonksiyonu\n",
    "- Fermuardan aklımızda kalabilir.Birleştirmek anlamındadır.Bir fermuarı kapatırken karşılıklı dişlerin birleşmesi gibi temel anlamda listenin elemanlarını birbiri ile eşleştirir,birleştirir. Ancak 3 boyutlu olarak birleştirir."
   ]
  },
  {
   "attachments": {},
   "cell_type": "markdown",
   "metadata": {},
   "source": [
    "```python\n",
    "zip(fiterasyon yapılabilen bir veritipi1 , veritipi2 ......)\n",
    "```"
   ]
  },
  {
   "attachments": {},
   "cell_type": "markdown",
   "metadata": {},
   "source": [
    "--------"
   ]
  },
  {
   "cell_type": "code",
   "execution_count": 6,
   "metadata": {},
   "outputs": [
    {
     "name": "stdout",
     "output_type": "stream",
     "text": [
      "[1, 2, 3, 4, 'a', 'b', 'c', 'd']\n",
      "<zip object at 0x000001D9B7307640>\n",
      "[(1, 'a'), (2, 'b'), (3, 'c'), (4, 'd')]\n",
      "[('a', 1), ('b', 2), ('c', 3), ('d', 4)]\n"
     ]
    }
   ],
   "source": [
    "liste1 = [1,2,3,4]\n",
    "liste2 = [\"a\",\"b\",\"c\",\"d\"]\n",
    "\n",
    "liste3 = liste1+liste2 #Tek boyutla birleştirme\n",
    "print(liste3) \n",
    "liste3 = zip(liste1,liste2)\n",
    "print(liste3)\n",
    "liste3 = list(zip(liste1,liste2)) #3 boyutlu birleştirme\n",
    "print(liste3)\n",
    "liste3 = list(zip(liste2,liste1)) #3 boyutlu birleştirme\n",
    "print(liste3)"
   ]
  },
  {
   "attachments": {},
   "cell_type": "markdown",
   "metadata": {},
   "source": [
    "------"
   ]
  },
  {
   "attachments": {},
   "cell_type": "markdown",
   "metadata": {},
   "source": [
    "## Liste Hatırlatması"
   ]
  },
  {
   "cell_type": "code",
   "execution_count": 32,
   "metadata": {},
   "outputs": [
    {
     "name": "stdout",
     "output_type": "stream",
     "text": [
      "['E', 'F', 'E']\n",
      "['E', 'F', 'E']\n"
     ]
    },
    {
     "ename": "TypeError",
     "evalue": "list expected at most 1 argument, got 3",
     "output_type": "error",
     "traceback": [
      "\u001b[1;31m---------------------------------------------------------------------------\u001b[0m",
      "\u001b[1;31mTypeError\u001b[0m                                 Traceback (most recent call last)",
      "Cell \u001b[1;32mIn[32], line 5\u001b[0m\n\u001b[0;32m      3\u001b[0m liste1 \u001b[39m=\u001b[39m \u001b[39mlist\u001b[39m(\u001b[39m\"\u001b[39m\u001b[39mE\u001b[39m\u001b[39m\"\u001b[39m\u001b[39m\"\u001b[39m\u001b[39mF\u001b[39m\u001b[39m\"\u001b[39m\u001b[39m\"\u001b[39m\u001b[39mE\u001b[39m\u001b[39m\"\u001b[39m)\n\u001b[0;32m      4\u001b[0m \u001b[39mprint\u001b[39m(liste1)\n\u001b[1;32m----> 5\u001b[0m liste2 \u001b[39m=\u001b[39m \u001b[39mlist\u001b[39;49m(\u001b[39m\"\u001b[39;49m\u001b[39mE\u001b[39;49m\u001b[39m\"\u001b[39;49m,\u001b[39m\"\u001b[39;49m\u001b[39mF\u001b[39;49m\u001b[39m\"\u001b[39;49m,\u001b[39m\"\u001b[39;49m\u001b[39mE\u001b[39;49m\u001b[39m\"\u001b[39;49m)\n\u001b[0;32m      6\u001b[0m \u001b[39mprint\u001b[39m(liste2)\n",
      "\u001b[1;31mTypeError\u001b[0m: list expected at most 1 argument, got 3"
     ]
    }
   ],
   "source": [
    "liste = list(\"EFE\")\n",
    "print(liste)\n",
    "liste1 = list(\"E\"\"F\"\"E\")\n",
    "print(liste1)\n",
    "liste2 = list(\"E\",\"F\",\"E\")\n",
    "print(liste2)"
   ]
  },
  {
   "cell_type": "code",
   "execution_count": 33,
   "metadata": {},
   "outputs": [
    {
     "name": "stdout",
     "output_type": "stream",
     "text": [
      "['E', 'F', 'E']\n"
     ]
    }
   ],
   "source": [
    "liste2 = list((\"E\",\"F\",\"E\"))\n",
    "print(liste2)"
   ]
  },
  {
   "cell_type": "code",
   "execution_count": 27,
   "metadata": {},
   "outputs": [
    {
     "ename": "TypeError",
     "evalue": "list expected at most 1 argument, got 3",
     "output_type": "error",
     "traceback": [
      "\u001b[1;31m---------------------------------------------------------------------------\u001b[0m",
      "\u001b[1;31mTypeError\u001b[0m                                 Traceback (most recent call last)",
      "Cell \u001b[1;32mIn[27], line 1\u001b[0m\n\u001b[1;32m----> 1\u001b[0m liste \u001b[39m=\u001b[39m \u001b[39mlist\u001b[39;49m(\u001b[39m1\u001b[39;49m,\u001b[39m2\u001b[39;49m,\u001b[39m3\u001b[39;49m)\n\u001b[0;32m      2\u001b[0m \u001b[39mprint\u001b[39m(liste)\n",
      "\u001b[1;31mTypeError\u001b[0m: list expected at most 1 argument, got 3"
     ]
    }
   ],
   "source": [
    "liste = list(1,2,3)\n",
    "print(liste)"
   ]
  },
  {
   "cell_type": "code",
   "execution_count": 28,
   "metadata": {},
   "outputs": [
    {
     "name": "stdout",
     "output_type": "stream",
     "text": [
      "[1, 2, 3]\n"
     ]
    }
   ],
   "source": [
    "liste = list((1,2,3))\n",
    "print(liste)"
   ]
  },
  {
   "cell_type": "code",
   "execution_count": 29,
   "metadata": {},
   "outputs": [
    {
     "ename": "TypeError",
     "evalue": "'int' object is not iterable",
     "output_type": "error",
     "traceback": [
      "\u001b[1;31m---------------------------------------------------------------------------\u001b[0m",
      "\u001b[1;31mTypeError\u001b[0m                                 Traceback (most recent call last)",
      "Cell \u001b[1;32mIn[29], line 1\u001b[0m\n\u001b[1;32m----> 1\u001b[0m liste \u001b[39m=\u001b[39m \u001b[39mlist\u001b[39;49m(\u001b[39m123\u001b[39;49m)\n\u001b[0;32m      2\u001b[0m \u001b[39mprint\u001b[39m(liste)\n",
      "\u001b[1;31mTypeError\u001b[0m: 'int' object is not iterable"
     ]
    }
   ],
   "source": [
    "liste = list(123)\n",
    "print(liste)"
   ]
  },
  {
   "cell_type": "code",
   "execution_count": 30,
   "metadata": {},
   "outputs": [
    {
     "ename": "TypeError",
     "evalue": "'int' object is not iterable",
     "output_type": "error",
     "traceback": [
      "\u001b[1;31m---------------------------------------------------------------------------\u001b[0m",
      "\u001b[1;31mTypeError\u001b[0m                                 Traceback (most recent call last)",
      "Cell \u001b[1;32mIn[30], line 1\u001b[0m\n\u001b[1;32m----> 1\u001b[0m liste \u001b[39m=\u001b[39m \u001b[39mlist\u001b[39;49m((\u001b[39m123\u001b[39;49m))\n\u001b[0;32m      2\u001b[0m \u001b[39mprint\u001b[39m(liste)\n",
      "\u001b[1;31mTypeError\u001b[0m: 'int' object is not iterable"
     ]
    }
   ],
   "source": [
    "liste = list((123))\n",
    "print(liste)"
   ]
  },
  {
   "attachments": {},
   "cell_type": "markdown",
   "metadata": {},
   "source": [
    "------"
   ]
  },
  {
   "cell_type": "code",
   "execution_count": 16,
   "metadata": {},
   "outputs": [
    {
     "name": "stdout",
     "output_type": "stream",
     "text": [
      "['P', 'y', 't', 'h', 'o', 'n']\n",
      "[('P', 1, 'A'), ('y', 2, 'B'), ('t', 3, 'C')]\n"
     ]
    }
   ],
   "source": [
    "liste1 = list(\"Python\") #liste1 = [\"Python\"] İKİSİ ARASINDA FARK VARDIR.YUKARIDAKİ KISMI İNCELE!!\n",
    "print(liste1)\n",
    "liste2 = [1,2,3,4]\n",
    "liste3 = [\"A\",\"B\",\"C\"]\n",
    "liste4 = list(zip(liste1,liste2,liste3))\n",
    "print(liste4)\n"
   ]
  },
  {
   "cell_type": "code",
   "execution_count": 39,
   "metadata": {},
   "outputs": [
    {
     "name": "stdout",
     "output_type": "stream",
     "text": [
      "('P', 'y', 't', 'h', 'o', 'n')\n",
      "{('P', 1, 'A'), ('y', 2, 'B'), ('t', 3, 'C')}\n"
     ]
    }
   ],
   "source": [
    "#Veri tipleri değiştirebilirsin yani zip fonksiyonu itterable(itere edilebilir) her şeyi kullanabilir.  \n",
    "liste1 = tuple(\"Python\") \n",
    "print(liste1)\n",
    "liste2 = tuple([1,2,3,4])\n",
    "liste3 = tuple([\"A\",\"B\",\"C\"])\n",
    "liste4 = set(zip(liste1,liste2,liste3))\n",
    "print(liste4)\n"
   ]
  },
  {
   "attachments": {},
   "cell_type": "markdown",
   "metadata": {},
   "source": [
    "-----"
   ]
  },
  {
   "cell_type": "code",
   "execution_count": 60,
   "metadata": {},
   "outputs": [
    {
     "name": "stdout",
     "output_type": "stream",
     "text": [
      "[1, 2, 3, 4, 5, 6, 7, 8, 'Python', 'Php', 'Java', 'Javascript', 'C']\n"
     ]
    }
   ],
   "source": [
    "liste1 = [1,2,3,4]\n",
    "liste2 = [5,6,7,8]\n",
    "liste3 = [\"Python\",\"Php\",\"Java\",\"Javascript\",\"C\"]\n",
    "liste4 = liste1 + liste2 + liste3\n",
    "print(liste4) # 1 boyutlu birleştirme."
   ]
  },
  {
   "cell_type": "code",
   "execution_count": 50,
   "metadata": {},
   "outputs": [
    {
     "data": {
      "text/plain": [
       "[(1, 5, 'Python'), (2, 6, 'Php'), (3, 7, 'Java'), (4, 8, 'Javascript')]"
      ]
     },
     "execution_count": 50,
     "metadata": {},
     "output_type": "execute_result"
    }
   ],
   "source": [
    "liste1 = [1,2,3,4]\n",
    "liste2 = [5,6,7,8]\n",
    "liste3 = [\"Python\",\"Php\",\"Java\",\"Javascript\",\"C\"]\n",
    "list(zip(liste1,liste2,liste3)) # 3 boyutlu liste oluşturma"
   ]
  },
  {
   "cell_type": "code",
   "execution_count": 69,
   "metadata": {},
   "outputs": [
    {
     "data": {
      "text/plain": [
       "[('Elma', 'Sıfır'), ('Armut', 'Bir'), ('Kiraz', 'İki')]"
      ]
     },
     "execution_count": 69,
     "metadata": {},
     "output_type": "execute_result"
    }
   ],
   "source": [
    "# Sözlükler için de bu işlemi yapabiliriz.\n",
    "sözlük1 = {\"Elma\":1,\"Armut\":2,\"Kiraz\":3}\n",
    "sözlük2 = {\"Sıfır\":0,\"Bir\":1,\"İki\":2}\n",
    "list(zip(sözlük1,sözlük2)) # Anahtarlar eşleşti.\n"
   ]
  },
  {
   "attachments": {},
   "cell_type": "markdown",
   "metadata": {},
   "source": [
    "-Farklı bir zip kullanımı"
   ]
  },
  {
   "cell_type": "code",
   "execution_count": 87,
   "metadata": {},
   "outputs": [
    {
     "name": "stdout",
     "output_type": "stream",
     "text": [
      "[[1, 2, 3], [6, 5, 4], [7, 8, 9]]\n",
      "[(1, 6, 7), (2, 5, 8), (3, 4, 9)]\n"
     ]
    }
   ],
   "source": [
    "A = [1,2,3]\n",
    "B = [6,5,4]\n",
    "C = [7,8,9]\n",
    "X = [A] + [B] + [C]\n",
    "print(X)\n",
    "print(list(zip(*X)))\n"
   ]
  },
  {
   "attachments": {},
   "cell_type": "markdown",
   "metadata": {},
   "source": [
    "# reduce Fonksiyonu\n",
    "- Parametre olarak bir tane fonksiyon ve bir liste alır.\n",
    "- map ve filter'dan farklı olarak;\n",
    "\n",
    "```\n",
    "Map ve filter liste döndürürken,reduce fonksiyonu sadece bir tane değer döndürür.\n",
    "```\n",
    "- reduce fonksiyonu functools modülünün içinde olduğu için kullanırkan bu modülü import etmemiz gerekir. "
   ]
  },
  {
   "attachments": {},
   "cell_type": "markdown",
   "metadata": {},
   "source": [
    "Yapısı:\n",
    "```python\n",
    "reduce(Fonksiyon,liste)\n",
    "```"
   ]
  },
  {
   "cell_type": "code",
   "execution_count": 9,
   "metadata": {},
   "outputs": [
    {
     "name": "stdout",
     "output_type": "stream",
     "text": [
      "21\n",
      "432\n"
     ]
    }
   ],
   "source": [
    "from functools import reduce\n",
    "liste = [2,4,6,9]\n",
    "def toplama(x,y):\n",
    "    return x + y\n",
    "def carpma(x,y):\n",
    "    return x * y\n",
    "sonuc1 = reduce(toplama,liste)\n",
    "print(sonuc1)\n",
    "# # Bu 20 sonucunu şu şekilde buldu; reduce fonksiyonunun çalışma mantığı budur.\n",
    "# 1.adım = 2+4 =6\n",
    "# 2.adım = 6+6 =12\n",
    "# 3.adım = 12+8 = 20\n",
    "sonuc2 = reduce(carpma,liste)\n",
    "print(sonuc2)\n",
    "# # Bu 432 sonucunu şu şekilde buldu; reduce fonksiyonunun çalışma mantığı budur.\n",
    "# 1.adım = 2*4 = 8\n",
    "# 2.adım =  8*6 = 48\n",
    "# 3.adım = 48*9 = 432"
   ]
  },
  {
   "attachments": {},
   "cell_type": "markdown",
   "metadata": {},
   "source": [
    "                        veya lambda ile kullanmak istersek"
   ]
  },
  {
   "cell_type": "code",
   "execution_count": 10,
   "metadata": {},
   "outputs": [
    {
     "name": "stdout",
     "output_type": "stream",
     "text": [
      "21\n",
      "432\n"
     ]
    }
   ],
   "source": [
    "from functools import reduce\n",
    "liste = [2,4,6,9]\n",
    "sonuc1 = reduce(lambda x,y: x+y , liste)\n",
    "print(sonuc1)\n",
    "sonuc2 = reduce(lambda x,y: x*y , liste)\n",
    "print(sonuc2)\n"
   ]
  },
  {
   "attachments": {},
   "cell_type": "markdown",
   "metadata": {},
   "source": [
    "Bu örnekler aslında çok açıklayıcı olmadı.Yani aslında ardışık toplamak veya çarpmak aynı anda toplayıp çarpmakla aynı şey.Daha anlamlı(neden reduce kullanalım?) örnekler yapacak olursak;"
   ]
  },
  {
   "cell_type": "code",
   "execution_count": 19,
   "metadata": {},
   "outputs": [
    {
     "name": "stdout",
     "output_type": "stream",
     "text": [
      "24\n",
      "180\n"
     ]
    }
   ],
   "source": [
    "from functools import reduce\n",
    "liste = [2,4,6,9,10]\n",
    "#Örneğin ben bunların EKOK'unu almak istersem:(pythonda EBOB fonksiyonu var ancak EKOK fonksiyonu yok)\n",
    "from math import gcd #EBOB FONKSİYONU (gcd = greatest common divider)\n",
    "# ebob(a,b) * ekok(a,b) = a * b == ekok(a,b) = (a * b) / ebob(a,b)\n",
    "#kendimize bir ekok fonksiyonu oluşturalım.\n",
    "def ekok(a,b):\n",
    "    return int((a*b) / gcd(a,b)) #ebob (a,b)\n",
    "print(ekok(6,8))\n",
    "\n",
    "ekok1 = reduce(ekok,liste)\n",
    "print(ekok1)\n",
    "# # 180 sonucunu şu şekilde buldu;\n",
    "# önce 2 ve 4 ekokunu aldı 4 buldu.\n",
    "# sonra 4 ve 6 ekokunu aldı 12 buldu.\n",
    "# sonra 12 ve 9 ekokunu aldı 36 buldu.\n",
    "# en son 36 ve 10 ekokunu aldı 180 buldu.\n",
    "\n"
   ]
  },
  {
   "attachments": {},
   "cell_type": "markdown",
   "metadata": {},
   "source": [
    "-----"
   ]
  },
  {
   "attachments": {},
   "cell_type": "markdown",
   "metadata": {},
   "source": [
    "Taş,kağıt,makas oyunu yapalım."
   ]
  },
  {
   "cell_type": "code",
   "execution_count": 10,
   "metadata": {},
   "outputs": [
    {
     "name": "stdout",
     "output_type": "stream",
     "text": [
      "kağıt\n"
     ]
    }
   ],
   "source": [
    "from functools import reduce\n",
    "def tas_makas(x,y):\n",
    "    kume = {x,y} #Küme kullandık çünkü önce taş ya da makas demenin bir önemi yok.Kümeler sırasız veri tipi oldğundan kümeleri kullandık.Diğer veri tipleri sıralı veri tipleriydi.\n",
    "    if x == y:\n",
    "        return x \n",
    "    if kume == {\"taş\",\"makas\"}:\n",
    "        return \"taş\"\n",
    "    if kume == {\"taş\",\"kağıt\"}:\n",
    "        return \"kağıt\"\n",
    "    if kume == {\"makas\",\"kağıt\"}:\n",
    "        return \"makas\"\n",
    "liste = {\"makas\",\"taş\",\"kağıt\",\"taş\",}\n",
    "sonuc = reduce(tas_makas,liste)\n",
    "print(sonuc)    \n",
    "# 1.adım = makas taş = taş\n",
    "# 2.adım = taş taş = taş\n",
    "# 3.adım = taş kağıt = kağıt\n",
    "# 4.adım = kağıt taş = kağıt"
   ]
  },
  {
   "attachments": {},
   "cell_type": "markdown",
   "metadata": {},
   "source": [
    "Neden küme kullandık?\n",
    "ÇÜNKÜ KÜMELER SIRASIZ VE İNDEXLENEMEZ VERİ TİPLERİDİR."
   ]
  },
  {
   "cell_type": "code",
   "execution_count": 45,
   "metadata": {},
   "outputs": [
    {
     "name": "stdout",
     "output_type": "stream",
     "text": [
      "False\n",
      "False\n",
      "True\n"
     ]
    }
   ],
   "source": [
    "print([2,3] == [3,2]) #LİSTE\n",
    "print((2,3) == (3,2)) #TUPLE(DEMET)\n",
    "print({2,3} == {3,2}) #SET(KÜME)"
   ]
  },
  {
   "attachments": {},
   "cell_type": "markdown",
   "metadata": {},
   "source": [
    "# enumarate()\n",
    "İngilizcede enumerate kelimesi 'numaralandırmak' anlamına gelir. enumerate() fonksiyonunun görevi de kelimenin bu anlamıyla aynıdır. Yani bu fonksiyonu kullanarak nesneleri numaralandırabiliriz."
   ]
  },
  {
   "cell_type": "code",
   "execution_count": 2,
   "metadata": {},
   "outputs": [
    {
     "data": {
      "text/plain": [
       "[(0, 'Elma'), (1, 'Armut'), (2, 'Muz'), (3, 'Kiraz')]"
      ]
     },
     "execution_count": 2,
     "metadata": {},
     "output_type": "execute_result"
    }
   ],
   "source": [
    "liste = [\"Elma\",\"Armut\",\"Muz\",\"Kiraz\"]\n",
    "list(enumerate(liste))"
   ]
  },
  {
   "attachments": {},
   "cell_type": "markdown",
   "metadata": {},
   "source": [
    "# all()\n",
    "all() fonksiyonu bütün değerler True ise True, en az bir değer False ise False sonuç döndürür.Aslında bunu bir end operatörü olarak düşünebiliriz."
   ]
  },
  {
   "cell_type": "code",
   "execution_count": 87,
   "metadata": {},
   "outputs": [
    {
     "data": {
      "text/plain": [
       "True"
      ]
     },
     "execution_count": 87,
     "metadata": {},
     "output_type": "execute_result"
    }
   ],
   "source": [
    "liste = [True,True,True,True]\n",
    "all(liste) "
   ]
  },
  {
   "cell_type": "code",
   "execution_count": 89,
   "metadata": {},
   "outputs": [
    {
     "data": {
      "text/plain": [
       "False"
      ]
     },
     "execution_count": 89,
     "metadata": {},
     "output_type": "execute_result"
    }
   ],
   "source": [
    "liste = [True,True,True,False]\n",
    "all(liste) "
   ]
  },
  {
   "cell_type": "code",
   "execution_count": 86,
   "metadata": {},
   "outputs": [
    {
     "data": {
      "text/plain": [
       "False"
      ]
     },
     "execution_count": 86,
     "metadata": {},
     "output_type": "execute_result"
    }
   ],
   "source": [
    "liste = [0,0,0,0,0,0,0]\n",
    "all(liste)"
   ]
  },
  {
   "cell_type": "code",
   "execution_count": 92,
   "metadata": {},
   "outputs": [
    {
     "data": {
      "text/plain": [
       "False"
      ]
     },
     "execution_count": 92,
     "metadata": {},
     "output_type": "execute_result"
    }
   ],
   "source": [
    "liste = [0,0,0,0,0,0,1] #0 = False , 1 = True\n",
    "all(liste)"
   ]
  },
  {
   "attachments": {},
   "cell_type": "markdown",
   "metadata": {},
   "source": [
    "# any() \n",
    "any() fonksiyonu bütün değerler False ise False, en az bir değer True ise True sonuç döndürür.\n",
    "\n"
   ]
  },
  {
   "cell_type": "code",
   "execution_count": 88,
   "metadata": {},
   "outputs": [
    {
     "data": {
      "text/plain": [
       "True"
      ]
     },
     "execution_count": 88,
     "metadata": {},
     "output_type": "execute_result"
    }
   ],
   "source": [
    "liste = [True,True,True,True]\n",
    "any(liste) "
   ]
  },
  {
   "cell_type": "code",
   "execution_count": 90,
   "metadata": {},
   "outputs": [
    {
     "data": {
      "text/plain": [
       "True"
      ]
     },
     "execution_count": 90,
     "metadata": {},
     "output_type": "execute_result"
    }
   ],
   "source": [
    "liste = [True,True,True,False]\n",
    "any(liste) "
   ]
  },
  {
   "cell_type": "code",
   "execution_count": 78,
   "metadata": {},
   "outputs": [
    {
     "data": {
      "text/plain": [
       "False"
      ]
     },
     "execution_count": 78,
     "metadata": {},
     "output_type": "execute_result"
    }
   ],
   "source": [
    "liste = [0,0,0,0,0,0,0] #0 = False , 1 = True\n",
    "any(liste)"
   ]
  },
  {
   "cell_type": "code",
   "execution_count": 91,
   "metadata": {},
   "outputs": [
    {
     "data": {
      "text/plain": [
       "True"
      ]
     },
     "execution_count": 91,
     "metadata": {},
     "output_type": "execute_result"
    }
   ],
   "source": [
    "liste = [0,0,0,0,0,0,1] #0 = False , 1 = True\n",
    "any(liste)"
   ]
  },
  {
   "attachments": {},
   "cell_type": "markdown",
   "metadata": {},
   "source": [
    "### sorted() Metodu\n",
    "- Dizi içindeki öğeleri belirli bir ölçüte göre sıraya dizmemizi sağlar."
   ]
  },
  {
   "cell_type": "code",
   "execution_count": 15,
   "metadata": {},
   "outputs": [
    {
     "name": "stdout",
     "output_type": "stream",
     "text": [
      "['armut', 'badem', 'elma', 'kiraz']\n"
     ]
    }
   ],
   "source": [
    "print(sorted(('elma', 'armut', 'kiraz', 'badem')))"
   ]
  },
  {
   "cell_type": "code",
   "execution_count": 16,
   "metadata": {},
   "outputs": [
    {
     "name": "stdout",
     "output_type": "stream",
     "text": [
      "[1, 5, 7, 45, 53, 67, 97]\n"
     ]
    }
   ],
   "source": [
    "sayiListesi = [1,53,45,67,97,5,7]\n",
    "print(sorted(sayiListesi))"
   ]
  },
  {
   "cell_type": "code",
   "execution_count": 17,
   "metadata": {},
   "outputs": [
    {
     "name": "stdout",
     "output_type": "stream",
     "text": [
      "[{'title': 'Audi A4', 'price': 400000}, {'title': 'BMW 520', 'price': 700000}, {'title': 'Mercedes E', 'price': 900000}]\n"
     ]
    }
   ],
   "source": [
    "araclar = [\n",
    "    {\"title\":\"Audi A4\",\"price\":400000},\n",
    "    {\"title\":\"Mercedes E\",\"price\":900000},\n",
    "    {\"title\":\"BMW 520\",\"price\":700000}\n",
    "]\n",
    "print(sorted(araclar,key=lambda arac:arac[\"price\"]))\n"
   ]
  },
  {
   "attachments": {},
   "cell_type": "markdown",
   "metadata": {},
   "source": [
    "### min ve max fonksiyonu\n",
    "- max() fonksiyonu bir dizi içindeki en büyük öğeyi bulur. \n",
    "- min() fonksiyonu da bir dizi içindeki en küçük öğeyi bulur."
   ]
  },
  {
   "cell_type": "code",
   "execution_count": 18,
   "metadata": {},
   "outputs": [
    {
     "name": "stdout",
     "output_type": "stream",
     "text": [
      "1\n",
      "89\n"
     ]
    }
   ],
   "source": [
    "sayilar3 = [1,5,7,45,25,89]\n",
    "print(min(sayilar3))\n",
    "print(max(sayilar3))"
   ]
  },
  {
   "cell_type": "code",
   "execution_count": 19,
   "metadata": {},
   "outputs": [
    {
     "name": "stdout",
     "output_type": "stream",
     "text": [
      "a\n",
      "v\n"
     ]
    }
   ],
   "source": [
    "harfler = ['a','v','h','s']\n",
    "print(min(harfler))\n",
    "print(max(harfler))"
   ]
  },
  {
   "attachments": {},
   "cell_type": "markdown",
   "metadata": {},
   "source": [
    "### abs()\n",
    "abs() fonksiyonunu bir sayının mutlak değerini elde etmek için kullanılır."
   ]
  },
  {
   "cell_type": "code",
   "execution_count": 20,
   "metadata": {},
   "outputs": [
    {
     "data": {
      "text/plain": [
       "20"
      ]
     },
     "execution_count": 20,
     "metadata": {},
     "output_type": "execute_result"
    }
   ],
   "source": [
    "abs(-20)"
   ]
  },
  {
   "attachments": {},
   "cell_type": "markdown",
   "metadata": {},
   "source": [
    "### sum()\n",
    "Bu fonksiyonun temel görevi, bir dizi içindeki değerlerin toplamını bulmaktır."
   ]
  },
  {
   "cell_type": "code",
   "execution_count": 21,
   "metadata": {},
   "outputs": [
    {
     "name": "stdout",
     "output_type": "stream",
     "text": [
      "6\n"
     ]
    }
   ],
   "source": [
    "l = [1, 2, 3]\n",
    "print(sum(l))"
   ]
  },
  {
   "attachments": {},
   "cell_type": "markdown",
   "metadata": {},
   "source": [
    "### round() fonksiyonu \n",
    "bir sayıyı belli ölçütlere göre yukarı veya aşağı doğru yuvarlamamızı sağlar\n"
   ]
  },
  {
   "cell_type": "code",
   "execution_count": 23,
   "metadata": {},
   "outputs": [
    {
     "name": "stdout",
     "output_type": "stream",
     "text": [
      "12\n",
      "13\n",
      "2\n"
     ]
    }
   ],
   "source": [
    "print(round(12.4)) #5'in altını aşağıya yuvarlar.\n",
    "print(round(12.8))\n",
    "print(round(1.5)) #5 ve üstünü yukarıya yuvarlar."
   ]
  },
  {
   "attachments": {},
   "cell_type": "markdown",
   "metadata": {},
   "source": [
    "# Hata Yönetimi\n",
    "\n",
    "- Python programlarında bazen bir değişkenin tanımlanmadan kullanılmaya çalıştırılması , bazen de yapılamayacak bir aritmetik işlemin yapılması Pythonda hatalara yol açar. Ancak bu istisnai durumlarda, hataların türüne göre programlarımızı daha güvenli bir şekilde yazabiliriz.Yani hata çıkarabilecek kodlarımızı öngörerek bu hataları programlarımızda yakalayabiliriz. "
   ]
  },
  {
   "cell_type": "code",
   "execution_count": 93,
   "metadata": {},
   "outputs": [
    {
     "ename": "NameError",
     "evalue": "name 'a' is not defined",
     "output_type": "error",
     "traceback": [
      "\u001b[1;31m---------------------------------------------------------------------------\u001b[0m",
      "\u001b[1;31mNameError\u001b[0m                                 Traceback (most recent call last)",
      "Cell \u001b[1;32mIn[93], line 1\u001b[0m\n\u001b[1;32m----> 1\u001b[0m \u001b[39mprint\u001b[39m(a) \u001b[39m# Tanımlı değil - Name Error hatası\u001b[39;00m\n",
      "\u001b[1;31mNameError\u001b[0m: name 'a' is not defined"
     ]
    }
   ],
   "source": [
    "print(a) # Tanımlı değil - Name Error hatası"
   ]
  },
  {
   "cell_type": "code",
   "execution_count": 94,
   "metadata": {},
   "outputs": [
    {
     "ename": "ZeroDivisionError",
     "evalue": "division by zero",
     "output_type": "error",
     "traceback": [
      "\u001b[1;31m---------------------------------------------------------------------------\u001b[0m",
      "\u001b[1;31mZeroDivisionError\u001b[0m                         Traceback (most recent call last)",
      "Cell \u001b[1;32mIn[94], line 1\u001b[0m\n\u001b[1;32m----> 1\u001b[0m \u001b[39m2\u001b[39;49m \u001b[39m/\u001b[39;49m \u001b[39m0\u001b[39;49m \u001b[39m# Bir sayı 0'a bölünemez.\u001b[39;00m\n",
      "\u001b[1;31mZeroDivisionError\u001b[0m: division by zero"
     ]
    }
   ],
   "source": [
    "2 / 0 # Bir sayı 0'a bölünemez. - division by zero hatası\n"
   ]
  },
  {
   "cell_type": "code",
   "execution_count": 96,
   "metadata": {},
   "outputs": [
    {
     "ename": "SyntaxError",
     "evalue": "Missing parentheses in call to 'print'. Did you mean print(...)? (1064724871.py, line 1)",
     "output_type": "error",
     "traceback": [
      "\u001b[1;36m  Cell \u001b[1;32mIn[96], line 1\u001b[1;36m\u001b[0m\n\u001b[1;33m    print \"Merhaba\" # Syntax Error hatası\u001b[0m\n\u001b[1;37m    ^\u001b[0m\n\u001b[1;31mSyntaxError\u001b[0m\u001b[1;31m:\u001b[0m Missing parentheses in call to 'print'. Did you mean print(...)?\n"
     ]
    }
   ],
   "source": [
    "print \"Merhaba\" # Syntax Error hatası"
   ]
  },
  {
   "attachments": {},
   "cell_type": "markdown",
   "metadata": {},
   "source": [
    "Bunlardan kurtulmanın yolu;"
   ]
  },
  {
   "attachments": {},
   "cell_type": "markdown",
   "metadata": {},
   "source": [
    "# try , except blokları \n",
    "try ,except bloklarının yapısı şu şekildedir;\n",
    "```python\n",
    "    try:\n",
    "        Hata çıkarabilecek kodlar buraya yazılıyor.\n",
    "        Eğer hata çıkarsa program uygun olan except bloğuna girecek.\n",
    "        Hatayı bulduğu satırdan sonra try bloğunun geri kalanındaki işlemler çalışmayacak.\n",
    "    except Hata1:\n",
    "        Hata1 oluştuğunda burası çalışacak.\n",
    "    except Hata2:\n",
    "        Hata2 oluştuğunda burası çalışacak.\n"
   ]
  },
  {
   "attachments": {},
   "cell_type": "markdown",
   "metadata": {},
   "source": [
    "https://www.youtube.com/watch?v=iBYppSXFw0A&list=PL3kMAPso9YQ1Ls-5uTTIWWMkJoF_vyj5J&index=24&t=1s"
   ]
  },
  {
   "cell_type": "code",
   "execution_count": 98,
   "metadata": {},
   "outputs": [
    {
     "name": "stdout",
     "output_type": "stream",
     "text": [
      "Hata oluştu\n",
      "Bloklar sona erdi\n"
     ]
    }
   ],
   "source": [
    "try:\n",
    "    a =  int(\"abcd\") # Burası ValueError hatası veriyor.Bu yüzden ;\n",
    "    print(\"Hata oluşmadı\")#Bu satıra geçmek yerine except bloğuna gitti ve \"Hata oluşmadı\" yazmadı.\n",
    "except: # Hatayı belirtmezsek bütün hatalar bu kısma giriyor.\n",
    "    print(\"Hata oluştu\")  # Burası çalışır.\n",
    "    \n",
    "print(\"Bloklar sona erdi\")"
   ]
  },
  {
   "cell_type": "code",
   "execution_count": 107,
   "metadata": {},
   "outputs": [
    {
     "name": "stdout",
     "output_type": "stream",
     "text": [
      "Hata oluşmadı\n",
      "Bloklar sona erdi\n"
     ]
    }
   ],
   "source": [
    "#Eğer hata oluşmasaydı tam tersi olurdu;\n",
    "try:\n",
    "    a =  int(123) # Burada hata almadı.\n",
    "    print(\"Hata oluşmadı\")#Bu satıra geçti ve \"Hata oluşmadı\" yazdı.\n",
    "except: #Bu bloğa hiç geçmedi.\n",
    "    print(\"Hata oluştu\")  # Burası çalışmadı.\n",
    "    \n",
    "print(\"Bloklar sona erdi\")"
   ]
  },
  {
   "cell_type": "code",
   "execution_count": 138,
   "metadata": {},
   "outputs": [
    {
     "name": "stdout",
     "output_type": "stream",
     "text": [
      "Hata oluştu.\n",
      "Bloklar sona erdi\n"
     ]
    }
   ],
   "source": [
    "try:\n",
    "    a = int(\"abcd\")\n",
    "except ValueError: #Value Error hatası alırsam bu bloğa geç.\n",
    "    print(\"Hata oluştu.\")\n",
    "print(\"Bloklar sona erdi\")"
   ]
  },
  {
   "cell_type": "code",
   "execution_count": 137,
   "metadata": {},
   "outputs": [
    {
     "name": "stdout",
     "output_type": "stream",
     "text": [
      "Bloklar sona erdi\n"
     ]
    }
   ],
   "source": [
    "try:\n",
    "    a = int(123)\n",
    "except ValueError: #Value Error hatası almadım bu bloğa geçme.\n",
    "    print(\"Hata oluştu.\")\n",
    "print(\"Bloklar sona erdi\")"
   ]
  },
  {
   "cell_type": "code",
   "execution_count": 55,
   "metadata": {},
   "outputs": [
    {
     "name": "stdout",
     "output_type": "stream",
     "text": [
      "Öyle bir değişken yok\n"
     ]
    }
   ],
   "source": [
    "try:\n",
    "    a = int(input(\"Sayı1:\"))\n",
    "    b = int(input(\"Sayı2:\"))\n",
    "    x = s # Name error aldığımdan exception bloğuna geçiyoruz.Alttaki print kısmı çalışmadı.\n",
    "    print(a / b) # Hata burada oluşuyor. ZeroDivisionError bloğuna giriyoruz.\n",
    "except ValueError:\n",
    "    print(\"Lütfen inputları doğru girin.\")\n",
    "except ZeroDivisionError:\n",
    "    print(\"Bir sayı 0'a bölünemez.\")\n",
    "except Exception: #Exception diyerek yazdığın hatalar harici hata alırsam buraya geç demek.\n",
    "    print(\"Öyle bir değişken yok\")"
   ]
  },
  {
   "attachments": {},
   "cell_type": "markdown",
   "metadata": {},
   "source": [
    "- **except:** ve **except Exception:** aynı şeydir"
   ]
  },
  {
   "cell_type": "code",
   "execution_count": 148,
   "metadata": {},
   "outputs": [
    {
     "name": "stdout",
     "output_type": "stream",
     "text": [
      "ZeroDivision veya ValueError hatası\n"
     ]
    }
   ],
   "source": [
    "try:\n",
    "    a = int(input(\"Sayı1:\"))\n",
    "    b = int(input(\"Sayı2:\")) \n",
    "    print(a / b) \n",
    "except (ValueError,ZeroDivisionError):\n",
    "    print(\"ZeroDivision veya ValueError hatası\")"
   ]
  },
  {
   "attachments": {},
   "cell_type": "markdown",
   "metadata": {},
   "source": [
    "# try - except - else \n",
    "- try bloğunun içinde hata oluşursa except bloğuna girer.\n",
    "- try bloğunun içinde hata oluşmazsa else bloğuna girer.\n",
    "```\t\n",
    "try:\n",
    "   hata çıkarabilecek kodlar buraya yazılır.\n",
    "except Hata1:\n",
    "    Hata1 oluştuğunda burası çalışacak.\n",
    "else:\n",
    "    Hata oluşmazsa burası çalışacak.\n",
    "```"
   ]
  },
  {
   "cell_type": "code",
   "execution_count": 56,
   "metadata": {},
   "outputs": [
    {
     "name": "stdout",
     "output_type": "stream",
     "text": [
      "2.0\n",
      "Doğru Çalıştı\n"
     ]
    }
   ],
   "source": [
    "try:\n",
    "    a = int(input(\"Sayı1:\"))\n",
    "    b = int(input(\"Sayı2:\"))\n",
    "    print(a / b) \n",
    "except ValueError:\n",
    "    print(\"Lütfen inputları doğru girin.\")\n",
    "except ZeroDivisionError:\n",
    "    print(\"Bir sayı 0'a bölünemez.\")\n",
    "else:\n",
    "    print(\"Doğru Çalıştı\")"
   ]
  },
  {
   "attachments": {},
   "cell_type": "markdown",
   "metadata": {},
   "source": [
    "# try - except - finally \n",
    "```\t\n",
    "try:\n",
    "   hata çıkarabilecek kodlar buraya yazılır.\n",
    "except Hata1:\n",
    "    Hata1 oluştuğunda burası çalışacak.\n",
    "finally:\n",
    "    Kesin olarak her zaman çalışacak.\n",
    "```"
   ]
  },
  {
   "cell_type": "code",
   "execution_count": 34,
   "metadata": {},
   "outputs": [
    {
     "name": "stdout",
     "output_type": "stream",
     "text": [
      "Bir sayı 0'a bölünemez. division by zero\n",
      "Her durumda çalışıyorum.\n"
     ]
    }
   ],
   "source": [
    "try:\n",
    "    a = int(input(\"Sayı1:\"))\n",
    "    b = int(input(\"Sayı2:\"))\n",
    "    print(a / b) # Hata burada oluşuyor. ZeroDivisionError'a bloğuna giriyoruz.\n",
    "except ValueError as a :\n",
    "    print(\"Lütfen inputları doğru girin.\" ,a )\n",
    "except ZeroDivisionError as b:\n",
    "    print(\"Bir sayı 0'a bölünemez.\",b)\n",
    "finally:\n",
    "    print(\"Her durumda çalışıyorum.\")"
   ]
  },
  {
   "cell_type": "code",
   "execution_count": 159,
   "metadata": {},
   "outputs": [
    {
     "name": "stdout",
     "output_type": "stream",
     "text": [
      "Hata oluştu\n",
      "0\n"
     ]
    }
   ],
   "source": [
    "try:\n",
    "    liste = list(range(100))\n",
    "    print(liste[101]) #IndexError hatası aldığımdan except bloğuna gidiyorum.\n",
    "except:\n",
    "    print(\"Hata oluştu\")\n",
    "finally:\n",
    "    liste.clear() #Her türlü çalışacağı için listeyi clearladı.\n",
    "print(len(liste))"
   ]
  },
  {
   "attachments": {},
   "cell_type": "markdown",
   "metadata": {},
   "source": [
    "# Hata Fırlattırma\n",
    "- Hataları fırlatmak için raise kullanılır.\n",
    "- Aslında biz hatalar yaptığımızda Python'un bize verdiği mesajlar hep bu yolladır.Python kendi içinde raise çalıştırır.Biz ekstra raise yazarak hata mesajını düzenliyoruz.Örneğin python bize default olarak:\n",
    "- ZeroDivisionError: division by zero olarak sonuç verir.\n",
    "- raise ZeroDivisionError(\"Bir sayı sıfıra bölünmez\") yazarak sonucun:\n",
    "- ZeroDivisionError : Bir sayı sıfıra bölünmez olarak güncellenmesini sağlarız.\n",
    "\n",
    "```raise HataAdı(opsiyonel hata mesajı)```"
   ]
  },
  {
   "cell_type": "code",
   "execution_count": 81,
   "metadata": {},
   "outputs": [
    {
     "ename": "Exception",
     "evalue": "Türkçe Karakter Kullanmayınız.",
     "output_type": "error",
     "traceback": [
      "\u001b[1;31m---------------------------------------------------------------------------\u001b[0m",
      "\u001b[1;31mException\u001b[0m                                 Traceback (most recent call last)",
      "Cell \u001b[1;32mIn[81], line 5\u001b[0m\n\u001b[0;32m      3\u001b[0m \u001b[39mfor\u001b[39;00m i \u001b[39min\u001b[39;00m isim:\n\u001b[0;32m      4\u001b[0m     \u001b[39mif\u001b[39;00m i \u001b[39min\u001b[39;00m turkce:\n\u001b[1;32m----> 5\u001b[0m         \u001b[39mraise\u001b[39;00m \u001b[39mException\u001b[39;00m(\u001b[39m\"\u001b[39m\u001b[39mTürkçe Karakter Kullanmayınız.\u001b[39m\u001b[39m\"\u001b[39m)\n\u001b[0;32m      6\u001b[0m \u001b[39mprint\u001b[39m(isim)\n",
      "\u001b[1;31mException\u001b[0m: Türkçe Karakter Kullanmayınız."
     ]
    }
   ],
   "source": [
    "turkce = [\"ç\",\"ş\",\"ö\",\"ğ\"]\n",
    "isim = input(\"İsminizi giriniz.\")\n",
    "for i in isim:\n",
    "    if i in turkce:\n",
    "        raise Exception(\"Türkçe Karakter Kullanmayınız.\")\n",
    "print(isim)"
   ]
  },
  {
   "cell_type": "code",
   "execution_count": 76,
   "metadata": {},
   "outputs": [],
   "source": [
    "# Verilen string'i ters çevirmek\n",
    "def terscevir(s):\n",
    "    if (type(s) != str):\n",
    "        raise ValueError(\"Lütfen doğru bir input girin.\") # En altta Value Error : Lütfen doğru bir input girin. yazdı. \n",
    "    else:\n",
    "        return s[::-1]"
   ]
  },
  {
   "cell_type": "code",
   "execution_count": 77,
   "metadata": {},
   "outputs": [
    {
     "ename": "ValueError",
     "evalue": "Lütfen doğru bir input girin.",
     "output_type": "error",
     "traceback": [
      "\u001b[1;31m---------------------------------------------------------------------------\u001b[0m",
      "\u001b[1;31mValueError\u001b[0m                                Traceback (most recent call last)",
      "Cell \u001b[1;32mIn[77], line 1\u001b[0m\n\u001b[1;32m----> 1\u001b[0m terscevir(\u001b[39m56\u001b[39;49m)\n",
      "Cell \u001b[1;32mIn[76], line 4\u001b[0m, in \u001b[0;36mterscevir\u001b[1;34m(s)\u001b[0m\n\u001b[0;32m      2\u001b[0m \u001b[39mdef\u001b[39;00m \u001b[39mterscevir\u001b[39m(s):\n\u001b[0;32m      3\u001b[0m     \u001b[39mif\u001b[39;00m (\u001b[39mtype\u001b[39m(s) \u001b[39m!=\u001b[39m \u001b[39mstr\u001b[39m):\n\u001b[1;32m----> 4\u001b[0m         \u001b[39mraise\u001b[39;00m \u001b[39mValueError\u001b[39;00m(\u001b[39m\"\u001b[39m\u001b[39mLütfen doğru bir input girin.\u001b[39m\u001b[39m\"\u001b[39m) \u001b[39m# En altta Value Error : Lütfen doğru bir input girin. yazdı. \u001b[39;00m\n\u001b[0;32m      5\u001b[0m     \u001b[39melse\u001b[39;00m:\n\u001b[0;32m      6\u001b[0m         \u001b[39mreturn\u001b[39;00m s[::\u001b[39m-\u001b[39m\u001b[39m1\u001b[39m]\n",
      "\u001b[1;31mValueError\u001b[0m: Lütfen doğru bir input girin."
     ]
    }
   ],
   "source": [
    "terscevir(56)"
   ]
  },
  {
   "cell_type": "code",
   "execution_count": 173,
   "metadata": {},
   "outputs": [
    {
     "data": {
      "text/plain": [
       "'fedCBA'"
      ]
     },
     "execution_count": 173,
     "metadata": {},
     "output_type": "execute_result"
    }
   ],
   "source": [
    "terscevir(\"ABCdef\")"
   ]
  },
  {
   "cell_type": "code",
   "execution_count": 175,
   "metadata": {},
   "outputs": [
    {
     "name": "stdout",
     "output_type": "stream",
     "text": [
      "fedCBA\n"
     ]
    }
   ],
   "source": [
    "\n",
    "try:\n",
    "    print(terscevir(\"ABCdef\"))\n",
    "except ValueError:\n",
    "    print(\"Fonksiyonda bir hata oluştu.\")\n"
   ]
  },
  {
   "cell_type": "code",
   "execution_count": 177,
   "metadata": {},
   "outputs": [
    {
     "name": "stdout",
     "output_type": "stream",
     "text": [
      "Fonksiyonda bir hata oluştu.\n"
     ]
    }
   ],
   "source": [
    "\n",
    "try:\n",
    "    print(terscevir(56))\n",
    "except ValueError:\n",
    "    print(\"Fonksiyonda bir hata oluştu.\")\n"
   ]
  }
 ],
 "metadata": {
  "kernelspec": {
   "display_name": "Python 3",
   "language": "python",
   "name": "python3"
  },
  "language_info": {
   "codemirror_mode": {
    "name": "ipython",
    "version": 3
   },
   "file_extension": ".py",
   "mimetype": "text/x-python",
   "name": "python",
   "nbconvert_exporter": "python",
   "pygments_lexer": "ipython3",
   "version": "3.11.1"
  },
  "orig_nbformat": 4,
  "vscode": {
   "interpreter": {
    "hash": "b52f0326c461c572921985537a28c1464d6f232a21b63d1eb118623ecdbf8940"
   }
  }
 },
 "nbformat": 4,
 "nbformat_minor": 2
}
