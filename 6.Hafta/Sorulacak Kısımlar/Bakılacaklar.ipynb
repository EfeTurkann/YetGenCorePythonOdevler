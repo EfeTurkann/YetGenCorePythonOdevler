{
 "cells": [
  {
   "cell_type": "code",
   "execution_count": 5,
   "metadata": {},
   "outputs": [
    {
     "name": "stdout",
     "output_type": "stream",
     "text": [
      "Error Code: invalid literal for int() with base 10: 'a'\n"
     ]
    }
   ],
   "source": [
    "a = (input())\n",
    "b = (input())\n",
    "try:\n",
    "    print(int(a) // int(b))\n",
    "except ZeroDivisionError as e:\n",
    "    print(\"Error Code:\" , e )\n",
    "except ValueError as e:\n",
    "    print(\"Error Code:\" , e )\n",
    "    "
   ]
  },
  {
   "cell_type": "code",
   "execution_count": 29,
   "metadata": {},
   "outputs": [
    {
     "name": "stdout",
     "output_type": "stream",
     "text": [
      "Error Code: integer division or modulo by zero\n"
     ]
    }
   ],
   "source": [
    "a = (input())\n",
    "b = (input())\n",
    "try:\n",
    "    print(int(a) // int(b))\n",
    "except ZeroDivisionError as e:\n",
    "    print(\"Error Code:\",e )\n",
    "except ValueError as e:\n",
    "    print(\"Error Code:\",e )\n",
    "    \n",
    "    "
   ]
  },
  {
   "cell_type": "code",
   "execution_count": 37,
   "metadata": {},
   "outputs": [
    {
     "name": "stdout",
     "output_type": "stream",
     "text": [
      "5 10\n",
      "10 5\n"
     ]
    }
   ],
   "source": [
    "sayi1 = 5\n",
    "sayi2 = 10\n",
    "print(sayi1,sayi2)\n",
    "temp = sayi1\n",
    "sayi1 = sayi2\n",
    "sayi2 = temp\n",
    "print(sayi1,sayi2)\n"
   ]
  }
 ],
 "metadata": {
  "kernelspec": {
   "display_name": "Python 3",
   "language": "python",
   "name": "python3"
  },
  "language_info": {
   "codemirror_mode": {
    "name": "ipython",
    "version": 3
   },
   "file_extension": ".py",
   "mimetype": "text/x-python",
   "name": "python",
   "nbconvert_exporter": "python",
   "pygments_lexer": "ipython3",
   "version": "3.11.1"
  },
  "orig_nbformat": 4,
  "vscode": {
   "interpreter": {
    "hash": "b52f0326c461c572921985537a28c1464d6f232a21b63d1eb118623ecdbf8940"
   }
  }
 },
 "nbformat": 4,
 "nbformat_minor": 2
}
