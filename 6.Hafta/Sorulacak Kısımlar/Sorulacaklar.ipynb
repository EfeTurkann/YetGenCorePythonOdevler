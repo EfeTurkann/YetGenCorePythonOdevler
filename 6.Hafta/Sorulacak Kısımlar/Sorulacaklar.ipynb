{
 "cells": [
  {
   "attachments": {},
   "cell_type": "markdown",
   "metadata": {},
   "source": [
    "----"
   ]
  },
  {
   "attachments": {},
   "cell_type": "markdown",
   "metadata": {},
   "source": [
    " (?) HackerRank Sorusu 1  https://www.hackerrank.com/challenges/exceptions/problem?isFullScreen=true \n"
   ]
  },
  {
   "cell_type": "code",
   "execution_count": null,
   "metadata": {},
   "outputs": [],
   "source": [
    "#Sorun Giderildi.\n",
    "for i in range(int(input())):\n",
    "    try:\n",
    "        a,b = map(int,input().split())\n",
    "        print((a) // (b))\n",
    "    except ZeroDivisionError as e:\n",
    "        print(\"Error Code:\",e )\n",
    "    except ValueError as e:\n",
    "        print(\"Error Code:\",e )\n",
    "    \n",
    "    \n"
   ]
  },
  {
   "cell_type": "code",
   "execution_count": 5,
   "metadata": {},
   "outputs": [
    {
     "name": "stdout",
     "output_type": "stream",
     "text": [
      "10 20\n"
     ]
    }
   ],
   "source": [
    "\n",
    "a,b = map(int,input().split())\n",
    "print(a,b)"
   ]
  },
  {
   "cell_type": "code",
   "execution_count": 2,
   "metadata": {},
   "outputs": [
    {
     "name": "stdout",
     "output_type": "stream",
     "text": [
      "Error Code: integer division or modulo by zero\n",
      "Error Code: invalid literal for int() with base 10: '$'\n",
      "Error Code: integer division or modulo by zero\n"
     ]
    }
   ],
   "source": [
    "y = int(input(()))\n",
    "for i in range(y):\n",
    "    a = (input())\n",
    "    b = (input())\n",
    "    try:\n",
    "        print(int(a) // int(b))\n",
    "    except ZeroDivisionError as e:\n",
    "        print(\"Error Code:\",e )\n",
    "    except ValueError as e:\n",
    "        print(\"Error Code:\",e )\n",
    "    \n",
    "    \n"
   ]
  },
  {
   "cell_type": "code",
   "execution_count": 1,
   "metadata": {},
   "outputs": [
    {
     "name": "stdout",
     "output_type": "stream",
     "text": [
      "3\n"
     ]
    }
   ],
   "source": [
    "#Bunu VS code da çalıştırdığımda oluyor ama hackerrank kabul etmiyor.Aynı input ve outputları yazıyorum hata yok.\n",
    "a = (input())\n",
    "b = (input())\n",
    "try:\n",
    "    print(int(a) // int(b))\n",
    "except ZeroDivisionError as e:\n",
    "    print(\"Error Code:\",e )\n",
    "except ValueError as e:\n",
    "    print(\"Error Code:\",e )\n",
    "    \n",
    "    "
   ]
  },
  {
   "cell_type": "code",
   "execution_count": 1,
   "metadata": {},
   "outputs": [
    {
     "ename": "KeyboardInterrupt",
     "evalue": "Interrupted by user",
     "output_type": "error",
     "traceback": [
      "\u001b[1;31m---------------------------------------------------------------------------\u001b[0m",
      "\u001b[1;31mKeyboardInterrupt\u001b[0m                         Traceback (most recent call last)",
      "Cell \u001b[1;32mIn[1], line 2\u001b[0m\n\u001b[0;32m      1\u001b[0m a \u001b[39m=\u001b[39m (\u001b[39minput\u001b[39m())\n\u001b[1;32m----> 2\u001b[0m b \u001b[39m=\u001b[39m (\u001b[39minput\u001b[39;49m())\n\u001b[0;32m      3\u001b[0m \u001b[39mtry\u001b[39;00m:\n\u001b[0;32m      4\u001b[0m     \u001b[39mprint\u001b[39m(\u001b[39mint\u001b[39m(a) \u001b[39m/\u001b[39m\u001b[39m/\u001b[39m \u001b[39mint\u001b[39m(b))\n",
      "File \u001b[1;32m~\\AppData\\Roaming\\Python\\Python311\\site-packages\\ipykernel\\kernelbase.py:1187\u001b[0m, in \u001b[0;36mKernel.raw_input\u001b[1;34m(self, prompt)\u001b[0m\n\u001b[0;32m   1185\u001b[0m     msg \u001b[39m=\u001b[39m \u001b[39m\"\u001b[39m\u001b[39mraw_input was called, but this frontend does not support input requests.\u001b[39m\u001b[39m\"\u001b[39m\n\u001b[0;32m   1186\u001b[0m     \u001b[39mraise\u001b[39;00m StdinNotImplementedError(msg)\n\u001b[1;32m-> 1187\u001b[0m \u001b[39mreturn\u001b[39;00m \u001b[39mself\u001b[39;49m\u001b[39m.\u001b[39;49m_input_request(\n\u001b[0;32m   1188\u001b[0m     \u001b[39mstr\u001b[39;49m(prompt),\n\u001b[0;32m   1189\u001b[0m     \u001b[39mself\u001b[39;49m\u001b[39m.\u001b[39;49m_parent_ident[\u001b[39m\"\u001b[39;49m\u001b[39mshell\u001b[39;49m\u001b[39m\"\u001b[39;49m],\n\u001b[0;32m   1190\u001b[0m     \u001b[39mself\u001b[39;49m\u001b[39m.\u001b[39;49mget_parent(\u001b[39m\"\u001b[39;49m\u001b[39mshell\u001b[39;49m\u001b[39m\"\u001b[39;49m),\n\u001b[0;32m   1191\u001b[0m     password\u001b[39m=\u001b[39;49m\u001b[39mFalse\u001b[39;49;00m,\n\u001b[0;32m   1192\u001b[0m )\n",
      "File \u001b[1;32m~\\AppData\\Roaming\\Python\\Python311\\site-packages\\ipykernel\\kernelbase.py:1230\u001b[0m, in \u001b[0;36mKernel._input_request\u001b[1;34m(self, prompt, ident, parent, password)\u001b[0m\n\u001b[0;32m   1227\u001b[0m \u001b[39mexcept\u001b[39;00m \u001b[39mKeyboardInterrupt\u001b[39;00m:\n\u001b[0;32m   1228\u001b[0m     \u001b[39m# re-raise KeyboardInterrupt, to truncate traceback\u001b[39;00m\n\u001b[0;32m   1229\u001b[0m     msg \u001b[39m=\u001b[39m \u001b[39m\"\u001b[39m\u001b[39mInterrupted by user\u001b[39m\u001b[39m\"\u001b[39m\n\u001b[1;32m-> 1230\u001b[0m     \u001b[39mraise\u001b[39;00m \u001b[39mKeyboardInterrupt\u001b[39;00m(msg) \u001b[39mfrom\u001b[39;00m \u001b[39mNone\u001b[39m\n\u001b[0;32m   1231\u001b[0m \u001b[39mexcept\u001b[39;00m \u001b[39mException\u001b[39;00m:\n\u001b[0;32m   1232\u001b[0m     \u001b[39mself\u001b[39m\u001b[39m.\u001b[39mlog\u001b[39m.\u001b[39mwarning(\u001b[39m\"\u001b[39m\u001b[39mInvalid Message:\u001b[39m\u001b[39m\"\u001b[39m, exc_info\u001b[39m=\u001b[39m\u001b[39mTrue\u001b[39;00m)\n",
      "\u001b[1;31mKeyboardInterrupt\u001b[0m: Interrupted by user"
     ]
    }
   ],
   "source": [
    "a = (input())\n",
    "b = (input())\n",
    "try:\n",
    "    print(int(a) // int(b))\n",
    "except ZeroDivisionError as e:\n",
    "    print(\"Error Code:\" , e )\n",
    "except ValueError as e:\n",
    "    print(\"Error Code:\" , e )\n",
    "    "
   ]
  },
  {
   "attachments": {},
   "cell_type": "markdown",
   "metadata": {},
   "source": [
    "----"
   ]
  },
  {
   "attachments": {},
   "cell_type": "markdown",
   "metadata": {},
   "source": [
    "(?) HackerRank Sorusu 2 https://www.hackerrank.com/challenges/zipped/problem?isFullScreen=true"
   ]
  },
  {
   "attachments": {},
   "cell_type": "markdown",
   "metadata": {},
   "source": [
    "-------\n"
   ]
  },
  {
   "attachments": {},
   "cell_type": "markdown",
   "metadata": {},
   "source": [
    "-----\n"
   ]
  },
  {
   "attachments": {},
   "cell_type": "markdown",
   "metadata": {},
   "source": [
    "## Kütüphane ve modül arasındaki (ince) fark"
   ]
  },
  {
   "attachments": {},
   "cell_type": "markdown",
   "metadata": {},
   "source": [
    "- Genellikle birbirlerinin yerine kullanılmakla beraber aralarında çok da büyük bir fark yoktur.Bü küçük farka değinecek olursak;\n",
    "- Kütüphane, fonksiyon ve sınıfların toplanmış kodlarına denir. Çoğu kez, bu kütüphaneler farklı kişiler tarafından yazılır ve programcının \"tekerleği yeniden icat etmemesi\" için projeye dahil edilir. Python'da, kod kütüphanesini tarif etmek için kullanılan terim modül'dür.\n",
    "- Bir kütüphane import edilebilen birden çok modül içerebilir. Çoğu kez bir kütüphane sadece bir modüle sahiptir, yani bu kelimeler bazen birbirlerinin yerine kullanılabilir.\n",
    "- Aslında bizim oluşturduğumuz soldaki \"6.Hafta konuları.ipynb\" veya \"4.Hafta Eğitim Sonrası Görevleri.ipynb\" hatta şuan içinde olduğumuz \"Sorulucaklar.ipynb\" dosyası bile birer modüldür. Örneğin biz Sorulacaklar klasörünün içine bir \"Bu Bir Modüldür.ipynb\" modülü açtık.\n",
    "- Modüller tek başlarına başka modülleri içerecek şekilde düzenlenebilirler. Örneğin, pygame modülü pygame.draw, pygame.image ve pygame.mouse alt modüllerini içerir. Ve biz bir kütüphane oluşturacak olursak ve bunun adı \"karışık kütüphane\" olsun.Biz bu kütüphanenin içine pygame modülünü,math modülünü... sınırsız modülü atayabiliriz.Ya da bunu yapmayarak sadece math modülünü atayabiliriz.Örneğin math kütüphanesi sadece math modülünü içerir.\n",
    "- Modüller program onlardan istemedikçe (import edilmedikçe) yüklenmezler. Bu, zaman ve bilgisayar hafızasından alan sağlar."
   ]
  },
  {
   "attachments": {},
   "cell_type": "markdown",
   "metadata": {},
   "source": [
    "---"
   ]
  },
  {
   "attachments": {},
   "cell_type": "markdown",
   "metadata": {},
   "source": [
    "## Modül çağırma yöntemleri ve farkları (https://medium.com/rexven/python-programlama-dili-mod%C3%BCl-paket-ve-k%C3%BCt%C3%BCphane-nedir-nas%C4%B1l-kullan%C4%B1l%C4%B1r-b9ae6f6f186a)\n",
    "#### \n",
    "Python modül, paket ve kütüphanelerini pypi.org internet sitesinden inceleyebilirsiniz. Bilgisayarınıza indirmek için ise pip komutunu kullanabilirsiniz. Tabi ki eğer yüklü değilse https://pypi.org/project/pip/ internet adresinden indirebilirsiniz.\n",
    "\n",
    "İstediğiniz modül paket veya kütüphaneyi pip install …. komutu ile indirebilirsiniz. Örneğin veri görselleştirmede kullanılan matplotlib kütüphanesini pip install matplotlib komutu ile indirip kullanabilirsiniz."
   ]
  },
  {
   "attachments": {},
   "cell_type": "markdown",
   "metadata": {},
   "source": [
    "\n",
    "```\n",
    "Modülleri projenize çağırıp indirmek ve kullanmak için dört tane yöntem kullanabilirsiniz\n",
    "\n",
    "1-) Herhangi bir modülü projemize indirmek ve kullanmak için import math şeklinde çağırabilirsiniz\n",
    "2-)  Bir modül ilerisindeki her şeyi from math import * şeklinde çağırabilirsiniz\n",
    "3-) Bir modül içerisinden herhangi bir sınıf veya fonksiyonu kullanmak istediğinizde from math import sqrt şeklinde çağırabilirsiniz\n",
    "4-) Modülleri indirirken kendinizde isim veya kısaltma verebilirsiniz import math as matematik ya da import math as mt şeklinde çağırabilirsiniz\n",
    "```\n",
    "- Bunlar arasındaki farkları inceleyelim;\n",
    "- ```1.Yöntem : import math``` Şeklinde modülümüzü çağırdıktan sonra;\n",
    "- Örneğin factorial fonksiyonunu çağırmak istiyoruz. \n",
    "-  import math dedikten sonra **math.factorial(5)** şeklinde modül adı.fonksiyon şeklinde yazarız.\n",
    "- ```2.Yöntem : from math import * ``` şeklinde * ifadesi ile math modülündeki bütün fonksiyonları çağır diyoruz. * burada all anlamına geliyor.Ki 3.yöntemde de göreceğimiz gibi * yerine  o modülün hangi fonksiyonunu çağırmak istiyorsak onu yazıp tüm fonksiyonları çağırarak bilgisayarımızın alanından tasarruf edebiliriz.Bu yöntem bazı karışıklıklara sebep olabilir örneğin biz aynı kod bloğunda aynı yöntemle başka bir fonksiyonu çağırdıysak ve orada da factorial adlı bir fonksiyon varsa ve işlevi math modülündeki fonksiyondan farklıysa, biz math modülündeki factorial'ı kullanmak istediğimizde python gidip diğer fonksiyondaki factorial fonksiyonunu kullanabilir ki bu da karışıklığa sebep olur.\n",
    "- from math import * dedikten sonra **factorial(5)** şeklinde direkt olarak fonksiyon'u yazabiliriz.\n",
    "- ```3.Yöntem : from math import factorial (, fonksiyon , fonksiyon şeklinde sınırsız fonksiyon da çağırabiliriz)``` şeklinde math modülündeki factorial fonksiyonunu çağır diyoruz.\n",
    "- from math import factorial dedikten sonra **factorial(5)** şeklinde fonksiyonumuzu çağırabiliriz.\n",
    "- ```4.Yöntem : import math as matematik``` dedikten sonra **matematik.factorial(5)** şeklinde fonksiyonumuzu çağırabiliriz."
   ]
  },
  {
   "cell_type": "code",
   "execution_count": 1,
   "metadata": {},
   "outputs": [
    {
     "data": {
      "text/plain": [
       "120"
      ]
     },
     "execution_count": 1,
     "metadata": {},
     "output_type": "execute_result"
    }
   ],
   "source": [
    "# 1. Yöntem:\n",
    "import math\n",
    "math.factorial(5)"
   ]
  },
  {
   "cell_type": "code",
   "execution_count": 2,
   "metadata": {},
   "outputs": [
    {
     "data": {
      "text/plain": [
       "120"
      ]
     },
     "execution_count": 2,
     "metadata": {},
     "output_type": "execute_result"
    }
   ],
   "source": [
    "#2.Yöntem \n",
    "from math import *\n",
    "factorial(5)"
   ]
  },
  {
   "cell_type": "code",
   "execution_count": 3,
   "metadata": {},
   "outputs": [
    {
     "data": {
      "text/plain": [
       "120"
      ]
     },
     "execution_count": 3,
     "metadata": {},
     "output_type": "execute_result"
    }
   ],
   "source": [
    "#3.yöntem\n",
    "from math import factorial\n",
    "factorial(5)"
   ]
  },
  {
   "cell_type": "code",
   "execution_count": 3,
   "metadata": {},
   "outputs": [
    {
     "data": {
      "text/plain": [
       "120"
      ]
     },
     "execution_count": 3,
     "metadata": {},
     "output_type": "execute_result"
    }
   ],
   "source": [
    "#4.yöntem\n",
    "import math as matematik\n",
    "matematik.factorial(5)"
   ]
  },
  {
   "cell_type": "code",
   "execution_count": 2,
   "metadata": {},
   "outputs": [
    {
     "data": {
      "text/plain": [
       "720"
      ]
     },
     "execution_count": 2,
     "metadata": {},
     "output_type": "execute_result"
    }
   ],
   "source": [
    "#4.yöntem\n",
    "from math import factorial as faktöriyelS\n",
    "faktöriyelS(6)"
   ]
  },
  {
   "attachments": {},
   "cell_type": "markdown",
   "metadata": {},
   "source": [
    "---"
   ]
  },
  {
   "attachments": {},
   "cell_type": "markdown",
   "metadata": {},
   "source": [
    "# enumarate() fonksiyonunu 0 dan değil de 1 den ya da istediğimiz rakamdan başlatmak?\n",
    "* Bu fonksiyon indexleme mantığıyla çalıştığından öyle bir şey yapamayız aslında bize 0.index şudur 1.index budur der.\n",
    "* Bu işlemi belki kendimiz fonksiyon yazarak yapabiliriz.Ama bu fonksiyonun default halinde böyle bir şey mümkün değildir"
   ]
  },
  {
   "attachments": {},
   "cell_type": "markdown",
   "metadata": {},
   "source": [
    "---"
   ]
  }
 ],
 "metadata": {
  "kernelspec": {
   "display_name": "Python 3",
   "language": "python",
   "name": "python3"
  },
  "language_info": {
   "codemirror_mode": {
    "name": "ipython",
    "version": 3
   },
   "file_extension": ".py",
   "mimetype": "text/x-python",
   "name": "python",
   "nbconvert_exporter": "python",
   "pygments_lexer": "ipython3",
   "version": "3.11.1"
  },
  "orig_nbformat": 4,
  "vscode": {
   "interpreter": {
    "hash": "b52f0326c461c572921985537a28c1464d6f232a21b63d1eb118623ecdbf8940"
   }
  }
 },
 "nbformat": 4,
 "nbformat_minor": 2
}
