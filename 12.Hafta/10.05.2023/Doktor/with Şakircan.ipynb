{
 "cells": [
  {
   "cell_type": "code",
   "execution_count": 62,
   "metadata": {},
   "outputs": [],
   "source": [
    "#DOĞRRU OLANNNNNNNNNNN \n",
    "class Doktor:\n",
    "    def alan_kayit(self,alan=\"Yok\",kimlik_no=\"Yok\"):\n",
    "        # Girdi olarak kullanıcıdan kimlik numarasını alalım\n",
    "        kimlik_no = input(\"Lütfen kimlik numarasını girin: \")\n",
    "        alan = input(\"Lütfen hastayı yönlendirmek istediginiz alanın adını giriniz.(Kırmızı/Yeşil/Sarı)\")#.lower()\n",
    "        # Dosyayı okuyup, girilen kimlik numarasına sahip satırı bulalım\n",
    "        with open(\"Kisi_bilgileri.txt\", \"r\" , encoding=\"utf-8\") as kisi_bilgileri, open(f\"{alan}_alan.txt\", \"a\" , encoding=\"utf-8\") as kirmizi_alan:\n",
    "            kisi_bulundu = False  # Kimlik numarasına sahip kişinin bulunup bulunmadığını takip etmek için bir değişken\n",
    "            for satir in kisi_bilgileri:\n",
    "                satir = satir.strip()  # Boşlukları kaldıralım\n",
    "                bilgiler = satir.split(\",\")  # Virgüllere göre bilgileri ayıralım\n",
    "                if bilgiler[0] == kimlik_no:\n",
    "                    # Kimlik numarasına sahip kişi bulundu, bilgileri Kırmızı_alan.txt dosyasına ekle\n",
    "                    kirmizi_alan.write(satir + \"\\n\")\n",
    "                    kisi_bulundu = True\n",
    "                    break\n",
    "            if not kisi_bulundu:\n",
    "                # Kimlik numarasına sahip kişi bulunamadı\n",
    "                print(\"Hatalı bir kimlik numarası girdiniz, kullanıcı ekle fonksiyonunu kullanmaya ne dersiniz?\")\n",
    "        # if len(hasta_tcsi) == 11 :\n",
    "        #      self.hasta_tcsi = hasta_tcsi\n",
    "        \n",
    "        # else:\n",
    "        #     print(\"Lütfen 11 haneli TC kimlik numarasını giriniz.\")\n",
    "    # def yeni_kullanıcı():\n",
    "doktor1 = Doktor()\n",
    "doktor1.alan_kayit()\n",
    "\n",
    "    # def yeni_kullanici():"
   ]
  }
 ],
 "metadata": {
  "kernelspec": {
   "display_name": "Python 3",
   "language": "python",
   "name": "python3"
  },
  "language_info": {
   "codemirror_mode": {
    "name": "ipython",
    "version": 3
   },
   "file_extension": ".py",
   "mimetype": "text/x-python",
   "name": "python",
   "nbconvert_exporter": "python",
   "pygments_lexer": "ipython3",
   "version": "3.11.1"
  },
  "orig_nbformat": 4
 },
 "nbformat": 4,
 "nbformat_minor": 2
}
