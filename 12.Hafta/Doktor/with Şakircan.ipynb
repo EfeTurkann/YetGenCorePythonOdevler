{
 "cells": [
  {
   "cell_type": "code",
   "execution_count": 4,
   "metadata": {},
   "outputs": [],
   "source": [
    "# Okunacak dosya yolu ve hedef dosya yolu\n",
    "okunacak_dosya = \"Kisi_bilgileri.txt\"\n",
    "hedef_dosya = \"Kırmızı_alan.txt\"\n",
    "\n",
    "# Randevulu kişilerin bilgilerini hedef dosyaya yaz\n",
    "with open(hedef_dosya, \"w\") as hedef:\n",
    "    with open(okunacak_dosya, \"r\") as okunacak:\n",
    "        for satir in okunacak:\n",
    "            # Sadece randevulu kişileri işle\n",
    "            # if \"Randevulu\" in satir:\n",
    "                \n",
    "                # Satırı virgüllerle bölerek bilgileri ayrıştır\n",
    "                bilgiler = satir.strip().split(\",\")\n",
    "                \n",
    "                # Kullanıcıdan Kalacağı_Gün değişkenini al\n",
    "                kalinacak_gun = input(f\"{bilgiler[1]} adlı kişi için kalacağı gün sayısı: \")\n",
    "                \n",
    "                # Bilgileri hedef dosyaya yaz\n",
    "                yeni_satir = f\"{bilgiler[0]},{bilgiler[1]},{bilgiler[2]},{bilgiler[3]},Randevulu,{kalinacak_gun}\\n\"\n",
    "                hedef.write(yeni_satir)\n"
   ]
  },
  {
   "cell_type": "code",
   "execution_count": 60,
   "metadata": {},
   "outputs": [],
   "source": [
    "#DOĞRRU OLANNNNNNNNNNN \n",
    "class Doktor:\n",
    "    def alan_kayit(self,alan=\"Yok\",kimlik_no=\"Yok\"):\n",
    "        # Girdi olarak kullanıcıdan kimlik numarasını alalım\n",
    "        kimlik_no = input(\"Lütfen kimlik numarasını girin: \")\n",
    "        alan = input(\"Lütfen hastayı yönlendirmek istediginiz alanın adını giriniz.(Kırmızı/Yeşil/Sarı)\")#.lower()\n",
    "        # Dosyayı okuyup, girilen kimlik numarasına sahip satırı bulalım\n",
    "        with open(\"Kisi_bilgileri.txt\", \"r\" , encoding=\"utf-8\") as kisi_bilgileri, open(f\"{alan}_alan.txt\", \"a\" , encoding=\"utf-8\") as kirmizi_alan:\n",
    "            kisi_bulundu = False  # Kimlik numarasına sahip kişinin bulunup bulunmadığını takip etmek için bir değişken\n",
    "            for satir in kisi_bilgileri:\n",
    "                satir = satir.strip()  # Boşlukları kaldıralım\n",
    "                bilgiler = satir.split(\",\")  # Virgüllere göre bilgileri ayıralım\n",
    "                if bilgiler[0] == kimlik_no:\n",
    "                    # Kimlik numarasına sahip kişi bulundu, bilgileri Kırmızı_alan.txt dosyasına ekle\n",
    "                    kirmizi_alan.write(satir + \"\\n\")\n",
    "                    kisi_bulundu = True\n",
    "                    break\n",
    "            if not kisi_bulundu:\n",
    "                # Kimlik numarasına sahip kişi bulunamadı\n",
    "                print(\"Hatalı bir kimlik numarası girdiniz, kullanıcı ekle fonksiyonunu kullanmaya ne dersiniz?\")\n",
    "        # if len(hasta_tcsi) == 11 :\n",
    "        #      self.hasta_tcsi = hasta_tcsi\n",
    "        \n",
    "        # else:\n",
    "        #     print(\"Lütfen 11 haneli TC kimlik numarasını giriniz.\")\n",
    "    # def yeni_kullanıcı():\n",
    "doktor1 = Doktor()\n",
    "doktor1.alan_kayit()\n",
    "\n",
    "    # def yeni_kullanici():"
   ]
  },
  {
   "cell_type": "code",
   "execution_count": 36,
   "metadata": {},
   "outputs": [
    {
     "name": "stdout",
     "output_type": "stream",
     "text": [
      "454545544564 kimlik numarası kayıtlı değildir.\n"
     ]
    }
   ],
   "source": [
    "class Doktor:\n",
    "    def alan_kayit(self,alan=\"Yok\",hasta_tcsi=\"Yok\"):\n",
    "        kimlik_no = input(\"Lütfen kimlik numarasını girin: \")\n",
    "        with open(\"Kisi_bilgileri.txt\", \"r\") as dosya:\n",
    "            satirlar = dosya.readlines()\n",
    "        for satir in satirlar:\n",
    "            # Satırı virgülle ayırarak verileri elde ediyoruz\n",
    "            veriler = satir.strip().split(\",\")\n",
    "            # Kimlik numarasını alıyoruz\n",
    "            dosya_kimlik_no = veriler[0]\n",
    "            # Girilen kimlik numarası ile dosyadaki kimlik numarasını karşılaştırıyoruz\n",
    "            if kimlik_no == dosya_kimlik_no:\n",
    "                print(f\"{kimlik_no} kimlik numarası kayıtlıdır.\")\n",
    "                break\n",
    "        else:\n",
    "            print(f\"{kimlik_no} kimlik numarası kayıtlı değildir.\")\n",
    "\n",
    "        dosya.close()\n",
    "\n",
    "                \n",
    "        \n",
    "        # if len(hasta_tcsi) == 11 :\n",
    "        #      self.hasta_tcsi = hasta_tcsi\n",
    "        \n",
    "        # else:\n",
    "        #     print(\"Lütfen 11 haneli TC kimlik numarasını giriniz.\")\n",
    "\n",
    "\n",
    "    \n",
    "    # def yeni_kullanıcı():\n",
    "doktor1 = Doktor()\n",
    "doktor1.alan_kayit()\n",
    "\n",
    "    # def yeni_kullanici():"
   ]
  },
  {
   "cell_type": "code",
   "execution_count": 14,
   "metadata": {},
   "outputs": [
    {
     "ename": "UnsupportedOperation",
     "evalue": "not writable",
     "output_type": "error",
     "traceback": [
      "\u001b[1;31m---------------------------------------------------------------------------\u001b[0m",
      "\u001b[1;31mUnsupportedOperation\u001b[0m                      Traceback (most recent call last)",
      "Cell \u001b[1;32mIn[14], line 29\u001b[0m\n\u001b[0;32m     27\u001b[0m     \u001b[39m# def yeni_kullanıcı():\u001b[39;00m\n\u001b[0;32m     28\u001b[0m doktor1 \u001b[39m=\u001b[39m Doktor()\n\u001b[1;32m---> 29\u001b[0m doktor1\u001b[39m.\u001b[39;49malan_kayit()\n\u001b[0;32m     31\u001b[0m     \u001b[39m# def yeni_kullanici():\u001b[39;00m\n",
      "Cell \u001b[1;32mIn[14], line 23\u001b[0m, in \u001b[0;36mDoktor.alan_kayit\u001b[1;34m(self, alan, yatis_süresi)\u001b[0m\n\u001b[0;32m     21\u001b[0m \u001b[39m# Bilgileri hedef dosyaya yaz\u001b[39;00m\n\u001b[0;32m     22\u001b[0m yeni_satir \u001b[39m=\u001b[39m \u001b[39mf\u001b[39m\u001b[39m\"\u001b[39m\u001b[39m{\u001b[39;00mbilgiler[\u001b[39m0\u001b[39m]\u001b[39m}\u001b[39;00m\u001b[39m,\u001b[39m\u001b[39m{\u001b[39;00mbilgiler[\u001b[39m1\u001b[39m]\u001b[39m}\u001b[39;00m\u001b[39m,\u001b[39m\u001b[39m{\u001b[39;00mbilgiler[\u001b[39m2\u001b[39m]\u001b[39m}\u001b[39;00m\u001b[39m,\u001b[39m\u001b[39m{\u001b[39;00mbilgiler[\u001b[39m3\u001b[39m]\u001b[39m}\u001b[39;00m\u001b[39m,\u001b[39m\u001b[39m{\u001b[39;00mbilgiler[\u001b[39m4\u001b[39m]\u001b[39m}\u001b[39;00m\u001b[39m,\u001b[39m\u001b[39m{\u001b[39;00mkalinacak_gun\u001b[39m}\u001b[39;00m\u001b[39m\\n\u001b[39;00m\u001b[39m\"\u001b[39m\n\u001b[1;32m---> 23\u001b[0m hedef\u001b[39m.\u001b[39;49mwrite(yeni_satir)\n",
      "\u001b[1;31mUnsupportedOperation\u001b[0m: not writable"
     ]
    }
   ],
   "source": [
    "class Doktor:\n",
    "    def alan_kayit(self,alan=\"Yok\",yatis_süresi=0):\n",
    "        alan = input(\"Lütfen Hastanın Gitmesi Gereken Alanı Yazınız.\")\n",
    "        yatis_süresi = int(input(\"Lütfen Hastanın Yatış Süresini Gün Cinsinden Yazınız.\"))\n",
    "        self.alan = alan\n",
    "        self.yatis_süresi= yatis_süresi\n",
    "        # print(f\"Alan={self.alan} , Yatış Süresi{self.yatis_süresi}\")\n",
    "        okunacak_dosya = \"Kisi_bilgileri.txt\"\n",
    "        hedef_dosya = \"Kırmızı_alan.txt\"\n",
    "        with open(hedef_dosya, \"r\") as hedef:\n",
    "            with open(okunacak_dosya, \"r\") as okunacak:\n",
    "                    for satir in okunacak:\n",
    "                            # Satırı virgüllerle bölerek bilgileri ayrıştır\n",
    "                            bilgiler = satir.strip().split(\",\")\n",
    "                            # print(bilgiler)\n",
    "                            if bilgiler[0] in hedef_dosya:\n",
    "                                  pass\n",
    "                            else:\n",
    "                                # Kullanıcıdan Kalacağı_Gün değişkenini al\n",
    "                                kalinacak_gun = input(f\"{bilgiler[1]} adlı kişi için kalacağı gün sayısı: \")\n",
    "                                # Bilgileri hedef dosyaya yaz\n",
    "                                yeni_satir = f\"{bilgiler[0]},{bilgiler[1]},{bilgiler[2]},{bilgiler[3]},{bilgiler[4]},{kalinacak_gun}\\n\"\n",
    "                                hedef.write(yeni_satir)\n",
    "\n",
    "\n",
    "    \n",
    "    # def yeni_kullanıcı():\n",
    "doktor1 = Doktor()\n",
    "doktor1.alan_kayit()\n",
    "\n",
    "    # def yeni_kullanici():"
   ]
  }
 ],
 "metadata": {
  "kernelspec": {
   "display_name": "Python 3",
   "language": "python",
   "name": "python3"
  },
  "language_info": {
   "codemirror_mode": {
    "name": "ipython",
    "version": 3
   },
   "file_extension": ".py",
   "mimetype": "text/x-python",
   "name": "python",
   "nbconvert_exporter": "python",
   "pygments_lexer": "ipython3",
   "version": "3.11.1"
  },
  "orig_nbformat": 4
 },
 "nbformat": 4,
 "nbformat_minor": 2
}
