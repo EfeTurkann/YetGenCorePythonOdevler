{
 "cells": [
  {
   "cell_type": "code",
   "execution_count": 25,
   "metadata": {},
   "outputs": [],
   "source": [
    "# Metin dosyasını okuyun ve her satırı bir liste olarak ayrıştırın\n",
    "alan = input(\"Hangi alandan silmek istiyorsunuz?\")\n",
    "with open(f\"{alan}_alan.txt\", \"r\" , encoding=\"utf-8\") as file:\n",
    "    lines = file.readlines()\n",
    "\n",
    "# Verilen değerin hangi satırda olduğunu bulun\n",
    "search_term = input(\"TC??\")\n",
    "for i, line in enumerate(lines):\n",
    "    if search_term in line:\n",
    "        line_to_delete = i\n",
    "        break\n",
    "\n",
    "# Bu satırı listeden silin\n",
    "del lines[line_to_delete]\n",
    "\n",
    "# Listenizi tekrar bir string haline getirin ve dosyaya geri yazın\n",
    "with open(\"Röntgen_alan.txt\", \"w\" , encoding=\"utf-8\") as file:\n",
    "    file.writelines(lines)\n"
   ]
  },
  {
   "cell_type": "code",
   "execution_count": 1,
   "metadata": {},
   "outputs": [
    {
     "name": "stdout",
     "output_type": "stream",
     "text": [
      "Yanlıs giris!\n"
     ]
    }
   ],
   "source": [
    "try:\n",
    "            kimlik_no = input(\"Lütfen kimlik numarasını girin: \")\n",
    "            if len(kimlik_no) != 11:\n",
    "                raise ValueError\n",
    "        except ValueError:\n",
    "            print(\"TC Numarası 11 haneli olmalıdır,eksik veya hatalı TC girdiniz,tekrar deneyiniz....\")"
   ]
  },
  {
   "cell_type": "code",
   "execution_count": 34,
   "metadata": {},
   "outputs": [],
   "source": [
    "#DOĞRRU OLANNNNNNNNNNN \n",
    "import time\n",
    "class Doktor:\n",
    "    def alan_kayit(self,alan=\"Yok\",kimlik_no=\"Yok\"):\n",
    "        # Girdi olarak kullanıcıdan kimlik numarasını alalım\n",
    "        kimlik_no = input(\"Lütfen kimlik numarasını girin: \")\n",
    "        alan = input(\"Lütfen hastayı yönlendirmek istediginiz alanın adını giriniz.(Kırmızı/Yeşil/Sarı/Röntgen/Enjeksiyon)\")#.lower()\n",
    "        # Dosyayı okuyup, girilen kimlik numarasına sahip satırı bulalım\n",
    "        with open(\"Kisi_bilgileri.txt\", \"r\" , encoding=\"utf-8\") as kisi_bilgileri, open(f\"{alan}_alan.txt\", \"a\" , encoding=\"utf-8\") as kirmizi_alan:\n",
    "            kisi_bulundu = False  # Kimlik numarasına sahip kişinin bulunup bulunmadığını takip etmek için bir değişken\n",
    "            for satir in kisi_bilgileri:\n",
    "                satir = satir.strip()  # Boşlukları kaldıralım\n",
    "                bilgiler = satir.split(\",\")  # Virgüllere göre bilgileri ayıralım\n",
    "                if bilgiler[0] == kimlik_no:\n",
    "                    # Kimlik numarasına sahip kişi bulundu, bilgileri Kırmızı_alan.txt dosyasına ekle\n",
    "                    kirmizi_alan.write(satir +\" ,Kayıt Tarihi : \" + (time.ctime(time.time())) +\"\\n\")\n",
    "                    kisi_bulundu = True\n",
    "                    break\n",
    "            if not kisi_bulundu:\n",
    "                # Kimlik numarasına sahip kişi bulunamadı\n",
    "                print(\"Hatalı bir kimlik numarası girdiniz, kullanıcı ekle fonksiyonunu kullanmaya ne dersiniz?\")\n",
    "               \n",
    "    def yeni_kullanici(self):\n",
    "        kimlik_no = input(\"Kimlik numarası girin: \")\n",
    "        ad = input(\"Ad girin: \")\n",
    "        soyad = input(\"Soyad girin: \")\n",
    "        yas = input(\"Doğum Yılı girin: \")\n",
    "        cinsiyet = input(\"Cinsiyet girin\")\n",
    "        oncelik_durumu = input(\"Oncelik durumu girin: \")\n",
    "        with open(\"Kisi_Bilgileri.txt\", 'a', encoding=\"utf-8\") as kullaniciekle:\n",
    "            kullaniciekle.write(f\"{kimlik_no},{ad},{soyad},{yas},{cinsiyet},{oncelik_durumu}\\n\")\n",
    "    def hasta_cıkıs(self):\n",
    "        # Metin dosyasını okuyun ve her satırı bir liste olarak ayrıştırın\n",
    "        alan = input(\"Hangi alandan silmek istiyorsunuz? (Kırmızı/Yeşil/Sarı/Röntgen/Enjeksiyon/Acil Giriş)\")\n",
    "        with open(f\"{alan}_alan.txt\", \"r\" , encoding=\"utf-8\") as file:\n",
    "            lines = file.readlines()\n",
    "\n",
    "        # Verilen değerin hangi satırda olduğunu bulun\n",
    "        search_term = input(\"TC??\")\n",
    "        for i, line in enumerate(lines):\n",
    "            if search_term in line:\n",
    "                line_to_delete = i\n",
    "                break\n",
    "\n",
    "        # Bu satırı listeden silin\n",
    "        del lines[line_to_delete]\n",
    "\n",
    "        # Listenizi tekrar bir string haline getirin ve dosyaya geri yazın\n",
    "        with open(f\"{alan}_alan.txt\", \"w\" , encoding=\"utf-8\") as file:\n",
    "            file.writelines(lines)\n",
    "\n",
    "\n",
    "\n",
    "\n",
    "               \n",
    "\n",
    "        \n",
    "\n",
    "doktor1 = Doktor()\n",
    "#doktor1.alan_kayit()\n",
    "# doktor1.yeni_kullanici()\n",
    "doktor1.hasta_cıkıs()\n",
    "    # def yeni_kullanici():"
   ]
  },
  {
   "cell_type": "code",
   "execution_count": null,
   "metadata": {},
   "outputs": [],
   "source": [
    "#Ana Menü(Görsel ile output alacagız.)\n",
    "    #DOKTOR(Şifre ile giriş)\n",
    "    #\n",
    "\n",
    "\n",
    "\n",
    "    #HASTA(Tc ile Giriş) (Tüm menülerden sıra alabilecek ve daha sonra sırada kaç kişi olduğunuğ vs.Ögrenecek)\n",
    "    #POLİKİNLİK\n",
    "    ###bulundugu bölumde  bekleyen hasta sırasını ögrenecek.\n",
    "    #Ortopedi\n",
    "    ###bulundugu bölumde  bekleyen hasta sırasını ögrenecek.\n",
    "    #Üroloji\n",
    "    ###bulundugu bölumde  bekleyen hasta sırasını ögrenecek.\n",
    "    #Patoloji\n",
    "    ###bulundugu bölumde  bekleyen hasta sırasını ögrenecek.\n",
    "    ###......\n",
    "    #RÖNTGEN\n",
    "    #Aşı,iğne\n",
    "    #Acil girişi yapılarak acil Doktoruna Yönlendirilecek.\n",
    "    ### Acil doktorununda bekleyen sıraları ögrenecek.\n",
    "\n"
   ]
  }
 ],
 "metadata": {
  "kernelspec": {
   "display_name": "Python 3",
   "language": "python",
   "name": "python3"
  },
  "language_info": {
   "codemirror_mode": {
    "name": "ipython",
    "version": 3
   },
   "file_extension": ".py",
   "mimetype": "text/x-python",
   "name": "python",
   "nbconvert_exporter": "python",
   "pygments_lexer": "ipython3",
   "version": "3.11.1"
  },
  "orig_nbformat": 4
 },
 "nbformat": 4,
 "nbformat_minor": 2
}
