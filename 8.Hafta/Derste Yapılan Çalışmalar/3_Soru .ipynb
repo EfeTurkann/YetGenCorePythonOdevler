{
  "cells": [
    {
      "cell_type": "markdown",
      "metadata": {
        "id": "B1pKLRfEyvlS"
      },
      "source": [
        "# Problem 3\n",
        "\n",
        "Çeşitli metin dosyalarından karakterleri ayıklamak ve bir listeye koymak için bir Python programı yazın. ```test.txt``` ve ```demo.txt``` dosyalarından faydalanabilirsiniz."
      ]
    },
    {
      "cell_type": "code",
      "execution_count": 2,
      "metadata": {},
      "outputs": [
        {
          "name": "stdout",
          "output_type": "stream",
          "text": [
            "[['Berkcan', 'Emirhan', 'Çağla', 'Enes', 'Adem', 'Ahmet', 'Beyza']]\n",
            "[['Hello! Welcome to demofile.txt', 'This file is for testing purposes.', 'Good Luck!']]\n"
          ]
        }
      ],
      "source": [
        "#Çözüm 1\n",
        "def ayıkla_listele(dosya_adi):\n",
        "    liste = []\n",
        "    with open(dosya_adi,\"r\",encoding=\"utf,8\") as f1:\n",
        "        icerik = f1.read()\n",
        "        for i in icerik:\n",
        "            y = icerik.split(\"\\n\")\n",
        "        liste.append(y)\n",
        "        print(liste)\n",
        "ayıkla_listele(\"test.txt\")\n",
        "ayıkla_listele(\"demofile.txt\")\n",
        "\n"
      ]
    },
    {
      "cell_type": "code",
      "execution_count": 15,
      "metadata": {},
      "outputs": [
        {
          "name": "stdout",
          "output_type": "stream",
          "text": [
            "[['Berkcan', ''], ['Emirhan', ''], ['Çağla', ''], ['Enes', ''], ['Adem', ''], ['Ahmet', ''], ['Beyza']]\n"
          ]
        },
        {
          "data": {
            "text/plain": [
              "[['Hello! Welcome to demofile.txt', ''],\n",
              " ['This file is for testing purposes.', ''],\n",
              " ['Good Luck!']]"
            ]
          },
          "execution_count": 15,
          "metadata": {},
          "output_type": "execute_result"
        }
      ],
      "source": [
        "#Çözüm 2\n",
        "def ayıkla_listele(dosya_adi):\n",
        "    liste = []\n",
        "    with open(dosya_adi,\"r\",encoding=\"utf,8\") as f1:\n",
        "        for i in f1:\n",
        "            y = i.split(\"\\n\")\n",
        "            liste.append(y)\n",
        "    return liste\n",
        "print(ayıkla_listele(\"test.txt\"))\n",
        "ayıkla_listele(\"demofile.txt\")\n",
        "\n"
      ]
    },
    {
      "cell_type": "code",
      "execution_count": 22,
      "metadata": {},
      "outputs": [
        {
          "name": "stdout",
          "output_type": "stream",
          "text": [
            "['demofile.txt', 'test.txt']\n"
          ]
        }
      ],
      "source": [
        "txt_files = glob.glob('*.txt') #Bulunduğumuz klasördeki tüm .txt uzantılı dosyaların isimlerini bir liste haline getirdi.\n",
        "print(txt_files)"
      ]
    },
    {
      "cell_type": "code",
      "execution_count": 12,
      "metadata": {},
      "outputs": [
        {
          "name": "stdout",
          "output_type": "stream",
          "text": [
            "['Hello! Welcome to demofile.txt\\nThis file is for testing purposes.\\nGood Luck!', 'Berkcan\\nEmirhan\\nÃ‡aÄŸla\\nEnes\\nAdem\\nAhmet\\nBeyza']\n"
          ]
        }
      ],
      "source": [
        "#Çözüm 3\n",
        "import glob\n",
        "\n",
        "yeni_liste = []\n",
        "\n",
        "dosya_listesi = glob.glob(\"*.txt\")\n",
        "for eleman in dosya_listesi:\n",
        "    with open(eleman,\"r\") as f:\n",
        "        yeni_liste.append(f.read())\n",
        "print(yeni_liste)"
      ]
    }
  ],
  "metadata": {
    "colab": {
      "provenance": []
    },
    "kernelspec": {
      "display_name": "Python 3",
      "name": "python3"
    },
    "language_info": {
      "codemirror_mode": {
        "name": "ipython",
        "version": 3
      },
      "file_extension": ".py",
      "mimetype": "text/x-python",
      "name": "python",
      "nbconvert_exporter": "python",
      "pygments_lexer": "ipython3",
      "version": "3.11.1"
    }
  },
  "nbformat": 4,
  "nbformat_minor": 0
}
