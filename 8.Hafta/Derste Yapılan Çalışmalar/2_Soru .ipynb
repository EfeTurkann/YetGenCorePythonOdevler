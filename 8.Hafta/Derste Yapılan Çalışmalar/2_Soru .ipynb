{
  "cells": [
    {
      "cell_type": "markdown",
      "metadata": {
        "id": "xdJPVw8Qym8-"
      },
      "source": [
        " # Problem 2\n",
        " \n",
        "```test.txt``` dosyasını satır satır okuyun ve bir listede saklayınız. Daha sonra listeyi ekrana bastırınız."
      ]
    },
    {
      "cell_type": "code",
      "execution_count": 5,
      "metadata": {},
      "outputs": [
        {
          "name": "stdout",
          "output_type": "stream",
          "text": [
            "['Berkcan\\n', 'Emirhan\\n', 'Çağla\\n', 'Enes\\n', 'Adem\\n', 'Ahmet\\n', 'Beyza']\n"
          ]
        }
      ],
      "source": [
        "#Çözüm 1\n",
        "yeni_liste = []\n",
        "with open(\"test.txt\" ,\"r\",encoding=\"utf-8\") as f:\n",
        "    for x in f:\n",
        "            yeni_liste.append(x)\n",
        "    print(yeni_liste)                "
      ]
    },
    {
      "cell_type": "code",
      "execution_count": 51,
      "metadata": {},
      "outputs": [
        {
          "name": "stdout",
          "output_type": "stream",
          "text": [
            "[['Berkcan\\n', 'Emirhan\\n', 'Çağla\\n', 'Enes\\n', 'Adem\\n', 'Ahmet\\n', 'Beyza']]\n"
          ]
        }
      ],
      "source": [
        "#Çözüm 2\n",
        "yeni_liste = []\n",
        "with open(\"test.txt\" ,\"r\",encoding=\"utf-8\") as f:\n",
        "    x = f.readlines()\n",
        "    yeni_liste.append(x)\n",
        "    print(yeni_liste)        "
      ]
    },
    {
      "cell_type": "code",
      "execution_count": 58,
      "metadata": {},
      "outputs": [
        {
          "name": "stdout",
          "output_type": "stream",
          "text": [
            "['Berkcan\\n', 'Emirhan\\n', 'Çağla\\n', 'Enes\\n', 'Adem\\n', 'Ahmet\\n', 'Beyza']\n"
          ]
        }
      ],
      "source": [
        "#Çözüm 3\n",
        "def file_read(fname):\n",
        "    with open(fname ,encoding=\"utf-8\") as f:\n",
        "        yeni_liste = f.readlines()\n",
        "        print(yeni_liste)\n",
        "\n",
        "(file_read(\"test.txt\"))\n"
      ]
    }
  ],
  "metadata": {
    "colab": {
      "provenance": []
    },
    "kernelspec": {
      "display_name": "Python 3",
      "name": "python3"
    },
    "language_info": {
      "codemirror_mode": {
        "name": "ipython",
        "version": 3
      },
      "file_extension": ".py",
      "mimetype": "text/x-python",
      "name": "python",
      "nbconvert_exporter": "python",
      "pygments_lexer": "ipython3",
      "version": "3.11.1"
    }
  },
  "nbformat": 4,
  "nbformat_minor": 0
}
