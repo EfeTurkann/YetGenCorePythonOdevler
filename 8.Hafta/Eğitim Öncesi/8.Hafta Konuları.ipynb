{
 "cells": [
  {
   "attachments": {},
   "cell_type": "markdown",
   "metadata": {},
   "source": [
    "# Dosya Okuma İşlemleri \n",
    "- Dosya açmak ve oluşturmak için open() kullanılır.\n",
    "\n",
    "```python\topen(dosyaIsmi, dosyaModu)``` \n",
    "\n",
    "- dosyaModu: Dosyayı hangi modda açacağını belirtir.\n",
    "- r: reading anlamındadır. Okuma modunda açmayı sağlar.Eğer hiçbir mod belirtmezsem bu modda açar. Belirtilen konumda dosya olması gerekir.\n",
    "- close(): Dosyayı kapatır."
   ]
  },
  {
   "cell_type": "code",
   "execution_count": 10,
   "metadata": {},
   "outputs": [
    {
     "name": "stdout",
     "output_type": "stream",
     "text": [
      "<_io.TextIOWrapper name='bilgiler.txt' mode='r' encoding='cp1254'>\n"
     ]
    }
   ],
   "source": [
    "f = open(\"bilgiler.txt\")\n",
    "print(f)"
   ]
  },
  {
   "attachments": {},
   "cell_type": "markdown",
   "metadata": {},
   "source": [
    "name = dosya adı / mode = reading modu(mod belirtmediğim için bu modda açtı) /\n",
    "encoding = okuma modu\n"
   ]
  },
  {
   "cell_type": "code",
   "execution_count": 11,
   "metadata": {},
   "outputs": [
    {
     "name": "stdout",
     "output_type": "stream",
     "text": [
      "Dosya Bulunamadı....\n"
     ]
    }
   ],
   "source": [
    "\n",
    "try:\n",
    "    file = open(\"bilgiler2.txt\",\"r\",encoding= \"utf-8\") # utf-8 : dosyayı okuma kipi ile açıyoruz.Türkçe karakterlerin okunmasını sağlar.bunu vermezsek Türkçe karakterleri okumaz.\n",
    "except FileNotFoundError:\n",
    "    print(\"Dosya Bulunamadı....\")"
   ]
  },
  {
   "cell_type": "code",
   "execution_count": 12,
   "metadata": {},
   "outputs": [],
   "source": [
    "\n",
    "try:\n",
    "    file = open(\"bilgiler.txt\",\"r\",encoding= \"utf-8\") # utf-8 : dosyayı okuma kipi ile açıyoruz.Türkçe karakterlerin okunmasını sağlar.\n",
    "except FileNotFoundError:\n",
    "    print(\"Dosya Bulunamadı....\") \n",
    "# DOSYAYI BULDUĞU İÇİN,HERHANGİ BİR ÇIKTI VERMEDİ."
   ]
  },
  {
   "cell_type": "code",
   "execution_count": 13,
   "metadata": {},
   "outputs": [
    {
     "name": "stdout",
     "output_type": "stream",
     "text": [
      "Silecen mi?\n",
      "\n",
      "YetGen Jump\n",
      "\n"
     ]
    }
   ],
   "source": [
    "file = open(\"bilgiler.txt\",\"r\",encoding= \"utf-8\") # Dosyayı okuma kipiyle açıyoruz. Türkçe karaktere dikkat et diyoruz.\n",
    "\n",
    "for i in file: # Tıpkı listeler gibi dosyanın her bir satırı üzerinde geziniyoruz.\n",
    "    print(i) # Her bir satırı ekrana basıyoruz.\n",
    "file.close()"
   ]
  },
  {
   "attachments": {},
   "cell_type": "markdown",
   "metadata": {},
   "source": [
    "**read() Fonksiyonu**\n",
    "\n",
    "read() fonksiyonu eğer içine hiçbir değer vermezsek bütün dosyamızı okuyacaktır.\n"
   ]
  },
  {
   "cell_type": "code",
   "execution_count": 14,
   "metadata": {},
   "outputs": [
    {
     "name": "stdout",
     "output_type": "stream",
     "text": [
      "1.okuma dosya İçeriği:\n",
      " Silecen mi?\n",
      "YetGen Jump\n",
      "\n",
      "2.okuma dosya İçeriği:\n",
      " Silecen mi?\n",
      "YetGen Jump\n",
      "\n"
     ]
    }
   ],
   "source": [
    "file = open(\"bilgiler.txt\",\"r\",encoding=\"utf-8\")\n",
    "icerik = file.read() \n",
    "print(\"1.okuma dosya İçeriği:\\n\",icerik,sep =\" \")\n",
    "icerik2 = file.read()\n",
    "print(\"2.okuma dosya İçeriği:\\n\",icerik,sep =\" \")\n",
    "file.close() #Bunu yazmazsan dosya kapanmaz.Dene gör. "
   ]
  },
  {
   "attachments": {},
   "cell_type": "markdown",
   "metadata": {},
   "source": [
    "read() fonksiyonuyla bir dosyayı okuduğumuzda dosya imlecimiz dosyanın en sonuna gider ve read() fonksiyonu 2. okuma da artık boş string döner."
   ]
  },
  {
   "cell_type": "code",
   "execution_count": 15,
   "metadata": {},
   "outputs": [
    {
     "name": "stdout",
     "output_type": "stream",
     "text": [
      "1. Okuma : Dosya İçeriği:\n",
      "Silecen mi?\n",
      "YetGen Jump\n",
      "\n",
      "2. Okuma : Dosya İçeriği:\n",
      "\n"
     ]
    }
   ],
   "source": [
    "file = open(\"bilgiler.txt\",\"r\",encoding=\"utf-8\")\n",
    "icerik = file.read() \n",
    "print(\"1. Okuma : Dosya İçeriği:\\n\",icerik,sep =\"\")\n",
    "icerik2 = file.read()\n",
    "print(\"2. Okuma : Dosya İçeriği:\\n\",icerik2,sep =\"\")\n",
    "file.close()"
   ]
  },
  {
   "attachments": {},
   "cell_type": "markdown",
   "metadata": {},
   "source": [
    "**readline() Fonksiyonu**\n",
    "\n",
    "Her çalıştırıldığında bir satır okur."
   ]
  },
  {
   "cell_type": "code",
   "execution_count": 16,
   "metadata": {},
   "outputs": [
    {
     "name": "stdout",
     "output_type": "stream",
     "text": [
      "Silecen mi?\n",
      "\n"
     ]
    }
   ],
   "source": [
    "file = open(\"bilgiler.txt\",\"r\",encoding=\"utf-8\")\n",
    "print(file.readline()) # 1. satırı okur."
   ]
  },
  {
   "cell_type": "code",
   "execution_count": 17,
   "metadata": {},
   "outputs": [
    {
     "name": "stdout",
     "output_type": "stream",
     "text": [
      "YetGen Jump\n",
      "\n"
     ]
    }
   ],
   "source": [
    "print(file.readline()) # 2. satırı okur."
   ]
  },
  {
   "cell_type": "code",
   "execution_count": 18,
   "metadata": {},
   "outputs": [
    {
     "name": "stdout",
     "output_type": "stream",
     "text": [
      "\n"
     ]
    }
   ],
   "source": [
    "print(file.readline()) # 3. satırı okur."
   ]
  },
  {
   "cell_type": "code",
   "execution_count": 19,
   "metadata": {},
   "outputs": [
    {
     "name": "stdout",
     "output_type": "stream",
     "text": [
      "\n"
     ]
    }
   ],
   "source": [
    "print(file.readline()) # 4. satırı okur."
   ]
  },
  {
   "cell_type": "code",
   "execution_count": 20,
   "metadata": {},
   "outputs": [
    {
     "name": "stdout",
     "output_type": "stream",
     "text": [
      "\n"
     ]
    }
   ],
   "source": [
    "print(file.readline()) # 5. satırı okur."
   ]
  },
  {
   "cell_type": "code",
   "execution_count": 21,
   "metadata": {},
   "outputs": [
    {
     "name": "stdout",
     "output_type": "stream",
     "text": [
      "\n"
     ]
    }
   ],
   "source": [
    "print(file.readline()) # Okuyacak herhangi bir şey kalmayınca readline fonksiyonu boş string döner."
   ]
  },
  {
   "cell_type": "code",
   "execution_count": 22,
   "metadata": {},
   "outputs": [],
   "source": [
    "file.close()"
   ]
  },
  {
   "attachments": {},
   "cell_type": "markdown",
   "metadata": {},
   "source": [
    "**readlines() fonksiyonu**\n",
    "readlines() fonksiyonu dosyanın bütün satırları bir liste şeklinde döner."
   ]
  },
  {
   "cell_type": "code",
   "execution_count": 23,
   "metadata": {},
   "outputs": [
    {
     "name": "stdout",
     "output_type": "stream",
     "text": [
      "['Silecen mi?\\n', 'YetGen Jump\\n']\n"
     ]
    }
   ],
   "source": [
    "file = open(\"bilgiler.txt\",\"r\",encoding=\"utf-8\")\n",
    "print(file.readlines()) # Tüm satırları okur."
   ]
  },
  {
   "cell_type": "code",
   "execution_count": 24,
   "metadata": {},
   "outputs": [],
   "source": [
    "file.close()"
   ]
  },
  {
   "attachments": {},
   "cell_type": "markdown",
   "metadata": {},
   "source": [
    "# Dosyaya Yazma\n",
    "\n",
    "- w : Yazma modu. Dosyayı konumda oluşturur. Eğer dosya mevcut ise, dosyayı siler ve yeni bir dosya oluşturur.Mevcut değil ise yeni dosya oluşturur.\n",
    "-  write fonksiyonu ile dosyamıza yazıyoruz.\n"
   ]
  },
  {
   "cell_type": "code",
   "execution_count": 25,
   "metadata": {},
   "outputs": [],
   "source": [
    "file = open(\"bilgiler.txt\",\"w\",encoding=\"utf-8\")\n",
    "file.write(\"w modunu kullanıyorum\\n\")\n",
    "file.close()"
   ]
  },
  {
   "cell_type": "code",
   "execution_count": 26,
   "metadata": {},
   "outputs": [],
   "source": [
    "file = open(\"bilgiler3.txt\",\"w\",encoding=\"utf-8\")\n",
    "file.write(\"Write ile dosya oluşturuyorum.\\n Oluştu.\")\n",
    "file.close()"
   ]
  },
  {
   "attachments": {},
   "cell_type": "markdown",
   "metadata": {},
   "source": [
    "a: append (ekleme) modudur. Dosya konumda yoksa oluşturur, dosya konumda varsa ekleme işlemi yapar."
   ]
  },
  {
   "cell_type": "code",
   "execution_count": 27,
   "metadata": {},
   "outputs": [],
   "source": [
    "file = open(\"bilgiler.txt\",\"a\",encoding=\"utf-8\")\n",
    "file.write(\"YetGen Jump\\n\")\n",
    "file.close()"
   ]
  },
  {
   "attachments": {},
   "cell_type": "markdown",
   "metadata": {},
   "source": [
    "r+ : Hem okuma hem yazma modudur. Dosya konumda yoksa hata verir."
   ]
  },
  {
   "cell_type": "code",
   "execution_count": 28,
   "metadata": {},
   "outputs": [],
   "source": [
    "file = open(\"bilgiler.txt\",\"r+\",encoding=\"utf-8\")\n",
    "file.write(\"r+ modunu deniyorum\\n\")\n",
    "file.read()\n",
    "file.close()"
   ]
  },
  {
   "attachments": {},
   "cell_type": "markdown",
   "metadata": {},
   "source": [
    "# Dosyaları Otomatik Kapatma\n",
    "```python\n",
    " with open(dosya_adı,dosya_kipi) as file:\n",
    "    Dosya işlemleri\n",
    "```"
   ]
  },
  {
   "cell_type": "code",
   "execution_count": 29,
   "metadata": {},
   "outputs": [
    {
     "name": "stdout",
     "output_type": "stream",
     "text": [
      "r+ modunu deniyorum\n",
      "\n",
      "m\n",
      "\n",
      "YetGen Jump\n",
      "\n"
     ]
    }
   ],
   "source": [
    "with open(\"bilgiler.txt\",\"r\",encoding = \"utf-8\") as file:\n",
    "    for i in file:\n",
    "        print(i)"
   ]
  },
  {
   "attachments": {},
   "cell_type": "markdown",
   "metadata": {},
   "source": [
    "# Dosyayı İleri-Geri Sarmak¶\n",
    "- seek() metodunu kullanarak istediğiniz bayt konumuna dönebilirsiniz\n",
    "-  Dosyanın hangi bayt konumunda bulunduğunuzu öğrenmek isterseniz de tell() metodunu kullanabilirsiniz"
   ]
  },
  {
   "cell_type": "code",
   "execution_count": 30,
   "metadata": {},
   "outputs": [
    {
     "name": "stdout",
     "output_type": "stream",
     "text": [
      "20\n"
     ]
    }
   ],
   "source": [
    "with open(\"bilgiler.txt\",\"r\",encoding = \"utf-8\") as file:\n",
    "    file.seek(20) # 20.bit'e git ve dur .\n",
    "    print(file.tell()) #kaçıncı bit'de olduğunu bana söyle"
   ]
  },
  {
   "cell_type": "code",
   "execution_count": 31,
   "metadata": {},
   "outputs": [
    {
     "name": "stdout",
     "output_type": "stream",
     "text": [
      "dunu deniy\n",
      "r+ mod\n"
     ]
    }
   ],
   "source": [
    "with open(\"bilgiler.txt\",\"r\",encoding = \"utf-8\") as file:\n",
    "    file.seek(5) # 5.bit'e   gidiyoruz.\n",
    "    icerik = file.read(10)  # 10.bitteki karaktere kadar okuyoruz.\n",
    "    print(icerik)\n",
    "    file.seek(0) #0.bit'e  gidiyoruz.\n",
    "    icerik2 = file.read(6) #6.bitteki karaktere kadar okuyoruz.\n",
    "    print(icerik2)"
   ]
  },
  {
   "attachments": {},
   "cell_type": "markdown",
   "metadata": {},
   "source": [
    "# Dosyanın Sonunda Değişiklik Yapmak"
   ]
  },
  {
   "cell_type": "code",
   "execution_count": 32,
   "metadata": {},
   "outputs": [],
   "source": [
    "with open(\"bilgiler.txt\",\"r+\",encoding = \"utf-8\") as file:\n",
    "    file.seek(10)\n",
    "    file.write(\"Deneme\")\n"
   ]
  },
  {
   "cell_type": "code",
   "execution_count": 33,
   "metadata": {},
   "outputs": [
    {
     "name": "stdout",
     "output_type": "stream",
     "text": [
      "r+ modunu Denemerum\n",
      "m\n",
      "YetGen Jump\n",
      "\n"
     ]
    }
   ],
   "source": [
    "with open(\"bilgiler.txt\",\"r\",encoding = \"utf-8\") as file:\n",
    "    print(file.read())"
   ]
  },
  {
   "attachments": {},
   "cell_type": "markdown",
   "metadata": {},
   "source": [
    "# Dosyanın Başında Değişiklik Yapmak"
   ]
  },
  {
   "cell_type": "code",
   "execution_count": 34,
   "metadata": {},
   "outputs": [],
   "source": [
    "with open(\"bilgiler.txt\",\"r+\",encoding = \"utf-8\") as file:\n",
    "    icerik = file.read()\n",
    "    \n",
    "    icerik = \"Deneme2\\n\" + icerik\n",
    "    file.seek(0)\n",
    "    file.write(icerik)"
   ]
  },
  {
   "cell_type": "code",
   "execution_count": 35,
   "metadata": {},
   "outputs": [
    {
     "name": "stdout",
     "output_type": "stream",
     "text": [
      "Deneme2\n",
      "r+ modunu Denemerum\n",
      "m\n",
      "YetGen Jump\n",
      "\n"
     ]
    }
   ],
   "source": [
    "with open(\"bilgiler.txt\",\"r\",encoding = \"utf-8\") as file:\n",
    "    print(file.read())"
   ]
  },
  {
   "attachments": {},
   "cell_type": "markdown",
   "metadata": {},
   "source": [
    "# Dosyanın Ortasında Değişiklik Yapmak"
   ]
  },
  {
   "cell_type": "code",
   "execution_count": 36,
   "metadata": {},
   "outputs": [
    {
     "name": "stdout",
     "output_type": "stream",
     "text": [
      "['Deneme2\\n', 'r+ modunu Denemerum\\n', 'm\\n', 'YetGen Jump\\n']\n"
     ]
    }
   ],
   "source": [
    "with open(\"bilgiler.txt\",\"r+\",encoding = \"utf-8\") as file:\n",
    "    liste = file.readlines()\n",
    "    print(liste)\n",
    "    liste.insert(3,\"Deneme3\\n\") #3.indexe deneme yazısını ekle.\n",
    "    file.seek(0) #0.byte'a gel\n",
    "    file.writelines(liste)"
   ]
  },
  {
   "cell_type": "code",
   "execution_count": 37,
   "metadata": {},
   "outputs": [
    {
     "name": "stdout",
     "output_type": "stream",
     "text": [
      "Deneme2\n",
      "r+ modunu Denemerum\n",
      "m\n",
      "Deneme3\n",
      "YetGen Jump\n",
      "\n"
     ]
    }
   ],
   "source": [
    "with open(\"bilgiler.txt\",\"r\",encoding = \"utf-8\") as file:\n",
    "    print(file.read())"
   ]
  },
  {
   "attachments": {},
   "cell_type": "markdown",
   "metadata": {},
   "source": [
    "# Nesne Yönelimli Programlama(Object Oriented Programming - OOP)\n",
    "- DRY(Don't Repeat Yourself) prensibinde çalışır.Temiz kod yazmanın olmazsa olmazıdır."
   ]
  },
  {
   "attachments": {},
   "cell_type": "markdown",
   "metadata": {},
   "source": [
    "# Class\n",
    "- Sınıflar veya Classlar objelerimizi oluştururken objelerin özelliklerini ve metodlarını tanımladığımız bir yapıdır "
   ]
  },
  {
   "cell_type": "code",
   "execution_count": 62,
   "metadata": {},
   "outputs": [],
   "source": [
    "class Araba():\n",
    "    # Sınıfın özellikleri(attribute)\n",
    "    model = \"Renault Megane\"\n",
    "    renk = \"Gümüş\"\n",
    "    beygirGucu = 110\n",
    "    silindir = 4 "
   ]
  },
  {
   "attachments": {},
   "cell_type": "markdown",
   "metadata": {},
   "source": [
    "**Obje oluşturma**\n",
    "\n",
    "\n",
    "  ```obje_ismi = Sınıf_İsmi(parametreler(opsiyonel))```\n",
    "\n",
    "**Özelliklere Erişme**\n",
    "\n",
    "\n",
    "  ```  obje_ismi.özellik_ismi```\n"
   ]
  },
  {
   "cell_type": "code",
   "execution_count": 66,
   "metadata": {},
   "outputs": [
    {
     "name": "stdout",
     "output_type": "stream",
     "text": [
      "Renault Megane\n",
      "Gümüş\n",
      "110\n",
      "4\n"
     ]
    }
   ],
   "source": [
    "araba1 =  Araba() # Araba veri tipinden bir \"araba1\" isminde bir obje oluşturduk.\n",
    "print(araba1.model) # Araba1'in modeli Reneault Megane\n",
    "print(araba1.renk) # Araba1'in rengi Gümüş\n",
    "print(araba1.beygirGucu) # Araba1'in beygir gücü 110\n",
    "print(araba1.silindir) # Araba1'in silindiri 4"
   ]
  },
  {
   "cell_type": "code",
   "execution_count": 45,
   "metadata": {},
   "outputs": [
    {
     "name": "stdout",
     "output_type": "stream",
     "text": [
      "Kuş\n"
     ]
    }
   ],
   "source": [
    "class Hayvan:\n",
    "    name = \"Kuş\"\n",
    "    print(name)"
   ]
  },
  {
   "attachments": {},
   "cell_type": "markdown",
   "metadata": {},
   "source": [
    "#  __init__() \n",
    "Pythonda yapıcı(constructor ) fonksiyon olarak tanımlanmaktadır. Bu metod objelerimiz oluşturulurken otomatik olarak ilk çağrılan fonksiyondur. Bu metodu özel olarak tanımlayarak objelerimizi farklı değerlerle oluşturabiliriz."
   ]
  },
  {
   "cell_type": "code",
   "execution_count": 46,
   "metadata": {},
   "outputs": [
    {
     "name": "stdout",
     "output_type": "stream",
     "text": [
      "init fonksiyonu çağrıldı.\n"
     ]
    }
   ],
   "source": [
    "class Araba():\n",
    "    # Şimdilik Class özelliklerine ihtiyacımız yok.\n",
    "    \n",
    "    def __init__(parametre):\n",
    "        print(\"init fonksiyonu çağrıldı.\")\n",
    "        \n",
    "araba = Araba() # Araba veri tipinden(sınıfından) bir \"araba\" isminde bir obje oluşturduk."
   ]
  },
  {
   "attachments": {},
   "cell_type": "markdown",
   "metadata": {},
   "source": [
    "**self anahtar kelimesi** objeyi oluşturduğumuz zaman o objeyi gösteren bir referanstır ve metodlarımızda en başta bulunması gereken bir parametredir."
   ]
  },
  {
   "cell_type": "code",
   "execution_count": 69,
   "metadata": {},
   "outputs": [],
   "source": [
    "class Araba():\n",
    "    \n",
    "    def __init__(self,model,renk,beygir_gücü,silindir): # Parametrelerimizin değerlerini objelerimizi oluştururken göndereceğiz.\n",
    "        self.model =  model # self.özellik_ismi = parametre değeri şeklinde objemizin model özelliğine değeri atıyoruz.\n",
    "        self.renk = renk # self.özellik_ismi = parametre değeri şeklinde objemizin renk özelliğine değeri atıyoruz.\n",
    "        self.beygir_gücü = beygir_gücü # self.özellik_ismi = parametre değeri şeklinde objemizin beygir_gücü özelliğine değeri atıyoruz.\n",
    "        self.silindir = silindir # self.özellik_ismi = parametre değeri şeklinde objemizin silndir özelliğine değeri atıyoruz."
   ]
  },
  {
   "cell_type": "code",
   "execution_count": 72,
   "metadata": {},
   "outputs": [
    {
     "name": "stdout",
     "output_type": "stream",
     "text": [
      "Audi R6\n"
     ]
    }
   ],
   "source": [
    "# araba2 objesini oluşturalım.\n",
    "# Artık değerlerimizi göndererek objelerimizin özelliklerini istediğimiz değerle başlatabiliriz.\n",
    "araba2 = Araba(\"Audi R6\",\"Siyah\", 650,6)\n",
    "print(araba2.model)\n"
   ]
  },
  {
   "attachments": {},
   "cell_type": "markdown",
   "metadata": {},
   "source": [
    "İstersek init metodunu varsayılan değerlerle de yazabiliriz.(Class metodunun başında olduğu gibi)\n"
   ]
  },
  {
   "attachments": {},
   "cell_type": "markdown",
   "metadata": {},
   "source": [
    "# Uygulama\n"
   ]
  },
  {
   "attachments": {},
   "cell_type": "markdown",
   "metadata": {},
   "source": [
    "- Comment isminde bir sınıf oluşturunuz.\n",
    "- Comment sınıfı username, text, likes, dislikes isminde özelliklere sahip olsun.\n",
    "- 5 adet farklı comment oluşturup döngü yardımıyla yorumları ekrana yazdırınız."
   ]
  },
  {
   "cell_type": "code",
   "execution_count": 75,
   "metadata": {},
   "outputs": [
    {
     "name": "stdout",
     "output_type": "stream",
     "text": [
      "berkcan: güzel kurs yorumunu yapıp. 10 beğeni, 2 dislike aldı.\n",
      "ahmet: çok güzel kurs yorumunu yapıp. 20 beğeni, 6 dislike aldı.\n",
      "cinar: idare eder bir kurs yorumunu yapıp. 50 beğeni, 10 dislike aldı.\n",
      "ahmet: kursu beğenmedim yorumunu yapıp. 10 beğeni, 50 dislike aldı.\n",
      "efe: süper bir kurs olmuş yorumunu yapıp. 100 beğeni, 22 dislike aldı.\n"
     ]
    }
   ],
   "source": [
    "class Comment:\n",
    "    def __init__(self, username, text, likes, dislikes):\n",
    "        self.username = username\n",
    "        self.text = text\n",
    "        self.likes = likes\n",
    "        self.dislikes = dislikes\n",
    "\n",
    "c1 = Comment(\"berkcan\",\"güzel kurs\",10,2)\n",
    "c2 = Comment(\"ahmet\",\"çok güzel kurs\",20,6)\n",
    "c3 = Comment(\"cinar\",\"idare eder bir kurs\", 50, 10)\n",
    "c4 = Comment(\"ahmet\",\"kursu beğenmedim\",10,50)\n",
    "c5 = Comment(\"efe\",\"süper bir kurs olmuş\",100,22)\n",
    "\n",
    "comments = [c1,c2,c3,c4,c5]\n",
    "\n",
    "for c in comments:\n",
    "    print(f\"{c.username}: {c.text} yorumunu yapıp. {c.likes} beğeni, {c.dislikes} dislike aldı.\" )"
   ]
  }
 ],
 "metadata": {
  "kernelspec": {
   "display_name": "Python 3",
   "language": "python",
   "name": "python3"
  },
  "language_info": {
   "codemirror_mode": {
    "name": "ipython",
    "version": 3
   },
   "file_extension": ".py",
   "mimetype": "text/x-python",
   "name": "python",
   "nbconvert_exporter": "python",
   "pygments_lexer": "ipython3",
   "version": "3.11.1"
  },
  "orig_nbformat": 4
 },
 "nbformat": 4,
 "nbformat_minor": 2
}
