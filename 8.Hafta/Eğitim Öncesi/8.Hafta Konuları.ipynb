{
 "cells": [
  {
   "attachments": {},
   "cell_type": "markdown",
   "metadata": {},
   "source": [
    "# Dosya Okuma İşlemleri \n",
    "- Dosya açmak ve oluşturmak için open() kullanılır.\n",
    "\n",
    "```python\topen(dosyaIsmi, dosyaModu)``` \n",
    "\n",
    "- dosyaModu: Dosyayı hangi modda açacağını belirtir.\n",
    "- r: reading anlamındadır. Okuma modunda açmayı sağlar.Eğer hiçbir mod belirtmezsem bu modda açar. Belirtilen konumda dosya olması gerekir.\n",
    "- close(): Dosyayı kapatır."
   ]
  },
  {
   "attachments": {},
   "cell_type": "markdown",
   "metadata": {},
   "source": [
    "``****************************************************************************``"
   ]
  },
  {
   "attachments": {},
   "cell_type": "markdown",
   "metadata": {},
   "source": [
    "``****************************************************************************``\n"
   ]
  },
  {
   "cell_type": "code",
   "execution_count": 1,
   "metadata": {},
   "outputs": [
    {
     "name": "stdout",
     "output_type": "stream",
     "text": [
      "Dosyalarla Ã‡alÄ±ÅŸma\n",
      "Birinci KÄ±sÄ±m: DosyalarÄ± aÃ§ma\n",
      "r modu : Okuma modu (Dosya yoksa hata verir)\n",
      "w modu : Yazma modu (Dosya yoksa oluÅŸturur.)\n",
      "r+ modu : Hem okuma hem yazma modu\n",
      "a modu : DosyanÄ±n sonuna ekleme modu,\n",
      "b modu : binary mode\n",
      "DosyalarÄ± Kapatma\n",
      "With open yapÄ±sÄ±\n",
      "Ä°kinci KÄ±sÄ±m: DosyalarÄ± okuma\n",
      "read()\n",
      "readline()\n",
      "readlines()\n"
     ]
    }
   ],
   "source": [
    "f = open(\"tekrar.txt\" , \"r\") #tekrar.txt dosyasını aç ben onu okuyacağım \n",
    "# open 2 parametre alır.(Dosya adı veya yolu(deneme.txt çalıştığımız sayfa ile aynı dosyada olduğundan bunu yazmaya gerek yok,eğer olmasaydı dosya yolunu yazardık.) , açma modu(kipi))\n",
    "icerik = f.read()\n",
    "print(icerik)\n",
    "f.close() #Dosya ile işin bittiğinde dosyayı kapatmak zorundasın. Çünkü;\n",
    "#Açtığın dosyayı kapatmazsan o hafızanda yer tutmaya devam eder."
   ]
  },
  {
   "attachments": {},
   "cell_type": "markdown",
   "metadata": {},
   "source": [
    "encoding=\"utf-8\" modunu kullanmadığımızdan Türkçe karakterleri okumadı.O halde kullanarak bu sorunu aşalım:"
   ]
  },
  {
   "cell_type": "code",
   "execution_count": 2,
   "metadata": {},
   "outputs": [
    {
     "name": "stdout",
     "output_type": "stream",
     "text": [
      "Dosyalarla Çalışma\n",
      "Birinci Kısım: Dosyaları açma\n",
      "r modu : Okuma modu (Dosya yoksa hata verir)\n",
      "w modu : Yazma modu (Dosya yoksa oluşturur.)\n",
      "r+ modu : Hem okuma hem yazma modu\n",
      "a modu : Dosyanın sonuna ekleme modu,\n",
      "b modu : binary mode\n",
      "Dosyaları Kapatma\n",
      "With open yapısı\n",
      "İkinci Kısım: Dosyaları okuma\n",
      "read()\n",
      "readline()\n",
      "readlines()\n"
     ]
    }
   ],
   "source": [
    "f = open(\"tekrar.txt\" , \"r\", encoding=\"utf-8\") #tekrar.txt dosyasını aç ben onu okuyacağım \n",
    "# open 2 parametre alır.(Dosya adı veya yolu(deneme.txt çalıştığımız sayfa ile aynı dosyada olduğundan bunu yazmaya gerek yok,eğer olmasaydı dosya yolunu yazardık.) , açma modu(kipi))\n",
    "icerik = f.read()\n",
    "print(icerik)\n",
    "f.close() #Dosya ile işin bittiğinde dosyayı kapatmak zorundasın. Çünkü;\n",
    "#Açtığın dosyayı kapatmazsan o hafızanda yer tutmaya devam eder."
   ]
  },
  {
   "cell_type": "code",
   "execution_count": 4,
   "metadata": {},
   "outputs": [
    {
     "ename": "ValueError",
     "evalue": "I/O operation on closed file.",
     "output_type": "error",
     "traceback": [
      "\u001b[1;31m---------------------------------------------------------------------------\u001b[0m",
      "\u001b[1;31mValueError\u001b[0m                                Traceback (most recent call last)",
      "Cell \u001b[1;32mIn[4], line 1\u001b[0m\n\u001b[1;32m----> 1\u001b[0m icerik2 \u001b[39m=\u001b[39m f\u001b[39m.\u001b[39;49mread()\n\u001b[0;32m      2\u001b[0m \u001b[39m# Hata verdi çünkü sen o dosyayı kapattın ben okuyamam dedi.Kapalı dosyayı okuyamazsın.\u001b[39;00m\n\u001b[0;32m      3\u001b[0m \u001b[39m# Eğer dosya ile işlem yapacaksan önce dosyanı açacaksın işlemlerini yapıp kapatacaksın.\u001b[39;00m\n",
      "\u001b[1;31mValueError\u001b[0m: I/O operation on closed file."
     ]
    }
   ],
   "source": [
    "icerik2 = f.read()\n",
    "# Hata verdi çünkü sen o dosyayı kapattın ben okuyamam dedi.Kapalı dosyayı okuyamazsın.\n",
    "# Eğer dosya ile işlem yapacaksan önce dosyanı açacaksın işlemlerini yapıp kapatacaksın."
   ]
  },
  {
   "attachments": {},
   "cell_type": "markdown",
   "metadata": {},
   "source": [
    "### Her zaman bu şekilde uzun uzadıya açıp kapatmaktansa veya close yazmayı unutup hafızamızdan yer kaplamaktansa bir metod kullanırız:"
   ]
  },
  {
   "cell_type": "code",
   "execution_count": 6,
   "metadata": {},
   "outputs": [
    {
     "name": "stdout",
     "output_type": "stream",
     "text": [
      "Dosyalarla Çalışma\n",
      "Birinci Kısım: Dosyaları açma\n",
      "r modu : Okuma modu (Dosya yoksa hata verir)\n",
      "w modu : Yazma modu (Dosya yoksa oluşturur.)\n",
      "r+ modu : Hem okuma hem yazma modu\n",
      "a modu : Dosyanın sonuna ekleme modu,\n",
      "b modu : binary mode\n",
      "Dosyaları Kapatma\n",
      "With open yapısı\n",
      "İkinci Kısım: Dosyaları okuma\n",
      "read()\n",
      "readline()\n",
      "readlines()\n"
     ]
    },
    {
     "ename": "ValueError",
     "evalue": "I/O operation on closed file.",
     "output_type": "error",
     "traceback": [
      "\u001b[1;31m---------------------------------------------------------------------------\u001b[0m",
      "\u001b[1;31mValueError\u001b[0m                                Traceback (most recent call last)",
      "Cell \u001b[1;32mIn[6], line 6\u001b[0m\n\u001b[0;32m      4\u001b[0m     \u001b[39mprint\u001b[39m(icerik)\n\u001b[0;32m      5\u001b[0m \u001b[39m#Yine aynı outputu aldık.\u001b[39;00m\n\u001b[1;32m----> 6\u001b[0m icerik2 \u001b[39m=\u001b[39m f\u001b[39m.\u001b[39;49mread()\n",
      "\u001b[1;31mValueError\u001b[0m: I/O operation on closed file."
     ]
    }
   ],
   "source": [
    "with open(\"tekrar.txt\",\"r\" , encoding=\"utf-8\") as f:\n",
    "#Bu dosyayı aç ve onu \"f\" olarak isimlendir.\n",
    "    icerik = f.read()\n",
    "    print(icerik)\n",
    "#Yine aynı outputu aldık.\n",
    "icerik2 = f.read()\n",
    "# Kapalı bir dosyayı okumaya çalışıyorsun dedi.With metodu close kullanmamıza rağmen dosyayı kapatır."
   ]
  },
  {
   "cell_type": "code",
   "execution_count": 7,
   "metadata": {},
   "outputs": [
    {
     "name": "stdout",
     "output_type": "stream",
     "text": [
      "Dosyalarla Çalışma\n",
      "Birinci Kısım: Dosyaları açma\n",
      "r modu : Okuma modu (Dosya yoksa hata verir)\n",
      "w modu : Yazma modu (Dosya yoksa oluşturur.)\n",
      "r+ modu : Hem okuma hem yazma modu\n",
      "a modu : Dosyanın sonuna ekleme modu,\n",
      "b modu : binary mode\n",
      "Dosyaları Kapatma\n",
      "With open yapısı\n",
      "İkinci Kısım: Dosyaları okuma\n",
      "read()\n",
      "readline()\n",
      "readlines()\n"
     ]
    }
   ],
   "source": [
    "with open(\"tekrar.txt\",\"r\" , encoding=\"utf-8\") as f:\n",
    "    icerik = f.read()\n",
    "    print(icerik)"
   ]
  },
  {
   "cell_type": "code",
   "execution_count": 8,
   "metadata": {},
   "outputs": [
    {
     "name": "stdout",
     "output_type": "stream",
     "text": [
      "Dosyalarla Çalışma\n",
      "Birinci Kısım: Dosyaları açma\n",
      "r modu : Okuma modu (Dosya yoksa hata verir)\n",
      "w modu : Yazma modu (Dosya yoksa oluşturur.)\n",
      "r+ modu : Hem okuma hem yazma modu\n",
      "a modu : Dosyanın sonuna ekleme modu,\n",
      "b modu : binary mode\n",
      "Dosyaları Kapatma\n",
      "With open yapısı\n",
      "İkinci Kısım: Dosyaları okuma\n",
      "read()\n",
      "readline()\n",
      "readlines()\n"
     ]
    }
   ],
   "source": [
    "with open(\"tekrar.txt\", encoding=\"utf-8\") as f:\n",
    "    icerik = f.read()\n",
    "    print(icerik)\n",
    "#Dosya moduna herhangi bir parametre girmezsen, python default olarak \"r\" modu olarak algılar."
   ]
  },
  {
   "attachments": {},
   "cell_type": "markdown",
   "metadata": {},
   "source": [
    "## Dosyalarımızı satır satır okumak istersek:"
   ]
  },
  {
   "cell_type": "code",
   "execution_count": 11,
   "metadata": {},
   "outputs": [
    {
     "name": "stdout",
     "output_type": "stream",
     "text": [
      "['Dosyalarla Çalışma\\n', 'Birinci Kısım: Dosyaları açma\\n', 'r modu : Okuma modu (Dosya yoksa hata verir)\\n', 'w modu : Yazma modu (Dosya yoksa oluşturur.)\\n', 'r+ modu : Hem okuma hem yazma modu\\n', 'a modu : Dosyanın sonuna ekleme modu,\\n', 'b modu : binary mode\\n', 'Dosyaları Kapatma\\n', 'With open yapısı\\n', 'İkinci Kısım: Dosyaları okuma\\n', 'read()\\n', 'readline()\\n', 'readlines()']\n",
      "Dosyalarla Çalışma\n",
      "\n",
      "Birinci Kısım: Dosyaları açma\n",
      "\n",
      "r modu : Okuma modu (Dosya yoksa hata verir)\n",
      "\n",
      "w modu : Yazma modu (Dosya yoksa oluşturur.)\n",
      "\n",
      "r+ modu : Hem okuma hem yazma modu\n",
      "\n",
      "a modu : Dosyanın sonuna ekleme modu,\n",
      "\n",
      "b modu : binary mode\n",
      "\n",
      "Dosyaları Kapatma\n",
      "\n",
      "With open yapısı\n",
      "\n",
      "İkinci Kısım: Dosyaları okuma\n",
      "\n",
      "read()\n",
      "\n",
      "readline()\n",
      "\n",
      "readlines()\n"
     ]
    }
   ],
   "source": [
    "with open(\"tekrar.txt\",\"r\" , encoding=\"utf-8\") as f:\n",
    "    icerik = f.readlines() #Dosyamızım satır satır okuyarak her satırı tek liste haline getirir.\n",
    "    print(icerik)\n",
    "    for satır in icerik:\n",
    "        print(satır)\n",
    "        #printlediğimizde aralarda birer satırlık boşluklar oluştu.\n",
    "#Çünkü örneğin listenin ilk elemanınnın ('Dosyalarla Çalışma\\n') sonundaki \\n'den dolayı bir alt satıra geçti.\n",
    "#Bir de print kendisi alt satıra indirdi dolayısıyla arada boşluk oluştu.İki kere enter'a basılmış gibi oldu."
   ]
  },
  {
   "attachments": {},
   "cell_type": "markdown",
   "metadata": {},
   "source": [
    "``Bu birer satırlık boşluklar oluştu.``"
   ]
  },
  {
   "attachments": {},
   "cell_type": "markdown",
   "metadata": {},
   "source": [
    "----"
   ]
  },
  {
   "attachments": {},
   "cell_type": "markdown",
   "metadata": {},
   "source": [
    "Sebebi print fonksiyonunun çalışma mantığı:"
   ]
  },
  {
   "cell_type": "code",
   "execution_count": 16,
   "metadata": {},
   "outputs": [
    {
     "name": "stdout",
     "output_type": "stream",
     "text": [
      "0\n",
      "1\n",
      "2\n",
      "3\n",
      "4\n",
      "5\n",
      "6\n",
      "7\n",
      "8\n",
      "9\n"
     ]
    }
   ],
   "source": [
    "for i in range(10):\n",
    "    print(i) #print fonk. yazma işlemi bittikten sonra otomatik olarak alt satıra geçiyor."
   ]
  },
  {
   "cell_type": "code",
   "execution_count": 34,
   "metadata": {},
   "outputs": [
    {
     "name": "stdout",
     "output_type": "stream",
     "text": [
      "0-1-2-3-4-5-6-7-8-9-         \n",
      "0123456789"
     ]
    }
   ],
   "source": [
    "for i in range(10):\n",
    "    print(i,end=\"-\") # end parametresi sayesinde alt satıra geçmez.Yanına yazar.\n",
    "    #biz end parametresini hiç yazmazsak python onu default olarak enter(end=\"\\n\") olarak algılar.\n",
    "print(\"         \")\n",
    "for i in range(10):\n",
    "    print(i,end=\"\") #endi boş string olarak bıraktığım için o şekilde yazdı."
   ]
  },
  {
   "attachments": {},
   "cell_type": "markdown",
   "metadata": {},
   "source": [
    "----"
   ]
  },
  {
   "attachments": {},
   "cell_type": "markdown",
   "metadata": {},
   "source": [
    "``Bunu gidermenin yolu: end parametresi eklemekten geçer.``"
   ]
  },
  {
   "cell_type": "code",
   "execution_count": 40,
   "metadata": {},
   "outputs": [
    {
     "name": "stdout",
     "output_type": "stream",
     "text": [
      "['Dosyalarla Çalışma\\n', 'Birinci Kısım: Dosyaları açma\\n', 'r modu : Okuma modu (Dosya yoksa hata verir)\\n', 'w modu : Yazma modu (Dosya yoksa oluşturur.)\\n', 'r+ modu : Hem okuma hem yazma modu\\n', 'a modu : Dosyanın sonuna ekleme modu,\\n', 'b modu : binary mode\\n', 'Dosyaları Kapatma\\n', 'With open yapısı\\n', 'İkinci Kısım: Dosyaları okuma\\n', 'read()\\n', 'readline()\\n', 'readlines()']\n",
      "Dosyalarla Çalışma\n",
      "Birinci Kısım: Dosyaları açma\n",
      "r modu : Okuma modu (Dosya yoksa hata verir)\n",
      "w modu : Yazma modu (Dosya yoksa oluşturur.)\n",
      "r+ modu : Hem okuma hem yazma modu\n",
      "a modu : Dosyanın sonuna ekleme modu,\n",
      "b modu : binary mode\n",
      "Dosyaları Kapatma\n",
      "With open yapısı\n",
      "İkinci Kısım: Dosyaları okuma\n",
      "read()\n",
      "readline()\n",
      "readlines()"
     ]
    }
   ],
   "source": [
    "with open(\"tekrar.txt\",\"r\" , encoding=\"utf-8\") as f:\n",
    "    icerik = f.readlines()\n",
    "    print(icerik)\n",
    "    for satır in icerik:\n",
    "        print(satır , end=\"\") #end ekleyerek read() da olduğu gibi yazdırdık.\n",
    " "
   ]
  },
  {
   "attachments": {},
   "cell_type": "markdown",
   "metadata": {},
   "source": [
    "------"
   ]
  },
  {
   "attachments": {},
   "cell_type": "markdown",
   "metadata": {},
   "source": [
    "## Satır Satır okumanın bir başka yolu(readlines olmadan)"
   ]
  },
  {
   "cell_type": "code",
   "execution_count": 45,
   "metadata": {},
   "outputs": [
    {
     "name": "stdout",
     "output_type": "stream",
     "text": [
      "Dosyalarla Çalışma\n",
      "Birinci Kısım: Dosyaları açma\n",
      "r modu : Okuma modu (Dosya yoksa hata verir)\n",
      "w modu : Yazma modu (Dosya yoksa oluşturur.)\n",
      "r+ modu : Hem okuma hem yazma modu\n",
      "a modu : Dosyanın sonuna ekleme modu,\n",
      "b modu : binary mode\n",
      "Dosyaları Kapatma\n",
      "With open yapısı\n",
      "İkinci Kısım: Dosyaları okuma\n",
      "read()\n",
      "readline()\n",
      "readlines()"
     ]
    }
   ],
   "source": [
    "with open(\"tekrar.txt\",\"r\" , encoding=\"utf-8\") as f:\n",
    "    for satir in f:\n",
    "        print(satir,end=\"\")#end kullandık print kendisi bir alt satıra geçmedi ancak:\n",
    "        # outputlarda gözükmeyen sonlardaki n'lerden dolayı sadece bir alt satıra geçti."
   ]
  },
  {
   "attachments": {},
   "cell_type": "markdown",
   "metadata": {},
   "source": [
    "## readline() fonksiyonu : Sadece bir satır okur."
   ]
  },
  {
   "cell_type": "code",
   "execution_count": 56,
   "metadata": {},
   "outputs": [
    {
     "name": "stdout",
     "output_type": "stream",
     "text": [
      "Dosyalarla Çalışma\n",
      "Birinci Kısım: Dosyaları açma\n",
      "r modu : Okuma modu (Dosya yoksa hata verir)\n"
     ]
    }
   ],
   "source": [
    "with open(\"tekrar.txt\",\"r\" , encoding=\"utf-8\") as f:\n",
    "    satir = f.readline() #1.satır\n",
    "    print(satir,end=\"\")\n",
    "    satir = f.readline() #2.satır\n",
    "    print(satir,end=\"\")\n",
    "    satir = f.readline() #3.satır\n",
    "    print(satir,end=\"\")\n",
    "\n"
   ]
  },
  {
   "attachments": {},
   "cell_type": "markdown",
   "metadata": {},
   "source": [
    "## İmlecin nerede kaldığını bulmak:"
   ]
  },
  {
   "cell_type": "code",
   "execution_count": 54,
   "metadata": {},
   "outputs": [
    {
     "name": "stdout",
     "output_type": "stream",
     "text": [
      "Dosyalarla Çalışma\n",
      "23\n"
     ]
    }
   ],
   "source": [
    "with open(\"tekrar.txt\",\"r\" , encoding=\"utf-8\") as f:\n",
    "    satir = f.readline()\n",
    "    print(satir,end=\"\")\n",
    "    imlec = f.tell() #Bana imlecin nerede olduğunu söyle\n",
    "    print(imlec)"
   ]
  },
  {
   "attachments": {},
   "cell_type": "markdown",
   "metadata": {},
   "source": [
    "## İmleci istediğimiz yere götürmek:"
   ]
  },
  {
   "cell_type": "code",
   "execution_count": 61,
   "metadata": {},
   "outputs": [
    {
     "name": "stdout",
     "output_type": "stream",
     "text": [
      "Dosyalarla Çalışma\n",
      "23\n",
      "Dosyalarla Çalışma\n"
     ]
    }
   ],
   "source": [
    "with open(\"tekrar.txt\",\"r\" , encoding=\"utf-8\") as f:\n",
    "    satir = f.readline()\n",
    "    print(satir,end=\"\")\n",
    "    imlec = f.tell() #İmleç nerede?\n",
    "    print(imlec)\n",
    "    f.seek(0) #İmleci 0.karaktere götür.\n",
    "    satir = f.readline() #İmlecin bulunduğu satır olan 1. satırı 2.kez okuyacak\n",
    "    print(satir,end=\"\")\n"
   ]
  },
  {
   "attachments": {},
   "cell_type": "markdown",
   "metadata": {},
   "source": [
    "## read() fonksiyonu metodları"
   ]
  },
  {
   "cell_type": "code",
   "execution_count": 62,
   "metadata": {},
   "outputs": [
    {
     "name": "stdout",
     "output_type": "stream",
     "text": [
      "Dosyalarla Çalışma\n",
      "Birinci Kısım: Dosyaları açma\n",
      "r modu : Okuma modu (Dosya yoksa hata verir)\n",
      "w modu : Yazma modu (Dosya yoksa oluşturur.)\n",
      "r+ modu : Hem okuma hem yazma modu\n",
      "a modu : Dosyanın sonuna ekleme modu,\n",
      "b modu : binary mode\n",
      "Dosyaları Kapatma\n",
      "With open yapısı\n",
      "İkinci Kısım: Dosyaları okuma\n",
      "read()\n",
      "readline()\n",
      "readlines()\n"
     ]
    }
   ],
   "source": [
    "with open(\"tekrar.txt\",\"r\" , encoding=\"utf-8\") as f:\n",
    "    icerik = f.read(1500) \n",
    "    print(icerik)\n",
    "#Normal bir şekilde yazdı.Çünkü benim dosyamda 1500 karakterden daha az sayıda karakter var."
   ]
  },
  {
   "cell_type": "code",
   "execution_count": 82,
   "metadata": {},
   "outputs": [
    {
     "name": "stdout",
     "output_type": "stream",
     "text": [
      "Dosyalarla ( 10 .Karakterdeyim) Çalışma\n",
      "Birinc\n"
     ]
    }
   ],
   "source": [
    "with open(\"tekrar.txt\",\"r\" , encoding=\"utf-8\") as f:\n",
    "    icerik = f.read(10)#10 karakter kadar okudu.\n",
    "    print(icerik ,end=\" \")\n",
    "    print(\"(\",f.tell() , \".Karakterdeyim)\",end=\"\")\n",
    "    icerik2 = f.read(15)#İmleç 10.karakterdeyken, 15 karakter daha okudu.(Totalde 25 karakter okudu.)\n",
    "    print(icerik2)\n"
   ]
  },
  {
   "cell_type": "code",
   "execution_count": 91,
   "metadata": {},
   "outputs": [
    {
     "name": "stdout",
     "output_type": "stream",
     "text": [
      "Dosyalarla Çalışma\n",
      "Birinci Kısım: Dosyaları açma\n",
      "r modu : Okuma modu (Dosya yoksa hata verir)\n",
      "w modu : Yazma modu (Dosya yoksa oluşturur.)\n",
      "r+ modu : Hem okuma hem yazma modu\n",
      "a modu : Dosyanın sonuna ekleme modu,\n",
      "b modu : binary mode\n",
      "Dosyaları Kapatma\n",
      "With open yapısı\n",
      "İkinci Kısım: Dosyaları okuma\n",
      "read()\n",
      "readline()\n",
      "readlines()\n",
      "Okuyacak içerik kalmadı.Döngü Sonlandı.\n"
     ]
    }
   ],
   "source": [
    "with open(\"tekrar.txt\",\"r\" , encoding=\"utf-8\") as f:\n",
    "    okunacak_miktar = 10\n",
    "    icerik = f.read(okunacak_miktar)\n",
    "    while len(icerik) >0:\n",
    "        print(icerik,end=\"\")\n",
    "        icerik = f.read(okunacak_miktar)\n",
    "    else:\n",
    "        print()\n",
    "        print(\"Okuyacak içerik kalmadı.Döngü Sonlandı.\")\n",
    "#10 karakter 10 karakter kadar sonuna kadar okuduk.\n",
    "# en sonda len(icerik) 0 dan küçük olacağından döngü sonlanacak."
   ]
  },
  {
   "attachments": {},
   "cell_type": "markdown",
   "metadata": {},
   "source": [
    "# Dosyalara Yazma"
   ]
  },
  {
   "attachments": {},
   "cell_type": "markdown",
   "metadata": {},
   "source": [
    "### Write Modu\n",
    "- r modunda bir dosyayı açmaya çalıştığınızda eğer o dosya yoksa dosya yok hatası alırız ancak w modunda dosya yoksa yeni dosya oluşturur.Varsa içerisindekileri silip yazacağın şeyi dosyaya ekler."
   ]
  },
  {
   "cell_type": "code",
   "execution_count": 93,
   "metadata": {},
   "outputs": [
    {
     "name": "stdout",
     "output_type": "stream",
     "text": [
      "W modu ile yeni dosya açtım.\n"
     ]
    }
   ],
   "source": [
    "with open(\"tekrar2.txt\",\"w\" , encoding=\"utf-8\") as f: #Dosya yoksa oluşturur.\n",
    "    f.write(\"W modu ile yeni dosya açtım.\")\n",
    "with open(\"tekrar2.txt\",\"r\" , encoding=\"utf-8\") as f:\n",
    "    print(f.read())\n"
   ]
  },
  {
   "cell_type": "code",
   "execution_count": 95,
   "metadata": {},
   "outputs": [
    {
     "name": "stdout",
     "output_type": "stream",
     "text": [
      "W modu ile veriyi güncelledim.\n"
     ]
    }
   ],
   "source": [
    "with open(\"tekrar2.txt\",\"w\" , encoding=\"utf-8\") as f: #Dosya var ise içerisindekini silip yeni yazdığını yazar.\n",
    "    f.write(\"W modu ile veriyi güncelledim.\")\n",
    "with open(\"tekrar2.txt\",\"r\" , encoding=\"utf-8\") as f:\n",
    "    print(f.read())"
   ]
  },
  {
   "attachments": {},
   "cell_type": "markdown",
   "metadata": {},
   "source": [
    "### writelines() metodu"
   ]
  },
  {
   "attachments": {},
   "cell_type": "markdown",
   "metadata": {},
   "source": [
    "writelines() metodu, Python'da dosyaya birden çok satır yazmak için kullanılır. Bu yöntem, dosyaya bir liste, demet veya başka bir iterable obje yazmak için kullanılabilir.\n",
    "\n",
    "İterable objeler, örneğin bir listedeki her öğe ayrı bir satıra yazılır. Yani, her öğe bir satır olarak dosyaya yazdırılır.\n",
    "\n",
    "Örnek kullanımı aşağıdaki gibidir:"
   ]
  },
  {
   "cell_type": "code",
   "execution_count": 197,
   "metadata": {},
   "outputs": [],
   "source": [
    "# bir liste oluştur\n",
    "my_list = ['Bu', 'bir', 'ornek', 'satirlar', 'listesidir.']\n",
    "\n",
    "# dosya ac\n",
    "with open('ornek_dosya.txt', 'w',encoding=\"utf-8\") as file:\n",
    "    # satırları yazdır\n",
    "    file.writelines(my_list)"
   ]
  },
  {
   "attachments": {},
   "cell_type": "markdown",
   "metadata": {},
   "source": [
    "Bu örnekte, my_list adlı bir liste oluşturduk ve sonra dosyayı yazma modunda açtık. Daha sonra, writelines() metoduyla my_list listesini dosyaya yazdık.Dosyaya yazdırılan veri, aşağıdaki gibi görünecektir:"
   ]
  },
  {
   "cell_type": "code",
   "execution_count": 198,
   "metadata": {},
   "outputs": [
    {
     "name": "stdout",
     "output_type": "stream",
     "text": [
      "Bubirorneksatirlarlistesidir.\n"
     ]
    }
   ],
   "source": [
    "with open(\"ornek_dosya.txt\", \"r\",encoding=\"utf-8\") as f:\n",
    "    icerik = f.read()\n",
    "    print(icerik)"
   ]
  },
  {
   "attachments": {},
   "cell_type": "markdown",
   "metadata": {},
   "source": [
    "Bunun yerine, her bir öğenin ayrı bir satırda yer almasını istiyorsak, örneğin şöyle bir düzenleme yapabiliriz:"
   ]
  },
  {
   "cell_type": "code",
   "execution_count": 199,
   "metadata": {},
   "outputs": [],
   "source": [
    "my_list = ['Bu\\n', 'bir\\n', 'ornek\\n', 'satirlar\\n', 'listesidir.\\n']\n",
    "\n",
    "with open('ornek_dosya.txt', 'w') as file:\n",
    "    file.writelines(my_list)\n"
   ]
  },
  {
   "attachments": {},
   "cell_type": "markdown",
   "metadata": {},
   "source": [
    "Bu kod, aşağıdaki dosyayı oluşturacaktır:"
   ]
  },
  {
   "cell_type": "code",
   "execution_count": 200,
   "metadata": {},
   "outputs": [
    {
     "name": "stdout",
     "output_type": "stream",
     "text": [
      "Bu\n",
      "bir\n",
      "ornek\n",
      "satirlar\n",
      "listesidir.\n",
      "\n"
     ]
    }
   ],
   "source": [
    "with open(\"ornek_dosya.txt\", \"r\",encoding=\"utf-8\") as f:\n",
    "    icerik = f.read()\n",
    "    print(icerik)"
   ]
  },
  {
   "attachments": {},
   "cell_type": "markdown",
   "metadata": {},
   "source": [
    "Yani, her bir öğenin sonuna \\n karakterini ekleyerek, writelines() metodu tarafından her öğenin ayrı bir satıra yazdırılmasını sağlayabiliriz."
   ]
  },
  {
   "attachments": {},
   "cell_type": "markdown",
   "metadata": {},
   "source": [
    "### Append(a) Modu\n",
    "- Dosya yoksa oluşturur ve yazar.Var ise içeridekileri silmez, kurduğun algoritmaya göre başına,ortasına veya sonuna ekler."
   ]
  },
  {
   "cell_type": "code",
   "execution_count": 99,
   "metadata": {},
   "outputs": [
    {
     "name": "stdout",
     "output_type": "stream",
     "text": [
      "A modu ile yeni dosya oluşturdum.\n"
     ]
    }
   ],
   "source": [
    "with open(\"tekrar3.txt\",\"a\" , encoding=\"utf-8\") as f:\n",
    "    f.write(\"A modu ile yeni dosya oluşturdum.\")\n",
    "with open(\"tekrar3.txt\",\"r\" , encoding=\"utf-8\") as f:\n",
    "    print(f.read())"
   ]
  },
  {
   "cell_type": "code",
   "execution_count": 100,
   "metadata": {},
   "outputs": [
    {
     "name": "stdout",
     "output_type": "stream",
     "text": [
      "A modu ile yeni dosya oluşturdum.A modu ile veri ekledim.\n"
     ]
    }
   ],
   "source": [
    "with open(\"tekrar3.txt\",\"a\" , encoding=\"utf-8\") as f:\n",
    "    f.write(\"A modu ile veri ekledim.\")\n",
    "with open(\"tekrar3.txt\",\"r\" , encoding=\"utf-8\") as f:\n",
    "    print(f.read())"
   ]
  },
  {
   "attachments": {},
   "cell_type": "markdown",
   "metadata": {},
   "source": [
    "### Bir txt dosyasını bir başkasına kopyalama işlemi"
   ]
  },
  {
   "cell_type": "code",
   "execution_count": 101,
   "metadata": {},
   "outputs": [],
   "source": [
    "with open(\"tekrar.txt\",\"r\" , encoding=\"utf-8\") as okunacak:\n",
    "    with open(\"tekrar4.txt\",\"w\" , encoding=\"utf-8\") as yazilacak:\n",
    "        for satir in okunacak:\n",
    "            yazilacak.write(satir)\n",
    "#Veya\n",
    "# with open(\"tekrar.txt\",\"r\" , encoding=\"utf-8\") as okunacak:\n",
    "#     with open(\"tekrar4.txt\",\"w\" , encoding=\"utf-8\") as yazilacak:\n",
    "#         icerik = okunacak.readlines()\n",
    "#         for satir in icerik:\n",
    "#             yazilacak.write(satir)\n",
    "            "
   ]
  },
  {
   "attachments": {},
   "cell_type": "markdown",
   "metadata": {},
   "source": [
    "### Hem okuma,hem yazma modu(r+)\n",
    "Dosya konumda yoksa hata verir.Varsa kurduğun algoritmaya göre istenilen kısma yazar."
   ]
  },
  {
   "cell_type": "code",
   "execution_count": 103,
   "metadata": {},
   "outputs": [
    {
     "ename": "FileNotFoundError",
     "evalue": "[Errno 2] No such file or directory: 'tekrar5.txt'",
     "output_type": "error",
     "traceback": [
      "\u001b[1;31m---------------------------------------------------------------------------\u001b[0m",
      "\u001b[1;31mFileNotFoundError\u001b[0m                         Traceback (most recent call last)",
      "Cell \u001b[1;32mIn[103], line 1\u001b[0m\n\u001b[1;32m----> 1\u001b[0m \u001b[39mwith\u001b[39;00m \u001b[39mopen\u001b[39;49m(\u001b[39m\"\u001b[39;49m\u001b[39mtekrar5.txt\u001b[39;49m\u001b[39m\"\u001b[39;49m,\u001b[39m\"\u001b[39;49m\u001b[39mr+\u001b[39;49m\u001b[39m\"\u001b[39;49m , encoding\u001b[39m=\u001b[39;49m\u001b[39m\"\u001b[39;49m\u001b[39mutf-8\u001b[39;49m\u001b[39m\"\u001b[39;49m) \u001b[39mas\u001b[39;00m f:\n\u001b[0;32m      2\u001b[0m     f\u001b[39m.\u001b[39mwrite(\u001b[39m\"\u001b[39m\u001b[39mr+ modunu deniyorum\u001b[39m\u001b[39m\"\u001b[39m)\n",
      "File \u001b[1;32m~\\AppData\\Roaming\\Python\\Python311\\site-packages\\IPython\\core\\interactiveshell.py:282\u001b[0m, in \u001b[0;36m_modified_open\u001b[1;34m(file, *args, **kwargs)\u001b[0m\n\u001b[0;32m    275\u001b[0m \u001b[39mif\u001b[39;00m file \u001b[39min\u001b[39;00m {\u001b[39m0\u001b[39m, \u001b[39m1\u001b[39m, \u001b[39m2\u001b[39m}:\n\u001b[0;32m    276\u001b[0m     \u001b[39mraise\u001b[39;00m \u001b[39mValueError\u001b[39;00m(\n\u001b[0;32m    277\u001b[0m         \u001b[39mf\u001b[39m\u001b[39m\"\u001b[39m\u001b[39mIPython won\u001b[39m\u001b[39m'\u001b[39m\u001b[39mt let you open fd=\u001b[39m\u001b[39m{\u001b[39;00mfile\u001b[39m}\u001b[39;00m\u001b[39m by default \u001b[39m\u001b[39m\"\u001b[39m\n\u001b[0;32m    278\u001b[0m         \u001b[39m\"\u001b[39m\u001b[39mas it is likely to crash IPython. If you know what you are doing, \u001b[39m\u001b[39m\"\u001b[39m\n\u001b[0;32m    279\u001b[0m         \u001b[39m\"\u001b[39m\u001b[39myou can use builtins\u001b[39m\u001b[39m'\u001b[39m\u001b[39m open.\u001b[39m\u001b[39m\"\u001b[39m\n\u001b[0;32m    280\u001b[0m     )\n\u001b[1;32m--> 282\u001b[0m \u001b[39mreturn\u001b[39;00m io_open(file, \u001b[39m*\u001b[39;49margs, \u001b[39m*\u001b[39;49m\u001b[39m*\u001b[39;49mkwargs)\n",
      "\u001b[1;31mFileNotFoundError\u001b[0m: [Errno 2] No such file or directory: 'tekrar5.txt'"
     ]
    }
   ],
   "source": [
    "with open(\"tekrar5.txt\",\"r+\" , encoding=\"utf-8\") as f:\n",
    "    f.write(\"r+ modunu deniyorum\")\n",
    "    "
   ]
  },
  {
   "attachments": {},
   "cell_type": "markdown",
   "metadata": {},
   "source": [
    "Hata almamak için deneme5.txt adında bir dosya oluşturalım."
   ]
  },
  {
   "cell_type": "code",
   "execution_count": 201,
   "metadata": {},
   "outputs": [
    {
     "name": "stdout",
     "output_type": "stream",
     "text": [
      "r plus modunu denemek için yeni dosya açtım.\n",
      "47\n"
     ]
    }
   ],
   "source": [
    "with open(\"tekrar5.txt\",\"w\" , encoding=\"utf-8\") as f: #Dosya yoksa oluşturur.\n",
    "    f.write(\"r plus modunu denemek için yeni dosya açtım.\")\n",
    "with open(\"tekrar5.txt\",\"r\" , encoding=\"utf-8\") as f:\n",
    "    print(f.read())\n",
    "    print(f.tell()) #İmlecimin yerini öğrendim.\n"
   ]
  },
  {
   "attachments": {},
   "cell_type": "markdown",
   "metadata": {},
   "source": [
    "- Dosyanın sonunda değişiklik yapma:"
   ]
  },
  {
   "cell_type": "code",
   "execution_count": 202,
   "metadata": {},
   "outputs": [
    {
     "name": "stdout",
     "output_type": "stream",
     "text": [
      "\n"
     ]
    }
   ],
   "source": [
    "with open(\"tekrar5.txt\",\"r+\" , encoding=\"utf-8\") as f: #Dosya yoksa oluşturur.\n",
    "    f.seek(47) #Dosyanın sonunda imlecin yerini öğrenip oradan sonrasına yazdım.\n",
    "    f.write(\"Dosyamın sonuna veri ekliyorum.\")\n",
    "    print(f.read())\n",
    "\n",
    "    "
   ]
  },
  {
   "attachments": {},
   "cell_type": "markdown",
   "metadata": {},
   "source": [
    "- Dosyanın Ortasında Değişiklik Yapmak"
   ]
  },
  {
   "cell_type": "code",
   "execution_count": 203,
   "metadata": {},
   "outputs": [
    {
     "name": "stdout",
     "output_type": "stream",
     "text": [
      "r plus modunu dYYYYYYYiçin yeni dosya açtım.Dosyamın sonuna veri ekliyorum.\n"
     ]
    }
   ],
   "source": [
    "with open(\"tekrar5.txt\",\"r+\",encoding = \"utf-8\") as f:\n",
    "    f.seek(15)\n",
    "    f.write(\"YYYYYYY\")\n",
    "    f.seek(0)\n",
    "    print(f.read())\n",
    "\n"
   ]
  },
  {
   "attachments": {},
   "cell_type": "markdown",
   "metadata": {},
   "source": [
    "            VEYA\n",
    "            "
   ]
  },
  {
   "cell_type": "code",
   "execution_count": 204,
   "metadata": {},
   "outputs": [
    {
     "name": "stdout",
     "output_type": "stream",
     "text": [
      "r plus modunu dYYYYYYYiçin yeni dosya açtım.Dosyamın sonuna veri ekliyorum.\n",
      "79\n",
      "r plus modunu dYYYYYYYiçin yeni dosya açtım.Dosyamın sonuna veri ekliyorum.Deneme yapmak için yeni\n",
      "Satırlar ekledim.\n"
     ]
    }
   ],
   "source": [
    "with open(\"tekrar5.txt\",\"r+\",encoding = \"utf-8\") as f:\n",
    "    print(f.read())\n",
    "    print(f.tell())\n",
    "with open(\"tekrar5.txt\",\"a\",encoding = \"utf-8\") as f:\n",
    "    f.write(\"Deneme yapmak için yeni\\n\")\n",
    "    f.write(\"Satırlar ekledim.\")\n",
    "with open(\"tekrar5.txt\",\"r\",encoding = \"utf-8\") as f:\n",
    "    print(f.read())"
   ]
  },
  {
   "cell_type": "code",
   "execution_count": null,
   "metadata": {},
   "outputs": [],
   "source": [
    "with open(\"bilgiler.txt\",\"r+\",encoding = \"utf-8\") as file:\n",
    "    liste = file.readlines()\n",
    "    print(liste)\n",
    "    liste.insert(3,\"Deneme3\\n\") #3.indexe deneme yazısını ekle.\n",
    "    file.seek(0) #0.byte'a gel\n",
    "    file.writelines(liste)"
   ]
  },
  {
   "cell_type": "code",
   "execution_count": 206,
   "metadata": {},
   "outputs": [
    {
     "name": "stdout",
     "output_type": "stream",
     "text": [
      "['r plus modunu dYYYYYYYiçin yeni dosya açtım.Dosyamın sonuna veri ekliyorum.Deneme yapmak için yeni\\n', 'Satırlar ekledim.']\n",
      "['r plus modunu dYYYYYYYiçin yeni dosya açtım.Dosyamın sonuna veri ekliyorum.Deneme yapmak için yeni\\n', '1.İndexe veri ekledim.\\n', 'Satırlar ekledim.']\n"
     ]
    }
   ],
   "source": [
    "with open(\"tekrar5.txt\",\"r+\",encoding = \"utf-8\") as f:\n",
    "    liste = f.readlines()\n",
    "    print(liste)\n",
    "    liste.insert(1,\"1.İndexe veri ekledim.\\n\") #1.indexe veri ekledim.\n",
    "    print(liste)\n",
    "    f.seek(0)\n",
    "    f.writelines(liste)"
   ]
  },
  {
   "cell_type": "code",
   "execution_count": 207,
   "metadata": {},
   "outputs": [
    {
     "name": "stdout",
     "output_type": "stream",
     "text": [
      "r plus modunu dYYYYYYYiçin yeni dosya açtım.Dosyamın sonuna veri ekliyorum.Deneme yapmak için yeni\n",
      "1.İndexe veri ekledim.\n",
      "Satırlar ekledim.\n"
     ]
    }
   ],
   "source": [
    "with open(\"tekrar5.txt\",\"r\",encoding = \"utf-8\") as f:\n",
    "    print(f.read())"
   ]
  },
  {
   "attachments": {},
   "cell_type": "markdown",
   "metadata": {},
   "source": [
    "- Dosyanın Başında Değişiklik Yapmak"
   ]
  },
  {
   "cell_type": "code",
   "execution_count": 208,
   "metadata": {},
   "outputs": [],
   "source": [
    "with open(\"tekrar5.txt\",\"r+\",encoding = \"utf-8\") as file:\n",
    "    icerik = file.read()\n",
    "    icerik = \"Başına veri ekledim.\\n\" + icerik\n",
    "    file.seek(0)\n",
    "    file.write(icerik)"
   ]
  },
  {
   "cell_type": "code",
   "execution_count": 209,
   "metadata": {},
   "outputs": [
    {
     "name": "stdout",
     "output_type": "stream",
     "text": [
      "Başına veri ekledim.\n",
      "r plus modunu dYYYYYYYiçin yeni dosya açtım.Dosyamın sonuna veri ekliyorum.Deneme yapmak için yeni\n",
      "1.İndexe veri ekledim.\n",
      "Satırlar ekledim.\n"
     ]
    }
   ],
   "source": [
    "with open(\"tekrar5.txt\",\"r\",encoding = \"utf-8\") as f:\n",
    "    print(f.read())"
   ]
  },
  {
   "attachments": {},
   "cell_type": "markdown",
   "metadata": {},
   "source": [
    "``****************************************************************************``"
   ]
  },
  {
   "attachments": {},
   "cell_type": "markdown",
   "metadata": {},
   "source": [
    "``****************************************************************************``"
   ]
  },
  {
   "cell_type": "code",
   "execution_count": 10,
   "metadata": {},
   "outputs": [
    {
     "name": "stdout",
     "output_type": "stream",
     "text": [
      "<_io.TextIOWrapper name='bilgiler.txt' mode='r' encoding='cp1254'>\n"
     ]
    }
   ],
   "source": [
    "f = open(\"bilgiler.txt\")\n",
    "print(f)"
   ]
  },
  {
   "attachments": {},
   "cell_type": "markdown",
   "metadata": {},
   "source": [
    "name = dosya adı / mode = reading modu(mod belirtmediğim için bu modda açtı) /\n",
    "encoding = okuma modu\n"
   ]
  },
  {
   "cell_type": "code",
   "execution_count": 11,
   "metadata": {},
   "outputs": [
    {
     "name": "stdout",
     "output_type": "stream",
     "text": [
      "Dosya Bulunamadı....\n"
     ]
    }
   ],
   "source": [
    "\n",
    "try:\n",
    "    file = open(\"bilgiler2.txt\",\"r\",encoding= \"utf-8\") # utf-8 : dosyayı okuma kipi ile açıyoruz.Türkçe karakterlerin okunmasını sağlar.bunu vermezsek Türkçe karakterleri okumaz.\n",
    "except FileNotFoundError:\n",
    "    print(\"Dosya Bulunamadı....\")"
   ]
  },
  {
   "cell_type": "code",
   "execution_count": 12,
   "metadata": {},
   "outputs": [],
   "source": [
    "\n",
    "try:\n",
    "    file = open(\"bilgiler.txt\",\"r\",encoding= \"utf-8\") # utf-8 : dosyayı okuma kipi ile açıyoruz.Türkçe karakterlerin okunmasını sağlar.\n",
    "except FileNotFoundError:\n",
    "    print(\"Dosya Bulunamadı....\") \n",
    "# DOSYAYI BULDUĞU İÇİN,HERHANGİ BİR ÇIKTI VERMEDİ."
   ]
  },
  {
   "cell_type": "code",
   "execution_count": 13,
   "metadata": {},
   "outputs": [
    {
     "name": "stdout",
     "output_type": "stream",
     "text": [
      "Silecen mi?\n",
      "\n",
      "YetGen Jump\n",
      "\n"
     ]
    }
   ],
   "source": [
    "file = open(\"bilgiler.txt\",\"r\",encoding= \"utf-8\") # Dosyayı okuma kipiyle açıyoruz. Türkçe karaktere dikkat et diyoruz.\n",
    "\n",
    "for i in file: # Tıpkı listeler gibi dosyanın her bir satırı üzerinde geziniyoruz.\n",
    "    print(i) # Her bir satırı ekrana basıyoruz.\n",
    "file.close()"
   ]
  },
  {
   "attachments": {},
   "cell_type": "markdown",
   "metadata": {},
   "source": [
    "**read() Fonksiyonu**\n",
    "\n",
    "read() fonksiyonu eğer içine hiçbir değer vermezsek bütün dosyamızı okuyacaktır.\n"
   ]
  },
  {
   "cell_type": "code",
   "execution_count": 78,
   "metadata": {},
   "outputs": [
    {
     "name": "stdout",
     "output_type": "stream",
     "text": [
      "1.okuma dosya İçeriği:\n",
      " Deneme2\n",
      "r+ modunu Denemerum\n",
      "m\n",
      "Deneme3\n",
      "YetGen Jump\n",
      "\n",
      "2.okuma dosya İçeriği:\n",
      " Deneme2\n",
      "r+ modunu Denemerum\n",
      "m\n",
      "Deneme3\n",
      "YetGen Jump\n",
      "\n"
     ]
    }
   ],
   "source": [
    "file = open(\"bilgiler.txt\",\"r\",encoding=\"utf-8\")\n",
    "icerik = file.read() \n",
    "print(\"1.okuma dosya İçeriği:\\n\",icerik,sep =\" \")\n",
    "icerik2 = file.read()\n",
    "print(\"2.okuma dosya İçeriği:\\n\",icerik,sep =\" \")\n",
    "file.close() #Bunu yazmazsan dosya kapanmaz.Dene gör. "
   ]
  },
  {
   "attachments": {},
   "cell_type": "markdown",
   "metadata": {},
   "source": [
    "read() fonksiyonuyla bir dosyayı okuduğumuzda dosya imlecimiz dosyanın en sonuna gider ve read() fonksiyonu 2. okuma da artık boş string döner."
   ]
  },
  {
   "cell_type": "code",
   "execution_count": 15,
   "metadata": {},
   "outputs": [
    {
     "name": "stdout",
     "output_type": "stream",
     "text": [
      "1. Okuma : Dosya İçeriği:\n",
      "Silecen mi?\n",
      "YetGen Jump\n",
      "\n",
      "2. Okuma : Dosya İçeriği:\n",
      "\n"
     ]
    }
   ],
   "source": [
    "file = open(\"bilgiler.txt\",\"r\",encoding=\"utf-8\")\n",
    "icerik = file.read() \n",
    "print(\"1. Okuma : Dosya İçeriği:\\n\",icerik,sep =\"\")\n",
    "icerik2 = file.read()\n",
    "print(\"2. Okuma : Dosya İçeriği:\\n\",icerik2,sep =\"\")\n",
    "file.close()"
   ]
  },
  {
   "attachments": {},
   "cell_type": "markdown",
   "metadata": {},
   "source": [
    "**readline() Fonksiyonu**\n",
    "\n",
    "Her çalıştırıldığında bir satır okur."
   ]
  },
  {
   "cell_type": "code",
   "execution_count": 16,
   "metadata": {},
   "outputs": [
    {
     "name": "stdout",
     "output_type": "stream",
     "text": [
      "Silecen mi?\n",
      "\n"
     ]
    }
   ],
   "source": [
    "file = open(\"bilgiler.txt\",\"r\",encoding=\"utf-8\")\n",
    "print(file.readline()) # 1. satırı okur."
   ]
  },
  {
   "cell_type": "code",
   "execution_count": 17,
   "metadata": {},
   "outputs": [
    {
     "name": "stdout",
     "output_type": "stream",
     "text": [
      "YetGen Jump\n",
      "\n"
     ]
    }
   ],
   "source": [
    "print(file.readline()) # 2. satırı okur."
   ]
  },
  {
   "cell_type": "code",
   "execution_count": 18,
   "metadata": {},
   "outputs": [
    {
     "name": "stdout",
     "output_type": "stream",
     "text": [
      "\n"
     ]
    }
   ],
   "source": [
    "print(file.readline()) # 3. satırı okur."
   ]
  },
  {
   "cell_type": "code",
   "execution_count": 19,
   "metadata": {},
   "outputs": [
    {
     "name": "stdout",
     "output_type": "stream",
     "text": [
      "\n"
     ]
    }
   ],
   "source": [
    "print(file.readline()) # 4. satırı okur."
   ]
  },
  {
   "cell_type": "code",
   "execution_count": 20,
   "metadata": {},
   "outputs": [
    {
     "name": "stdout",
     "output_type": "stream",
     "text": [
      "\n"
     ]
    }
   ],
   "source": [
    "print(file.readline()) # 5. satırı okur."
   ]
  },
  {
   "cell_type": "code",
   "execution_count": 21,
   "metadata": {},
   "outputs": [
    {
     "name": "stdout",
     "output_type": "stream",
     "text": [
      "\n"
     ]
    }
   ],
   "source": [
    "print(file.readline()) # Okuyacak herhangi bir şey kalmayınca readline fonksiyonu boş string döner."
   ]
  },
  {
   "cell_type": "code",
   "execution_count": 22,
   "metadata": {},
   "outputs": [],
   "source": [
    "file.close()"
   ]
  },
  {
   "attachments": {},
   "cell_type": "markdown",
   "metadata": {},
   "source": [
    "**readlines() fonksiyonu**\n",
    "readlines() fonksiyonu dosyanın bütün satırları bir liste şeklinde döner."
   ]
  },
  {
   "cell_type": "code",
   "execution_count": 23,
   "metadata": {},
   "outputs": [
    {
     "name": "stdout",
     "output_type": "stream",
     "text": [
      "['Silecen mi?\\n', 'YetGen Jump\\n']\n"
     ]
    }
   ],
   "source": [
    "file = open(\"bilgiler.txt\",\"r\",encoding=\"utf-8\")\n",
    "print(file.readlines()) # Tüm satırları okur."
   ]
  },
  {
   "cell_type": "code",
   "execution_count": 24,
   "metadata": {},
   "outputs": [],
   "source": [
    "file.close()"
   ]
  },
  {
   "attachments": {},
   "cell_type": "markdown",
   "metadata": {},
   "source": [
    "# Dosyaya Yazma\n",
    "\n",
    "- w : Yazma modu. Dosyayı konumda oluşturur. Eğer dosya mevcut ise, dosyayı siler ve yeni bir dosya oluşturur.Mevcut değil ise yeni dosya oluşturur.\n",
    "-  write fonksiyonu ile dosyamıza yazıyoruz.\n"
   ]
  },
  {
   "cell_type": "code",
   "execution_count": 25,
   "metadata": {},
   "outputs": [],
   "source": [
    "file = open(\"bilgiler.txt\",\"w\",encoding=\"utf-8\")\n",
    "file.write(\"w modunu kullanıyorum\\n\")\n",
    "file.close()"
   ]
  },
  {
   "cell_type": "code",
   "execution_count": 26,
   "metadata": {},
   "outputs": [],
   "source": [
    "file = open(\"bilgiler3.txt\",\"w\",encoding=\"utf-8\")\n",
    "file.write(\"Write ile dosya oluşturuyorum.\\n Oluştu.\")\n",
    "file.close()"
   ]
  },
  {
   "attachments": {},
   "cell_type": "markdown",
   "metadata": {},
   "source": [
    "a: append (ekleme) modudur. Dosya konumda yoksa oluşturur, dosya konumda varsa ekleme işlemi yapar."
   ]
  },
  {
   "cell_type": "code",
   "execution_count": 27,
   "metadata": {},
   "outputs": [],
   "source": [
    "file = open(\"bilgiler.txt\",\"a\",encoding=\"utf-8\")\n",
    "file.write(\"YetGen Jump\\n\")\n",
    "file.close()"
   ]
  },
  {
   "attachments": {},
   "cell_type": "markdown",
   "metadata": {},
   "source": [
    "r+ : Hem okuma hem yazma modudur. Dosya konumda yoksa hata verir."
   ]
  },
  {
   "cell_type": "code",
   "execution_count": 28,
   "metadata": {},
   "outputs": [],
   "source": [
    "file = open(\"bilgiler.txt\",\"r+\",encoding=\"utf-8\")\n",
    "file.write(\"r+ modunu deniyorum\\n\")\n",
    "file.read()\n",
    "file.close()"
   ]
  },
  {
   "attachments": {},
   "cell_type": "markdown",
   "metadata": {},
   "source": [
    "# Dosyaları Otomatik Kapatma\n",
    "```python\n",
    " with open(dosya_adı,dosya_kipi) as file:\n",
    "    Dosya işlemleri\n",
    "```"
   ]
  },
  {
   "cell_type": "code",
   "execution_count": 29,
   "metadata": {},
   "outputs": [
    {
     "name": "stdout",
     "output_type": "stream",
     "text": [
      "r+ modunu deniyorum\n",
      "\n",
      "m\n",
      "\n",
      "YetGen Jump\n",
      "\n"
     ]
    }
   ],
   "source": [
    "with open(\"bilgiler.txt\",\"r\",encoding = \"utf-8\") as file:\n",
    "    for i in file:\n",
    "        print(i)"
   ]
  },
  {
   "attachments": {},
   "cell_type": "markdown",
   "metadata": {},
   "source": [
    "# Dosyayı İleri-Geri Sarmak¶\n",
    "- seek() metodunu kullanarak istediğiniz bayt konumuna dönebilirsiniz\n",
    "-  Dosyanın hangi bayt konumunda bulunduğunuzu öğrenmek isterseniz de tell() metodunu kullanabilirsiniz"
   ]
  },
  {
   "cell_type": "code",
   "execution_count": 30,
   "metadata": {},
   "outputs": [
    {
     "name": "stdout",
     "output_type": "stream",
     "text": [
      "20\n"
     ]
    }
   ],
   "source": [
    "with open(\"bilgiler.txt\",\"r\",encoding = \"utf-8\") as file:\n",
    "    file.seek(20) # 20.bit'e git ve dur .\n",
    "    print(file.tell()) #kaçıncı bit'de olduğunu bana söyle"
   ]
  },
  {
   "cell_type": "code",
   "execution_count": 31,
   "metadata": {},
   "outputs": [
    {
     "name": "stdout",
     "output_type": "stream",
     "text": [
      "dunu deniy\n",
      "r+ mod\n"
     ]
    }
   ],
   "source": [
    "with open(\"bilgiler.txt\",\"r\",encoding = \"utf-8\") as file:\n",
    "    file.seek(5) # 5.bit'e   gidiyoruz.\n",
    "    icerik = file.read(10)  # 10.bitteki karaktere kadar okuyoruz.\n",
    "    print(icerik)\n",
    "    file.seek(0) #0.bit'e  gidiyoruz.\n",
    "    icerik2 = file.read(6) #6.bitteki karaktere kadar okuyoruz.\n",
    "    print(icerik2)"
   ]
  },
  {
   "attachments": {},
   "cell_type": "markdown",
   "metadata": {},
   "source": [
    "# Dosyanın Sonunda Değişiklik Yapmak"
   ]
  },
  {
   "cell_type": "code",
   "execution_count": 32,
   "metadata": {},
   "outputs": [],
   "source": [
    "with open(\"bilgiler.txt\",\"r+\",encoding = \"utf-8\") as file:\n",
    "    file.seek(10)\n",
    "    file.write(\"Deneme\")\n"
   ]
  },
  {
   "cell_type": "code",
   "execution_count": 33,
   "metadata": {},
   "outputs": [
    {
     "name": "stdout",
     "output_type": "stream",
     "text": [
      "r+ modunu Denemerum\n",
      "m\n",
      "YetGen Jump\n",
      "\n"
     ]
    }
   ],
   "source": [
    "with open(\"bilgiler.txt\",\"r\",encoding = \"utf-8\") as file:\n",
    "    print(file.read())"
   ]
  },
  {
   "attachments": {},
   "cell_type": "markdown",
   "metadata": {},
   "source": [
    "# Dosyanın Başında Değişiklik Yapmak"
   ]
  },
  {
   "cell_type": "code",
   "execution_count": 34,
   "metadata": {},
   "outputs": [],
   "source": [
    "with open(\"bilgiler.txt\",\"r+\",encoding = \"utf-8\") as file:\n",
    "    icerik = file.read()\n",
    "    \n",
    "    icerik = \"Deneme2\\n\" + icerik\n",
    "    file.seek(0)\n",
    "    file.write(icerik)"
   ]
  },
  {
   "cell_type": "code",
   "execution_count": 35,
   "metadata": {},
   "outputs": [
    {
     "name": "stdout",
     "output_type": "stream",
     "text": [
      "Deneme2\n",
      "r+ modunu Denemerum\n",
      "m\n",
      "YetGen Jump\n",
      "\n"
     ]
    }
   ],
   "source": [
    "with open(\"bilgiler.txt\",\"r\",encoding = \"utf-8\") as file:\n",
    "    print(file.read())"
   ]
  },
  {
   "attachments": {},
   "cell_type": "markdown",
   "metadata": {},
   "source": [
    "# Dosyanın Ortasında Değişiklik Yapmak"
   ]
  },
  {
   "cell_type": "code",
   "execution_count": 36,
   "metadata": {},
   "outputs": [
    {
     "name": "stdout",
     "output_type": "stream",
     "text": [
      "['Deneme2\\n', 'r+ modunu Denemerum\\n', 'm\\n', 'YetGen Jump\\n']\n"
     ]
    }
   ],
   "source": [
    "with open(\"bilgiler.txt\",\"r+\",encoding = \"utf-8\") as file:\n",
    "    liste = file.readlines()\n",
    "    print(liste)\n",
    "    liste.insert(3,\"Deneme3\\n\") #3.indexe deneme yazısını ekle.\n",
    "    file.seek(0) #0.byte'a gel\n",
    "    file.writelines(liste)"
   ]
  },
  {
   "cell_type": "code",
   "execution_count": 37,
   "metadata": {},
   "outputs": [
    {
     "name": "stdout",
     "output_type": "stream",
     "text": [
      "Deneme2\n",
      "r+ modunu Denemerum\n",
      "m\n",
      "Deneme3\n",
      "YetGen Jump\n",
      "\n"
     ]
    }
   ],
   "source": [
    "with open(\"bilgiler.txt\",\"r\",encoding = \"utf-8\") as file:\n",
    "    print(file.read())"
   ]
  },
  {
   "attachments": {},
   "cell_type": "markdown",
   "metadata": {},
   "source": [
    "# Nesne Yönelimli Programlama(Object Oriented Programming - OOP)\n",
    "- DRY(Don't Repeat Yourself) prensibinde çalışır.Temiz kod yazmanın olmazsa olmazıdır."
   ]
  },
  {
   "attachments": {},
   "cell_type": "markdown",
   "metadata": {},
   "source": [
    "# Class\n",
    "- Sınıflar veya Classlar objelerimizi oluştururken objelerin özelliklerini ve metodlarını tanımladığımız bir yapıdır "
   ]
  },
  {
   "cell_type": "code",
   "execution_count": 62,
   "metadata": {},
   "outputs": [],
   "source": [
    "class Araba():\n",
    "    # Sınıfın özellikleri(attribute)\n",
    "    model = \"Renault Megane\"\n",
    "    renk = \"Gümüş\"\n",
    "    beygirGucu = 110\n",
    "    silindir = 4 "
   ]
  },
  {
   "attachments": {},
   "cell_type": "markdown",
   "metadata": {},
   "source": [
    "**Obje oluşturma**\n",
    "\n",
    "\n",
    "  ```obje_ismi = Sınıf_İsmi(parametreler(opsiyonel))```\n",
    "\n",
    "**Özelliklere Erişme**\n",
    "\n",
    "\n",
    "  ```  obje_ismi.özellik_ismi```\n"
   ]
  },
  {
   "cell_type": "code",
   "execution_count": 66,
   "metadata": {},
   "outputs": [
    {
     "name": "stdout",
     "output_type": "stream",
     "text": [
      "Renault Megane\n",
      "Gümüş\n",
      "110\n",
      "4\n"
     ]
    }
   ],
   "source": [
    "araba1 =  Araba() # Araba veri tipinden bir \"araba1\" isminde bir obje oluşturduk.\n",
    "print(araba1.model) # Araba1'in modeli Reneault Megane\n",
    "print(araba1.renk) # Araba1'in rengi Gümüş\n",
    "print(araba1.beygirGucu) # Araba1'in beygir gücü 110\n",
    "print(araba1.silindir) # Araba1'in silindiri 4"
   ]
  },
  {
   "cell_type": "code",
   "execution_count": 45,
   "metadata": {},
   "outputs": [
    {
     "name": "stdout",
     "output_type": "stream",
     "text": [
      "Kuş\n"
     ]
    }
   ],
   "source": [
    "class Hayvan:\n",
    "    name = \"Kuş\"\n",
    "    print(name)"
   ]
  },
  {
   "attachments": {},
   "cell_type": "markdown",
   "metadata": {},
   "source": [
    "#  __init__() \n",
    "Pythonda yapıcı(constructor ) fonksiyon olarak tanımlanmaktadır. Bu metod objelerimiz oluşturulurken otomatik olarak ilk çağrılan fonksiyondur. Bu metodu özel olarak tanımlayarak objelerimizi farklı değerlerle oluşturabiliriz."
   ]
  },
  {
   "cell_type": "code",
   "execution_count": 46,
   "metadata": {},
   "outputs": [
    {
     "name": "stdout",
     "output_type": "stream",
     "text": [
      "init fonksiyonu çağrıldı.\n"
     ]
    }
   ],
   "source": [
    "class Araba():\n",
    "    # Şimdilik Class özelliklerine ihtiyacımız yok.\n",
    "    \n",
    "    def __init__(parametre):\n",
    "        print(\"init fonksiyonu çağrıldı.\")\n",
    "        \n",
    "araba = Araba() # Araba veri tipinden(sınıfından) bir \"araba\" isminde bir obje oluşturduk."
   ]
  },
  {
   "attachments": {},
   "cell_type": "markdown",
   "metadata": {},
   "source": [
    "**self anahtar kelimesi** objeyi oluşturduğumuz zaman o objeyi gösteren bir referanstır ve metodlarımızda en başta bulunması gereken bir parametredir."
   ]
  },
  {
   "cell_type": "code",
   "execution_count": 69,
   "metadata": {},
   "outputs": [],
   "source": [
    "class Araba():\n",
    "    \n",
    "    def __init__(self,model,renk,beygir_gücü,silindir): # Parametrelerimizin değerlerini objelerimizi oluştururken göndereceğiz.\n",
    "        self.model =  model # self.özellik_ismi = parametre değeri şeklinde objemizin model özelliğine değeri atıyoruz.\n",
    "        self.renk = renk # self.özellik_ismi = parametre değeri şeklinde objemizin renk özelliğine değeri atıyoruz.\n",
    "        self.beygir_gücü = beygir_gücü # self.özellik_ismi = parametre değeri şeklinde objemizin beygir_gücü özelliğine değeri atıyoruz.\n",
    "        self.silindir = silindir # self.özellik_ismi = parametre değeri şeklinde objemizin silndir özelliğine değeri atıyoruz."
   ]
  },
  {
   "cell_type": "code",
   "execution_count": 72,
   "metadata": {},
   "outputs": [
    {
     "name": "stdout",
     "output_type": "stream",
     "text": [
      "Audi R6\n"
     ]
    }
   ],
   "source": [
    "# araba2 objesini oluşturalım.\n",
    "# Artık değerlerimizi göndererek objelerimizin özelliklerini istediğimiz değerle başlatabiliriz.\n",
    "araba2 = Araba(\"Audi R6\",\"Siyah\", 650,6)\n",
    "print(araba2.model)\n"
   ]
  },
  {
   "cell_type": "code",
   "execution_count": 76,
   "metadata": {},
   "outputs": [
    {
     "name": "stdout",
     "output_type": "stream",
     "text": [
      "<__main__.Araba object at 0x000001D07696BED0>\n"
     ]
    }
   ],
   "source": [
    "print(araba2)"
   ]
  },
  {
   "attachments": {},
   "cell_type": "markdown",
   "metadata": {},
   "source": [
    "İstersek init metodunu varsayılan değerlerle de yazabiliriz.(Class metodunun başında olduğu gibi)\n"
   ]
  },
  {
   "attachments": {},
   "cell_type": "markdown",
   "metadata": {},
   "source": [
    "# Uygulama\n"
   ]
  },
  {
   "attachments": {},
   "cell_type": "markdown",
   "metadata": {},
   "source": [
    "- Comment isminde bir sınıf oluşturunuz.\n",
    "- Comment sınıfı username, text, likes, dislikes isminde özelliklere sahip olsun.\n",
    "- 5 adet farklı comment oluşturup döngü yardımıyla yorumları ekrana yazdırınız."
   ]
  },
  {
   "cell_type": "code",
   "execution_count": 75,
   "metadata": {},
   "outputs": [
    {
     "name": "stdout",
     "output_type": "stream",
     "text": [
      "berkcan: güzel kurs yorumunu yapıp. 10 beğeni, 2 dislike aldı.\n",
      "ahmet: çok güzel kurs yorumunu yapıp. 20 beğeni, 6 dislike aldı.\n",
      "cinar: idare eder bir kurs yorumunu yapıp. 50 beğeni, 10 dislike aldı.\n",
      "ahmet: kursu beğenmedim yorumunu yapıp. 10 beğeni, 50 dislike aldı.\n",
      "efe: süper bir kurs olmuş yorumunu yapıp. 100 beğeni, 22 dislike aldı.\n"
     ]
    }
   ],
   "source": [
    "class Comment:\n",
    "    def __init__(self, username, text, likes, dislikes):\n",
    "        self.username = username\n",
    "        self.text = text\n",
    "        self.likes = likes\n",
    "        self.dislikes = dislikes\n",
    "\n",
    "c1 = Comment(\"berkcan\",\"güzel kurs\",10,2)\n",
    "c2 = Comment(\"ahmet\",\"çok güzel kurs\",20,6)\n",
    "c3 = Comment(\"cinar\",\"idare eder bir kurs\", 50, 10)\n",
    "c4 = Comment(\"ahmet\",\"kursu beğenmedim\",10,50)\n",
    "c5 = Comment(\"efe\",\"süper bir kurs olmuş\",100,22)\n",
    "\n",
    "comments = [c1,c2,c3,c4,c5]\n",
    "\n",
    "for c in comments:\n",
    "    print(f\"{c.username}: {c.text} yorumunu yapıp. {c.likes} beğeni, {c.dislikes} dislike aldı.\" )"
   ]
  }
 ],
 "metadata": {
  "kernelspec": {
   "display_name": "Python 3",
   "language": "python",
   "name": "python3"
  },
  "language_info": {
   "codemirror_mode": {
    "name": "ipython",
    "version": 3
   },
   "file_extension": ".py",
   "mimetype": "text/x-python",
   "name": "python",
   "nbconvert_exporter": "python",
   "pygments_lexer": "ipython3",
   "version": "3.11.1"
  },
  "orig_nbformat": 4
 },
 "nbformat": 4,
 "nbformat_minor": 2
}
