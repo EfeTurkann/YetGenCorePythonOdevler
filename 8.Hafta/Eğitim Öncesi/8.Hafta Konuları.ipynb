{
 "cells": [
  {
   "attachments": {},
   "cell_type": "markdown",
   "metadata": {},
   "source": [
    "# Dosya Okuma İşlemleri \n",
    "- Dosya açmak ve oluşturmak için open() kullanılır.\n",
    "\n",
    "```python\topen(dosyaIsmi, dosyaModu)``` \n",
    "\n",
    "- dosyaModu: Dosyayı hangi modda açacağını belirtir.\n",
    "- r: reading anlamındadır. Okuma modunda açmayı sağlar.Eğer hiçbir mod belirtmezsem bu modda açar. Belirtilen konumda dosya olması gerekir.\n",
    "- close(): Dosyayı kapatır."
   ]
  },
  {
   "cell_type": "code",
   "execution_count": 1,
   "metadata": {},
   "outputs": [
    {
     "name": "stdout",
     "output_type": "stream",
     "text": [
      "<_io.TextIOWrapper name='bilgiler.txt' mode='r' encoding='cp1254'>\n"
     ]
    }
   ],
   "source": [
    "f = open(\"bilgiler.txt\")\n",
    "print(f)"
   ]
  },
  {
   "attachments": {},
   "cell_type": "markdown",
   "metadata": {},
   "source": [
    "name = dosya adı / mode = reading modu(mod belirtmediğim için bu modda açtı) /\n",
    "encoding = okuma modu\n"
   ]
  },
  {
   "cell_type": "code",
   "execution_count": 12,
   "metadata": {},
   "outputs": [
    {
     "name": "stdout",
     "output_type": "stream",
     "text": [
      "Dosya Bulunamadı....\n"
     ]
    }
   ],
   "source": [
    "\n",
    "try:\n",
    "    file = open(\"bilgiler2.txt\",\"r\",encoding= \"utf-8\") # utf-8 : dosyayı okuma kipi ile açıyoruz.Türkçe karakterlerin okunmasını sağlar.bunu vermezsek Türkçe karakterleri okumaz.\n",
    "except FileNotFoundError:\n",
    "    print(\"Dosya Bulunamadı....\")"
   ]
  },
  {
   "cell_type": "code",
   "execution_count": 3,
   "metadata": {},
   "outputs": [],
   "source": [
    "\n",
    "try:\n",
    "    file = open(\"bilgiler.txt\",\"r\",encoding= \"utf-8\") # utf-8 : dosyayı okuma kipi ile açıyoruz.Türkçe karakterlerin okunmasını sağlar.\n",
    "except FileNotFoundError:\n",
    "    print(\"Dosya Bulunamadı....\") \n",
    "# DOSYAYI BULDUĞU İÇİN,HERHANGİ BİR ÇIKTI VERMEDİ."
   ]
  },
  {
   "cell_type": "code",
   "execution_count": 4,
   "metadata": {},
   "outputs": [
    {
     "name": "stdout",
     "output_type": "stream",
     "text": [
      "İlk\n",
      "\n",
      "Dosyamı\n",
      "\n",
      "txt\n",
      "\n",
      "modunda \n",
      "\n",
      "açtım.\n",
      "\n"
     ]
    }
   ],
   "source": [
    "file = open(\"bilgiler.txt\",\"r\",encoding= \"utf-8\") # Dosyayı okuma kipiyle açıyoruz. Türkçe karaktere dikkat et diyoruz.\n",
    "\n",
    "for i in file: # Tıpkı listeler gibi dosyanın her bir satırı üzerinde geziniyoruz.\n",
    "    print(i) # Her bir satırı ekrana basıyoruz.\n",
    "file.close()"
   ]
  },
  {
   "attachments": {},
   "cell_type": "markdown",
   "metadata": {},
   "source": [
    "**read() Fonksiyonu**\n",
    "\n",
    "read() fonksiyonu eğer içine hiçbir değer vermezsek bütün dosyamızı okuyacaktır.\n"
   ]
  },
  {
   "cell_type": "code",
   "execution_count": 33,
   "metadata": {},
   "outputs": [
    {
     "name": "stdout",
     "output_type": "stream",
     "text": [
      "1.okuma dosya İçeriği:\n",
      " İlk\n",
      "Dosyamı\n",
      "txt\n",
      "modunda \n",
      "açtım.\n",
      "\n",
      "2.okuma dosya İçeriği:\n",
      " İlk\n",
      "Dosyamı\n",
      "txt\n",
      "modunda \n",
      "açtım.\n",
      "\n"
     ]
    }
   ],
   "source": [
    "file = open(\"bilgiler.txt\",\"r\",encoding=\"utf-8\")\n",
    "icerik = file.read() \n",
    "print(\"1.okuma dosya İçeriği:\\n\",icerik,sep =\" \")\n",
    "icerik2 = file.read()\n",
    "print(\"2.okuma dosya İçeriği:\\n\",icerik,sep =\" \")\n",
    "file.close() #Bunu yazmazsan dosya kapanmaz.Dene gör. "
   ]
  },
  {
   "attachments": {},
   "cell_type": "markdown",
   "metadata": {},
   "source": [
    "read() fonksiyonuyla bir dosyayı okuduğumuzda dosya imlecimiz dosyanın en sonuna gider ve read() fonksiyonu 2. okuma da artık boş string döner."
   ]
  },
  {
   "cell_type": "code",
   "execution_count": 34,
   "metadata": {},
   "outputs": [
    {
     "name": "stdout",
     "output_type": "stream",
     "text": [
      "1. Okuma : Dosya İçeriği:\n",
      "İlk\n",
      "Dosyamı\n",
      "txt\n",
      "modunda \n",
      "açtım.\n",
      "\n",
      "2. Okuma : Dosya İçeriği:\n",
      "\n"
     ]
    }
   ],
   "source": [
    "file = open(\"bilgiler.txt\",\"r\",encoding=\"utf-8\")\n",
    "icerik = file.read() \n",
    "print(\"1. Okuma : Dosya İçeriği:\\n\",icerik,sep =\"\")\n",
    "icerik2 = file.read()\n",
    "print(\"2. Okuma : Dosya İçeriği:\\n\",icerik2,sep =\"\")\n",
    "file.close()"
   ]
  },
  {
   "attachments": {},
   "cell_type": "markdown",
   "metadata": {},
   "source": [
    "**readline() Fonksiyonu**\n",
    "\n",
    "Her çalıştırıldığında bir satır okur."
   ]
  },
  {
   "cell_type": "code",
   "execution_count": 21,
   "metadata": {},
   "outputs": [
    {
     "name": "stdout",
     "output_type": "stream",
     "text": [
      "İlk\n",
      "\n"
     ]
    }
   ],
   "source": [
    "file = open(\"bilgiler.txt\",\"r\",encoding=\"utf-8\")\n",
    "print(file.readline()) # 1. satırı okur."
   ]
  },
  {
   "cell_type": "code",
   "execution_count": 22,
   "metadata": {},
   "outputs": [
    {
     "name": "stdout",
     "output_type": "stream",
     "text": [
      "Dosyamı\n",
      "\n"
     ]
    }
   ],
   "source": [
    "print(file.readline()) # 2. satırı okur."
   ]
  },
  {
   "cell_type": "code",
   "execution_count": 23,
   "metadata": {},
   "outputs": [
    {
     "name": "stdout",
     "output_type": "stream",
     "text": [
      "txt\n",
      "\n"
     ]
    }
   ],
   "source": [
    "print(file.readline()) # 3. satırı okur."
   ]
  },
  {
   "cell_type": "code",
   "execution_count": 24,
   "metadata": {},
   "outputs": [
    {
     "name": "stdout",
     "output_type": "stream",
     "text": [
      "modunda \n",
      "\n"
     ]
    }
   ],
   "source": [
    "print(file.readline()) # 4. satırı okur."
   ]
  },
  {
   "cell_type": "code",
   "execution_count": 25,
   "metadata": {},
   "outputs": [
    {
     "name": "stdout",
     "output_type": "stream",
     "text": [
      "açtım.\n",
      "\n"
     ]
    }
   ],
   "source": [
    "print(file.readline()) # 5. satırı okur."
   ]
  },
  {
   "cell_type": "code",
   "execution_count": 26,
   "metadata": {},
   "outputs": [
    {
     "name": "stdout",
     "output_type": "stream",
     "text": [
      "\n"
     ]
    }
   ],
   "source": [
    "print(file.readline()) # Okuyacak herhangi bir şey kalmayınca readline fonksiyonu boş string döner."
   ]
  },
  {
   "cell_type": "code",
   "execution_count": 29,
   "metadata": {},
   "outputs": [],
   "source": [
    "file.close()"
   ]
  },
  {
   "attachments": {},
   "cell_type": "markdown",
   "metadata": {},
   "source": [
    "**readlines() fonksiyonu**\n",
    "readlines() fonksiyonu dosyanın bütün satırları bir liste şeklinde döner."
   ]
  },
  {
   "cell_type": "code",
   "execution_count": 31,
   "metadata": {},
   "outputs": [
    {
     "name": "stdout",
     "output_type": "stream",
     "text": [
      "['İlk\\n', 'Dosyamı\\n', 'txt\\n', 'modunda \\n', 'açtım.\\n']\n"
     ]
    }
   ],
   "source": [
    "file = open(\"bilgiler.txt\",\"r\",encoding=\"utf-8\")\n",
    "print(file.readlines()) # Tüm satırları okur."
   ]
  },
  {
   "cell_type": "code",
   "execution_count": 32,
   "metadata": {},
   "outputs": [],
   "source": [
    "file.close()"
   ]
  },
  {
   "attachments": {},
   "cell_type": "markdown",
   "metadata": {},
   "source": [
    "# Dosyaya Yazma\n",
    "\n",
    "- w : Yazma modu. Dosyayı konumda oluşturur. Eğer dosya mevcut ise, dosyayı siler ve yeni bir dosya oluşturur.\n",
    "-  write fonksiyonu ile dosyamıza yazıyoruz.\n"
   ]
  },
  {
   "cell_type": "code",
   "execution_count": 35,
   "metadata": {},
   "outputs": [],
   "source": [
    "file = open(\"bilgiler.txt\",\"w\",encoding=\"utf-8\")\n",
    "file.write(\"w modunu kullanıyorum\\n\")\n",
    "file.close()"
   ]
  },
  {
   "attachments": {},
   "cell_type": "markdown",
   "metadata": {},
   "source": [
    "a: append (ekleme) modudur. Dosya konumda yoksa oluşturur, dosya konumda varsa ekleme işlemi yapar."
   ]
  },
  {
   "cell_type": "code",
   "execution_count": 41,
   "metadata": {},
   "outputs": [],
   "source": [
    "file = open(\"bilgiler.txt\",\"a\",encoding=\"utf-8\")\n",
    "file.write(\"YetGen Jump\\n\")\n",
    "file.close()"
   ]
  },
  {
   "attachments": {},
   "cell_type": "markdown",
   "metadata": {},
   "source": [
    "r+ : Hem okuma hem yazma modudur. Dosya konumda yoksa hata verir."
   ]
  },
  {
   "cell_type": "code",
   "execution_count": 40,
   "metadata": {},
   "outputs": [],
   "source": [
    "file = open(\"bilgiler.txt\",\"r+\",encoding=\"utf-8\")\n",
    "file.write(\"r+ modunu deniyorum\\n\")\n",
    "file.read()\n",
    "file.close()"
   ]
  },
  {
   "attachments": {},
   "cell_type": "markdown",
   "metadata": {},
   "source": [
    "# Dosyaları Otomatik Kapatma\n",
    "```python\n",
    " with open(dosya_adı,dosya_kipi) as file:\n",
    "    Dosya işlemleri\n",
    "```"
   ]
  },
  {
   "cell_type": "code",
   "execution_count": 42,
   "metadata": {},
   "outputs": [
    {
     "name": "stdout",
     "output_type": "stream",
     "text": [
      "r+ modunu deniyorum\n",
      "\n",
      "m\n",
      "\n",
      "YetGen Jump\n",
      "\n",
      "YetGen Jump\n",
      "\n"
     ]
    }
   ],
   "source": [
    "with open(\"bilgiler.txt\",\"r\",encoding = \"utf-8\") as file:\n",
    "    for i in file:\n",
    "        print(i)"
   ]
  },
  {
   "attachments": {},
   "cell_type": "markdown",
   "metadata": {},
   "source": [
    "# Dosyayı İleri-Geri Sarmak¶\n",
    "- seek() metodunu kullanarak istediğiniz bayt konumuna dönebilirsiniz\n",
    "-  Dosyanın hangi bayt konumunda bulunduğunuzu öğrenmek isterseniz de tell() metodunu kullanabilirsiniz"
   ]
  },
  {
   "cell_type": "code",
   "execution_count": 43,
   "metadata": {},
   "outputs": [
    {
     "name": "stdout",
     "output_type": "stream",
     "text": [
      "20\n"
     ]
    }
   ],
   "source": [
    "with open(\"bilgiler.txt\",\"r\",encoding = \"utf-8\") as file:\n",
    "    file.seek(20) # 20.byte'a git ve dur .\n",
    "    print(file.tell()) #kaçıncı byte'da olduğunu bana söyle"
   ]
  },
  {
   "cell_type": "code",
   "execution_count": 46,
   "metadata": {},
   "outputs": [
    {
     "name": "stdout",
     "output_type": "stream",
     "text": [
      "dunu deniy\n",
      "r+ mod\n"
     ]
    }
   ],
   "source": [
    "with open(\"bilgiler.txt\",\"r\",encoding = \"utf-8\") as file:\n",
    "    file.seek(5) # 5.byte'a  gidiyoruz.\n",
    "    icerik = file.read(10)  # 10.byte'taki karaktere kadar okuyoruz.\n",
    "    print(icerik)\n",
    "    file.seek(0) #0.byte'ta gidiyoruz.\n",
    "    icerik2 = file.read(6) #6.byte'taki karaktere kadar okuyoruz.\n",
    "    print(icerik2)"
   ]
  }
 ],
 "metadata": {
  "kernelspec": {
   "display_name": "Python 3",
   "language": "python",
   "name": "python3"
  },
  "language_info": {
   "codemirror_mode": {
    "name": "ipython",
    "version": 3
   },
   "file_extension": ".py",
   "mimetype": "text/x-python",
   "name": "python",
   "nbconvert_exporter": "python",
   "pygments_lexer": "ipython3",
   "version": "3.11.1"
  },
  "orig_nbformat": 4
 },
 "nbformat": 4,
 "nbformat_minor": 2
}
