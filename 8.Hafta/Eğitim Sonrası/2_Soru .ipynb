{
  "cells": [
    {
      "cell_type": "markdown",
      "metadata": {
        "id": "xdJPVw8Qym8-"
      },
      "source": [
        " # Problem 2\n",
        " \n",
        "```test.txt``` dosyasını satır satır okuyun ve bir listede saklayınız. Daha sonra listeyi ekrana bastırınız."
      ]
    },
    {
      "cell_type": "code",
      "execution_count": 2,
      "metadata": {
        "id": "ERxLPkA1yqM9"
      },
      "outputs": [
        {
          "name": "stdout",
          "output_type": "stream",
          "text": [
            "['Berkcan\\n', 'Emirhan\\n', 'Çağla\\n', 'Enes\\n', 'Adem\\n', 'Ahmet\\n', 'Beyza']\n"
          ]
        }
      ],
      "source": [
        "file = open(\"test.txt\",\"r\",encoding=\"utf-8\")\n",
        "print(file.readlines())"
      ]
    },
    {
      "cell_type": "code",
      "execution_count": 19,
      "metadata": {},
      "outputs": [
        {
          "name": "stdout",
          "output_type": "stream",
          "text": [
            "['Berkcan\\n', 'Emirhan\\n', 'Çağla\\n', 'Enes\\n', 'Adem\\n', 'Ahmet\\n', 'Beyza'] "
          ]
        }
      ],
      "source": [
        "file = open(\"test.txt\",\"r\",encoding=\"utf-8\")\n",
        "liste = []\n",
        "for i in file:\n",
        "    liste.append(i)\n",
        "print(liste , end=\" \")\n",
        "    "
      ]
    }
  ],
  "metadata": {
    "colab": {
      "provenance": []
    },
    "kernelspec": {
      "display_name": "Python 3",
      "name": "python3"
    },
    "language_info": {
      "codemirror_mode": {
        "name": "ipython",
        "version": 3
      },
      "file_extension": ".py",
      "mimetype": "text/x-python",
      "name": "python",
      "nbconvert_exporter": "python",
      "pygments_lexer": "ipython3",
      "version": "3.11.1"
    }
  },
  "nbformat": 4,
  "nbformat_minor": 0
}
