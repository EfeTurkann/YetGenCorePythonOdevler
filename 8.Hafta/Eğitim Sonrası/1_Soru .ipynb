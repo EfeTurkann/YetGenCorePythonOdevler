{
  "cells": [
    {
      "cell_type": "markdown",
      "metadata": {
        "id": "S33oJyyjyKgH"
      },
      "source": [
        "# Problem 1\n",
        "```test.txt``` dosyasındaki satır sayısını bularak ekrana yazdırınız.\n",
        "\n",
        "\n",
        "\n",
        "```\n",
        "> Output\n",
        "Number of lines in the file:  6\n",
        "\n",
        "```\n",
        "\n"
      ]
    },
    {
      "cell_type": "code",
      "execution_count": 18,
      "metadata": {
        "id": "POxFXvYByP0D"
      },
      "outputs": [
        {
          "name": "stdout",
          "output_type": "stream",
          "text": [
            "Berkcan\n",
            "\n",
            "Emirhan\n",
            "\n",
            "Çağla\n",
            "\n",
            "Enes\n",
            "\n",
            "Adem\n",
            "\n",
            "Ahmet\n",
            "\n",
            "Beyza\n"
          ]
        }
      ],
      "source": [
        "file = open(\"test.txt\",\"r\",encoding=\"utf-8\")\n",
        "for i in file:\n",
        "    print(i)\n",
        "\n",
        "# with open(\"test.txt\",\"r\",encoding = \"utf-8\") as file:\n",
        "#     dosya = file.readline()\n",
        "#     print((dosya))\n",
        "        "
      ]
    }
  ],
  "metadata": {
    "colab": {
      "provenance": []
    },
    "kernelspec": {
      "display_name": "Python 3",
      "name": "python3"
    },
    "language_info": {
      "codemirror_mode": {
        "name": "ipython",
        "version": 3
      },
      "file_extension": ".py",
      "mimetype": "text/x-python",
      "name": "python",
      "nbconvert_exporter": "python",
      "pygments_lexer": "ipython3",
      "version": "3.11.1"
    }
  },
  "nbformat": 4,
  "nbformat_minor": 0
}
