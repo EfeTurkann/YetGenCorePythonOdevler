{
  "cells": [
    {
      "cell_type": "markdown",
      "metadata": {
        "id": "tsD4YVAe_Te2"
      },
      "source": [
        "# Problem 1\n",
        "Bir sayının 7'ye bölünebilir olup olmadığını kontrol etmek \n",
        "için bir program yazın.\n",
        "\n",
        "İpucu: Mod operatörünü (%) kullanabilirsiniz."
      ]
    },
    {
      "cell_type": "code",
      "execution_count": 12,
      "metadata": {
        "id": "NGjvNwKx_Te7"
      },
      "outputs": [
        {
          "name": "stdout",
          "output_type": "stream",
          "text": [
            "21 Sayısı 7'ye tam bölünür.\n"
          ]
        }
      ],
      "source": [
        "a = int(input(\"Bir sayı giriniz: \"))\n",
        "\n",
        "if a % 7 == 0:\n",
        "    print(a ,  \"Sayısı 7'ye tam bölünür.\")\n",
        "else:\n",
        "    print(a ,  \"Sayısı 7'ye tam bölünmez. \")"
      ]
    },
    {
      "cell_type": "markdown",
      "metadata": {
        "id": "Kg3qiBAI_Te8"
      },
      "source": [
        "# Problem 2\n",
        "Kullanıcıdan vize ve final notu isteyin. Girilen vize notunun %40’ı ve \n",
        "girilen finalnotunun ise %60’ı alınarak yıl sonu not ortalaması hesaplanacaktır. \n",
        "\n",
        "Bu not ortalaması eğer 85 ve üzeri ise AA, \n",
        "\n",
        "75 ve 85 arasında ise BA, \n",
        "\n",
        "70 ve 75 arasında ise BB, \n",
        "\n",
        "65 ve 70 arasında ise CB,\n",
        "\n",
        "60 ve 65 arasında ise CC,\n",
        "\n",
        "55 ve 60 arasında ise DC,\n",
        "\n",
        "50 ve 55 arasında ise DD olarak hesaplanacaktır. \n",
        "\n",
        "Bu öğrencinin yıl sonu toplam notu 50’nin altında ise FF ile dersten kalacaktır. \n",
        "\n",
        "Ayrıca öğrencinin final notu 50’nin altında ise direkt FF ile kalacaktır."
      ]
    },
    {
      "cell_type": "code",
      "execution_count": 1,
      "metadata": {
        "id": "MXTtCxI1_Te8"
      },
      "outputs": [
        {
          "name": "stdout",
          "output_type": "stream",
          "text": [
            "Vize notunuz 55.0 , final notunuz 80.0'dur.Yıl sonu ortalamanız 70.0'dir.\n",
            "Yıl sonu notunuz BB'dır tebrikler.\n"
          ]
        }
      ],
      "source": [
        "vize = float(input(\"Lütfen vize notunuzu giriniz: \"))\n",
        "final = float(input(\"Lütfen final notunuzu giriniz: \"))\n",
        "yilSonu = (vize*40/100) + (final*60/100)\n",
        "print(\"Vize notunuz {} , final notunuz {}'dur.Yıl sonu ortalamanız {}'dir.\" .format(vize, final ,yilSonu))\n",
        "if final >= 50:\n",
        "    if yilSonu >= 85:\n",
        "        print(\"Yıl sonu notunuz AA'dır tebrikler.\")\n",
        "    elif yilSonu <85 and yilSonu >= 75:\n",
        "        print(\"Yıl sonu notunuz BA'dır tebrikler.\")\n",
        "    elif yilSonu < 75 and yilSonu >= 70:\n",
        "        print(\"Yıl sonu notunuz BB'dır tebrikler.\")\n",
        "    elif yilSonu < 70 and yilSonu >= 65:\n",
        "          print(\"Yıl sonu notunuz CB'dır tebrikler.\")\n",
        "    elif yilSonu < 65 and yilSonu >= 60:\n",
        "          print(\"Yıl sonu notunuz CC'dır tebrikler.\")\n",
        "    elif yilSonu < 60 and yilSonu >= 55:\n",
        "           print(\"Yıl sonu notunuz DC'dır tebrikler.\")\n",
        "    elif yilSonu < 55 and yilSonu >= 50:\n",
        "           print(\"Yıl sonu notunuz DD'dır tebrikler.\")\n",
        "    else:\n",
        "         print(\"Yıl sonu notunuz 50'nin altında olduğu için dersten maalesef kaldınız :( \")\n",
        "else:\n",
        "     print(\"Final notunuz 50'nin altında olduğu için dersten kaldınız :( \")\n",
        "    \n",
        "    \n"
      ]
    },
    {
      "cell_type": "markdown",
      "metadata": {
        "id": "tAoRYCTC_Te8"
      },
      "source": [
        "# Problem 3\n",
        "İki YetGenli Zirve'de karşılaşıyorlar. Birbirlerini tanımak için sorular soruyorlar. Birbirlerine yaşlarını soruyorlar. Akıllarına bir Python programı yazıp, yaşlarını ve isimlerini giriyorlar. Büyük olanın yaşını ekrana yazdıran programı yazıyorlar. Sende bu iki YetGenli'ye destek olmak ister misin?\n",
        "\n",
        "```\n",
        "Birinci YetGenlinin ismi: Ahmet\n",
        "Birinci YetGenlinin yaşı : 20\n",
        "İkinci YetGenlinin ismi: Mehmet\n",
        "İkinci YetGenlinin yaşı : 25\n",
        "Mehmet'in yaşı daha büyük ve yaşı 25'tir.\n",
        "```"
      ]
    },
    {
      "cell_type": "code",
      "execution_count": 28,
      "metadata": {
        "id": "bPjE8W0i_Te8"
      },
      "outputs": [
        {
          "name": "stdout",
          "output_type": "stream",
          "text": [
            "Mehmet'in yaşı daha büyük ve 25'dir. \n"
          ]
        }
      ],
      "source": [
        "kisi1 = input(\"Lütfen isminizi giriniz. \")\n",
        "kisi2 = input(\"Lütfen isminizi giriniz. \")\n",
        "kisi1y = int(input(f\"Sayın {kisi1} lütfen yaşınızı giriniz.\"))\n",
        "kisi2y = int(input(f\"Sayın {kisi2} lütfen yaşınızı giriniz.\"))\n",
        "if kisi1y > kisi2y:\n",
        "    print(f\"{kisi1}'in yaşı daha büyük ve {kisi1y}'dir. \")\n",
        "elif kisi1y == kisi2y:\n",
        "    print(f\"{kisi1} ve {kisi2}'nin yaşları eşit olup {kisi1y}'dir. \")\n",
        "else:\n",
        "     print(f\"{kisi2}'in yaşı daha büyük ve {kisi2y}'dir. \")\n"
      ]
    },
    {
      "cell_type": "markdown",
      "metadata": {
        "id": "zBVv8Tyg_Te9"
      },
      "source": [
        "# Problem 4\n",
        "Pandemi döneminde AVM'lerde ateş ölçümü yapılıyor. AVM'ye giren kişinin ateş ölçümü 37.5 derecenin altında ise girişe izin veriliyor. 37.5 derecenin üstünde ise girişe izin verilmiyor. AVM'ye girişe izin verilip verilmediğini ekrana yazdıran bir program yazın.\n",
        "\n",
        "Program sonunda şöyle bir çıktı elde etmelisiniz:\n",
        "\n",
        "```\n",
        "Ateşiniz 37.5 derece. AVM'ye girebilirsin! Maske takmayı unutma!\n",
        "Ateşiniz 37.6 derece. AVM'ye giremezsin! Hemen evine dön!\n",
        "```"
      ]
    },
    {
      "cell_type": "code",
      "execution_count": 31,
      "metadata": {
        "id": "TSAXs8et_Te9"
      },
      "outputs": [
        {
          "name": "stdout",
          "output_type": "stream",
          "text": [
            "Lütfen bileğinizi görevliye gösteriniz.\n",
            "Teşekkürler, ateşiniz ölçülüyor bekleyiniz.\n",
            "Ateşiniz 37.6 derece. AVM'ye giremezsin! Hemen evine dön!\n"
          ]
        }
      ],
      "source": [
        "print(\"Lütfen bileğinizi görevliye gösteriniz.\")\n",
        "print(\"Teşekkürler, ateşiniz ölçülüyor bekleyiniz.\")\n",
        "ates = float(input(\"Ateş? \"))\n",
        "\n",
        "if ates < 37.5:\n",
        "    print(f\"Ateşiniz {ates} derece. AVM'ye girebilirsin! Maske takmayı unutma!\")\n",
        "else:\n",
        "    print(f\"Ateşiniz {ates} derece. AVM'ye giremezsin! Hemen evine dön!\")\n"
      ]
    },
    {
      "cell_type": "markdown",
      "metadata": {
        "id": "6AEkZrDt_Te9"
      },
      "source": [
        "# Problem 5\n",
        "YetGen bir spor kulübüyle sponsorluk anlaşması yapıyor. Kulüp, sponsorluk anlaşmasına göre her YetGen liderinin beden kitle indeksini hesaplamak istiyor. Spor kulübü, beden kitle indeksini hesaplamak için YetGen Jump Python liderlerinden Berkcan ve Ahmet'i arıyor. Berkcan ve Ahmet, kulübe yardımcı olmak için bir Python programı yazıyorlar. Sende bu iki YetGen liderine destek olmak ister misin?\n",
        "\n",
        "Kullanıcıdan alınan boy ve kilo değerlerine göre beden kitle indeksini hesaplayın ve şu kurallara göre ekrana şu yazıları yazdırın.\n",
        "\n",
        "\n",
        "Beden Kitle İndeksi, kişinin ağırlığının (kg olarak) boyunun karesine (m olarak) bölünmesiyle hesaplanır.\n",
        "\n",
        "\n",
        "```\n",
        " BKİ 18.5'un altındaysa -------> Zayıf\n",
        "\n",
        " BKİ 18.5 ile 25 arasındaysa ------> Normal\n",
        "\n",
        " BKİ 25 ile 30 arasındaysa --------> Fazla Kilolu\n",
        "\n",
        " BKİ 30'un üstündeyse -------------> Obez\n",
        "```\n",
        "\n"
      ]
    },
    {
      "cell_type": "code",
      "execution_count": 47,
      "metadata": {
        "id": "t-XPI_u0_Te-"
      },
      "outputs": [
        {
          "name": "stdout",
          "output_type": "stream",
          "text": [
            "Normal BKİ'ye sahipsiniz. \n"
          ]
        }
      ],
      "source": [
        "boy = float(input(\"Lütfen boyunuzu m cinsinden giriniz. \"))\n",
        "kilo = float(input(\"Lütfen kilonuzu kg cinsinden giriniz. \"))\n",
        "bki = kilo/ (boy**2)\n",
        "if bki <= 18.5:\n",
        "    print(\"Zayıfsınız.\")\n",
        "elif 18.5 < bki <= 25:\n",
        "    print(\"Normal BKİ'ye sahipsiniz. \")\n",
        "elif 25 < bki <= 30:\n",
        "    print(\"Fazla kilolusunuz.\")\n",
        "else:\n",
        "    print(\"Obezsiniz, hemen spor salonuna yazılınız.\")"
      ]
    },
    {
      "cell_type": "markdown",
      "metadata": {
        "id": "oFsvQyaO_Te-"
      },
      "source": [
        "# Problem 6\n",
        "Kullanıcıdan isim, yaş ve eğitim bilgilerini isteyip ehliyet alabilme  durumunu kontrol ediniz. \n",
        "\n",
        "Ehliyet alma koşulu en az 18 yaşında ve eğitim durumu lise ya da üniversite olmalıdır. "
      ]
    },
    {
      "cell_type": "code",
      "execution_count": 55,
      "metadata": {
        "id": "Tu2mcgco_Te-"
      },
      "outputs": [
        {
          "name": "stdout",
          "output_type": "stream",
          "text": [
            "Sayın Efe Ehliyet alabilirsiniz.\n"
          ]
        }
      ],
      "source": [
        "isim = input(\"Lütfen isminizi giriniz.\")\n",
        "yas = int(input(\"Lütfen yaşınızı giriniz.\"))\n",
        "egitim = input(\"Lütfen eğitim durumunuzu giriniz.\")\n",
        "if yas > 18  and egitim == \"üniversite\" or egitim == \"lise\":\n",
        "    print(\"Sayın\" , isim , \"Ehliyet alabilirsiniz.\")\n",
        "else:\n",
        "    print(\"Sayın\" ,isim, \"ehliyet alamazsınız.\")"
      ]
    },
    {
      "cell_type": "markdown",
      "metadata": {
        "id": "eUkxVSAE_Te_"
      },
      "source": [
        "# Problem 7\n",
        "Bir yılın artık yıl olup olmadığını kontrol etmek için bir program yazın. \n",
        "Artık yıl kuralı:\n",
        "\n",
        "a) Eğer yılın son iki basamağı (00) ile bitmiyor ve yalnızca 4'e tam bölünüyorsa artık yıldır. Ya da, \n",
        "\n",
        "b) Eğer yıl 400'e tam bölünüyorsa artık yıldır.\n",
        "\n",
        "**Örneğin**\n",
        "```\n",
        "2017 artık yıl değildir.\n",
        "1900 artık yıl değildir\n",
        "2012 artık yıldır.\n",
        "2000 artık yıldır.\n",
        "```"
      ]
    },
    {
      "cell_type": "code",
      "execution_count": 60,
      "metadata": {
        "id": "4uWh8qUL_Te_"
      },
      "outputs": [
        {
          "name": "stdout",
          "output_type": "stream",
          "text": [
            "2000 bir artık yıldır.\n"
          ]
        }
      ],
      "source": [
        "sayi = int(input(\"Lütfen bir yıl giriniz.\"))\n",
        "if sayi % 400 == 0:\n",
        "    print(f\"{sayi} bir artık yıldır.\")\n",
        "elif sayi % 100 != 0 and sayi % 4 ==0:\n",
        "    print( sayi, \"Bir artık yıldır.\")\n",
        "else:\n",
        "    print(sayi, \"Bir artık yıl değildir.\")"
      ]
    }
  ],
  "metadata": {
    "colab": {
      "provenance": []
    },
    "kernelspec": {
      "display_name": "Python 3.10.5 64-bit",
      "language": "python",
      "name": "python3"
    },
    "language_info": {
      "codemirror_mode": {
        "name": "ipython",
        "version": 3
      },
      "file_extension": ".py",
      "mimetype": "text/x-python",
      "name": "python",
      "nbconvert_exporter": "python",
      "pygments_lexer": "ipython3",
      "version": "3.11.1"
    },
    "orig_nbformat": 4,
    "vscode": {
      "interpreter": {
        "hash": "5026d2d6e7aaaaba093def813beadff083d8733e4a511af01735cbabd156995d"
      }
    }
  },
  "nbformat": 4,
  "nbformat_minor": 0
}
