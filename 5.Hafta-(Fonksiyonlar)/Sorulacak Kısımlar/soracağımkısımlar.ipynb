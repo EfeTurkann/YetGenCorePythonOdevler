{
 "cells": [
  {
   "attachments": {},
   "cell_type": "markdown",
   "metadata": {},
   "source": [
    "*******"
   ]
  },
  {
   "attachments": {},
   "cell_type": "markdown",
   "metadata": {},
   "source": [
    "* String ifadelerin uzunluklarına göre liste sıralama  yapmak isteseydik?\n"
   ]
  },
  {
   "cell_type": "code",
   "execution_count": 8,
   "metadata": {},
   "outputs": [
    {
     "name": "stdout",
     "output_type": "stream",
     "text": [
      "orijinal listemiz:   \t    [['Efennos', 4, 28], ['Efenn', 2, 20], ['Efe', 1, 20], ['Efee', 3, 21]]\n",
      "Str kısımlara göre sıralanmış listem: ['Efe', 'Efee', 'Efenn', 'Efennos']\n"
     ]
    }
   ],
   "source": [
    "# Yeni liste oluşturmadan direkt listemi str ifadelerin uzunluklarına göre sıralama yapmak?\n",
    "# liste oluşturalım\n",
    "listem = [['Efennos', 4, 28], ['Efenn', 2, 20],\n",
    "\t\t\t['Efe', 1, 20], ['Efee', 3, 21]]\n",
    "\n",
    "# orijinal listeyi yazdıralım.\n",
    "print(\"orijinal listemiz:   \t   \" , listem)\n",
    "yeni_listem = [] #string ifadeleri eklemek için boş bir liste oluşturalım.\n",
    "\n",
    "# 0.indexlere göre yeni bir liste oluşturarak onu yazdıralım.\n",
    "for i in listem:\n",
    "    for j in i:\n",
    "        if j == str(j):\n",
    "            yeni_listem.append(j)\n",
    "\n",
    "yeni_listem.sort(key= len)\n",
    "print(\"Str kısımlara göre sıralanmış listem:\" , yeni_listem)      "
   ]
  },
  {
   "cell_type": "code",
   "execution_count": 11,
   "metadata": {},
   "outputs": [
    {
     "name": "stdout",
     "output_type": "stream",
     "text": [
      "orijinal listemiz:   \t    [['Efennos', 4, 28], ['Efenn', 2, 20], ['Efe', 1, 20], ['Efee', 3, 21]]\n",
      "1.indexe göre sıralanmış :  [['Efe', 1, 20], ['Efee', 3, 21], ['Efenn', 2, 20], ['Efennos', 4, 28]]\n"
     ]
    }
   ],
   "source": [
    "# liste oluşturalım\n",
    "listem = [['Efennos', 4, 28], ['Efenn', 2, 20],\n",
    "\t\t\t['Efe', 1, 20], ['Efee', 3, 21]]\n",
    "\n",
    "# orijinal listeyi yazdıralım.\n",
    "print(\"orijinal listemiz:   \t   \" , listem)\n",
    "\n",
    "# 1.indexlere göre bubble sort(kabarcık sıralama) yapalım.\n",
    "n = len(listem)\n",
    "for i in range(n):\n",
    "\tfor j in range(n-1):\n",
    "\t\tif len(listem[j][0]) > len(listem[j+1][0]):\n",
    "\t\t\tlistem[j], listem[j+1] = listem[j+1], listem[j]\n",
    "\n",
    "# sonucu yazdıralım.\n",
    "print(\"1.indexe göre sıralanmış : \"  , listem)\n"
   ]
  }
 ],
 "metadata": {
  "kernelspec": {
   "display_name": "Python 3",
   "language": "python",
   "name": "python3"
  },
  "language_info": {
   "codemirror_mode": {
    "name": "ipython",
    "version": 3
   },
   "file_extension": ".py",
   "mimetype": "text/x-python",
   "name": "python",
   "nbconvert_exporter": "python",
   "pygments_lexer": "ipython3",
   "version": "3.11.1"
  },
  "orig_nbformat": 4,
  "vscode": {
   "interpreter": {
    "hash": "b52f0326c461c572921985537a28c1464d6f232a21b63d1eb118623ecdbf8940"
   }
  }
 },
 "nbformat": 4,
 "nbformat_minor": 2
}
