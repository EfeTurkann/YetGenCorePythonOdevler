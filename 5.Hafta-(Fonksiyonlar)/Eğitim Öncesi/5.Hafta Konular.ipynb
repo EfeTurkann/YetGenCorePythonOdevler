{
 "cells": [
  {
   "attachments": {},
   "cell_type": "markdown",
   "metadata": {},
   "source": [
    "# List Comprehension"
   ]
  },
  {
   "attachments": {},
   "cell_type": "markdown",
   "metadata": {},
   "source": [
    "- ``Liste işlemlerinde`` kodu uzun uzadıya yazmak yerine tek bir satırda düzenleme imkanı sunmaktadır.\n"
   ]
  },
  {
   "cell_type": "code",
   "execution_count": 1,
   "metadata": {},
   "outputs": [
    {
     "name": "stdout",
     "output_type": "stream",
     "text": [
      "[1, 4, 9, 16, 25, 36, 49, 64, 81, 100]\n"
     ]
    }
   ],
   "source": [
    "# KLASİK YÖNTEM\n",
    "liste = [1,2,3,4,5,6,7,8,9,10]\n",
    "yeni_liste = []\n",
    "for i in liste:\n",
    "    yeni_liste.append(i * i)\n",
    "print(yeni_liste)"
   ]
  },
  {
   "cell_type": "code",
   "execution_count": 3,
   "metadata": {},
   "outputs": [
    {
     "name": "stdout",
     "output_type": "stream",
     "text": [
      "[1, 4, 9, 16, 25, 36, 49, 64, 81, 100]\n"
     ]
    }
   ],
   "source": [
    "# LİST COMPREHENSİON\n",
    "liste = [1,2,3,4,5,6,7,8,9,10]\n",
    "yeni_liste = [i * i for i in liste ]\n",
    "print(yeni_liste)\n",
    " #Yapısı:\n",
    " #Önce vermek istediğim çıktı(i*i) , \n",
    " #sonra döngü(for i in liste) , \n",
    " #en sonda da eğer koşul olsaydı onu girerdik."
   ]
  },
  {
   "attachments": {},
   "cell_type": "markdown",
   "metadata": {},
   "source": [
    "----"
   ]
  },
  {
   "cell_type": "code",
   "execution_count": 18,
   "metadata": {},
   "outputs": [
    {
     "name": "stdout",
     "output_type": "stream",
     "text": [
      "[[1, 2, 3], [4, 5, 6, 7, 8], [9, 10, 11, 12, 13, 14, 15]]\n"
     ]
    }
   ],
   "source": [
    "liste = [[1,2,3],[4,5,6,7,8],[9,10,11,12,13,14,15]]\n",
    "liste2 = []\n",
    "for i in liste:\n",
    "    liste2.append(i)\n",
    "print(liste2)"
   ]
  },
  {
   "cell_type": "code",
   "execution_count": 15,
   "metadata": {},
   "outputs": [
    {
     "name": "stdout",
     "output_type": "stream",
     "text": [
      "[1, 2, 3, 4, 5, 6, 7, 8, 9, 10, 11, 12, 13, 14, 15]\n"
     ]
    }
   ],
   "source": [
    "# KLASİK YÖNTEM\n",
    "liste = [[1,2,3],[4,5,6,7,8],[9,10,11,12,13,14,15]]\n",
    "liste2 = []\n",
    "for i in liste:\n",
    "    for x in i:\n",
    "        liste2.append(x)\n",
    "print(liste2)"
   ]
  },
  {
   "cell_type": "code",
   "execution_count": 20,
   "metadata": {},
   "outputs": [
    {
     "name": "stdout",
     "output_type": "stream",
     "text": [
      "[1, 2, 3, 4, 5, 6, 7, 8, 9, 10, 11, 12, 13, 14, 15]\n"
     ]
    }
   ],
   "source": [
    "# LİST COMPREHENSİON\n",
    "liste = [[1,2,3],[4,5,6,7,8],[9,10,11,12,13,14,15]]\n",
    "liste2 = [x for i in liste for x in i]\n",
    "print(liste2)\n",
    "#Vermek istediğim çıktı x\n",
    "#sonra döngü for i in liste\n",
    "#koşul for x in i"
   ]
  },
  {
   "attachments": {},
   "cell_type": "markdown",
   "metadata": {},
   "source": [
    "---"
   ]
  },
  {
   "cell_type": "code",
   "execution_count": 15,
   "metadata": {},
   "outputs": [
    {
     "name": "stdout",
     "output_type": "stream",
     "text": [
      "[1, 2, 3, 5, 6, 7, 8, 10]\n"
     ]
    }
   ],
   "source": [
    "# KLASİK YÖNTEM\n",
    "liste1 = [1,2,3,4,5,6,7,8,9,10]\n",
    "liste2 = []\n",
    "for i in liste1:\n",
    "    if not  (i == 4 or i == 9):\n",
    "        liste2.append(i)\n",
    "print(liste2)"
   ]
  },
  {
   "cell_type": "code",
   "execution_count": 27,
   "metadata": {},
   "outputs": [
    {
     "name": "stdout",
     "output_type": "stream",
     "text": [
      "[1, 2, 3, 5, 6, 7, 8, 10]\n"
     ]
    }
   ],
   "source": [
    "# LİST COMPREHENSİON\n",
    "liste1 = [1,2,3,4,5,6,7,8,9,10]\n",
    "liste2 = [i for i in liste1 if not (i == 4 or i==9)]\n",
    "print(liste2)\n",
    "#önce : vermek istediğim çıktı i\n",
    "#sonra : döngü for i in liste1\n",
    "#en son koşul : if not (i ==4 or i ==9)"
   ]
  },
  {
   "attachments": {},
   "cell_type": "markdown",
   "metadata": {},
   "source": [
    "---"
   ]
  },
  {
   "cell_type": "code",
   "execution_count": 105,
   "metadata": {},
   "outputs": [
    {
     "name": "stdout",
     "output_type": "stream",
     "text": [
      "[2, 4, 6, 8, 10, 12, 14, 16, 18, 20, 22, 24, 26, 28, 30, 32, 34, 36, 38, 40, 42, 44, 46, 48, 50, 52, 54, 56, 58, 60, 62, 64, 66, 68, 70, 72, 74, 76, 78, 80, 82, 84, 86, 88, 90, 92, 94, 96, 98, 100]\n"
     ]
    }
   ],
   "source": [
    "#Klasik Yöntem\n",
    "cift_sayilar = []\n",
    "for i in range(1,101):\n",
    "    if i % 2 ==0:\n",
    "        cift_sayilar.append(i)\n",
    "print(cift_sayilar)"
   ]
  },
  {
   "cell_type": "code",
   "execution_count": 106,
   "metadata": {},
   "outputs": [
    {
     "name": "stdout",
     "output_type": "stream",
     "text": [
      "[2, 4, 6, 8, 10, 12, 14, 16, 18, 20, 22, 24, 26, 28, 30, 32, 34, 36, 38, 40, 42, 44, 46, 48, 50, 52, 54, 56, 58, 60, 62, 64, 66, 68, 70, 72, 74, 76, 78, 80, 82, 84, 86, 88, 90, 92, 94, 96, 98, 100]\n"
     ]
    }
   ],
   "source": [
    "#List comprehension\n",
    "cift_sayilar = [ i for i in range(1,101) if i % 2 == 0 ]\n",
    "print(cift_sayilar)\n"
   ]
  },
  {
   "attachments": {},
   "cell_type": "markdown",
   "metadata": {},
   "source": [
    "# Fonksiyonlar"
   ]
  },
  {
   "attachments": {},
   "cell_type": "markdown",
   "metadata": {},
   "source": [
    "- Bir kodu bir çok yerde kullanmamız gerekiyorsa, her yerde tekrar tekrar yazmayı önler. Programlamanın temeli : DRY(Don't Repeat Yourself - Kendini tekrar etme)\n",
    "- Fonksiyonların içindeki değişkenler yereldir, yani bir fonksiyonun içinde bir değişken tanımladığınızda, o değişkeni fonksiyonun dışında çağıramayız. Çünkü o değişken o fonksiyona özeldir ve gloabalde kullanılamaz.Bir fonksiyon kendi içerisinde tanımlanmış değişkenlerden habersizdir.(Global değişkenler hariç)\n",
    "- Ne zaman bir fonksiyon çağırılırsa, fonksiyonu yazdıktan sonra yapmalısınız.\n",
    "- Fonksiyon tanımlamanın yapısı şu şekildedir;\n",
    "```python\n",
    "        def fonksiyon_adı(parametre1,parametre2..... (opsiyonel)):\n",
    "            # Fonksiyon bloğu\n",
    "            Yapılacak işlemler\n",
    "            # dönüş değeri - Opsiyonel\n",
    "```\n",
    "- Tanımlanan bir fonksiyonun kullanılmasına programlama dillerinde Fonksiyon Çağrısı denmektedir.Fonksiyon çağrısı şu şekilde yapılabilmektedir;\n",
    "```python\n",
    "        fonksiyon_adı(Argüman1,Argüman2....)"
   ]
  },
  {
   "attachments": {},
   "cell_type": "markdown",
   "metadata": {},
   "source": [
    "- `Parametre` = Fonksiyonun tanımında kullanılan ve kullanıcıdan istenilen veriyi tutacak olan değişkenlerdir.Parametreler arasına virgül konulur.\n",
    "- `Argüman` = Kullacının verdiği değerlerdir.(Kullanıcının verdiği bu değerler parametreler içerisinde tutulur.)Argüman her zaman bir değerdir.Fonksiyon sadece bu değerleri alır ve bu değerler fonksiyon içerisindeki parametrelere atanır.Daha sonra da fonksiyon, bu parametrelere göre yapması gereken işlevleri yapar."
   ]
  },
  {
   "attachments": {},
   "cell_type": "markdown",
   "metadata": {},
   "source": [
    "``**Meyve topladığın kovayı parametre, (meyveleri) elmayı(armut,portakal....) ise argüman gibi düşünebilirsin.**``"
   ]
  },
  {
   "attachments": {},
   "cell_type": "markdown",
   "metadata": {},
   "source": [
    "O halde `selamla` fonksiyonumuzu nasıl çağıracağımızı öğrenelim. "
   ]
  },
  {
   "cell_type": "code",
   "execution_count": 7,
   "metadata": {},
   "outputs": [
    {
     "name": "stdout",
     "output_type": "stream",
     "text": [
      "Selamlar\n",
      "Selamlar\n"
     ]
    }
   ],
   "source": [
    "def selamla():\n",
    "    print(\"Selamlar\")\n",
    "\n",
    "selamla()\n",
    "selamla()\n"
   ]
  },
  {
   "attachments": {},
   "cell_type": "markdown",
   "metadata": {},
   "source": [
    "# Argüman:\n",
    "\n",
    "- işlev çağrılırken parantez içindeki işlevlere iletilen değerler (string , number, vb.) (ör. islev_adı (argüman))\n",
    "- Eğer fonksiyon çağrılırken bir argüman yoksa, bu argümanın değeri None olacaktır. Bu nedenle fonksiyonun içinde ifade edilecek bir değer yoksa, belirlenen değeri kullanılmalıdır.\n",
    "```python\n",
    "def helloWorld(name = \"ziyaretçi\"): #name girilmezse \"Ziyaretçi\" olarak al(None değer)\n",
    "    print(\"Merhaba \", name)\n",
    "```\n",
    "- Birden fazla parametre olabilir. Her biri virgülle ayrılır."
   ]
  },
  {
   "cell_type": "code",
   "execution_count": 46,
   "metadata": {},
   "outputs": [
    {
     "name": "stdout",
     "output_type": "stream",
     "text": [
      "Merhaba  ziyaretçi\n",
      "Merhaba  Berkcan\n",
      "Merhaba  Şevval\n",
      "Merhaba  Efe\n"
     ]
    }
   ],
   "source": [
    "def helloWorld(isim = \"ziyaretçi\"): #name = \"ziyaretçi\"  : PARAMETRE (Hiç girilmezse ziyaretçi olsun)\n",
    "    print(\"Merhaba \", isim)\n",
    "\n",
    "helloWorld()\n",
    "helloWorld(\"Berkcan\")  #\"Berkcan\" : ARGÜMAN\n",
    "helloWorld(\"Şevval\")\n",
    "helloWorld(\"Efe\")"
   ]
  },
  {
   "cell_type": "code",
   "execution_count": 49,
   "metadata": {},
   "outputs": [
    {
     "name": "stdout",
     "output_type": "stream",
     "text": [
      "6\n"
     ]
    }
   ],
   "source": [
    "def topla(sayi1,sayi2,sayi3): #sayi1, sayi2, sayi3 : PARAMETRE\n",
    "    toplam = sayi1 + sayi2 + sayi3\n",
    "    print(toplam)\n",
    "topla(1,2,3) #1, 2, 3 : ARGÜMAN"
   ]
  },
  {
   "cell_type": "code",
   "execution_count": 55,
   "metadata": {},
   "outputs": [
    {
     "name": "stdout",
     "output_type": "stream",
     "text": [
      "Siteme Hoş Geldin Efe Türkan !\n",
      "Siteme Hoş Geldin Ahmet Türkan !\n",
      "Siteme Hoş Geldin Ahmet Ekici !\n"
     ]
    }
   ],
   "source": [
    "def merhaba(isim = \"Efe\"  , soyisim = \"Türkan\"): #isim ve soyisim hiç girilmezse Efe Türkan olsun. : PARAMETRE\n",
    "    print(\"Sisteme Hoş Geldin\" , isim , soyisim , \"!\")\n",
    "\n",
    "merhaba()\n",
    "merhaba(\"Ahmet\")\n",
    "merhaba(\"Ahmet\" , \"Ekici\")"
   ]
  },
  {
   "cell_type": "code",
   "execution_count": 60,
   "metadata": {},
   "outputs": [
    {
     "name": "stdout",
     "output_type": "stream",
     "text": [
      "1\n",
      "2\n",
      "6\n",
      "24\n"
     ]
    }
   ],
   "source": [
    "def carp (sayi1 = 1, sayi2= 1, sayi3= 1):\n",
    "    sonuc = sayi1*sayi2*sayi3\n",
    "    print(sonuc)\n",
    "carp()\n",
    "carp(2)\n",
    "carp(2,3)\n",
    "carp(2,3,4)"
   ]
  },
  {
   "cell_type": "code",
   "execution_count": 66,
   "metadata": {},
   "outputs": [
    {
     "name": "stdout",
     "output_type": "stream",
     "text": [
      "Please fill language\n",
      "Merhaba\n",
      "Hello\n",
      "Hola\n",
      "Bonjour\n"
     ]
    }
   ],
   "source": [
    "def merhaba(dil = \"Please fill language\"):\n",
    "    if dil == \"Tr\":\n",
    "        print(\"Merhaba\")\n",
    "    elif dil == \"En\":\n",
    "        print(\"Hello\")\n",
    "    elif dil == \"Es\":\n",
    "        print(\"Hola\")\n",
    "    elif dil == (\"Fr\"):\n",
    "        print(\"Bonjour\")\n",
    "    else:\n",
    "        print(dil)\n",
    "merhaba()\n",
    "merhaba(\"Tr\")\n",
    "merhaba(\"En\")\n",
    "merhaba(\"Es\")\n",
    "merhaba(\"Fr\")"
   ]
  },
  {
   "attachments": {},
   "cell_type": "markdown",
   "metadata": {},
   "source": [
    "# return (döndürücü)\n",
    "- Bknz ; https://medium.com/royto/return-komutu-ne-i%CC%87%C5%9Fe-yarar-83a90b9e475b\n",
    "- Return komutu, bir fonksiyonun sonlandırılmasına ve fonksiyonun çağırıldığı yere değer götürmesine yarar.\n",
    "- Kodun tamamında kullanmak için, işlevin kodu tamamlandıktan sonra kalan değeri (sonuç değeri) döndürür\n",
    "- \"return\" anahtar sözcüğünden sonraki kodlar yürütülmez. Bu, görmezden gelindikleri anlamına gelir\n",
    "- return yardımıyla fonksiyonlar, değerleri çağrıldığı yere döndürebilir ve biz de bu değerleri istediğimiz yerde kullanabiliriz.\n",
    "- Bir maaş hesaplaması gibi düşünülebilir.Vergi oranını fonksiyonda hesaplayıp,maaştan bu oranı düşürmek gibi düşünülebilir."
   ]
  },
  {
   "attachments": {},
   "cell_type": "markdown",
   "metadata": {},
   "source": [
    " - Anneniz elinde bulundurduğu kuşbaşı etleri akşam yemek yapmak için kıyma haline getirmesini isted ive size dedi ki;\n",
    "\n",
    "“Kızım/Oğlum şu kuşbaşı etleri kasaba götür de kıyma haline getirsin”\n",
    "\n",
    "Siz de kasaba gittiniz ve kuş başı etleri kıyma haline getirmesini istediniz. Kasap kıyma makinesine kuşbaşı etleri koydu ve makineyi çalıştırdı (bu kısımda kıyma makinesini fonksiyonunuz olarak düşünün). Makine size çıktı olarak kıyma verdi. İşiniz bittikten sonra kasap amcaya teşekkür edip kıymayı annenize geri götürdünüz. En son da artık annenizin elinde kıyma olmuş oldu.Return komutunu fonksiyonda kullanmasaydık ne olurdu? Hatırlayın, kıymamızı, return komutu yardımıyla en son annemize geri götürüyorduk ve annemizin elinde kıyma (Anne=kiymaMakinesi(kusbasiEt)= kıyma)oluyordu. Eğer return komutu olmasaydı annenize kıymayı geri götüremeyecektiniz ve annenize gidip kıyma diyecektiniz elinizde öyle bir ürün olmayacaktı çünkü kıymalar kasapta kaldı dolayısıyla programınızda da hata alacaktınız.kasaptan kıymaları annenize getirmeyi return komutu sağlar. Yani return olmayan bir fonksiyonda “Anne=kiymaMakinesi(kusbasiEt)” gibi bir atama işlemi yapamıyoruz. \n",
    "- **   KUŞBAŞI ETTEN KIYMA ELDE ETTİKTEN SONRA KIYMAYI SONUCA(annenize götürmeyi) DÖNDÜRMEYİ SAĞLAR **"
   ]
  },
  {
   "attachments": {},
   "cell_type": "markdown",
   "metadata": {},
   "source": [
    "* Return fonksiyonda hangi sonuca ulaşmak istiyor hangi değeri döndürmek istiyoruzu yazdığımız kısımdır.Yani, returndan sonra fonksiyonun ne döndüreceğini yazıyoruz.\n",
    "* Fonksiyon yazmak istemezsek print if şeklinde bir algoritma kurarak da  yapabiliriz.Ancak her o işlemi yapmak istediğimizden teker teker yazmak uzun olacağından bunu tercih etmeyiz.Örneğin; biz while ve if kullanarak da hesap makinesi yapabilirdik ancak her çarpma işlemi yapmak istediğimizde tekrardan onca kodu yazmamak için hesap makinesi fonksiyonunu oluşturmuşuz."
   ]
  },
  {
   "attachments": {},
   "cell_type": "markdown",
   "metadata": {},
   "source": [
    "* `Fonksiyon return ü gördüğü an işlemlerini bitirir.Aynı blokta yer alan hiçbir değeri artık işleme almaz.Aynı blokta yer alan ilk returnü gördüğü an işlem biter.` ;\n",
    "* def ......:\n",
    "*   ....... (İŞLEME ALINIR)\n",
    "*  return `BURADA İŞLEM SONLANIR VE **AYNI** BLOKTA YER ALAN DİĞER KODLAR İŞLEME ALINMAZ.`\n",
    "*  ...... (İŞLEME ALINMAZ)\n",
    "*  .....  (İŞLEME ALINMAZ)\n",
    "*  ...    (İŞLEME ALINMAZ)"
   ]
  },
  {
   "attachments": {},
   "cell_type": "markdown",
   "metadata": {},
   "source": [
    "# **!!!PRİNT VE RETURN FARKI!!!**"
   ]
  },
  {
   "attachments": {},
   "cell_type": "markdown",
   "metadata": {},
   "source": [
    "---"
   ]
  },
  {
   "cell_type": "code",
   "execution_count": 2,
   "metadata": {},
   "outputs": [
    {
     "name": "stdout",
     "output_type": "stream",
     "text": [
      "5\n"
     ]
    }
   ],
   "source": [
    "def topla(a,b):\n",
    "    c = a+b\n",
    "    print(c)\n",
    "topla(2,3)\n",
    "\n",
    "#Buraya kadar her şey yolunda.Fonksiyonumuz bize a+b nin değeri olan c yi print yardımı ile ekrana bastırıyor.\n",
    "#Ancak biz bu fonksiyonun sonucunu gidip başka bir işleme sokmak istesek bu kısımda print ile yazdığımızdan hata alacağız.(bir alt blokta olduğu gibi.)\n",
    "#İşte bu yüzden fonksiyonlarda return kullanmayı tercih ederiz.\n"
   ]
  },
  {
   "cell_type": "code",
   "execution_count": 4,
   "metadata": {},
   "outputs": [
    {
     "name": "stdout",
     "output_type": "stream",
     "text": [
      "5\n"
     ]
    },
    {
     "ename": "TypeError",
     "evalue": "unsupported operand type(s) for +: 'NoneType' and 'int'",
     "output_type": "error",
     "traceback": [
      "\u001b[1;31m---------------------------------------------------------------------------\u001b[0m",
      "\u001b[1;31mTypeError\u001b[0m                                 Traceback (most recent call last)",
      "Cell \u001b[1;32mIn[4], line 1\u001b[0m\n\u001b[1;32m----> 1\u001b[0m \u001b[39mprint\u001b[39m(topla(\u001b[39m2\u001b[39;49m,\u001b[39m3\u001b[39;49m) \u001b[39m+\u001b[39;49m \u001b[39m6\u001b[39;49m)\n",
      "\u001b[1;31mTypeError\u001b[0m: unsupported operand type(s) for +: 'NoneType' and 'int'"
     ]
    }
   ],
   "source": [
    "print(topla(2,3) + 6)"
   ]
  },
  {
   "cell_type": "code",
   "execution_count": 85,
   "metadata": {},
   "outputs": [
    {
     "data": {
      "text/plain": [
       "11"
      ]
     },
     "execution_count": 85,
     "metadata": {},
     "output_type": "execute_result"
    }
   ],
   "source": [
    "def topla(a,b):\n",
    "    c = a+b\n",
    "    return c #topla(2,3) yazıldığı anda bunu sonuç olan 5 e döndür demek.Yani artık topla(2,3) diye bir şey yok 5 diye bir değer var elimde.\n",
    "#topla(2,3) ----return yardımı ile ----> 5'e dönüşüyor gibi düşünebilirsin.\n",
    "\n",
    "topla(2,3) + 6 \n",
    "#Bu şekilde return ile yaptırırsak görüldüğü gibi 11 çıktısını elde ederiz.Print  kullanıldığınca topla(2,3)'ü sadece ekrana bastırırken,\n",
    "#return topla(2,3)'ün değeri olan 5 i döndürerek + ile işleme sokabilir.\n"
   ]
  },
  {
   "attachments": {},
   "cell_type": "markdown",
   "metadata": {},
   "source": [
    "                                            ya da"
   ]
  },
  {
   "cell_type": "code",
   "execution_count": 71,
   "metadata": {},
   "outputs": [
    {
     "data": {
      "text/plain": [
       "11"
      ]
     },
     "execution_count": 71,
     "metadata": {},
     "output_type": "execute_result"
    }
   ],
   "source": [
    "def topla(a,b):\n",
    "    return a+b #return ile işlemleri aynı basamakta yazarak bir satırdan daha kurtulduk :)\n",
    "topla(2,3) +6 \n"
   ]
  },
  {
   "cell_type": "code",
   "execution_count": 50,
   "metadata": {},
   "outputs": [
    {
     "name": "stdout",
     "output_type": "stream",
     "text": [
      "1\n",
      "9\n",
      "20\n",
      "1.25\n"
     ]
    }
   ],
   "source": [
    "def topla(a,b):\n",
    "    c = a+b\n",
    "    return c\n",
    "print(topla(2,3) - 4)\n",
    "print(topla(2,3) + 4 ) #istediğin kadar işlem yapabilirsin.\n",
    "print(topla(2,3) * 4)\n",
    "print(topla(2,3) /4 )"
   ]
  },
  {
   "attachments": {},
   "cell_type": "markdown",
   "metadata": {},
   "source": [
    "---"
   ]
  },
  {
   "cell_type": "code",
   "execution_count": 18,
   "metadata": {},
   "outputs": [
    {
     "name": "stdout",
     "output_type": "stream",
     "text": [
      "120\n"
     ]
    }
   ],
   "source": [
    "a = int(input(\"Sayı:\"))\n",
    "def func(x = a):\n",
    "    global sonuc\n",
    "    sonuc = 1\n",
    "    for i in range(1,x+1):\n",
    "        sonuc = sonuc * i\n",
    "    print(sonuc)\n",
    "func() #Buraya kadar her şey yolunda.Ancak alt blokta olduğu gibi biz bu fonksiyonu bir işleme sokmak istediğimizden print ile yazdığımızdan hata alırız.\n"
   ]
  },
  {
   "cell_type": "code",
   "execution_count": 19,
   "metadata": {},
   "outputs": [
    {
     "name": "stdout",
     "output_type": "stream",
     "text": [
      "120\n"
     ]
    },
    {
     "ename": "TypeError",
     "evalue": "unsupported operand type(s) for +: 'NoneType' and 'int'",
     "output_type": "error",
     "traceback": [
      "\u001b[1;31m---------------------------------------------------------------------------\u001b[0m",
      "\u001b[1;31mTypeError\u001b[0m                                 Traceback (most recent call last)",
      "Cell \u001b[1;32mIn[19], line 1\u001b[0m\n\u001b[1;32m----> 1\u001b[0m func() \u001b[39m+\u001b[39;49m \u001b[39m1\u001b[39;49m \u001b[39m#Hata aldık bir de return ile deneyelim. \u001b[39;00m\n",
      "\u001b[1;31mTypeError\u001b[0m: unsupported operand type(s) for +: 'NoneType' and 'int'"
     ]
    }
   ],
   "source": [
    "func() + 1 #Hata aldık bir de return ile deneyelim. "
   ]
  },
  {
   "cell_type": "code",
   "execution_count": 20,
   "metadata": {},
   "outputs": [
    {
     "data": {
      "text/plain": [
       "121"
      ]
     },
     "execution_count": 20,
     "metadata": {},
     "output_type": "execute_result"
    }
   ],
   "source": [
    "a = int(input(\"Sayı:\"))\n",
    "def func(x = a):\n",
    "    global sonuc\n",
    "    sonuc = 1\n",
    "    for i in range(1,x+1):\n",
    "        sonuc = sonuc * i\n",
    "    return sonuc\n",
    "\n",
    "func(a) + 1 #return ile yazdığımızda hata almadık.\n"
   ]
  },
  {
   "attachments": {},
   "cell_type": "markdown",
   "metadata": {},
   "source": [
    "---"
   ]
  },
  {
   "cell_type": "code",
   "execution_count": 79,
   "metadata": {},
   "outputs": [
    {
     "data": {
      "text/plain": [
       "3.0"
      ]
     },
     "execution_count": 79,
     "metadata": {},
     "output_type": "execute_result"
    }
   ],
   "source": [
    "def dikUcgenAlaniHesapla(a,b):\n",
    "    return (a * b)/2 #a,b'yi (a*b)/2'nin sonucuna döndür.\n",
    "dikUcgenAlaniHesapla(2,3)"
   ]
  },
  {
   "attachments": {},
   "cell_type": "markdown",
   "metadata": {},
   "source": [
    "                                Veya"
   ]
  },
  {
   "cell_type": "code",
   "execution_count": 80,
   "metadata": {},
   "outputs": [
    {
     "name": "stdout",
     "output_type": "stream",
     "text": [
      "3.0\n"
     ]
    }
   ],
   "source": [
    "def dikUcgenAlaniHesapla(a,b):\n",
    "    return (a * b)/2 #a,b'yi (a*b)/2 ye döndür.\n",
    "alan = dikUcgenAlaniHesapla(2,3) #döndürdüğüm değeri(6) alan değişkenine ata.6'yı ALANA DÖNDÜR.\n",
    "print(alan)"
   ]
  },
  {
   "attachments": {},
   "cell_type": "markdown",
   "metadata": {},
   "source": [
    "                                Veya"
   ]
  },
  {
   "cell_type": "code",
   "execution_count": 88,
   "metadata": {},
   "outputs": [
    {
     "data": {
      "text/plain": [
       "3.0"
      ]
     },
     "execution_count": 88,
     "metadata": {},
     "output_type": "execute_result"
    }
   ],
   "source": [
    "def dikUcgenAlaniHesapla(a,b):\n",
    "   sonuc = (a * b)/2 # (a*b)/2 sonuca eşittir.\n",
    "   return sonuc    #a,b yi sonuca döndür.\n",
    "\n",
    "dikUcgenAlaniHesapla(2,3) \n"
   ]
  },
  {
   "attachments": {},
   "cell_type": "markdown",
   "metadata": {},
   "source": [
    "                                Veya"
   ]
  },
  {
   "cell_type": "code",
   "execution_count": 81,
   "metadata": {},
   "outputs": [
    {
     "name": "stdout",
     "output_type": "stream",
     "text": [
      "3.0\n"
     ]
    }
   ],
   "source": [
    "#KLASİK YÖNTEM\n",
    "def dikUcgenAlaniHesapla(a,b):\n",
    "   sonuc = (a * b)/2\n",
    "   print(sonuc)\n",
    "\n",
    "dikUcgenAlaniHesapla(2,3)\n"
   ]
  },
  {
   "cell_type": "code",
   "execution_count": 90,
   "metadata": {},
   "outputs": [
    {
     "data": {
      "text/plain": [
       "8"
      ]
     },
     "execution_count": 90,
     "metadata": {},
     "output_type": "execute_result"
    }
   ],
   "source": [
    "def carpma(x,y):\n",
    "    return x*y\n",
    "carpma(2,4) "
   ]
  },
  {
   "attachments": {},
   "cell_type": "markdown",
   "metadata": {},
   "source": [
    "# *args\n",
    "- Sınırsız sayıda parametreli fonksiyon oluşturmak için parametremizin önüne tek yıldız (*) koyabiliriz.\n",
    "- İsimsiz argümanlardır."
   ]
  },
  {
   "cell_type": "code",
   "execution_count": 23,
   "metadata": {},
   "outputs": [
    {
     "ename": "SyntaxError",
     "evalue": "var-positional argument cannot have default value (1923779014.py, line 1)",
     "output_type": "error",
     "traceback": [
      "\u001b[1;36m  Cell \u001b[1;32mIn[23], line 1\u001b[1;36m\u001b[0m\n\u001b[1;33m    def deneme(*x = \"Sayı Giriniz.\"):\u001b[0m\n\u001b[1;37m                  ^\u001b[0m\n\u001b[1;31mSyntaxError\u001b[0m\u001b[1;31m:\u001b[0m var-positional argument cannot have default value\n"
     ]
    }
   ],
   "source": [
    "def deneme(*x = \"Sayı Giriniz.\"):\n",
    "    return x\n",
    "deneme()\n",
    "# Hata =  var-konumsal bağımsız değişken varsayılan değere sahip olamaz"
   ]
  },
  {
   "cell_type": "code",
   "execution_count": 95,
   "metadata": {},
   "outputs": [
    {
     "name": "stdout",
     "output_type": "stream",
     "text": [
      "(4,)\n",
      "(4, 5, 6)\n",
      "('Efe', 20)\n"
     ]
    }
   ],
   "source": [
    "def sayilar(*x):\n",
    "    print(x)\n",
    "sayilar(4)\n",
    "sayilar(4,5,6)\n",
    "sayilar(\"Efe\",20)"
   ]
  },
  {
   "cell_type": "code",
   "execution_count": 91,
   "metadata": {},
   "outputs": [
    {
     "name": "stdout",
     "output_type": "stream",
     "text": [
      "4\n"
     ]
    },
    {
     "ename": "TypeError",
     "evalue": "sayilar() takes 1 positional argument but 3 were given",
     "output_type": "error",
     "traceback": [
      "\u001b[1;31m---------------------------------------------------------------------------\u001b[0m",
      "\u001b[1;31mTypeError\u001b[0m                                 Traceback (most recent call last)",
      "Cell \u001b[1;32mIn[91], line 4\u001b[0m\n\u001b[0;32m      2\u001b[0m     \u001b[39mprint\u001b[39m(x)\n\u001b[0;32m      3\u001b[0m sayilar(\u001b[39m4\u001b[39m)\n\u001b[1;32m----> 4\u001b[0m sayilar(\u001b[39m4\u001b[39;49m,\u001b[39m5\u001b[39;49m,\u001b[39m6\u001b[39;49m)     \u001b[39m# (*) koymazsan hata alırsın tek parametren olur. \u001b[39;00m\n\u001b[0;32m      5\u001b[0m sayilar(\u001b[39m\"\u001b[39m\u001b[39mEfe\u001b[39m\u001b[39m\"\u001b[39m,\u001b[39m20\u001b[39m) \u001b[39m# (*) koymazsan hata alırsın tek parametren olur. \u001b[39;00m\n",
      "\u001b[1;31mTypeError\u001b[0m: sayilar() takes 1 positional argument but 3 were given"
     ]
    }
   ],
   "source": [
    "def sayilar(x):\n",
    "    print(x)\n",
    "sayilar(4)\n",
    "sayilar(4,5,6)     # (*) koymazsan hata alırsın tek parametren olur. \n",
    "sayilar(\"Efe\",20) # (*) koymazsan hata alırsın tek parametren olur. "
   ]
  },
  {
   "cell_type": "code",
   "execution_count": 94,
   "metadata": {},
   "outputs": [
    {
     "name": "stdout",
     "output_type": "stream",
     "text": [
      "55\n"
     ]
    }
   ],
   "source": [
    "def topla(*x):\n",
    "    toplam = 0\n",
    "    for i in x:\n",
    "        toplam+=i # toplam = toplam + i\n",
    "    print(toplam)\n",
    "topla(1,2,3,4,5,6,7,8,9,10)"
   ]
  },
  {
   "attachments": {},
   "cell_type": "markdown",
   "metadata": {},
   "source": [
    "# **kwargs\n",
    "- Çift yıldızlı (**) parametrelerin tek yıldızlı (*) parametrelerden en önemli farkı, fonksiyonu çağırırken anahtar değer ilişkisiyle çağırabilmemizdir.\n",
    "- ``Aslında bir dictionary yapısı oluşturmayı sağlar.``\n",
    "- İsimli argümanlardır."
   ]
  },
  {
   "cell_type": "code",
   "execution_count": 103,
   "metadata": {},
   "outputs": [
    {
     "name": "stdout",
     "output_type": "stream",
     "text": [
      "{'adi': 'Berkcan', 'soyadi': 'Gümüşışık', 'yas': 22}\n"
     ]
    }
   ],
   "source": [
    "def kimlikGoster(**kimlik): #*kimlik şeklinde kullanırsan getirmeyecektir.Deneyebilirsin.\n",
    "    print(kimlik)\n",
    "kimlikGoster(adi = \"Berkcan\",soyadi = \"Gümüşışık\",yas = 22)\n",
    "# aslında bir dictionary yapısı oluşturmayı sağlar."
   ]
  },
  {
   "cell_type": "code",
   "execution_count": 24,
   "metadata": {},
   "outputs": [
    {
     "name": "stdout",
     "output_type": "stream",
     "text": [
      "10\n",
      "(20, 30, 40, 50)\n",
      "60\n",
      "{'adi': 'Berkcan', 'soyadi': 'Gümüşışık', 'yas': 22}\n"
     ]
    }
   ],
   "source": [
    "def ornek(a,*sayilar,b,**kimlik):\n",
    "    print(a) \n",
    "    print(sayilar)\n",
    "    print(b)\n",
    "    print(kimlik)          \n",
    "ornek(10,20,30,40,50,b= 60, adi = \"Berkcan\",soyadi = \"Gümüşışık\",yas = 22) \n",
    "    #a parametresi = 10 / *sayilar = 20,30,40,50 / #b=60 kısmını *sayilar parametremizden çıkıp b parametremize geçtiğimizi  python'a anlatmak için yaptık.\n",
    "                                                   # bunu a dan sonra yapmadık çünkü a parametresi zaten tek bir değer alabilir.\n",
    "                                                   # aynı şekilde b parametresinden sonra da yapmadık çünkü b parametresi de tek bir değer alabilir\n"
   ]
  },
  {
   "attachments": {},
   "cell_type": "markdown",
   "metadata": {},
   "source": [
    "* 10 => a parametresi\n",
    "* (20, 30, 40, 50) =>  *sayilar parametresi\n",
    "* 60 =>  b parametresi\n",
    "* {'adi': 'Berkcan', 'soyadi': 'Gümüşışık', 'yas': 22} =>  **kimlik parametresi"
   ]
  },
  {
   "attachments": {},
   "cell_type": "markdown",
   "metadata": {},
   "source": [
    "# Pass Deyimi \n",
    "- Python programlamasında pass ifadesi none değer(https://www.youtube.com/watch?v=K6_Mtu6AVbU) atama için kullanılır.\n",
    "- Değerin yokluğunu ifade eden veri tipidir.Diğer dillerde null olarak bilinirken pythonda none olarak kullanılır.\n",
    "- while'daki continue ifadesiyle benzerdir.\n"
   ]
  },
  {
   "cell_type": "code",
   "execution_count": 1,
   "metadata": {},
   "outputs": [],
   "source": [
    "def carp(*sayilar):\n",
    "    for i in sayilar:\n",
    "        pass #Bu programın çalışmasına engel olma.\n",
    "carp(5,2)\n",
    "#Hiçbir çıktı vermeyecek ama programın hata vermesini önler.Aslında boş geçmesini söyler."
   ]
  },
  {
   "cell_type": "code",
   "execution_count": 115,
   "metadata": {},
   "outputs": [
    {
     "ename": "IndentationError",
     "evalue": "expected an indented block after 'for' statement on line 2 (442306632.py, line 4)",
     "output_type": "error",
     "traceback": [
      "\u001b[1;36m  Cell \u001b[1;32mIn[115], line 4\u001b[1;36m\u001b[0m\n\u001b[1;33m    carp(5,2)\u001b[0m\n\u001b[1;37m             ^\u001b[0m\n\u001b[1;31mIndentationError\u001b[0m\u001b[1;31m:\u001b[0m expected an indented block after 'for' statement on line 2\n"
     ]
    }
   ],
   "source": [
    "def carp(*sayilar):\n",
    "    for i in sayilar:\n",
    "         #pass kullanmasaydın bu şekilde hata verirdi.\n",
    "carp(5,2)"
   ]
  },
  {
   "attachments": {},
   "cell_type": "markdown",
   "metadata": {},
   "source": [
    "# Global ve Yerel Değişkenler\n",
    "- Global değişken fonksiyonlarımızın dışında tanımladığımız değişkenlerdir.\n",
    "- Yerel değişkenler ise fonksiyon içinde kullandığımız değişkenlerdir.\n",
    "- Fonksiyonun dışında tanımladığımız değişkenleri fonksiyonların içinde kullanılırken, fonksiyonların içinde tanımladığımız değişkenler fonksiyon dışında kullanılamaz."
   ]
  },
  {
   "cell_type": "code",
   "execution_count": null,
   "metadata": {},
   "outputs": [],
   "source": [
    "# Fonksiyonun üstünde tanımladığımız her şey Global değişkendir.\n",
    "def goster():\n",
    "    #altında tanımladığımız her şey ise yerel değişkendir."
   ]
  },
  {
   "cell_type": "code",
   "execution_count": 1,
   "metadata": {},
   "outputs": [
    {
     "name": "stdout",
     "output_type": "stream",
     "text": [
      "5\n"
     ]
    },
    {
     "ename": "NameError",
     "evalue": "name 'y' is not defined",
     "output_type": "error",
     "traceback": [
      "\u001b[1;31m---------------------------------------------------------------------------\u001b[0m",
      "\u001b[1;31mNameError\u001b[0m                                 Traceback (most recent call last)",
      "Cell \u001b[1;32mIn[1], line 5\u001b[0m\n\u001b[0;32m      3\u001b[0m     \u001b[39mprint\u001b[39m(y)\n\u001b[0;32m      4\u001b[0m yazdir2()\n\u001b[1;32m----> 5\u001b[0m \u001b[39mprint\u001b[39m(y) \u001b[39m#y yi bulamadım hatası verdi.Çünkü biz y yi fonksiyon içinde tanımladık.Yerel değişken olarak kullandık.\u001b[39;00m\n",
      "\u001b[1;31mNameError\u001b[0m: name 'y' is not defined"
     ]
    }
   ],
   "source": [
    "def yazdir2():\n",
    "    y = 5\n",
    "    print(y)\n",
    "yazdir2()\n",
    "print(y) #y yi bulamadım hatası verdi.Çünkü biz y yi fonksiyon içinde tanımladık.Yerel değişken olarak kullandık."
   ]
  },
  {
   "cell_type": "code",
   "execution_count": 35,
   "metadata": {},
   "outputs": [
    {
     "name": "stdout",
     "output_type": "stream",
     "text": [
      "5\n",
      "5\n"
     ]
    }
   ],
   "source": [
    "def yazdir3():\n",
    "    global y #y yi global değişken olarak kullandık.\n",
    "    y = 5\n",
    "    print(y)\n",
    "yazdir3()\n",
    "print(y)"
   ]
  },
  {
   "cell_type": "code",
   "execution_count": 74,
   "metadata": {},
   "outputs": [
    {
     "name": "stdout",
     "output_type": "stream",
     "text": [
      "15\n",
      "5\n"
     ]
    },
    {
     "ename": "NameError",
     "evalue": "name 'b' is not defined",
     "output_type": "error",
     "traceback": [
      "\u001b[1;31m---------------------------------------------------------------------------\u001b[0m",
      "\u001b[1;31mNameError\u001b[0m                                 Traceback (most recent call last)",
      "Cell \u001b[1;32mIn[74], line 8\u001b[0m\n\u001b[0;32m      6\u001b[0m \u001b[39mprint\u001b[39m(deneme())\n\u001b[0;32m      7\u001b[0m \u001b[39mprint\u001b[39m(a) \u001b[39m#Gloabal\u001b[39;00m\n\u001b[1;32m----> 8\u001b[0m \u001b[39mprint\u001b[39m(b) \u001b[39m#Yerel olduğundan okumadı hata verdi.\u001b[39;00m\n",
      "\u001b[1;31mNameError\u001b[0m: name 'b' is not defined"
     ]
    }
   ],
   "source": [
    "a = 5\n",
    "def deneme():\n",
    "    b = 10\n",
    "    b += a\n",
    "    return b\n",
    "print(deneme())\n",
    "print(a) #Gloabal\n",
    "print(b) #Yerel olduğundan okumadı hata verdi.\n"
   ]
  },
  {
   "cell_type": "code",
   "execution_count": 75,
   "metadata": {},
   "outputs": [
    {
     "name": "stdout",
     "output_type": "stream",
     "text": [
      "2\n",
      "10\n"
     ]
    }
   ],
   "source": [
    "a = 10\n",
    "def deneme():\n",
    "    a=2\n",
    "    return a\n",
    "print(deneme())\n",
    "print(a)"
   ]
  },
  {
   "cell_type": "code",
   "execution_count": 76,
   "metadata": {},
   "outputs": [
    {
     "name": "stdout",
     "output_type": "stream",
     "text": [
      "2\n",
      "2\n"
     ]
    }
   ],
   "source": [
    "a = 10\n",
    "def deneme():\n",
    "    global a #a yı global yaptığımızdan dolayı a'nın değeri olan 10'u  2 olarak güncelledi.\n",
    "    a=2\n",
    "    return a\n",
    "print(deneme())\n",
    "print(a) a #a yı global yaptığımızdan dolayı ve a=2 ifadesi a=10'un altında olduğu için a'nın değeri olan 10'u  2 olarak güncelledi."
   ]
  },
  {
   "cell_type": "code",
   "execution_count": 36,
   "metadata": {},
   "outputs": [
    {
     "name": "stdout",
     "output_type": "stream",
     "text": [
      "2\n",
      "2\n"
     ]
    }
   ],
   "source": [
    "a = 10\n",
    "def deneme():\n",
    "    global a \n",
    "    a=2\n",
    "    return a\n",
    "a = 15\n",
    "print(deneme())\n",
    "print(a) # global a yaparak a'nın değerinin her yerde 2 olacağını söyledik.Eğer öyle yapmasaydık;\n"
   ]
  },
  {
   "cell_type": "code",
   "execution_count": 84,
   "metadata": {},
   "outputs": [
    {
     "name": "stdout",
     "output_type": "stream",
     "text": [
      "2\n",
      "15\n"
     ]
    }
   ],
   "source": [
    "a = 10\n",
    "def deneme():\n",
    "    a=2\n",
    "    return a\n",
    "a = 15\n",
    "print(deneme())\n",
    "print(a) #a = 15 daha altta yer aldığından 10'u 15 olarak güncellerdi."
   ]
  },
  {
   "attachments": {},
   "cell_type": "markdown",
   "metadata": {},
   "source": [
    "---\n"
   ]
  },
  {
   "attachments": {},
   "cell_type": "markdown",
   "metadata": {},
   "source": [
    "### *Fonksiyonlarda Recursion(Fonksiyonun kendi kendini çağırması)*\n",
    "- Döngülere alternatif olarak kullanılabilir."
   ]
  },
  {
   "attachments": {},
   "cell_type": "markdown",
   "metadata": {},
   "source": [
    "#### **Bir fonksiyon kendi içerisinde çağrılırsa sonsuz döngüye girer.** Bu da programın bozulması anlamına gelir. Bunu  Recursion yoluyla aşabiliriz. :https://www.youtube.com/watch?v=pO28Kr7s_Rk&list=PLIHume2cwmHehcxQE1XZieL21syR3m3tR&index=20"
   ]
  },
  {
   "attachments": {},
   "cell_type": "markdown",
   "metadata": {},
   "source": [
    "* 1-) Fonksiyonun sonsuza dek kendisini çağırmaması için bitiş durumu tanımlamak gereklidir.\n",
    "* 2-) Fonksiyonun belirli satırlarda kendisini çağırması gereklidir."
   ]
  },
  {
   "cell_type": "code",
   "execution_count": 21,
   "metadata": {},
   "outputs": [
    {
     "data": {
      "text/plain": [
       "15"
      ]
     },
     "execution_count": 21,
     "metadata": {},
     "output_type": "execute_result"
    }
   ],
   "source": [
    "# Klasik Yöntem\n",
    "def topla(*x):\n",
    "    toplam = 0\n",
    "    for i in x:\n",
    "        toplam+=i\n",
    "    return toplam\n",
    "topla(1,2,3,4,5)"
   ]
  },
  {
   "cell_type": "code",
   "execution_count": 28,
   "metadata": {},
   "outputs": [
    {
     "name": "stdout",
     "output_type": "stream",
     "text": [
      "15\n"
     ]
    }
   ],
   "source": [
    "# Recursion Yöntemi\n",
    "def topla(x): \n",
    "    if (len(x)) ==0:\n",
    "        return 0\n",
    "    else:\n",
    "        return x[0] + (topla(x[1:]))\n",
    "\n",
    "print(topla([1,2,3,4,5]))\n",
    "\n",
    "# 1.adım : return (1) + topla([2,3,4,5]) (else durumunda)\n",
    "# 2.adım : return (2) + topla([3,4,5])   (else durumunda)\n",
    "# 3.adım : return (3) + topla([4,5])     (else durumunda)\n",
    "# 4.adım : return (4) + topla([5])       (else durumunda)\n",
    "# 5.adım : return (5) + topla([])        (else durumunda)\n",
    "# 6.adım : return (0)                    (if durumuna girdi.)\n",
    "# 7.adım : 1+2+3+4+5+0 = 15              (print kısmı)\n"
   ]
  },
  {
   "attachments": {},
   "cell_type": "markdown",
   "metadata": {},
   "source": [
    "---\n"
   ]
  },
  {
   "attachments": {},
   "cell_type": "markdown",
   "metadata": {},
   "source": [
    "# Lambda Gösterimi\n",
    "- Pythonda isimsiz olarak tanımladığımız fonksiyonlara lambda fonksiyonları denir. \n",
    "- Tek satırda yazılırlar. (List Comprehension'da olduğu gibi) `Ancak list comprehension ile kullanım metodları farklıdır(if,else durumları)`\n",
    "- Gösterimi:\n",
    "                "
   ]
  },
  {
   "attachments": {},
   "cell_type": "markdown",
   "metadata": {},
   "source": [
    "fonksiyonAdi **=**`lambda` parametreler **:** yapılacakIslem"
   ]
  },
  {
   "cell_type": "code",
   "execution_count": 32,
   "metadata": {},
   "outputs": [
    {
     "data": {
      "text/plain": [
       "3.0"
      ]
     },
     "execution_count": 32,
     "metadata": {},
     "output_type": "execute_result"
    }
   ],
   "source": [
    "dikUcgeninAlani = lambda a,b : a*b/2\n",
    "dikUcgeninAlani(2,3) "
   ]
  },
  {
   "cell_type": "code",
   "execution_count": 104,
   "metadata": {},
   "outputs": [
    {
     "name": "stdout",
     "output_type": "stream",
     "text": [
      "10\n",
      "20\n"
     ]
    }
   ],
   "source": [
    "ikiyleCarp = lambda x : print(x*2)\n",
    "ikiyleCarp(5)\n",
    "ikiyleCarp(10)"
   ]
  },
  {
   "cell_type": "code",
   "execution_count": 6,
   "metadata": {},
   "outputs": [
    {
     "name": "stdout",
     "output_type": "stream",
     "text": [
      "nackreB\n"
     ]
    }
   ],
   "source": [
    "ters =  lambda s : s[::-1]\n",
    "print(ters(\"Berkcan\"))\n"
   ]
  },
  {
   "attachments": {},
   "cell_type": "markdown",
   "metadata": {},
   "source": [
    "Lambda ile if,else kullanmak biraz sakıncalıdır."
   ]
  },
  {
   "attachments": {},
   "cell_type": "markdown",
   "metadata": {},
   "source": [
    "https://thispointer.com/python-how-to-use-if-else-elif-in-lambda-functions/"
   ]
  },
  {
   "cell_type": "code",
   "execution_count": 45,
   "metadata": {},
   "outputs": [
    {
     "name": "stdout",
     "output_type": "stream",
     "text": [
      "True\n",
      "False\n",
      "False\n"
     ]
    }
   ],
   "source": [
    "test = lambda x : True if (x > 10 and x < 20) else False\n",
    "print(test(12))\n",
    "print(test(3))\n",
    "print(test(24))"
   ]
  },
  {
   "attachments": {},
   "cell_type": "markdown",
   "metadata": {},
   "source": [
    "Bu şekilde uğraşmak yerine;\n"
   ]
  },
  {
   "cell_type": "code",
   "execution_count": 59,
   "metadata": {},
   "outputs": [
    {
     "name": "stdout",
     "output_type": "stream",
     "text": [
      "True\n",
      "False\n",
      "False\n"
     ]
    }
   ],
   "source": [
    "test = lambda x : x > 10 and x < 20\n",
    "print(test(12))\n",
    "print(test(3))\n",
    "print(test(24))\n",
    "#Şeklinde de yapabiliriz aynı şeydir."
   ]
  },
  {
   "attachments": {},
   "cell_type": "markdown",
   "metadata": {},
   "source": [
    "Ama illaki kullanmamız şart ise kullanımı şu şekildedir:\n",
    "- ``Her if kendinden sonra illaki else ister.``"
   ]
  },
  {
   "attachments": {},
   "cell_type": "markdown",
   "metadata": {},
   "source": [
    "lambda parametre : döndürülecek değer1 if döndürülecek değer1'in koşulları else döndürülecek değer2 if döndürülecek değer2'nin koşulları else döndürülecek değer"
   ]
  },
  {
   "cell_type": "code",
   "execution_count": 66,
   "metadata": {},
   "outputs": [],
   "source": [
    "converter = lambda x : x*2 if x < 10 else (x*3 if x < 20 else x)"
   ]
  },
  {
   "cell_type": "code",
   "execution_count": 65,
   "metadata": {},
   "outputs": [
    {
     "name": "stdout",
     "output_type": "stream",
     "text": [
      "convert 5 to :  10\n",
      "convert 13 to :  39\n",
      "convert 23 to :  23\n"
     ]
    }
   ],
   "source": [
    "print('convert 5 to : ', converter(5))\n",
    "print('convert 13 to : ', converter(13))\n",
    "print('convert 23 to : ', converter(23))"
   ]
  },
  {
   "attachments": {},
   "cell_type": "markdown",
   "metadata": {},
   "source": [
    "         veya"
   ]
  },
  {
   "attachments": {},
   "cell_type": "markdown",
   "metadata": {},
   "source": [
    "lambda parametre : döndürülecek değer1 if döndürülecek değer1'in koşulları  else döndürülecek değer"
   ]
  },
  {
   "cell_type": "code",
   "execution_count": 68,
   "metadata": {},
   "outputs": [],
   "source": [
    "converter = lambda x : x*2 if x < 10 else x"
   ]
  },
  {
   "cell_type": "code",
   "execution_count": 69,
   "metadata": {},
   "outputs": [
    {
     "name": "stdout",
     "output_type": "stream",
     "text": [
      "convert 5 to :  10\n",
      "convert 13 to :  13\n",
      "convert 23 to :  23\n"
     ]
    }
   ],
   "source": [
    "print('convert 5 to : ', converter(5))\n",
    "print('convert 13 to : ', converter(13))\n",
    "print('convert 23 to : ', converter(23))"
   ]
  },
  {
   "cell_type": "code",
   "execution_count": 1,
   "metadata": {},
   "outputs": [
    {
     "name": "stdout",
     "output_type": "stream",
     "text": [
      "Çifttir\n",
      "11miş\n",
      "Tektir\n"
     ]
    }
   ],
   "source": [
    "cift_mi = lambda x : \"Çifttir\" if x % 2 ==0 else (\"11miş\" if x == 11 else \"Tektir\") \n",
    "print(cift_mi(6))\n",
    "print(cift_mi(11))\n",
    "print(cift_mi(7))"
   ]
  }
 ],
 "metadata": {
  "kernelspec": {
   "display_name": "Python 3",
   "language": "python",
   "name": "python3"
  },
  "language_info": {
   "codemirror_mode": {
    "name": "ipython",
    "version": 3
   },
   "file_extension": ".py",
   "mimetype": "text/x-python",
   "name": "python",
   "nbconvert_exporter": "python",
   "pygments_lexer": "ipython3",
   "version": "3.11.1"
  },
  "orig_nbformat": 4,
  "vscode": {
   "interpreter": {
    "hash": "b52f0326c461c572921985537a28c1464d6f232a21b63d1eb118623ecdbf8940"
   }
  }
 },
 "nbformat": 4,
 "nbformat_minor": 2
}
