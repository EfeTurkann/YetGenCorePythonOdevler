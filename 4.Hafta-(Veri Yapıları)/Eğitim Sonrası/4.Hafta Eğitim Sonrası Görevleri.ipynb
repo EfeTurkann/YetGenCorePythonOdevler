{
 "cells": [
  {
   "cell_type": "code",
   "execution_count": 22,
   "metadata": {},
   "outputs": [
    {
     "name": "stdout",
     "output_type": "stream",
     "text": [
      "{'Efennos': ['Hasan', 'Efe', 'Türkan']}\n"
     ]
    }
   ],
   "source": [
    "ogrenciler = {}\n",
    "ogrenciler.update({\"Efennos\" : [\"Hasan\" , \"Efe\" , \"Türkan\"]})\n",
    "print(ogrenciler)"
   ]
  },
  {
   "attachments": {},
   "cell_type": "markdown",
   "metadata": {},
   "source": [
    "# Problem 1\n",
    "`ogrenciler` adında bir sözlük oluşturunuz. Kullanıcıdan döngü yardımıyla 3 öğrenci için veri girmesini isteyerek öğrencilerin sırasıyla okul numarası, isim, soy isim, telefon numarası ve doğum tarihi bilgilerini alınız. Aldığınız öğrenci bilgilerini yine aynı döngü yardımıyla `ogrenciler` adındaki sözlükte saklayınız. Daha sonra öğrenci bilgilerinin bulunduğu sözlük yapısını ekrana bastırınız.\n",
    "\n"
   ]
  },
  {
   "cell_type": "code",
   "execution_count": 13,
   "metadata": {},
   "outputs": [
    {
     "name": "stdout",
     "output_type": "stream",
     "text": [
      "{'Okul No:': '5'} \n",
      "\n"
     ]
    }
   ],
   "source": [
    "ogrenciler = {}\n",
    "for i in range(3): #input işlemini 3 kez yap demek.Ayrı ayrı 3 kez aynı şeyleri yazmamak için böyle yaptık.\n",
    "    okul_no = input(\"öğrenci no: \")\n",
    "    isim = input(\"öğrenci adı: \")\n",
    "    soyisim = input(\"öğrenci soyad: \")\n",
    "    telefon_no = input(\"öğrenci telefon: \")\n",
    "    dogum_tarihi = input(\"ögenci dogum tarihi: \")\n",
    "    ogrenciler[i] = {\n",
    "        \"Okul No:\" : okul_no, \n",
    "        \"İsim: \" : isim,\n",
    "        \"Soyisim:\": soyisim,\n",
    "        \"Cep No: \" :telefon_no,\n",
    "        \"Doğum Tarihi\" : dogum_tarihi\n",
    "    }\n",
    "print(ogrenciler , \"\\n\")"
   ]
  },
  {
   "cell_type": "markdown",
   "metadata": {},
   "source": [
    "# Problem 2\n",
    "\n",
    "### a - Biraz ısınarak başlayalım!\n",
    "\n",
    "```\n",
    "numbers = [5,10,10,15,15,15,20,20,20,20]\n",
    "```\n",
    "\n",
    "Yukarıda `numbers` adında 10 elemanlı bir liste verilmiştir. Bu listenin her elemanını kontrol eden ve tekrar eden elemanları bir kez olacak şekilde başka bir listeye kopyalayan bir program yazınız. Son olarak oluşturduğunuz listeyi ekrana bastırınız.\n",
    "\n",
    "\n",
    "\n",
    "\n",
    "```\n",
    ">Output\n",
    "[5, 10, 15, 20]\n",
    "```\n"
   ]
  },
  {
   "cell_type": "code",
   "execution_count": 32,
   "metadata": {},
   "outputs": [
    {
     "name": "stdout",
     "output_type": "stream",
     "text": [
      "[5, 10, 15, 20]\n"
     ]
    }
   ],
   "source": [
    "numbers = [5,10,10,15,15,15,20,20,20,20]\n",
    "bosliste = []\n",
    "for i in numbers:\n",
    "    if i in bosliste:\n",
    "        continue\n",
    "    else:\n",
    "        bosliste.append(i)\n",
    "print(bosliste)\n",
    "\n"
   ]
  },
  {
   "cell_type": "markdown",
   "metadata": {},
   "source": [
    "### 🌶️ b) Hadi işi biraz daha zorlaştıralım! \n",
    "\n",
    "\n",
    "Şimdiyse senden `numbers` isimli listedeki tekrar eden elemanları `repeatNumbers` adındaki listeye; tekrar etmeyen elemanları `uniqueNumbers`adındaki listeye kopyalayan yazmanı ve listeleri ekrana bastırmanı bekliyoruz\n",
    "\n",
    "```\n",
    ">Output\n",
    "Tekrar Eden Elemanlar: [10, 10, 15, 15, 15, 20, 20, 20, 20]\n",
    "Tekrar Etmeyen Elemanlar: [5]\n",
    "```"
   ]
  },
  {
   "cell_type": "code",
   "execution_count": 33,
   "metadata": {},
   "outputs": [
    {
     "name": "stdout",
     "output_type": "stream",
     "text": [
      "[5, 10, 15, 20]\n"
     ]
    }
   ],
   "source": [
    "numbers = [5,10,10,15,15,15,20,20,20,20]\n",
    "repeatNumbers = []\n",
    "uniqueNumbers = []\n",
    "for i in numbers:\n",
    "    if i in uniqueNumbers:\n",
    "        continue\n",
    "    else:\n",
    "        uniqueNumbers.append(i)\n",
    "\n",
    "print(uniqueNumbers)"
   ]
  },
  {
   "cell_type": "markdown",
   "metadata": {},
   "source": [
    "# Problem 3\n",
    "sn1 = {1,2,3,4,5}\n",
    "\n",
    "sn2 = {4,5,6,7,8}\n",
    "\n",
    " Verilen 2 adet küme için kesişimlerini, farklarını ve birleşimlerini bulunuz. "
   ]
  },
  {
   "cell_type": "code",
   "execution_count": 14,
   "metadata": {},
   "outputs": [
    {
     "name": "stdout",
     "output_type": "stream",
     "text": [
      "Kesişim: {4, 5}\n",
      "sn1 - sn2: {1, 2, 3}\n",
      "sn2 - sn1: {8, 6, 7}\n",
      "Birleşim: {1, 2, 3, 4, 5, 6, 7, 8}\n"
     ]
    }
   ],
   "source": [
    "sn1 = {1, 2, 3, 4, 5}\n",
    "sn2 = {4, 5, 6, 7, 8}\n",
    "\n",
    "# Kesişim (ortak elemanlar)\n",
    "print(\"Kesişim:\", sn1 & sn2)\n",
    "\n",
    "# Farklar\n",
    "print(\"sn1 - sn2:\", sn1 - sn2)\n",
    "print(\"sn2 - sn1:\", sn2 - sn1)\n",
    "\n",
    "# Birleşim\n",
    "print(\"Birleşim:\", sn1 | sn2)\n"
   ]
  },
  {
   "cell_type": "markdown",
   "metadata": {},
   "source": [
    "# Problem 4\n",
    "\n",
    "Buradaki işlemlerimizin tamamı stringler içindir. Aşağıda verilecek olan metodlar için kendinizin örnek yaratması gerekmektedir. \n",
    "\n",
    "Örneğin `upper` için `string` değişkeni oluştururken` k = \"BAC\"` şeklinde oluşturmayınız. Bunun yerine k değişkenini `k = \"bac`\" şeklinde oluşturmanız `upper` metodundaki değişimi görebilmeniz için daha iyi olacaktır.\n",
    "\n",
    "Bütün metodlardaki değişimin gözle görülür şekilde değişimi beklenmektedir.\n",
    "\n",
    "\n",
    "1- capitalize(), lower(), upper(), swapcase(), title(), replace()\n",
    "\n",
    "2- endswith(), startswith(), find(), index(), count()\n",
    "\n",
    "3- split(), strip(), join(), islower(), isalpha(), isdigit()\n",
    "\n",
    "\n",
    "Yukarıdaki `string` metodlarındaki değişimleri görebildiğimiz bir program yazınız.\n"
   ]
  },
  {
   "cell_type": "code",
   "execution_count": 15,
   "metadata": {},
   "outputs": [
    {
     "name": "stdout",
     "output_type": "stream",
     "text": [
      "Merhaba dünya\n",
      "merhaba dünya\n",
      "MERHABA DÜNYA\n",
      "MERHABA DÜNYA\n",
      "Merhaba Dünya\n",
      "merhaba Python\n",
      "True\n",
      "False\n",
      "14\n",
      "14\n",
      "3\n",
      "['Python', 'programlama', 'dili']\n",
      "Python programlama dili\n",
      "Python-programlama-dili\n",
      "False\n",
      "False\n",
      "False\n"
     ]
    }
   ],
   "source": [
    "# 1- Metodlar: capitalize(), lower(), upper(), swapcase(), title(), replace()\n",
    "\n",
    "string = \"merhaba dünya\"\n",
    "\n",
    "# capitalize(): İlk harfi büyük yapar, diğerlerini küçültür.\n",
    "print(string.capitalize())  # \"Merhaba dünya\"\n",
    "\n",
    "# lower(): Tüm karakterleri küçük harfe dönüştürür.\n",
    "print(string.lower())  # \"merhaba dünya\"\n",
    "\n",
    "# upper(): Tüm karakterleri büyük harfe dönüştürür.\n",
    "print(string.upper())  # \"MERHABA DÜNYA\"\n",
    "\n",
    "# swapcase(): Küçük harfleri büyük harfe, büyük harfleri küçük harfe dönüştürür.\n",
    "print(string.swapcase())  # \"MERHABA DÜNYA\"\n",
    "\n",
    "# title(): Kelimelerin ilk harflerini büyük yapar.\n",
    "print(string.title())  # \"Merhaba Dünya\"\n",
    "\n",
    "# replace(): Belirtilen bir alt diziyi başka bir alt dizi ile değiştirir.\n",
    "print(string.replace(\"dünya\", \"Python\"))  # \"merhaba Python\"\n",
    "\n",
    "\n",
    "# 2- Metodlar: endswith(), startswith(), find(), index(), count()\n",
    "\n",
    "string = \"Python programlama dili\"\n",
    "\n",
    "# endswith(): Belirtilen alt dizi ile bitip bitmediğini kontrol eder.\n",
    "print(string.endswith(\"dili\"))  # True\n",
    "\n",
    "# startswith(): Belirtilen alt dizi ile başlayıp başlamadığını kontrol eder.\n",
    "print(string.startswith(\"Java\"))  # False\n",
    "\n",
    "# find(): Belirtilen alt dizinin konumunu döndürür, bulamazsa -1 döndürür.\n",
    "print(string.find(\"lama\"))  # 8\n",
    "\n",
    "# index(): Belirtilen alt dizinin konumunu döndürür, bulamazsa hata verir.\n",
    "print(string.index(\"lama\"))  # 8\n",
    "\n",
    "# count(): Belirtilen alt dizinin kaç kez geçtiğini sayar.\n",
    "print(string.count(\"a\"))  # 4\n",
    "\n",
    "\n",
    "# 3- Metodlar: split(), strip(), join(), islower(), isalpha(), isdigit()\n",
    "\n",
    "string = \"  Python programlama dili  \"\n",
    "\n",
    "# split(): Verilen ayraçla stringi bölüp bir liste döndürür.\n",
    "print(string.split())  # [\"Python\", \"programlama\", \"dili\"]\n",
    "\n",
    "# strip(): Başındaki ve sonundaki boşlukları temizler.\n",
    "print(string.strip())  # \"Python programlama dili\"\n",
    "\n",
    "# join(): Verilen bir listedeki elemanları birleştirir ve ayıraç olarak belirtilen string ile birleştirir.\n",
    "listem = [\"Python\", \"programlama\", \"dili\"]\n",
    "print(\"-\".join(listem))  # \"Python-programlama-dili\"\n",
    "\n",
    "# islower(): Tüm harflerin küçük olup olmadığını kontrol eder.\n",
    "print(string.islower())  # False\n",
    "\n",
    "# isalpha(): Tüm karakterlerin harf olup olmadığını kontrol eder.\n",
    "print(string.isalpha())  # False\n",
    "\n",
    "# isdigit(): Tüm karakterlerin sayı olup olmadığını kontrol eder.\n",
    "print(string.isdigit())  # False\n"
   ]
  }
 ],
 "metadata": {
  "kernelspec": {
   "display_name": "Python 3.10.5 64-bit",
   "language": "python",
   "name": "python3"
  },
  "language_info": {
   "codemirror_mode": {
    "name": "ipython",
    "version": 3
   },
   "file_extension": ".py",
   "mimetype": "text/x-python",
   "name": "python",
   "nbconvert_exporter": "python",
   "pygments_lexer": "ipython3",
   "version": "3.11.1"
  },
  "orig_nbformat": 4,
  "vscode": {
   "interpreter": {
    "hash": "5026d2d6e7aaaaba093def813beadff083d8733e4a511af01735cbabd156995d"
   }
  }
 },
 "nbformat": 4,
 "nbformat_minor": 2
}
