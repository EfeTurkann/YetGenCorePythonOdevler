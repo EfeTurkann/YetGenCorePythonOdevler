{
 "cells": [
  {
   "cell_type": "code",
   "execution_count": 18,
   "metadata": {},
   "outputs": [
    {
     "name": "stdout",
     "output_type": "stream",
     "text": [
      "['Chevrolet', 'Dacia']\n"
     ]
    }
   ],
   "source": [
    "# 20-  str = \"Chevrolet,Dacia\" karakter dizisini listeye çeviriniz.\n",
    "str = \"Chevrolet,Dacia\" \n",
    "print(str.split(\",\"))\n"
   ]
  },
  {
   "attachments": {},
   "cell_type": "markdown",
   "metadata": {},
   "source": [
    "---"
   ]
  },
  {
   "attachments": {},
   "cell_type": "markdown",
   "metadata": {},
   "source": [
    "#Set de olduğu gibi (update()) listeye de çoklu eleman ekleyebilir miyiz?"
   ]
  },
  {
   "cell_type": "code",
   "execution_count": 21,
   "metadata": {},
   "outputs": [
    {
     "name": "stdout",
     "output_type": "stream",
     "text": [
      "['Bmw', 'Mercedes', 'Toyota', 'Renault']\n",
      "['Bmw', 'Mercedes', 'Toyota', 'Renault', 'Audi', 'Nissan']\n"
     ]
    }
   ],
   "source": [
    "arabalar = ['Bmw','Mercedes','Opel','Mazda']\n",
    "# Listenin son 2 elemanı yerine \"Toyota\" ve \"Renault\" değerlerini ekleyin.\n",
    "arabalar[-2:] = [\"Toyota\",\"Renault\"]\n",
    "print(arabalar)\n",
    "# 8-  Listenin üzerine \"Audi\" ve \"Nissan\" değerlerini ekleyin.\n",
    "ekle = arabalar + [\"Audi\",\"Nissan\"]\n",
    "print(ekle)"
   ]
  },
  {
   "cell_type": "code",
   "execution_count": 5,
   "metadata": {},
   "outputs": [
    {
     "name": "stdout",
     "output_type": "stream",
     "text": [
      "['Asus', 'Casper', 'Monster']\n"
     ]
    }
   ],
   "source": [
    "markalar = list((\"Asus\" , \"Casper\"))\n",
    "marka = input(\"Lütfen listeye eklemen istediğiniz markayı giriniz\")\n",
    "markalar.append(marka)\n",
    "print(markalar)\n",
    "\n"
   ]
  },
  {
   "cell_type": "code",
   "execution_count": 19,
   "metadata": {},
   "outputs": [
    {
     "name": "stdout",
     "output_type": "stream",
     "text": [
      "['ASUS', 'MONSTER', 'CASPER']\n"
     ]
    }
   ],
   "source": [
    "# 23- Kullanıcıdan alacağınız 3 tane marka bilgisini bir listede saklayınız.\n",
    "markalar = []\n",
    "marka1  = input(\"Lütfen 1.Markayı giriniz.\")\n",
    "marka2  = input(\"Lütfen 2.Markayı giriniz.\")\n",
    "marka3  = input(\"Lütfen 3.Markayı giriniz.\")\n",
    "markalarGuncel = markalar + [marka1] + [marka2] + [marka3]\n",
    "print(markalarGuncel)"
   ]
  },
  {
   "cell_type": "code",
   "execution_count": 20,
   "metadata": {},
   "outputs": [
    {
     "name": "stdout",
     "output_type": "stream",
     "text": [
      "['ASUS', 'MONSTER', 'CASPER']\n"
     ]
    }
   ],
   "source": [
    "markalar = []\n",
    "\n",
    "marka = input(\"marka: \")\n",
    "markalar.append(marka)\n",
    "\n",
    "marka = input(\"marka: \")\n",
    "markalar.append(marka)\n",
    "\n",
    "marka = input(\"marka: \")\n",
    "markalar.append(marka)\n",
    "\n",
    "print(markalar)"
   ]
  },
  {
   "attachments": {},
   "cell_type": "markdown",
   "metadata": {},
   "source": [
    "---"
   ]
  },
  {
   "cell_type": "code",
   "execution_count": 2,
   "metadata": {},
   "outputs": [
    {
     "name": "stdout",
     "output_type": "stream",
     "text": [
      "['Adana', 'Ankara', 'Istanbul', 'Tekirdag', 'istanbul', 'İstanbul']\n"
     ]
    }
   ],
   "source": [
    "\n",
    "cities2 = [\"Ankara\" , \"Adana\" , \"Istanbul\" ,\"İstanbul\" , \"Tekirdag\", \"istanbul\" ]\n",
    "cities2.sort()\n",
    "print(cities2)  # Bu şekilde sıralamasının nedeni?\n"
   ]
  },
  {
   "attachments": {},
   "cell_type": "markdown",
   "metadata": {},
   "source": [
    "Bunun sebebi pythonun sort fonksiyonunun çalışma metodudur.Tam bir mantığı yoktur."
   ]
  },
  {
   "attachments": {},
   "cell_type": "markdown",
   "metadata": {},
   "source": [
    "-------"
   ]
  },
  {
   "attachments": {},
   "cell_type": "markdown",
   "metadata": {},
   "source": [
    "- Varsayılan olarak, sort() yöntemi, listeyi gerçek alfabetik sıra yerine ASCIIbetik sıraya göre sıralar. Bu, büyük harflerin küçük harflerden önce geldiği anlamına gelir."
   ]
  },
  {
   "cell_type": "code",
   "execution_count": 3,
   "metadata": {},
   "outputs": [
    {
     "name": "stdout",
     "output_type": "stream",
     "text": [
      "['Green', 'Red', 'blue', 'orange']\n"
     ]
    }
   ],
   "source": [
    "L = ['Red', 'blue', 'Green', 'orange']\n",
    "L.sort()\n",
    "print(L)"
   ]
  },
  {
   "attachments": {},
   "cell_type": "markdown",
   "metadata": {},
   "source": [
    "- Değerleri normal alfabetik sıraya göre sıralamak istiyorsanız, anahtarı str.lower olarak ayarlayın.Bu, sort() işlevinin listedeki değerleri fiilen değiştirmeden tüm liste öğelerini küçük harfmiş gibi ele almasına neden olur."
   ]
  },
  {
   "cell_type": "code",
   "execution_count": 5,
   "metadata": {},
   "outputs": [
    {
     "name": "stdout",
     "output_type": "stream",
     "text": [
      "['blue', 'Green', 'orange', 'Red']\n"
     ]
    }
   ],
   "source": [
    "L = ['Red', 'blue', 'Green', 'orange']\n",
    "L.sort(key=str.lower)\n",
    "print(L)\n"
   ]
  },
  {
   "attachments": {},
   "cell_type": "markdown",
   "metadata": {},
   "source": [
    "# sort() vs sorted()\n",
    "- sort() yöntemi hiçbir şey döndürmez, orijinal listeyi değiştirir (yani yerinde sıralar). Orijinal listeyi değiştirmek istemiyorsanız sorted() işlevini kullanın. Listenin sıralanmış bir kopyasını döndürür.Diğer bir fark ise sort() yönteminin yalnızca listeler için tanımlanmış olmasıdır. Bunun tersine, sorted() işlevi, tuple(demet), sözlük(dictionary) vb. yinelenebilirleri kabul eder. Ayrıca, sort() yönteminin yeni bir liste oluşturması gerekmez, bu nedenle ikisi arasında daha hızlıdır."
   ]
  },
  {
   "cell_type": "code",
   "execution_count": 7,
   "metadata": {},
   "outputs": [
    {
     "name": "stdout",
     "output_type": "stream",
     "text": [
      "['blue', 'green', 'orange', 'red']\n"
     ]
    }
   ],
   "source": [
    "# sorted() ile listenin sıralanmış bir kopyasını alın\n",
    "L = ['red', 'green', 'blue', 'orange']\n",
    "x = sorted(L)\n",
    "print(x)"
   ]
  },
  {
   "cell_type": "code",
   "execution_count": 12,
   "metadata": {},
   "outputs": [
    {
     "name": "stdout",
     "output_type": "stream",
     "text": [
      "['red', 'green', 'blue', 'orange']\n"
     ]
    }
   ],
   "source": [
    "print(L) #Orijinal liste değişmedi. "
   ]
  },
  {
   "cell_type": "code",
   "execution_count": 9,
   "metadata": {},
   "outputs": [
    {
     "name": "stdout",
     "output_type": "stream",
     "text": [
      "blue\n",
      "green\n",
      "orange\n",
      "red\n"
     ]
    }
   ],
   "source": [
    "# Orijinali değiştirmeden sıralanmış bir listeyi yineleyin.\n",
    "L = ['red', 'green', 'blue', 'orange']\n",
    "for x in sorted(L):\n",
    "    print(x)"
   ]
  },
  {
   "cell_type": "code",
   "execution_count": 13,
   "metadata": {},
   "outputs": [
    {
     "name": "stdout",
     "output_type": "stream",
     "text": [
      "['red', 'green', 'blue', 'orange']\n"
     ]
    }
   ],
   "source": [
    "print(L) #Orijinal liste değişmedi. "
   ]
  },
  {
   "attachments": {},
   "cell_type": "markdown",
   "metadata": {},
   "source": [
    "---"
   ]
  },
  {
   "attachments": {},
   "cell_type": "markdown",
   "metadata": {},
   "source": [
    "# set() fonksiyonu"
   ]
  },
  {
   "cell_type": "code",
   "execution_count": 29,
   "metadata": {},
   "outputs": [
    {
     "name": "stdout",
     "output_type": "stream",
     "text": [
      "{'c', 'b', 'a'}\n",
      "{'c', 'b', 'a'}\n"
     ]
    },
    {
     "data": {
      "text/plain": [
       "3"
      ]
     },
     "execution_count": 29,
     "metadata": {},
     "output_type": "execute_result"
    }
   ],
   "source": [
    "efe  = set(\"abc\") #\"abc\" bir settir(kümedir).Ve bu küme efe değişkenine eşittir.\n",
    "print(efe) \n",
    "# efe = {\"a\" , \"b\", \"c\"} diye tek tek yazarak uğraşmamak için böyle bir fonksiyon kullanıyoruz.HER İKİSİ DE AYNI SONUCU VERİR.\n",
    "efe = {\"a\" , \"b\", \"c\" }\n",
    "print(efe)\n",
    "len(efe)"
   ]
  }
 ],
 "metadata": {
  "kernelspec": {
   "display_name": "Python 3",
   "language": "python",
   "name": "python3"
  },
  "language_info": {
   "codemirror_mode": {
    "name": "ipython",
    "version": 3
   },
   "file_extension": ".py",
   "mimetype": "text/x-python",
   "name": "python",
   "nbconvert_exporter": "python",
   "pygments_lexer": "ipython3",
   "version": "3.11.1"
  },
  "orig_nbformat": 4
 },
 "nbformat": 4,
 "nbformat_minor": 2
}
