{
 "cells": [
  {
   "attachments": {},
   "cell_type": "markdown",
   "metadata": {},
   "source": [
    "# Problem 1 "
   ]
  },
  {
   "cell_type": "code",
   "execution_count": 1,
   "metadata": {},
   "outputs": [
    {
     "name": "stdout",
     "output_type": "stream",
     "text": [
      "[ 1 52 95  2 88]\n",
      "[ 1  2 52 88 95]\n"
     ]
    }
   ],
   "source": [
    "# 1 - numpy kütüphanesini import edin\n",
    "import numpy as np\n",
    "\n",
    "# 2 - 5 elemanlı bir numpy array oluşturun\n",
    "a = np.array([1,52,95,2,88])\n",
    "\n",
    "# 3 - Oluşturduğunuz arrayi küçükten büyüğe sıralayın.\n",
    "print(a)\n",
    "print(np.sort(a))"
   ]
  },
  {
   "attachments": {},
   "cell_type": "markdown",
   "metadata": {},
   "source": [
    "# Problem 2"
   ]
  },
  {
   "cell_type": "code",
   "execution_count": 15,
   "metadata": {},
   "outputs": [
    {
     "name": "stdout",
     "output_type": "stream",
     "text": [
      "1.Soru [10 15 30 45 60]\n",
      "2.Soru [ 5  6  7  8  9 10 11 12 13 14]\n",
      "3.Soru [50 55 60 65 70 75 80 85 90 95]\n",
      "4.Soru [0. 0. 0. 0. 0. 0. 0. 0. 0. 0.]\n",
      "5.Soru [1. 1. 1. 1. 1. 1. 1. 1. 1. 1.]\n",
      "6.Soru [  0.  25.  50.  75. 100.]\n",
      "7.Soru [26 29 11 12 11]\n",
      "8.Soru [ 0.47279364  0.35506713 -0.49020591 -0.15594421 -0.51766965 -0.13129288\n",
      " -0.57080976  0.8711958  -0.6952753   0.37612242]\n",
      "9.Soru [[29 24 35 17 14]\n",
      " [22 12 45 49 14]\n",
      " [27 18 47 43 37]]\n",
      "10.Soru 1-) [119 142 172]\n",
      "10.Soru 2-) [ 78  54 127 109  65]\n",
      "11.Soru 12 49 28.866666666666667\n",
      "12.Soru 8\n",
      "13.Soru [10 11 12 13 14 15 16 17 18 19] İlk Üç eleman= [10 11 12]\n",
      "14.Soru [19 18 17 16 15 14 13 12 11 10]\n",
      "15.Soru  [29 24 35 17 14]\n",
      "[[29 24 35 17 14]\n",
      " [22 12 45 49 14]\n",
      " [27 18 47 43 37]]\n",
      "16.Soru  45\n",
      "17.Soru  [29 22 27]\n",
      "18.Soru  [100 121 144 169 196 225 256 289 324 361]\n",
      "18.Soru 2  [100 121 144 169 196 225 256 289 324 361]\n",
      "19.Soru [ 2  4  6  8 10 12 14 16 18 20 22 24 26 28 30 32 34 36 38 40 42 44 46 48]\n"
     ]
    }
   ],
   "source": [
    "\n",
    "# 1- (10,15,30,45,60) değerlerine sahip numpy dizisi oluşturunuz.\n",
    "result = np.array([10,15,30,45,60])\n",
    "print(\"1.Soru\" , result)\n",
    "# 2- (5-15) arasındaki sayılarla numpy dizisi oluşturunuz.\n",
    "result = np.arange(5,15)\n",
    "print(\"2.Soru\" , result)\n",
    "# 3- (50-100) arasında 5'er 5'er artarak numpy dizisi oluşturunuz.\n",
    "result = np.arange(50,100,5)\n",
    "print(\"3.Soru\" , result)\n",
    "# 4- 10 elemanlı sıfırlardan oluşan bir dizi oluşturunuz.\n",
    "result = np.zeros(10)\n",
    "print(\"4.Soru\" , result)\n",
    "# 5- 10 elemanlı birlerden oluşan bir dizi oluşturunuz.\n",
    "result = np.ones(10)\n",
    "print(\"5.Soru\" , result)\n",
    "# 6- (0-100) arasında eşit aralıklı 5 sayı üretin.\n",
    "result = np.linspace(0,100,5)\n",
    "print(\"6.Soru\" , result)\n",
    "# 7- (10-30) arasında rastgele 5 tane tamsayı üretin.\n",
    "result= np.random.randint(10,30,size=5)\n",
    "print(\"7.Soru\" , result)\n",
    "# 8- [-1 ile 1] arasında 10 adet sayı üretin.\n",
    "result = np.random.uniform(-1,1,size=10)\n",
    "print(\"8.Soru\" , result)\n",
    "# 9- (3x5) boyutlarında (10-50) arasında rastgele bir matris oluşturunuz.\n",
    "result = np.random.randint(10,50,size=(3,5))\n",
    "print(\"9.Soru\" , result)\n",
    "# 10- Üretilen matrisin satır ve sütun sayıları toplamlarını hesaplayınız ?\n",
    "sum1 = result.sum(axis = 1)\n",
    "sum2 = result.sum(axis = 0)\n",
    "print(\"10.Soru 1-)\", sum1)\n",
    "print(\"10.Soru 2-)\" , sum2)\n",
    "# 11- Üretilen matrisin en büyük, en küçük ve ortalaması nedir ?\n",
    "print(\"11.Soru\",\n",
    "result.min(),\n",
    "result.max(),\n",
    "result.mean())\n",
    "# 12- Üretilen matrisin en büyük değerinin indeksi kaçtır ?\n",
    "print(\"12.Soru\" , result.argmax())\n",
    "# 13- (10-20) arasındaki sayıları içeren dizinin ilk 3 elemanını seçiniz.\n",
    "array = np.arange(10,20)\n",
    "print(\"13.Soru\", array , \"İlk Üç eleman=\" , array[:3])\n",
    "# 14- Üretilen dizinin elemanlarını tersten yazdırın.\n",
    "print(\"14.Soru\" , array[::-1])\n",
    "# 15- Üretilen matrisin ilk satırını seçiniz.\n",
    "print(\"15.Soru \", result[0])\n",
    "print(result)\n",
    "# 16- Üretilen matrisin 2.satır 3.sütundaki elemanı hangisidir ?\n",
    "print(\"16.Soru \", result[1,2])\n",
    "# 17- Üretilen matrisin tüm satırlardaki ilk elemanı seçiniz.\n",
    "print(\"17.Soru \", result[:,0])\n",
    "# 18- Üretilen matrisin her bir elemanının karesini alınız.\n",
    "print(\"18.Soru \" , array**2)\n",
    "print(\"18.Soru 2 \", np.power(array,2))\n",
    "# 19- Üretilen matris elemanlarının hangisi pozitif çift sayıdır ? Aralığı (-50,+50) arasında yapınız.\n",
    "son_soru = np.arange(-50,50)\n",
    "print(\"19.Soru\",\n",
    "son_soru[(son_soru % 2 ==0) & (son_soru >0)])"
   ]
  }
 ],
 "metadata": {
  "kernelspec": {
   "display_name": "Python 3",
   "language": "python",
   "name": "python3"
  },
  "language_info": {
   "codemirror_mode": {
    "name": "ipython",
    "version": 3
   },
   "file_extension": ".py",
   "mimetype": "text/x-python",
   "name": "python",
   "nbconvert_exporter": "python",
   "pygments_lexer": "ipython3",
   "version": "3.11.1"
  },
  "orig_nbformat": 4,
  "vscode": {
   "interpreter": {
    "hash": "5026d2d6e7aaaaba093def813beadff083d8733e4a511af01735cbabd156995d"
   }
  }
 },
 "nbformat": 4,
 "nbformat_minor": 2
}
