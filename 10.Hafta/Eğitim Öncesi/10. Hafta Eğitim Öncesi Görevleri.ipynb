{
 "cells": [
  {
   "attachments": {},
   "cell_type": "markdown",
   "metadata": {},
   "source": [
    "# Problem 1"
   ]
  },
  {
   "cell_type": "code",
   "execution_count": 9,
   "metadata": {},
   "outputs": [
    {
     "name": "stdout",
     "output_type": "stream",
     "text": [
      "[2 2 9 1 5]\n",
      "(5,)\n",
      "[[2]\n",
      " [2]\n",
      " [9]\n",
      " [1]\n",
      " [5]]\n",
      "1\n",
      "2\n"
     ]
    }
   ],
   "source": [
    "# 1 - numpy kütüphanesini import edin\n",
    "import numpy as np\n",
    "\n",
    "# 2 - 0 ile 10 arasında 5 sayıdan oluşan matris üretin\n",
    "b = np.random.randint(0,10,size=5)\n",
    "print(b)\n",
    "\n",
    "# 3 - matris'in boyutunu öğrenin\n",
    "print(b.shape)\n",
    "# 4 - matris'i yeniden boyutlandırın\n",
    "c = b.reshape(5,1)\n",
    "print(c)\n",
    "\n",
    "# 5 - matris'in boyut sayısını öğrenin\n",
    "print(b.ndim)\n",
    "print(c.ndim)"
   ]
  },
  {
   "attachments": {},
   "cell_type": "markdown",
   "metadata": {},
   "source": [
    "# Problem 2"
   ]
  },
  {
   "cell_type": "code",
   "execution_count": 28,
   "metadata": {},
   "outputs": [
    {
     "name": "stdout",
     "output_type": "stream",
     "text": [
      "[1 3 5 7 9]\n",
      "[1]\n",
      "[3 5]\n",
      "[7 9]\n",
      "[1 3 5 7 9]\n"
     ]
    }
   ],
   "source": [
    "# 1 - 0 ile 10 arasında bulunan tek sayılardan oluşan matris üretin\n",
    "a = np.arange(1,11,2)\n",
    "print(a)\n",
    "\n",
    "# 2 - Oluşturduğunuz matrisi parçalayın\n",
    "a,b,c = (np.split(a, [1,3])) \n",
    "print(a)\n",
    "print(b)\n",
    "print(c)\n",
    "# 3 - Parçalanmış matrisleri birleştirin\n",
    "print(np.concatenate([a,b,c]))\n"
   ]
  },
  {
   "attachments": {},
   "cell_type": "markdown",
   "metadata": {},
   "source": [
    "# Problem 3"
   ]
  },
  {
   "cell_type": "code",
   "execution_count": 35,
   "metadata": {},
   "outputs": [
    {
     "name": "stdout",
     "output_type": "stream",
     "text": [
      "[[43 81]\n",
      " [95 12]\n",
      " [73 31]\n",
      " [88 83]\n",
      " [38 69]]\n",
      "(5, 2)\n",
      "2\n",
      "10\n",
      "int32\n"
     ]
    }
   ],
   "source": [
    "# 1 - 5 ile 100 arasında ikişer ikişer atlayarak rastgele 10 sayıdan oluşan matris üretin\n",
    "a = np.random.randint(5,100,size=(5,2))\n",
    "print(a)\n",
    "# 2 - matris'in özelliklerini inceleyin\n",
    "print(a.shape)\n",
    "print(a.ndim)\n",
    "print(a.size)\n",
    "print(a.dtype)"
   ]
  }
 ],
 "metadata": {
  "kernelspec": {
   "display_name": "Python 3",
   "language": "python",
   "name": "python3"
  },
  "language_info": {
   "codemirror_mode": {
    "name": "ipython",
    "version": 3
   },
   "file_extension": ".py",
   "mimetype": "text/x-python",
   "name": "python",
   "nbconvert_exporter": "python",
   "pygments_lexer": "ipython3",
   "version": "3.11.1"
  },
  "orig_nbformat": 4,
  "vscode": {
   "interpreter": {
    "hash": "5026d2d6e7aaaaba093def813beadff083d8733e4a511af01735cbabd156995d"
   }
  }
 },
 "nbformat": 4,
 "nbformat_minor": 2
}
