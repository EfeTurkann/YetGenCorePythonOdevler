{
 "cells": [
  {
   "attachments": {},
   "cell_type": "markdown",
   "metadata": {},
   "source": [
    "# Numpy\n",
    "- Numpy sayısal işlemleri hızlı yapmak için C dili ile yazılmış bir Python kütüphanesidir.\n",
    "- Veri analizinde kullanılır.\n",
    "- Bilgisayar kurmak için ```pip insall numpy``` komutu ile kurulabilir.\n",
    "- Bilimsel hesaplamalar için kullanılır.\n",
    "- Arraylar(diziler) / çok boyutlu arrayler(matrisler) üzerinde yüksek performanslı işlemler yapılabilir.\n",
    "- Temelleri 1995 yılında atıldı. Ama nihai olarak 2005 yılında Travis Oliphant tarafından hayata geçmiştir.\n",
    "- Listelere benzerdir. Fakat verimli veri saklama ve vektör işlemleri için Numpy kullanılır."
   ]
  },
  {
   "cell_type": "code",
   "execution_count": null,
   "metadata": {},
   "outputs": [],
   "source": [
    "pip install numpy"
   ]
  },
  {
   "attachments": {},
   "cell_type": "markdown",
   "metadata": {},
   "source": [
    "### Dizi(array) ve liste farkları:"
   ]
  },
  {
   "attachments": {},
   "cell_type": "markdown",
   "metadata": {},
   "source": [
    "Python'da, dizi (array) ve liste (list) her ikisi de birden fazla öğenin saklanması için kullanılan veri yapılarıdır. Ancak, diziler ve listeler arasında bazı farklılıklar vardır:\n",
    "\n",
    "1.) Veri tipi: Diziler, homojen bir veri tipine sahip öğeleri tutmak için kullanılırken, listeler heterojen veri tipleri için kullanılabilir. Yani, bir dizi yalnızca tamsayıları veya yalnızca ondalık sayıları tutabilirken, bir listede hem tamsayılar hem de ondalık sayılar yer alabilir.\n",
    "\n",
    "2.) Bellek yönetimi: Diziler bellek yönetimi açısından daha verimlidir. Listeler, elemanları farklı bellek adreslerinde saklar ve bir listenin her elemanı, bellekte farklı bir konumda depolanırken, diziler bellekte ardışık bir alanda saklanır.\n",
    "\n",
    "3.) Boyut: Diziler tek boyutlu veya çok boyutlu olabilirken, listeler sadece tek boyutludur.\n",
    "\n",
    "4.) İşlemler: Diziler, matematiksel işlemleri yapmak için uygun bir şekilde tasarlanmıştır. Bu nedenle, NumPy ve diğer kütüphaneler dizileri kullanarak veri işleme işlemlerini gerçekleştirmek için kullanılır. Listeler ise genellikle öğelerin eklenmesi, çıkarılması, sıralanması, aranması gibi işlemler için kullanılır.\n",
    "\n",
    "Özetle, diziler ve listeler arasındaki temel fark, veri tipi, bellek yönetimi, boyut ve işlemlerdir. Diziler homojen veriler için daha uygundurken, listeler heterojen veriler için daha uygundur ve her ikisi de farklı veri işleme ihtiyaçlarına yöneliktir."
   ]
  },
  {
   "cell_type": "code",
   "execution_count": 13,
   "metadata": {},
   "outputs": [
    {
     "name": "stdout",
     "output_type": "stream",
     "text": [
      "([1, 2, 3], [4, 5, 6])\n"
     ]
    }
   ],
   "source": [
    "my_list = ([1, 2, 3], [4, 5, 6])\n",
    "print(my_list)"
   ]
  },
  {
   "cell_type": "code",
   "execution_count": 12,
   "metadata": {},
   "outputs": [
    {
     "name": "stdout",
     "output_type": "stream",
     "text": [
      "[[1 2 3]\n",
      " [4 5 6]]\n"
     ]
    }
   ],
   "source": [
    "\n",
    "my_array = np.array([[1, 2, 3], [4, 5, 6]])\n",
    "print(my_array)\n"
   ]
  },
  {
   "cell_type": "code",
   "execution_count": 4,
   "metadata": {},
   "outputs": [
    {
     "name": "stdout",
     "output_type": "stream",
     "text": [
      "Dizi:  [1 2 3 4 5]\n",
      "Dizinin boyutu:  (5,)\n",
      "Dizinin veri tipi:  int32\n",
      "Liste:  [1, 'iki', 3.0, 'dört', 5]\n",
      "Listenin boyutu:  5\n",
      "Dizinin karesi:  [ 1  4  9 16 25]\n",
      "Listeye 'altı' eklendi:  [1, 'iki', 3.0, 'dört', 5, 'altı']\n",
      "Listeden 'iki' çıkarıldı:  [1, 3.0, 'dört', 5, 'altı']\n"
     ]
    }
   ],
   "source": [
    "# bir dizi (array) oluşturma\n",
    "my_array = np.array([1, 2, 3, 4, 5])\n",
    "print(\"Dizi: \", my_array)\n",
    "print(\"Dizinin boyutu: \", my_array.shape)\n",
    "print(\"Dizinin veri tipi: \", my_array.dtype)\n",
    "\n",
    "# bir liste (list) oluşturma\n",
    "my_list = [1, \"iki\", 3.0, \"dört\", 5]\n",
    "print(\"Liste: \", my_list)\n",
    "print(\"Listenin boyutu: \", len(my_list))\n",
    "\n",
    "# dizi ile matematiksel işlem yapma\n",
    "my_array_squared = my_array ** 2\n",
    "print(\"Dizinin karesi: \", my_array_squared)\n",
    "\n",
    "# listenin öğelerini ekleme ve silme\n",
    "my_list.append(\"altı\")\n",
    "print(\"Listeye 'altı' eklendi: \", my_list)\n",
    "\n",
    "my_list.remove(\"iki\")\n",
    "print(\"Listeden 'iki' çıkarıldı: \", my_list)\n"
   ]
  },
  {
   "attachments": {},
   "cell_type": "markdown",
   "metadata": {},
   "source": [
    "Bu örnekte, bir dizi ve bir liste oluşturduk. Dizinin elemanları tam sayı, liste ise hem tam sayı hem de string ifadeler içeriyor. Dizinin boyutunu shape özelliği ile kontrol ederken, listenin boyutunu len fonksiyonu ile kontrol ettik. Dizi için matematiksel bir işlem yaparken, listenin elemanlarını ekleyip ve çıkardık. Bu örnek, dizilerin matematiksel işlemler için daha uygun olduğunu ve listelerin veri ekleme ve çıkarma işlemleri için daha uygun olduğunu göstermektedir."
   ]
  },
  {
   "attachments": {},
   "cell_type": "markdown",
   "metadata": {},
   "source": [
    "----"
   ]
  },
  {
   "attachments": {},
   "cell_type": "markdown",
   "metadata": {},
   "source": [
    "## Array ve matris farkı nedir?"
   ]
  },
  {
   "attachments": {},
   "cell_type": "markdown",
   "metadata": {},
   "source": [
    "Python'da bir dizi, tek boyutlu bir veri yapısıdır. Bu dizi, aynı veri türünden elemanları içerir ve indeksleme yöntemi kullanılarak erişilebilir.\n",
    "\n",
    "Bir matris ise, iki boyutlu bir veri yapısıdır ve satır ve sütunlardan oluşur. Matrisler, aynı veri türünden elemanları içerir ve bir öğenin konumu, satır ve sütun indeksleri kullanılarak belirlenir. Matrisler, bir dizi gibi düzgün bir şekilde düzenlenmiş bir veri yapısıdır ve matematiksel işlemler için kullanılabilirler.\n",
    "\n",
    "Python'da, bir dizi oluşturmak için array modülünü kullanabilirsiniz, ancak bu sadece tek boyutlu bir dizi oluşturur. Matrisler için ise, numpy modülü kullanılabilir. numpy modülü, matrislerin yanı sıra çok boyutlu diziler için de kullanılabilir."
   ]
  },
  {
   "attachments": {},
   "cell_type": "markdown",
   "metadata": {},
   "source": [
    "Python'da, bir dizi (array) veya matris (matrix) kullanarak çok boyutlu verileri temsil edebilirsiniz.\n",
    "\n",
    "Bir dizi, aynı türdeki öğelerin sıralı bir koleksiyonudur. Örneğin, bir dizi içinde tam sayılar, ondalık sayılar veya karakterler gibi veri tipleri yer alabilir. NumPy gibi kütüphaneler, Python'da dizileri işlemek için kullanılabilir.\n",
    "\n",
    "Bir matris, iki boyutlu bir dizi olarak düşünülebilir ve bu nedenle aynı türdeki öğelerin düzenli bir şekilde yer aldığı bir koleksiyondur. Bir matris, satırlar ve sütunlar olmak üzere iki boyutlu bir indekslemeye sahiptir ve bu şekilde elemanlarına erişilebilir. Örneğin, bir matris içinde tamsayılar, ondalık sayılar veya karmaşık sayılar gibi veri tipleri yer alabilir. NumPy kütüphanesi, Python'da matrisleri işlemek için kullanılabilir.\n",
    "\n",
    "Özetle, dizi tek boyutlu bir veri koleksiyonunu, matris ise iki boyutlu bir veri koleksiyonunu ifade eder."
   ]
  },
  {
   "attachments": {},
   "cell_type": "markdown",
   "metadata": {},
   "source": [
    "Bir örnek ile açıklamak gerekirse:"
   ]
  },
  {
   "cell_type": "code",
   "execution_count": 23,
   "metadata": {},
   "outputs": [
    {
     "name": "stdout",
     "output_type": "stream",
     "text": [
      "Array:  [1 2 3 4 5]\n",
      "Array boyutu:  (5,)\n",
      "Matris: \n",
      "[[1 2 3]\n",
      " [4 5 6]\n",
      " [7 8 9]]\n",
      "Matris boyutu:  (3, 3)\n"
     ]
    }
   ],
   "source": [
    "import numpy as np\n",
    "\n",
    "# bir array (dizi) oluşturma\n",
    "my_array = np.array([1, 2, 3, 4, 5])\n",
    "print(\"Array: \", my_array)\n",
    "print(\"Array boyutu: \", my_array.shape)\n",
    "\n",
    "# bir matris (matrix) oluşturma\n",
    "my_matrix = np.array([[1, 2, 3], [4, 5, 6], [7, 8, 9]])\n",
    "print(\"Matris: \")\n",
    "print(my_matrix)\n",
    "print(\"Matris boyutu: \", my_matrix.shape)\n"
   ]
  },
  {
   "attachments": {},
   "cell_type": "markdown",
   "metadata": {},
   "source": [
    "## Matrisleri İsimlendirme\n"
   ]
  },
  {
   "attachments": {},
   "cell_type": "markdown",
   "metadata": {},
   "source": [
    "![Image](https://cdn.programiz.com/sites/tutorial2program/files/matrix.jpg)"
   ]
  },
  {
   "attachments": {},
   "cell_type": "markdown",
   "metadata": {},
   "source": [
    "![Image](https://www.guru99.com/images/2/062620_0641_PythonMatri1.png)"
   ]
  },
  {
   "attachments": {},
   "cell_type": "markdown",
   "metadata": {},
   "source": [
    "``\n",
    "*Önce row(satır) sayısı,sonra column(sütun)sayısı yazılır.*\n",
    "``"
   ]
  },
  {
   "attachments": {},
   "cell_type": "markdown",
   "metadata": {},
   "source": [
    "Python'da, birden fazla boyutu olan dizilere (arrays) \"çok boyutlu diziler\" denir. NumPy kütüphanesi, Python'da çok boyutlu dizileri kullanmak için yaygın bir araçtır.\n",
    "\n",
    "Örneğin, 2x3 boyutlu bir dizi(array) şu şekilde oluşturulabilir:"
   ]
  },
  {
   "cell_type": "code",
   "execution_count": 3,
   "metadata": {},
   "outputs": [
    {
     "name": "stdout",
     "output_type": "stream",
     "text": [
      "[[1 2 3]\n",
      " [4 5 6]]\n"
     ]
    }
   ],
   "source": [
    "\n",
    "my_array = np.array([[1, 2, 3], [4, 5, 6]])\n",
    "print(my_array)\n"
   ]
  },
  {
   "cell_type": "code",
   "execution_count": 11,
   "metadata": {},
   "outputs": [
    {
     "name": "stdout",
     "output_type": "stream",
     "text": [
      "([1, 2, 3], [4, 5, 6])\n"
     ]
    }
   ],
   "source": [
    "my_list = ([1, 2, 3], [4, 5, 6])\n",
    "print(my_list)"
   ]
  },
  {
   "attachments": {},
   "cell_type": "markdown",
   "metadata": {},
   "source": [
    "Bu örnekte, np.array() fonksiyonu ile bir 2x3 ``(Önce row(satır),daha sonra column(sütun)sayısı yazılır.)`` boyutlu bir dizi oluşturuldu. İç içe iki liste kullanarak her satırın elemanlarını belirttik. Dizinin her bir öğesi, [satır, sütun] şeklinde bir indeksleme kullanılarak erişilebilir. Örneğin, my_array[0, 1] ifadesi, ilk satırın ikinci sütunundaki öğeye erişecektir ve 2 sonucunu verecektir."
   ]
  },
  {
   "attachments": {},
   "cell_type": "markdown",
   "metadata": {},
   "source": [
    "# Neden Numpy?"
   ]
  },
  {
   "cell_type": "code",
   "execution_count": 18,
   "metadata": {},
   "outputs": [
    {
     "name": "stdout",
     "output_type": "stream",
     "text": [
      "0 . dolaşma\n",
      "1 . dolaşma\n",
      "2 . dolaşma\n",
      "3 . dolaşma\n",
      "4 kez dolaştım.\n",
      "[2, 6, 12, 20]\n"
     ]
    }
   ],
   "source": [
    "#KLasik Yöntem\n",
    "a = [1,2,3,4]\n",
    "b = [2,3,4,5]\n",
    "c = 0\n",
    "ab = []\n",
    "for i in range(0, len(a)):\n",
    "    print(i,\". dolaşma\")\n",
    "    c+=1\n",
    "    ab.append(a[i] * b[i])\n",
    "print(c,\"kez dolaştım.\")\n",
    "print(ab)"
   ]
  },
  {
   "cell_type": "code",
   "execution_count": 4,
   "metadata": {},
   "outputs": [
    {
     "name": "stdout",
     "output_type": "stream",
     "text": [
      "[1 2 3 4]\n",
      "[2 3 4 5]\n",
      "[ 2  6 12 20]\n"
     ]
    }
   ],
   "source": [
    "#Numpy Metodu\n",
    "import numpy as np #np olarak çağırabileyim.Kısaltma olarak np koydum.\n",
    "a = np.array([1,2,3,4]) #Numpy'da array oluştururken np.array yöntemi kullanılır.\n",
    "print(a)\n",
    "b = np.array([2,3,4,5])\n",
    "print(b)\n",
    "print(a*b)"
   ]
  },
  {
   "attachments": {},
   "cell_type": "markdown",
   "metadata": {},
   "source": [
    "## Numpy Fonksiyonları"
   ]
  },
  {
   "attachments": {},
   "cell_type": "markdown",
   "metadata": {},
   "source": [
    ".reshape() : arraylerin veya matrislerin boyutunu değiştirir."
   ]
  },
  {
   "cell_type": "code",
   "execution_count": 25,
   "metadata": {},
   "outputs": [
    {
     "name": "stdout",
     "output_type": "stream",
     "text": [
      "[1 2 3 4 5 6 7 8 9]\n",
      "[[1 2 3]\n",
      " [4 5 6]\n",
      " [7 8 9]]\n"
     ]
    }
   ],
   "source": [
    "x = np.array([1,2,3,4,5,6,7,8,9]) # 1 boyutlu bir array'dir. Boyutu 9'dur, yani içinde dokuz eleman bulunur.\n",
    "#x bir sütun matrisi (9x1) değil, tek boyutlu bir dizi veya vektördür (1x9)(önce satır sonra sütun)\n",
    "# Ancak biz 1x9 demek yerine böyle arraylere 9'a 0'lık(9, ) array deriz.\n",
    "print(x)\n",
    "multi = x.reshape(3,3) #multi ise 2 boyutlu bir matristir.(çok boyutlu bir arraydir.)\n",
    "#3x3'lük(3,3) bir matristir.(3satır,3 sütun)\n",
    "print(multi)\n",
    "#Aslında biz burda bir arrayı matrise çevirdik."
   ]
  },
  {
   "attachments": {},
   "cell_type": "markdown",
   "metadata": {},
   "source": [
    ".shape : arraylerin veya matrislerin boyutlarını verir.(...x...) şeklinde    "
   ]
  },
  {
   "cell_type": "code",
   "execution_count": 29,
   "metadata": {},
   "outputs": [
    {
     "name": "stdout",
     "output_type": "stream",
     "text": [
      "(9,)\n"
     ]
    }
   ],
   "source": [
    "print(x.shape)"
   ]
  },
  {
   "cell_type": "code",
   "execution_count": 27,
   "metadata": {},
   "outputs": [
    {
     "name": "stdout",
     "output_type": "stream",
     "text": [
      "(3, 3)\n"
     ]
    }
   ],
   "source": [
    "print(multi.shape)"
   ]
  },
  {
   "attachments": {},
   "cell_type": "markdown",
   "metadata": {},
   "source": [
    "ndim : Arraylerin veya Matrislerin  boyut sayısını verir.(Kaç boyutlu olduğu söyler.)  "
   ]
  },
  {
   "cell_type": "code",
   "execution_count": 20,
   "metadata": {},
   "outputs": [
    {
     "name": "stdout",
     "output_type": "stream",
     "text": [
      "1\n"
     ]
    }
   ],
   "source": [
    "print(x.ndim) #1 boyutludur."
   ]
  },
  {
   "cell_type": "code",
   "execution_count": 21,
   "metadata": {},
   "outputs": [
    {
     "name": "stdout",
     "output_type": "stream",
     "text": [
      "2\n"
     ]
    }
   ],
   "source": [
    "print(multi.ndim) #2 boyutludur.\n",
    "# 2 boyutlu matris\n",
    "#       veya\n",
    "# 2 boyutlu array\n",
    "# diyebiliriz.Her ikisi de aynı anlama gelir."
   ]
  },
  {
   "attachments": {},
   "cell_type": "markdown",
   "metadata": {},
   "source": [
    "# Birleştirme (Concatenation)\n",
    "- .concatenate() fonksiyonu ile birleştirme yapabiliriz.Örneğin elimizde 2 tane numpy arrayi olsun,biz bu 2 arrayi birleştirmek için kullanırız."
   ]
  },
  {
   "cell_type": "code",
   "execution_count": 33,
   "metadata": {},
   "outputs": [
    {
     "name": "stdout",
     "output_type": "stream",
     "text": [
      "[1 2 3 4 5]\n",
      "[ 6  7  8  9 10]\n",
      "[ 1  2  3  4  5  6  7  8  9 10]\n"
     ]
    }
   ],
   "source": [
    "x = np.array([1,2,3,4,5])\n",
    "print(x)\n",
    "y = np.array([6,7,8,9,10])\n",
    "print(y) # Bunu ayrık yazmasının sebebi içinde 2 basamaklı bir sayı bulunmasıdır.\n",
    "print(np.concatenate([x, y]))"
   ]
  },
  {
   "attachments": {},
   "cell_type": "markdown",
   "metadata": {},
   "source": [
    "---"
   ]
  },
  {
   "attachments": {},
   "cell_type": "markdown",
   "metadata": {},
   "source": [
    "- Bunu ayrık yazmasının sebebi içinde 2 basamaklı bir sayı bulunmasıdır."
   ]
  },
  {
   "cell_type": "code",
   "execution_count": 36,
   "metadata": {},
   "outputs": [
    {
     "name": "stdout",
     "output_type": "stream",
     "text": [
      "[6 7 8 9]\n",
      "[ 6  7  8  9 10]\n",
      "[11 12 13 14]\n"
     ]
    }
   ],
   "source": [
    "y = np.array([6,7,8,9])\n",
    "print(y)\n",
    "y = np.array([6,7,8,9,10])\n",
    "print(y)"
   ]
  },
  {
   "attachments": {},
   "cell_type": "markdown",
   "metadata": {},
   "source": [
    "-------"
   ]
  },
  {
   "attachments": {},
   "cell_type": "markdown",
   "metadata": {},
   "source": [
    "-----"
   ]
  },
  {
   "cell_type": "code",
   "execution_count": 60,
   "metadata": {},
   "outputs": [
    {
     "name": "stdout",
     "output_type": "stream",
     "text": [
      "[11 12 13 14 15]\n"
     ]
    }
   ],
   "source": [
    "z = np.array([11,12,13,14,15])\n",
    "print(z) #Bir boyutlu array."
   ]
  },
  {
   "cell_type": "code",
   "execution_count": 61,
   "metadata": {},
   "outputs": [
    {
     "name": "stdout",
     "output_type": "stream",
     "text": [
      "[[11 12 13 14 15]]\n"
     ]
    }
   ],
   "source": [
    "z = np.array([[11,12,13,14,15]])\n",
    "print(z) #İki boyutlu array."
   ]
  },
  {
   "cell_type": "code",
   "execution_count": 63,
   "metadata": {},
   "outputs": [
    {
     "ename": "TypeError",
     "evalue": "Field elements must be 2- or 3-tuples, got '4'",
     "output_type": "error",
     "traceback": [
      "\u001b[1;31m---------------------------------------------------------------------------\u001b[0m",
      "\u001b[1;31mTypeError\u001b[0m                                 Traceback (most recent call last)",
      "Cell \u001b[1;32mIn[63], line 1\u001b[0m\n\u001b[1;32m----> 1\u001b[0m a \u001b[39m=\u001b[39m np\u001b[39m.\u001b[39;49marray([\u001b[39m1\u001b[39;49m,\u001b[39m2\u001b[39;49m,\u001b[39m3\u001b[39;49m], [\u001b[39m4\u001b[39;49m,\u001b[39m5\u001b[39;49m,\u001b[39m6\u001b[39;49m])\n\u001b[0;32m      2\u001b[0m \u001b[39mprint\u001b[39m(a)\n\u001b[0;32m      3\u001b[0m \u001b[39m#Yani böyle yaparsan hata alırsın.Sen bana 2 boyutlu bir şey verdin\u001b[39;00m\n\u001b[0;32m      4\u001b[0m \u001b[39m#Ama tek köşeli parantez([]) kullanarak bunun tek boyutlu olduğunu söylüyorsun der.\u001b[39;00m\n",
      "\u001b[1;31mTypeError\u001b[0m: Field elements must be 2- or 3-tuples, got '4'"
     ]
    }
   ],
   "source": [
    "a = np.array([1,2,3], [4,5,6])\n",
    "print(a)\n",
    "#Yani böyle yaparsan hata alırsın.Sen bana 2 boyutlu bir şey verdin\n",
    "#Ama tek köşeli parantez([]) kullanarak bunun tek boyutlu olduğunu söylüyorsun der."
   ]
  },
  {
   "cell_type": "code",
   "execution_count": 24,
   "metadata": {},
   "outputs": [
    {
     "name": "stdout",
     "output_type": "stream",
     "text": [
      "[[1 2 3]\n",
      " [4 5 6]]\n"
     ]
    }
   ],
   "source": [
    "a = np.array([[1,2,3], [4,5,6]])\n",
    "print(a) #Sorunu iki tane [[]] kullanarak çözdük."
   ]
  },
  {
   "attachments": {},
   "cell_type": "markdown",
   "metadata": {},
   "source": [
    "-----"
   ]
  },
  {
   "cell_type": "code",
   "execution_count": 2,
   "metadata": {},
   "outputs": [],
   "source": [
    "import numpy as np"
   ]
  },
  {
   "cell_type": "code",
   "execution_count": 58,
   "metadata": {},
   "outputs": [
    {
     "name": "stdout",
     "output_type": "stream",
     "text": [
      "[ 1  2  3  4  5 11 12 13 14 11 12 13 14 15]\n"
     ]
    }
   ],
   "source": [
    "z = np.array([11,12,13,14,15])\n",
    "print(np.concatenate([x, y, z]))"
   ]
  },
  {
   "cell_type": "code",
   "execution_count": 3,
   "metadata": {},
   "outputs": [
    {
     "name": "stdout",
     "output_type": "stream",
     "text": [
      "[[1 2 3]\n",
      " [4 5 6]]\n"
     ]
    }
   ],
   "source": [
    "a = np.array([[1,2,3], [4,5,6]])\n",
    "print(a)\n"
   ]
  },
  {
   "cell_type": "code",
   "execution_count": 4,
   "metadata": {},
   "outputs": [
    {
     "name": "stdout",
     "output_type": "stream",
     "text": [
      "[[7 8 9]]\n"
     ]
    }
   ],
   "source": [
    "b = np.array([[7,8,9]])\n",
    "print(b)"
   ]
  },
  {
   "cell_type": "code",
   "execution_count": 5,
   "metadata": {},
   "outputs": [
    {
     "name": "stdout",
     "output_type": "stream",
     "text": [
      "[[1 2 3]\n",
      " [4 5 6]\n",
      " [7 8 9]]\n"
     ]
    }
   ],
   "source": [
    "print(np.concatenate([a,b])) \n"
   ]
  },
  {
   "cell_type": "code",
   "execution_count": 6,
   "metadata": {},
   "outputs": [
    {
     "name": "stdout",
     "output_type": "stream",
     "text": [
      "[[1 2 3]\n",
      " [4 5 6]\n",
      " [1 2 3]\n",
      " [4 5 6]]\n"
     ]
    }
   ],
   "source": [
    "print(np.concatenate([a,a])) "
   ]
  },
  {
   "attachments": {},
   "cell_type": "markdown",
   "metadata": {},
   "source": [
    "axis = 0 ise satır bazında birleştirme yapar.(Dikey olarak)\n",
    "\n",
    "axis = 1 ise sütun bazında birleştirme yapar.(Yatay olarak)"
   ]
  },
  {
   "cell_type": "code",
   "execution_count": 21,
   "metadata": {},
   "outputs": [
    {
     "name": "stdout",
     "output_type": "stream",
     "text": [
      "[[ 7  8  9]\n",
      " [10 11 12]]\n"
     ]
    }
   ],
   "source": [
    "c = np.array([[7,8,9], [10,11,12]])\n",
    "print(c)"
   ]
  },
  {
   "cell_type": "code",
   "execution_count": 10,
   "metadata": {},
   "outputs": [
    {
     "name": "stdout",
     "output_type": "stream",
     "text": [
      "[[ 1  2  3]\n",
      " [ 4  5  6]\n",
      " [ 7  8  9]\n",
      " [10 11 12]]\n"
     ]
    }
   ],
   "source": [
    "print(np.concatenate([a,c], axis=0))"
   ]
  },
  {
   "attachments": {},
   "cell_type": "markdown",
   "metadata": {},
   "source": [
    "```\n",
    "EVET DİKEY VE YATAYLAR DOĞRU YAZILDI.TERS MANTIK VAR.\n",
    "** AXİS = 0 DEDİĞİNDE:\n",
    "1.DİZİ İÇİN:\n",
    "[0][0]   [0][1]\n",
    "[1][0]   [1][1]\n",
    "[2][0]   [2][1]\n",
    "....\n",
    "....\n",
    "SATIR BİTENE KADAR\n",
    "2.DİZİ İÇİN:\n",
    "[0][0]   [0][1]\n",
    "[1][0]   [1][1]\n",
    "[2][0]   [2][1]\n",
    "....\n",
    "....\n",
    "SATIR BİTENE KADAR\n",
    "** AXİS = 1 DEDİĞİNDE:\n",
    "1.DİZİ İÇİN:                                     2.DİZİ İÇİN:\n",
    "[0][0] [0][1] [0][2]...SÜTUN SAYISI BİTENE DEK.. [0][0] [0][1] [0][2]\n",
    "[0][0] [0][1] [0][2]...SÜTUN SAYISI BİTENE DEK.. [0][0] [0][1] [0][2]\n",
    "\n",
    "\n",
    "\n",
    "```"
   ]
  },
  {
   "cell_type": "code",
   "execution_count": null,
   "metadata": {},
   "outputs": [],
   "source": [
    "[[ 1  2  3  7  8  9]\n",
    " [ 4  5  6 10 11 12]]"
   ]
  },
  {
   "cell_type": "code",
   "execution_count": 17,
   "metadata": {},
   "outputs": [
    {
     "name": "stdout",
     "output_type": "stream",
     "text": [
      "[[1 2 3]\n",
      " [4 5 6]\n",
      " [1 2 3]\n",
      " [4 5 6]]\n"
     ]
    }
   ],
   "source": [
    "print(np.concatenate([a,a], axis=0))"
   ]
  },
  {
   "cell_type": "code",
   "execution_count": 19,
   "metadata": {},
   "outputs": [
    {
     "name": "stdout",
     "output_type": "stream",
     "text": [
      "[[1 2 3]\n",
      " [4 5 6]]\n",
      "-----------\n",
      "[[ 7  8  9]\n",
      " [10 11 12]]\n"
     ]
    }
   ],
   "source": [
    "print(a)\n",
    "print(\"-----------\")\n",
    "print(c)"
   ]
  },
  {
   "cell_type": "code",
   "execution_count": 18,
   "metadata": {},
   "outputs": [
    {
     "name": "stdout",
     "output_type": "stream",
     "text": [
      "[[ 1  2  3  7  8  9]\n",
      " [ 4  5  6 10 11 12]]\n"
     ]
    }
   ],
   "source": [
    "print(np.concatenate([a,c], axis=1))"
   ]
  },
  {
   "cell_type": "code",
   "execution_count": 12,
   "metadata": {},
   "outputs": [
    {
     "name": "stdout",
     "output_type": "stream",
     "text": [
      "[[1 2 3 1 2 3]\n",
      " [4 5 6 4 5 6]]\n"
     ]
    }
   ],
   "source": [
    "print(np.concatenate([a,a], axis=1))"
   ]
  },
  {
   "attachments": {},
   "cell_type": "markdown",
   "metadata": {},
   "source": [
    "# Array Ayırma (Splitting)"
   ]
  },
  {
   "attachments": {},
   "cell_type": "markdown",
   "metadata": {},
   "source": [
    "## .split() fonksiyonu ile array ayırma yapabiliriz."
   ]
  },
  {
   "cell_type": "code",
   "execution_count": 55,
   "metadata": {},
   "outputs": [
    {
     "name": "stdout",
     "output_type": "stream",
     "text": [
      "[1 2 3 4 5 6 7 8 9]\n",
      "1\n",
      "2\n",
      "3\n",
      "4\n",
      "5\n",
      "6\n",
      "7\n",
      "8\n",
      "9\n"
     ]
    }
   ],
   "source": [
    "m = np.array([1,2,3,4,5,6,7,8,9])\n",
    "print(m)\n",
    "print(m[0])\n",
    "print(m[1])\n",
    "print(m[2])\n",
    "print(m[3])\n",
    "print(m[4])\n",
    "print(m[5])\n",
    "print(m[6])\n",
    "print(m[7])\n",
    "print(m[8])"
   ]
  },
  {
   "cell_type": "code",
   "execution_count": 50,
   "metadata": {},
   "outputs": [
    {
     "name": "stdout",
     "output_type": "stream",
     "text": [
      "[array([1, 2, 3]), array([4, 5]), array([6, 7, 8, 9])]\n"
     ]
    }
   ],
   "source": [
    "print(np.split(m, [3,5])) #3.elemandan(indexten) 5.elemana(indexe) kadar.(5 dahil değil.)"
   ]
  },
  {
   "cell_type": "code",
   "execution_count": 23,
   "metadata": {},
   "outputs": [
    {
     "name": "stdout",
     "output_type": "stream",
     "text": [
      "[array([1, 2, 3]), array([4, 5]), array([ 6,  7,  8,  9, 10, 11, 12, 13, 14, 15])]\n"
     ]
    }
   ],
   "source": [
    "n = np.array([1,2,3,4,5,6,7,8,9,10,11,12,13,14,15])\n",
    "print(np.split(n, [3,5]))"
   ]
  },
  {
   "cell_type": "code",
   "execution_count": 26,
   "metadata": {},
   "outputs": [
    {
     "name": "stdout",
     "output_type": "stream",
     "text": [
      "[array([1]), array([2, 3, 4, 5]), array([ 6,  7,  8,  9, 10, 11, 12, 13, 14, 15])]\n"
     ]
    }
   ],
   "source": [
    "print(np.split(n, [1,5]))"
   ]
  },
  {
   "cell_type": "code",
   "execution_count": 30,
   "metadata": {},
   "outputs": [
    {
     "name": "stdout",
     "output_type": "stream",
     "text": [
      "[array([ 1,  2,  3,  4,  5,  6,  7,  8,  9, 10]), array([11, 12]), array([13, 14, 15])]\n"
     ]
    }
   ],
   "source": [
    "print(np.split(n, [10,12]))"
   ]
  },
  {
   "cell_type": "code",
   "execution_count": 3,
   "metadata": {},
   "outputs": [
    {
     "name": "stdout",
     "output_type": "stream",
     "text": [
      "[array([0, 1, 2]), array([3, 4]), array([5, 6, 7, 8, 9])]\n"
     ]
    }
   ],
   "source": [
    "print(np.split(np.arange(10),[3,5]))"
   ]
  },
  {
   "cell_type": "code",
   "execution_count": 56,
   "metadata": {},
   "outputs": [
    {
     "name": "stdout",
     "output_type": "stream",
     "text": [
      "[1 2 3] [4 5] [6 7 8 9]\n",
      "[1 2 3]\n",
      "[4 5]\n",
      "[6 7 8 9]\n"
     ]
    }
   ],
   "source": [
    "a,b,c = np.split(m, [3,5])\n",
    "print(a,b,c)\n",
    "print(a)\n",
    "print(b)\n",
    "print(c)"
   ]
  },
  {
   "cell_type": "code",
   "execution_count": 31,
   "metadata": {},
   "outputs": [
    {
     "name": "stdout",
     "output_type": "stream",
     "text": [
      "[ 1  2  3  4  5  6  7  8  9 10] [11 12] [13 14 15]\n",
      "[ 1  2  3  4  5  6  7  8  9 10]\n",
      "[11 12]\n",
      "[13 14 15]\n"
     ]
    }
   ],
   "source": [
    "a,b,c = np.split(n, [10,12])\n",
    "print(a,b,c)\n",
    "print(a)\n",
    "print(b)\n",
    "print(c)"
   ]
  },
  {
   "attachments": {},
   "cell_type": "markdown",
   "metadata": {},
   "source": [
    "## arange() fonksiyonu  belirli bir aralıktaki sayıları içeren bir dizi oluşturmak için kullanılan bir fonksiyondur.\n",
    "* Fonksiyonun genel kullanımı şu şekildedir:\n",
    "* ``numpy.arange([start,] stop[, step,][, dtype=None])``\n",
    "* start (opsiyonel): Diziye dahil edilecek ilk sayı. Varsayılan olarak 0'dır.\n",
    "* stop: Diziye dahil edilmeyecek son sayı.\n",
    "* step (opsiyonel): Sayılar arasındaki artışın miktarı. Varsayılan olarak 1'dir.\n",
    "* dtype (opsiyonel): Oluşturulan dizinin veri tipi. Varsayılan olarak None olarak ayarlanır, ancak belirtilirse, oluşturulan dizi bu veri türünde olacaktır.\n",
    "Örnek kullanımı:\n",
    "\n"
   ]
  },
  {
   "cell_type": "code",
   "execution_count": 32,
   "metadata": {},
   "outputs": [
    {
     "name": "stdout",
     "output_type": "stream",
     "text": [
      "[0 1 2 3 4 5 6 7 8 9]\n",
      "[1 2 3 4 5 6 7 8 9]\n",
      "[0.  0.1 0.2 0.3 0.4 0.5 0.6 0.7 0.8 0.9]\n"
     ]
    }
   ],
   "source": [
    "# 0'dan 10'a kadar sayılar içeren bir dizi oluştur\n",
    "arr1 = np.arange(10)\n",
    "print(arr1)   # [0 1 2 3 4 5 6 7 8 9]\n",
    "# 1'den 9'a kadar sayılar içeren bir dizi oluştur (1 dahil, 10 hariç)\n",
    "arr2 = np.arange(1, 10)\n",
    "print(arr2)   # [1 2 3 4 5 6 7 8 9]\n",
    "# 0'dan 1'e kadar 0.1 artarak sayılar içeren bir dizi oluştur\n",
    "arr3 = np.arange(0, 1, 0.1)\n",
    "print(arr3)   # [0.  0.1 0.2 0.3 0.4 0.5 0.6 0.7 0.8 0.9]\n"
   ]
  },
  {
   "attachments": {},
   "cell_type": "markdown",
   "metadata": {},
   "source": [
    "Biz bu işlemi listelerde:"
   ]
  },
  {
   "cell_type": "code",
   "execution_count": 34,
   "metadata": {},
   "outputs": [
    {
     "name": "stdout",
     "output_type": "stream",
     "text": [
      "[0, 1, 2, 3, 4, 5, 6, 7, 8, 9]\n"
     ]
    }
   ],
   "source": [
    "liste = []\n",
    "for i in range(0,10):\n",
    "    liste.append(i)\n",
    "print(liste)"
   ]
  },
  {
   "attachments": {},
   "cell_type": "markdown",
   "metadata": {},
   "source": [
    "şeklinde yapıyorduk."
   ]
  },
  {
   "cell_type": "code",
   "execution_count": 46,
   "metadata": {},
   "outputs": [
    {
     "name": "stdout",
     "output_type": "stream",
     "text": [
      "[ 0  1  2  3  4  5  6  7  8  9 10 11 12 13 14 15]\n"
     ]
    }
   ],
   "source": [
    "n = np.arange(16)\n",
    "print(n)"
   ]
  },
  {
   "cell_type": "code",
   "execution_count": 8,
   "metadata": {},
   "outputs": [
    {
     "name": "stdout",
     "output_type": "stream",
     "text": [
      "[[ 0  1  2  3]\n",
      " [ 4  5  6  7]\n",
      " [ 8  9 10 11]\n",
      " [12 13 14 15]]\n"
     ]
    }
   ],
   "source": [
    "n = np.arange(16).reshape(4,4) #4x4 olacak şekilde boyutunu değiştir.\n",
    "print(n)"
   ]
  },
  {
   "cell_type": "code",
   "execution_count": 48,
   "metadata": {},
   "outputs": [
    {
     "name": "stdout",
     "output_type": "stream",
     "text": [
      "[0 1 2 3]\n",
      "[4 5 6 7]\n",
      "[ 8  9 10 11]\n",
      "[12 13 14 15]\n"
     ]
    }
   ],
   "source": [
    "print(n[0]) #0.satırı yazdır.\n",
    "print(n[1]) #1.satırı yazdır.\n",
    "print(n[2]) #2.satırı yazdır.\n",
    "print(n[3]) #3.satırı yazdır.\n"
   ]
  },
  {
   "cell_type": "code",
   "execution_count": 49,
   "metadata": {},
   "outputs": [
    {
     "name": "stdout",
     "output_type": "stream",
     "text": [
      "1\n",
      "6\n",
      "11\n",
      "15\n"
     ]
    }
   ],
   "source": [
    "print(n[0][1]) #0.satırın 1.indexini yazdır.\n",
    "print(n[1][2]) #1.satırın 2.indexini yazdır.\n",
    "print(n[2][3]) #2.satırın 3.indexini yazdır.\n",
    "print(n[3][3]) #3.satırın 3.indexini yazdır."
   ]
  },
  {
   "cell_type": "code",
   "execution_count": 9,
   "metadata": {},
   "outputs": [
    {
     "data": {
      "text/plain": [
       "[array([[0, 1, 2, 3]]),\n",
       " array([[ 4,  5,  6,  7],\n",
       "        [ 8,  9, 10, 11],\n",
       "        [12, 13, 14, 15]])]"
      ]
     },
     "execution_count": 9,
     "metadata": {},
     "output_type": "execute_result"
    }
   ],
   "source": [
    "np.split(n, [1]) #(n, [0,1]) aynı şey. "
   ]
  },
  {
   "attachments": {},
   "cell_type": "markdown",
   "metadata": {},
   "source": [
    "## vsplit() bir NumPy dizisini yatay olarak(satır bazında) bölerek birden fazla alt dizilere ayırır. Dizi, satırlar boyunca bölünür.\n",
    "* Fonksiyonun kullanımı şu şekildedir:\n",
    "* ``numpy.vsplit(array, indices_or_sections)``\n",
    "* array: Bölünecek NumPy dizisidir,\n",
    "* indices_or_sections: Dizideki satır sayısını kaç parçaya ayırayım(kaç alt dizeye çevireyim ?)(alt dizilerin sayısı veya bölmelerin indeksleridir.)\n",
    "- Örnek olarak, 6 satır ve 4 sütundan oluşan bir NumPy dizisi alalım:"
   ]
  },
  {
   "cell_type": "code",
   "execution_count": 48,
   "metadata": {},
   "outputs": [
    {
     "name": "stdout",
     "output_type": "stream",
     "text": [
      "[[ 0  1  2  3]\n",
      " [ 4  5  6  7]\n",
      " [ 8  9 10 11]\n",
      " [12 13 14 15]\n",
      " [16 17 18 19]\n",
      " [20 21 22 23]]\n"
     ]
    }
   ],
   "source": [
    "arr = np.arange(24).reshape((6, 4))\n",
    "print(arr)"
   ]
  },
  {
   "attachments": {},
   "cell_type": "markdown",
   "metadata": {},
   "source": [
    "Bu diziyi, 3 parçaya ayırmak için numpy.vsplit() kullanabiliriz:"
   ]
  },
  {
   "cell_type": "code",
   "execution_count": 78,
   "metadata": {},
   "outputs": [
    {
     "name": "stdout",
     "output_type": "stream",
     "text": [
      "[array([[0, 1, 2, 3],\n",
      "       [4, 5, 6, 7]]), array([[ 8,  9, 10, 11],\n",
      "       [12, 13, 14, 15]]), array([[16, 17, 18, 19],\n",
      "       [20, 21, 22, 23]])]\n"
     ]
    }
   ],
   "source": [
    "pieces = np.vsplit(arr, 3)\n",
    "print(pieces)"
   ]
  },
  {
   "attachments": {},
   "cell_type": "markdown",
   "metadata": {},
   "source": [
    "Burada, pieces değişkeni, 3 adet NumPy dizi objesi içeren bir listeye atanmıştır. Bu objeler, orijinal dizinin satırlarının yatay olarak eşit bölünmüş halidir."
   ]
  },
  {
   "attachments": {},
   "cell_type": "markdown",
   "metadata": {},
   "source": [
    "<img src=\"Vsplit.jpg\" alt=\"görsel yorumu\"> "
   ]
  },
  {
   "attachments": {},
   "cell_type": "markdown",
   "metadata": {},
   "source": [
    "* BİZ 3 PARÇAYA BÖLMESİNİ SÖYLEMİŞTİK.O HALDE:\n",
    "* ``*6 SATIRI 3 E BÖLECEĞİM.6/3=2 VE HER PARÇA 2 SATIRDAN OLUŞACAK.*``\n",
    "* ``1.SATIR = 1.PARÇA(2 SATIRDAN OLUŞUYOR.)``\n",
    "* ``2.SATIR = 2.PARÇA(2 SATIRDAN OLUŞUYOR.)``\n",
    "* ``3.SATIR = 3.PARÇA(2 SATIRDAN OLUŞUYOR.)``\n",
    "Gibi düşünebilirsin."
   ]
  },
  {
   "cell_type": "code",
   "execution_count": 50,
   "metadata": {},
   "outputs": [
    {
     "name": "stdout",
     "output_type": "stream",
     "text": [
      "[[ 0  1  2  3]\n",
      " [ 4  5  6  7]\n",
      " [ 8  9 10 11]\n",
      " [12 13 14 15]\n",
      " [16 17 18 19]\n",
      " [20 21 22 23]]\n"
     ]
    }
   ],
   "source": [
    "print(arr)"
   ]
  },
  {
   "cell_type": "code",
   "execution_count": 62,
   "metadata": {},
   "outputs": [
    {
     "ename": "ValueError",
     "evalue": "array split does not result in an equal division",
     "output_type": "error",
     "traceback": [
      "\u001b[1;31m---------------------------------------------------------------------------\u001b[0m",
      "\u001b[1;31mValueError\u001b[0m                                Traceback (most recent call last)",
      "Cell \u001b[1;32mIn[62], line 1\u001b[0m\n\u001b[1;32m----> 1\u001b[0m pieces \u001b[39m=\u001b[39m np\u001b[39m.\u001b[39;49mvsplit(arr, \u001b[39m4\u001b[39;49m)\n",
      "File \u001b[1;32m<__array_function__ internals>:200\u001b[0m, in \u001b[0;36mvsplit\u001b[1;34m(*args, **kwargs)\u001b[0m\n",
      "File \u001b[1;32mc:\\Users\\90545\\AppData\\Local\\Programs\\Python\\Python311\\Lib\\site-packages\\numpy\\lib\\shape_base.py:997\u001b[0m, in \u001b[0;36mvsplit\u001b[1;34m(ary, indices_or_sections)\u001b[0m\n\u001b[0;32m    995\u001b[0m \u001b[39mif\u001b[39;00m _nx\u001b[39m.\u001b[39mndim(ary) \u001b[39m<\u001b[39m \u001b[39m2\u001b[39m:\n\u001b[0;32m    996\u001b[0m     \u001b[39mraise\u001b[39;00m \u001b[39mValueError\u001b[39;00m(\u001b[39m'\u001b[39m\u001b[39mvsplit only works on arrays of 2 or more dimensions\u001b[39m\u001b[39m'\u001b[39m)\n\u001b[1;32m--> 997\u001b[0m \u001b[39mreturn\u001b[39;00m split(ary, indices_or_sections, \u001b[39m0\u001b[39;49m)\n",
      "File \u001b[1;32m<__array_function__ internals>:200\u001b[0m, in \u001b[0;36msplit\u001b[1;34m(*args, **kwargs)\u001b[0m\n",
      "File \u001b[1;32mc:\\Users\\90545\\AppData\\Local\\Programs\\Python\\Python311\\Lib\\site-packages\\numpy\\lib\\shape_base.py:872\u001b[0m, in \u001b[0;36msplit\u001b[1;34m(ary, indices_or_sections, axis)\u001b[0m\n\u001b[0;32m    870\u001b[0m     N \u001b[39m=\u001b[39m ary\u001b[39m.\u001b[39mshape[axis]\n\u001b[0;32m    871\u001b[0m     \u001b[39mif\u001b[39;00m N \u001b[39m%\u001b[39m sections:\n\u001b[1;32m--> 872\u001b[0m         \u001b[39mraise\u001b[39;00m \u001b[39mValueError\u001b[39;00m(\n\u001b[0;32m    873\u001b[0m             \u001b[39m'\u001b[39m\u001b[39marray split does not result in an equal division\u001b[39m\u001b[39m'\u001b[39m) \u001b[39mfrom\u001b[39;00m \u001b[39mNone\u001b[39m\n\u001b[0;32m    874\u001b[0m \u001b[39mreturn\u001b[39;00m array_split(ary, indices_or_sections, axis)\n",
      "\u001b[1;31mValueError\u001b[0m: array split does not result in an equal division"
     ]
    }
   ],
   "source": [
    "pieces = np.vsplit(arr, 4)\n",
    "# Hata aldık çünkü 6 satırlık bir dizi 4 satıra tam olarak bölünmez(6/4 = 1.5) \n",
    "#Her parça 1.5 satırdan oluşamaz diyor."
   ]
  },
  {
   "cell_type": "code",
   "execution_count": 90,
   "metadata": {},
   "outputs": [
    {
     "name": "stdout",
     "output_type": "stream",
     "text": [
      "[array([[0, 1, 2, 3]]), array([[4, 5, 6, 7]]), array([[ 8,  9, 10, 11]]), array([[12, 13, 14, 15]]), array([[16, 17, 18, 19]]), array([[20, 21, 22, 23]])]\n"
     ]
    }
   ],
   "source": [
    "pieces = np.vsplit(arr, 6) #6 eşit parçaya böldüm ve her parçada 6/6 = 1'den 1 satırdan oluştu.\n",
    "print(pieces)"
   ]
  },
  {
   "cell_type": "code",
   "execution_count": 63,
   "metadata": {},
   "outputs": [
    {
     "name": "stdout",
     "output_type": "stream",
     "text": [
      "[[ 0  1  2  3]\n",
      " [ 4  5  6  7]\n",
      " [ 8  9 10 11]\n",
      " [12 13 14 15]]\n"
     ]
    }
   ],
   "source": [
    "n = np.arange(16).reshape(4,4)\n",
    "print(n)"
   ]
  },
  {
   "cell_type": "code",
   "execution_count": 80,
   "metadata": {},
   "outputs": [
    {
     "data": {
      "text/plain": [
       "[array([[0, 1, 2, 3],\n",
       "        [4, 5, 6, 7]]),\n",
       " array([[ 8,  9, 10, 11],\n",
       "        [12, 13, 14, 15]])]"
      ]
     },
     "execution_count": 80,
     "metadata": {},
     "output_type": "execute_result"
    }
   ],
   "source": [
    "np.vsplit(n, [2]) #4 Satırlık arrayi 2 eşit parçaya böl.\n",
    "#O Halde 4/2 = 2 den her parça da 2 satırdan oluşsun. "
   ]
  },
  {
   "attachments": {},
   "cell_type": "markdown",
   "metadata": {},
   "source": [
    "## hsplit() fonksiyonu, bir NumPy dizisini dikey olarak bölerek birden fazla alt dizilere ayırır. Dizi, sütunlar boyunca bölünür.\n",
    "* numpy.hsplit() fonksiyonu aşağıdaki şekilde kullanılır:\n",
    "* ``numpy.hsplit(array, indices_or_sections)``\n",
    "* array :  bölünecek NumPy dizisidir, \n",
    "* indices_or_sections :Dizideki sütun sayısını kaç parçaya ayırayım(kaç alt dizeye çevireyim ?)(alt dizilerin sayısı veya bölmelerin indeksleridir.)"
   ]
  },
  {
   "attachments": {},
   "cell_type": "markdown",
   "metadata": {},
   "source": [
    "Örnek olarak, 6 satır ve 4 sütundan oluşan bir NumPy dizisi alalım:"
   ]
  },
  {
   "cell_type": "code",
   "execution_count": 92,
   "metadata": {},
   "outputs": [
    {
     "name": "stdout",
     "output_type": "stream",
     "text": [
      "[[ 0  1  2  3]\n",
      " [ 4  5  6  7]\n",
      " [ 8  9 10 11]\n",
      " [12 13 14 15]\n",
      " [16 17 18 19]\n",
      " [20 21 22 23]]\n"
     ]
    }
   ],
   "source": [
    "arr = np.arange(24).reshape((6, 4))\n",
    "print(arr)"
   ]
  },
  {
   "attachments": {},
   "cell_type": "markdown",
   "metadata": {},
   "source": [
    "Bu diziyi, 2 parçaya ayırmak için numpy.hsplit() kullanabiliriz:"
   ]
  },
  {
   "cell_type": "code",
   "execution_count": 99,
   "metadata": {},
   "outputs": [
    {
     "name": "stdout",
     "output_type": "stream",
     "text": [
      "[array([[ 0,  1],\n",
      "       [ 4,  5],\n",
      "       [ 8,  9],\n",
      "       [12, 13],\n",
      "       [16, 17],\n",
      "       [20, 21]]), array([[ 2,  3],\n",
      "       [ 6,  7],\n",
      "       [10, 11],\n",
      "       [14, 15],\n",
      "       [18, 19],\n",
      "       [22, 23]])]\n"
     ]
    }
   ],
   "source": [
    "pieces = np.hsplit(arr, 2)\n",
    "print(pieces)"
   ]
  },
  {
   "attachments": {},
   "cell_type": "markdown",
   "metadata": {},
   "source": [
    "<img src=\"Hsplit.jpg\" alt=\"görsel yorumu\"> "
   ]
  },
  {
   "attachments": {},
   "cell_type": "markdown",
   "metadata": {},
   "source": [
    "*Toplamda 2 PARÇAYA böl.\n",
    "* ``1.SÜTUN = 1.PARÇA``\n",
    "* ``2.SÜTUN = 2.PARÇA``\n",
    "* Gibi düşünebilirsin."
   ]
  },
  {
   "cell_type": "code",
   "execution_count": 100,
   "metadata": {},
   "outputs": [
    {
     "name": "stdout",
     "output_type": "stream",
     "text": [
      "[array([[ 0],\n",
      "       [ 4],\n",
      "       [ 8],\n",
      "       [12],\n",
      "       [16],\n",
      "       [20]]), array([[ 1],\n",
      "       [ 5],\n",
      "       [ 9],\n",
      "       [13],\n",
      "       [17],\n",
      "       [21]]), array([[ 2],\n",
      "       [ 6],\n",
      "       [10],\n",
      "       [14],\n",
      "       [18],\n",
      "       [22]]), array([[ 3],\n",
      "       [ 7],\n",
      "       [11],\n",
      "       [15],\n",
      "       [19],\n",
      "       [23]])]\n"
     ]
    }
   ],
   "source": [
    "pieces = np.hsplit(arr, 4)\n",
    "print(pieces)"
   ]
  },
  {
   "attachments": {},
   "cell_type": "markdown",
   "metadata": {},
   "source": [
    "<img src=\"Hsplit 2.jpg\" alt=\"görsel yorumu\"> "
   ]
  },
  {
   "cell_type": "code",
   "execution_count": 102,
   "metadata": {},
   "outputs": [
    {
     "name": "stdout",
     "output_type": "stream",
     "text": [
      "[[ 0  1  2  3]\n",
      " [ 4  5  6  7]\n",
      " [ 8  9 10 11]\n",
      " [12 13 14 15]]\n"
     ]
    }
   ],
   "source": [
    "n = np.arange(16).reshape(4,4)\n",
    "print(n)"
   ]
  },
  {
   "cell_type": "code",
   "execution_count": 105,
   "metadata": {},
   "outputs": [
    {
     "data": {
      "text/plain": [
       "[array([[ 0,  1],\n",
       "        [ 4,  5],\n",
       "        [ 8,  9],\n",
       "        [12, 13]]),\n",
       " array([[ 2,  3],\n",
       "        [ 6,  7],\n",
       "        [10, 11],\n",
       "        [14, 15]])]"
      ]
     },
     "execution_count": 105,
     "metadata": {},
     "output_type": "execute_result"
    }
   ],
   "source": [
    "np.hsplit(n, [2])"
   ]
  },
  {
   "cell_type": "code",
   "execution_count": 106,
   "metadata": {},
   "outputs": [
    {
     "name": "stdout",
     "output_type": "stream",
     "text": [
      "[[ 0  1]\n",
      " [ 4  5]\n",
      " [ 8  9]\n",
      " [12 13]]\n",
      "<------------->\n",
      "[[ 2  3]\n",
      " [ 6  7]\n",
      " [10 11]\n",
      " [14 15]]\n"
     ]
    }
   ],
   "source": [
    "a,b = np.hsplit(n, [2])\n",
    "print(a)\n",
    "print(\"<------------->\")\n",
    "print(b)"
   ]
  },
  {
   "attachments": {},
   "cell_type": "markdown",
   "metadata": {},
   "source": [
    "## np.zeros()\n",
    "- 0'lardan oluşan bir numpy dizisi oluşturulması için kullanılır."
   ]
  },
  {
   "cell_type": "code",
   "execution_count": 4,
   "metadata": {},
   "outputs": [
    {
     "name": "stdout",
     "output_type": "stream",
     "text": [
      "[0. 0. 0. 0. 0. 0. 0. 0. 0. 0.]\n"
     ]
    }
   ],
   "source": [
    "zero = np.zeros(10)\n",
    "print(zero)"
   ]
  },
  {
   "attachments": {},
   "cell_type": "markdown",
   "metadata": {},
   "source": [
    "## np.ones()\n",
    "- 1'lerden oluşan bir numpy dizisi oluşturulması için kullanılır."
   ]
  },
  {
   "cell_type": "code",
   "execution_count": 5,
   "metadata": {},
   "outputs": [
    {
     "name": "stdout",
     "output_type": "stream",
     "text": [
      "[1. 1. 1. 1. 1. 1. 1. 1. 1. 1.]\n"
     ]
    }
   ],
   "source": [
    "one = np.ones(10)\n",
    "print(one)"
   ]
  },
  {
   "attachments": {},
   "cell_type": "markdown",
   "metadata": {},
   "source": [
    "## np.linspace()\n",
    "- Belli bir aralıkta sayıları oluşturmak için kullanılır.\n",
    "- np.linspace(başlangıç, bitiş, bölünecek aralık)"
   ]
  },
  {
   "cell_type": "code",
   "execution_count": 11,
   "metadata": {},
   "outputs": [
    {
     "name": "stdout",
     "output_type": "stream",
     "text": [
      "[  0.  25.  50.  75. 100.]\n"
     ]
    }
   ],
   "source": [
    "lins = np.linspace(0, 100, 5) #Verdiğin aralığı verdiğin sayıya bölüyor.\n",
    "print(lins)\n",
    "#0,100 aralığımı 5 parçaya bölerek yazdı."
   ]
  },
  {
   "cell_type": "code",
   "execution_count": 12,
   "metadata": {},
   "outputs": [
    {
     "data": {
      "text/plain": [
       "array([  0,   5,  10,  15,  20,  25,  30,  35,  40,  45,  50,  55,  60,\n",
       "        65,  70,  75,  80,  85,  90,  95, 100])"
      ]
     },
     "execution_count": 12,
     "metadata": {},
     "output_type": "execute_result"
    }
   ],
   "source": [
    "np.arange(0,101,5) #Verdiğin sayı kadar atlıyor. "
   ]
  },
  {
   "cell_type": "code",
   "execution_count": 13,
   "metadata": {},
   "outputs": [
    {
     "name": "stdout",
     "output_type": "stream",
     "text": [
      "[5 6 5]\n"
     ]
    }
   ],
   "source": [
    "result = np.random.randint(0, 10,3) #0 ile 10 arasında rastgele 3 sayı üret.\n",
    "print(result)"
   ]
  },
  {
   "cell_type": "code",
   "execution_count": 14,
   "metadata": {},
   "outputs": [
    {
     "ename": "AttributeError",
     "evalue": "module 'numpy.random' has no attribute 'arange'",
     "output_type": "error",
     "traceback": [
      "\u001b[1;31m---------------------------------------------------------------------------\u001b[0m",
      "\u001b[1;31mAttributeError\u001b[0m                            Traceback (most recent call last)",
      "Cell \u001b[1;32mIn[14], line 1\u001b[0m\n\u001b[1;32m----> 1\u001b[0m result \u001b[39m=\u001b[39m np\u001b[39m.\u001b[39;49mrandom\u001b[39m.\u001b[39;49marange(\u001b[39m0\u001b[39m,\u001b[39m10\u001b[39m,\u001b[39m2\u001b[39m)\n",
      "\u001b[1;31mAttributeError\u001b[0m: module 'numpy.random' has no attribute 'arange'"
     ]
    }
   ],
   "source": [
    "result = np.random.arange(0,10,2) #Böyle bir özellik yok. "
   ]
  },
  {
   "cell_type": "code",
   "execution_count": 16,
   "metadata": {},
   "outputs": [
    {
     "data": {
      "text/plain": [
       "array([ 7,  9,  7, 17, 13])"
      ]
     },
     "execution_count": 16,
     "metadata": {},
     "output_type": "execute_result"
    }
   ],
   "source": [
    "np.random.randint(2,22,5) #2 ile 22 arasında rastgele 5 sayı üret.Ve np kullandığım için bunu bir arraye ata. "
   ]
  },
  {
   "attachments": {},
   "cell_type": "markdown",
   "metadata": {},
   "source": [
    "Eğer numpy kullanmasaydım random modülünü çağırmak zorundaydım.Çünkü random modülü numpy'ın içerisinde özelleştirilmiş bir biçimde kullanılır."
   ]
  },
  {
   "cell_type": "code",
   "execution_count": 17,
   "metadata": {},
   "outputs": [
    {
     "ename": "NameError",
     "evalue": "name 'random' is not defined",
     "output_type": "error",
     "traceback": [
      "\u001b[1;31m---------------------------------------------------------------------------\u001b[0m",
      "\u001b[1;31mNameError\u001b[0m                                 Traceback (most recent call last)",
      "Cell \u001b[1;32mIn[17], line 1\u001b[0m\n\u001b[1;32m----> 1\u001b[0m random\u001b[39m.\u001b[39mrandint(\u001b[39m0\u001b[39m,\u001b[39m100\u001b[39m)\n",
      "\u001b[1;31mNameError\u001b[0m: name 'random' is not defined"
     ]
    }
   ],
   "source": [
    "random.randint(0,100)"
   ]
  },
  {
   "cell_type": "code",
   "execution_count": 19,
   "metadata": {},
   "outputs": [],
   "source": [
    "import random"
   ]
  },
  {
   "cell_type": "code",
   "execution_count": 28,
   "metadata": {},
   "outputs": [
    {
     "ename": "TypeError",
     "evalue": "Random.randint() takes 3 positional arguments but 4 were given",
     "output_type": "error",
     "traceback": [
      "\u001b[1;31m---------------------------------------------------------------------------\u001b[0m",
      "\u001b[1;31mTypeError\u001b[0m                                 Traceback (most recent call last)",
      "Cell \u001b[1;32mIn[28], line 1\u001b[0m\n\u001b[1;32m----> 1\u001b[0m random\u001b[39m.\u001b[39;49mrandint(\u001b[39m0\u001b[39;49m,\u001b[39m100\u001b[39;49m,\u001b[39m2\u001b[39;49m)\n",
      "\u001b[1;31mTypeError\u001b[0m: Random.randint() takes 3 positional arguments but 4 were given"
     ]
    }
   ],
   "source": [
    "random.randint(0,100,2) #klasik random modülünde böyle bir özellik bulunmazken"
   ]
  },
  {
   "cell_type": "code",
   "execution_count": 26,
   "metadata": {},
   "outputs": [
    {
     "data": {
      "text/plain": [
       "array([76,  2])"
      ]
     },
     "execution_count": 26,
     "metadata": {},
     "output_type": "execute_result"
    }
   ],
   "source": [
    "np.random.randint(0,100,2) #numpy içerisinde özelleşmiş random modülünün içerisinde böyle bir özellik bulunur. "
   ]
  },
  {
   "cell_type": "code",
   "execution_count": 29,
   "metadata": {},
   "outputs": [
    {
     "name": "stdout",
     "output_type": "stream",
     "text": [
      "[[ 0  1  2  3  4  5  6  7  8  9]\n",
      " [10 11 12 13 14 15 16 17 18 19]\n",
      " [20 21 22 23 24 25 26 27 28 29]\n",
      " [30 31 32 33 34 35 36 37 38 39]\n",
      " [40 41 42 43 44 45 46 47 48 49]]\n"
     ]
    }
   ],
   "source": [
    "np_array = np.arange(50)\n",
    "np_multi = np_array.reshape(5,10)\n",
    "print(np_multi)"
   ]
  },
  {
   "attachments": {},
   "cell_type": "markdown",
   "metadata": {},
   "source": [
    "* sum() fonksiyonu belirtilen aralıktaki değerleri toplama işlemi yapar."
   ]
  },
  {
   "attachments": {},
   "cell_type": "markdown",
   "metadata": {},
   "source": [
    "axis = 0 ise satır bazında toplama yapar.``DİKEY TOPLAMA``.Her satırın 0. indexlerini toplar,1.indexlerini toplar,2.indexlerini toplar......\n",
    "\n",
    "axis = 1 ise sütun bazında toplama yapar.``YATAY TOPLAMA``.Her sütunun 0. indexlerini toplar,1.indexlerini toplar,2.indexlerini toplar......"
   ]
  },
  {
   "cell_type": "code",
   "execution_count": 47,
   "metadata": {},
   "outputs": [
    {
     "name": "stdout",
     "output_type": "stream",
     "text": [
      "[100 105 110 115 120 125 130 135 140 145]\n",
      "True\n",
      "True\n"
     ]
    }
   ],
   "source": [
    "print(np_multi.sum(axis=0))\n",
    "#100 = 1.Satırın 0.indexi (0) + 2.Satırın 0.indexi (10) + 3.Satırın 0.indexi (20) + 4.Satırın 0.indexi (30) + 5.Satırın 0.indexi (40) \n",
    "#105 = 1.Satırın 1.indexi (1) + 2.Satırın 1.indexi (11) + 3.Satırın 1.indexi  (21) + 4.Satırın 1.indexi  (31) + 5.Satırın 1.indexi (41)\n",
    "# ...\n",
    "# ... \n",
    "print(100 == np_multi[0][0] + np_multi[1][0] + np_multi[2][0]  + np_multi[3][0]  + np_multi[4][0])\n",
    "print(105 == np_multi[0][1] + np_multi[1][1] + np_multi[2][1]  + np_multi[3][1]  + np_multi[4][1])\n"
   ]
  },
  {
   "cell_type": "code",
   "execution_count": 49,
   "metadata": {},
   "outputs": [
    {
     "name": "stdout",
     "output_type": "stream",
     "text": [
      "[ 45 145 245 345 445]\n"
     ]
    }
   ],
   "source": [
    "print(np_multi.sum(axis=1))\n",
    "#Yukarıdaki mantığı sütun bazında düşün."
   ]
  },
  {
   "attachments": {},
   "cell_type": "markdown",
   "metadata": {},
   "source": [
    "# Numpy Array'in Özellikleri \n",
    "- ndim : Boyut sayısı(Kaç boyutlu olduğu)\n",
    "- shape : Boyut bilgisi (...x....) şeklinde\n",
    "- size : Toplam Eleman sayısı\n",
    "- dtype : Veri tipi"
   ]
  },
  {
   "cell_type": "code",
   "execution_count": 64,
   "metadata": {},
   "outputs": [
    {
     "name": "stdout",
     "output_type": "stream",
     "text": [
      "[5 6 5 8 0 3 0 6 2 0]\n",
      "1\n",
      "(10,)\n",
      "10\n",
      "int32\n"
     ]
    }
   ],
   "source": [
    "a = np.random.randint(0,10,10)\n",
    "# 0 10 aralığında 10 tane eleman üret.\n",
    "print(a)\n",
    "print(a.ndim)\n",
    "print(a.shape)\n",
    "print(a.size)\n",
    "print(a.dtype)"
   ]
  },
  {
   "attachments": {},
   "cell_type": "markdown",
   "metadata": {},
   "source": [
    "``İkisi de aynı şeydir.Aşağıda size= diyerek 0 dan başlayıp 10 a kadar 10 tane eleman üretmesini istiyoruz.``"
   ]
  },
  {
   "cell_type": "code",
   "execution_count": 54,
   "metadata": {},
   "outputs": [
    {
     "name": "stdout",
     "output_type": "stream",
     "text": [
      "1\n",
      "(10,)\n",
      "10\n",
      "int32\n"
     ]
    }
   ],
   "source": [
    "a = np.random.randint(10, size = 10)\n",
    "print(a.ndim)\n",
    "print(a.shape)\n",
    "print(a.size)\n",
    "print(a.dtype)"
   ]
  },
  {
   "attachments": {},
   "cell_type": "markdown",
   "metadata": {},
   "source": [
    "<------------------------------------------------------------------------------->"
   ]
  },
  {
   "cell_type": "code",
   "execution_count": 67,
   "metadata": {},
   "outputs": [
    {
     "name": "stdout",
     "output_type": "stream",
     "text": [
      "[[7 9 4 3 4]\n",
      " [6 8 4 2 0]\n",
      " [4 7 1 3 7]]\n",
      "2\n",
      "(3, 5)\n",
      "15\n",
      "int32\n"
     ]
    }
   ],
   "source": [
    "b = np.random.randint(0,10,(3,5)) \n",
    "#3,5 = 0 10 aralığında rastgele 5 TANE ELEMAN ÜRET.\n",
    "# !!VE BUNU 3 KEZ TEKRARLA!!\n",
    "print(b)\n",
    "print(b.ndim)\n",
    "print(b.shape)\n",
    "print(b.size)\n",
    "print(b.dtype)"
   ]
  },
  {
   "attachments": {},
   "cell_type": "markdown",
   "metadata": {},
   "source": [
    "``İkisi de aynı şeydir.``"
   ]
  },
  {
   "cell_type": "code",
   "execution_count": 63,
   "metadata": {},
   "outputs": [
    {
     "name": "stdout",
     "output_type": "stream",
     "text": [
      "[[6 5 2 3 7]\n",
      " [5 4 6 2 5]\n",
      " [2 0 7 1 2]]\n",
      "2\n",
      "(3, 5)\n",
      "15\n",
      "int32\n"
     ]
    }
   ],
   "source": [
    "b = np.random.randint(10, size = (3,5)) #3x5 lik bir array oluştur.\n",
    "print(b)\n",
    "print(b.ndim)\n",
    "print(b.shape)\n",
    "print(b.size)\n",
    "print(b.dtype)"
   ]
  },
  {
   "attachments": {},
   "cell_type": "markdown",
   "metadata": {},
   "source": [
    "# Array Sıralama(Sorting)\n",
    "* Array sıralama işlemleri yapmak için numpy kütüphanesinde yer alan **sort()** fonksiyonu kullanılır."
   ]
  },
  {
   "cell_type": "code",
   "execution_count": 68,
   "metadata": {},
   "outputs": [
    {
     "name": "stdout",
     "output_type": "stream",
     "text": [
      "[2 1 4 3 5]\n",
      "[1 2 3 4 5]\n"
     ]
    }
   ],
   "source": [
    "v = np.array([2,1,4,3,5])\n",
    "print(v)\n",
    "print(np.sort(v))"
   ]
  },
  {
   "attachments": {},
   "cell_type": "markdown",
   "metadata": {},
   "source": [
    "``Her ikisi de aynı şeydir.``"
   ]
  },
  {
   "cell_type": "code",
   "execution_count": 76,
   "metadata": {},
   "outputs": [
    {
     "name": "stdout",
     "output_type": "stream",
     "text": [
      "[ 1  2  3  4  5 77]\n"
     ]
    }
   ],
   "source": [
    "v = np.array([2,1,4,3,5,77])\n",
    "v.sort()\n",
    "print(v)"
   ]
  },
  {
   "attachments": {},
   "cell_type": "markdown",
   "metadata": {},
   "source": [
    "-------"
   ]
  },
  {
   "attachments": {},
   "cell_type": "markdown",
   "metadata": {},
   "source": [
    "* \"random.normal\" fonksiyonu, Numpy kütüphanesi içinde yer alan bir fonksiyondur. Bu fonksiyon, belirtilen bir ortalamaya (mean) ve standart sapmaya (standard deviation) sahip bir normal dağılım oluşturarak rastgele sayılar üretir.\n",
    "\n",
    "Fonksiyonun kullanımı aşağıdaki gibidir:\n"
   ]
  },
  {
   "attachments": {},
   "cell_type": "markdown",
   "metadata": {},
   "source": [
    "``numpy.random.normal(loc=0.0, scale=1.0, size=None)``\n",
    "* loc = Normal dağılımın ortalaması.\n",
    "* scale = standart sapma\n",
    "* size = sayıların boyutu (3x4) vs.\n",
    "```\n",
    "Yani şu demek:\n",
    "Normal dağılım, bir veri setinin ortalaması etrafında simetrik olarak dağılan bir olasılık dağılımıdır. Ortalama değer, dağılımın merkezini belirler. Standart sapma ise, dağılımın yayılma derecesini gösterir.\n",
    "\n",
    "\"loc\" parametresi, normal dağılımın ortalamasını belirler. Örneğin, \"loc=0\" şeklinde bir parametre verilirse, normal dağılımın ortalaması 0 olacaktır. \"loc=5\" şeklinde bir parametre verilirse, normal dağılımın ortalaması 5 olacaktır.\n",
    "\n",
    "\"scale\" parametresi, normal dağılımın standart sapmasını belirler. Örneğin, \"scale=1\" şeklinde bir parametre verilirse, normal dağılımın standart sapması 1 olacaktır. \"scale=2\" şeklinde bir parametre verilirse, normal dağılımın standart sapması 2 olacaktır.\n",
    "\n",
    "Dolayısıyla, \"loc\" ve \"scale\" parametreleri, oluşturulacak normal dağılımın şeklini belirler. Bu parametreler, normal dağılımın merkezini ve yayılma derecesini ayarlamak için kullanılır.\n",
    "\n",
    "```\n"
   ]
  },
  {
   "cell_type": "code",
   "execution_count": 4,
   "metadata": {},
   "outputs": [
    {
     "name": "stdout",
     "output_type": "stream",
     "text": [
      "[[21.9564196   8.81145423 25.4324453 ]\n",
      " [26.35033884 24.72491024 14.88772121]\n",
      " [13.41402617 23.39471986 20.78772022]]\n"
     ]
    }
   ],
   "source": [
    "import numpy as np\n",
    "m = np.random.normal(20,5,(3,3))\n",
    "print(m)"
   ]
  },
  {
   "cell_type": "code",
   "execution_count": 12,
   "metadata": {},
   "outputs": [
    {
     "name": "stdout",
     "output_type": "stream",
     "text": [
      "[[13.41402617  8.81145423 14.88772121]\n",
      " [21.9564196  23.39471986 20.78772022]\n",
      " [26.35033884 24.72491024 25.4324453 ]]\n"
     ]
    }
   ],
   "source": [
    "print(np.sort(m, axis=0)) #Dikey olarak sıralama yaptı.(Satır bazında)"
   ]
  },
  {
   "cell_type": "code",
   "execution_count": 11,
   "metadata": {},
   "outputs": [
    {
     "name": "stdout",
     "output_type": "stream",
     "text": [
      "[[ 8.81145423 21.9564196  25.4324453 ]\n",
      " [14.88772121 24.72491024 26.35033884]\n",
      " [13.41402617 20.78772022 23.39471986]]\n"
     ]
    }
   ],
   "source": [
    "print(np.sort(m, axis=1)) #Yatay olarak sıralama yaptı(Sütun bazında)"
   ]
  },
  {
   "attachments": {},
   "cell_type": "markdown",
   "metadata": {},
   "source": [
    "# Index ile Elemanlara Erişmek\n",
    "Tıpkı listelerde olduğu gibi index ile elemanlara erişebiliri.\n",
    "```\n",
    "[satır indexi][sütun indexi] \n",
    "veya\n",
    "[satır indexi,sütun indexi]\n",
    "```\n"
   ]
  },
  {
   "cell_type": "code",
   "execution_count": 24,
   "metadata": {},
   "outputs": [
    {
     "name": "stdout",
     "output_type": "stream",
     "text": [
      "[8 0 3 6 5 6 4 7 8 0]\n"
     ]
    }
   ],
   "source": [
    "a = np.random.randint(10,size = 10)\n",
    "print(a)"
   ]
  },
  {
   "cell_type": "code",
   "execution_count": 25,
   "metadata": {},
   "outputs": [
    {
     "name": "stdout",
     "output_type": "stream",
     "text": [
      "8\n"
     ]
    }
   ],
   "source": [
    "print(a[0])"
   ]
  },
  {
   "cell_type": "code",
   "execution_count": 26,
   "metadata": {},
   "outputs": [
    {
     "name": "stdout",
     "output_type": "stream",
     "text": [
      "0\n"
     ]
    }
   ],
   "source": [
    "print(a[-1])"
   ]
  },
  {
   "cell_type": "code",
   "execution_count": 27,
   "metadata": {},
   "outputs": [
    {
     "name": "stdout",
     "output_type": "stream",
     "text": [
      "[100   0   3   6   5   6   4   7   8   0]\n"
     ]
    }
   ],
   "source": [
    "a[0] = 100 #Listelerde olduğu gibi veri güncelleme işlemi de yapabiliriz.\n",
    "print(a)"
   ]
  },
  {
   "cell_type": "code",
   "execution_count": 28,
   "metadata": {},
   "outputs": [
    {
     "name": "stdout",
     "output_type": "stream",
     "text": [
      "[[7 4 6 7 9]\n",
      " [3 4 3 5 6]\n",
      " [8 1 5 5 5]]\n"
     ]
    }
   ],
   "source": [
    "x = np.random.randint(10,size = (3,5))\n",
    "print(x)"
   ]
  },
  {
   "attachments": {},
   "cell_type": "markdown",
   "metadata": {},
   "source": [
    "-------"
   ]
  },
  {
   "cell_type": "code",
   "execution_count": 29,
   "metadata": {},
   "outputs": [
    {
     "name": "stdout",
     "output_type": "stream",
     "text": [
      "7\n",
      "4\n",
      "5\n"
     ]
    }
   ],
   "source": [
    "print(x[0][0])\n",
    "print(x[1][1])\n",
    "print(x[2][4])"
   ]
  },
  {
   "attachments": {},
   "cell_type": "markdown",
   "metadata": {},
   "source": [
    "```Her ikisi de aynı sonucu verir.Nasıl yazacağın sana kalmış.ALtttakinin yazımı bir tık daha kolay.```"
   ]
  },
  {
   "cell_type": "code",
   "execution_count": 30,
   "metadata": {},
   "outputs": [
    {
     "name": "stdout",
     "output_type": "stream",
     "text": [
      "7\n",
      "4\n",
      "5\n"
     ]
    }
   ],
   "source": [
    "print(x[0,0])\n",
    "print(x[1,1])\n",
    "print(x[2,4])"
   ]
  },
  {
   "attachments": {},
   "cell_type": "markdown",
   "metadata": {},
   "source": [
    "-------"
   ]
  },
  {
   "cell_type": "code",
   "execution_count": 31,
   "metadata": {},
   "outputs": [
    {
     "name": "stdout",
     "output_type": "stream",
     "text": [
      "6\n",
      "[[7 4 6 7 9]\n",
      " [3 4 3 5 6]\n",
      " [8 1 5 5 5]]\n"
     ]
    }
   ],
   "source": [
    "print(x[1,4])\n",
    "print(x)"
   ]
  },
  {
   "cell_type": "code",
   "execution_count": 33,
   "metadata": {},
   "outputs": [
    {
     "name": "stdout",
     "output_type": "stream",
     "text": [
      "[[  7   4   6   7   9]\n",
      " [  3   4   3   5 100]\n",
      " [  8   1   5   5   5]]\n"
     ]
    }
   ],
   "source": [
    "x[1,4] = 100\n",
    "print(x)"
   ]
  },
  {
   "cell_type": "code",
   "execution_count": 32,
   "metadata": {},
   "outputs": [
    {
     "name": "stdout",
     "output_type": "stream",
     "text": [
      "[[7 4 6 7 9]\n",
      " [3 4 3 5 3]\n",
      " [8 1 5 5 5]]\n"
     ]
    }
   ],
   "source": [
    "x[1,4] = 3.14 #Ondalıklı sayı eklediğinde tam kısmı yazıyor.Kesirli kısmı yazmıyor.\n",
    "print(x)"
   ]
  },
  {
   "attachments": {},
   "cell_type": "markdown",
   "metadata": {},
   "source": [
    "# Slicing ile Elemanlara Erişmek (Array Alt Kümesine Erişmek)\n",
    "Tıpkı listelerde olduğu gibi erişebiliyoruz."
   ]
  },
  {
   "cell_type": "code",
   "execution_count": 34,
   "metadata": {},
   "outputs": [
    {
     "name": "stdout",
     "output_type": "stream",
     "text": [
      "[20 21 22 23 24 25 26 27 28 29]\n"
     ]
    }
   ],
   "source": [
    "a = np.arange(20,30)\n",
    "print(a)"
   ]
  },
  {
   "cell_type": "code",
   "execution_count": 35,
   "metadata": {},
   "outputs": [
    {
     "name": "stdout",
     "output_type": "stream",
     "text": [
      "[20 21 22]\n"
     ]
    }
   ],
   "source": [
    "print(a[0:3])"
   ]
  },
  {
   "cell_type": "code",
   "execution_count": 36,
   "metadata": {},
   "outputs": [
    {
     "name": "stdout",
     "output_type": "stream",
     "text": [
      "[20 21 22]\n"
     ]
    }
   ],
   "source": [
    "print(a[:3])"
   ]
  },
  {
   "cell_type": "code",
   "execution_count": 40,
   "metadata": {},
   "outputs": [
    {
     "name": "stdout",
     "output_type": "stream",
     "text": [
      "[23 24 25 26 27 28 29]\n"
     ]
    }
   ],
   "source": [
    "print(a[3:])"
   ]
  },
  {
   "cell_type": "code",
   "execution_count": 41,
   "metadata": {},
   "outputs": [
    {
     "name": "stdout",
     "output_type": "stream",
     "text": [
      "[21 23 25 27 29]\n"
     ]
    }
   ],
   "source": [
    "print(a[1::2]) # 1 den başla ikişer atla"
   ]
  },
  {
   "cell_type": "code",
   "execution_count": 43,
   "metadata": {},
   "outputs": [
    {
     "name": "stdout",
     "output_type": "stream",
     "text": [
      "[20 22 24 26 28]\n"
     ]
    }
   ],
   "source": [
    "print(a[0::2]) #0dan başla ikişer atla"
   ]
  },
  {
   "cell_type": "code",
   "execution_count": 44,
   "metadata": {},
   "outputs": [
    {
     "name": "stdout",
     "output_type": "stream",
     "text": [
      "[22 24 26 28]\n"
     ]
    }
   ],
   "source": [
    "print(a[2::2])"
   ]
  },
  {
   "cell_type": "code",
   "execution_count": 45,
   "metadata": {},
   "outputs": [
    {
     "name": "stdout",
     "output_type": "stream",
     "text": [
      "[21 26]\n"
     ]
    }
   ],
   "source": [
    "print(a[1::5])"
   ]
  },
  {
   "cell_type": "code",
   "execution_count": 46,
   "metadata": {},
   "outputs": [
    {
     "name": "stdout",
     "output_type": "stream",
     "text": [
      "[[6 8 9 5 8]\n",
      " [7 9 5 8 6]\n",
      " [7 8 0 6 1]\n",
      " [2 3 0 6 0]\n",
      " [9 3 4 3 1]]\n"
     ]
    }
   ],
   "source": [
    "b = np.random.randint(10,size = (5,5))\n",
    "print(b)"
   ]
  },
  {
   "cell_type": "code",
   "execution_count": 57,
   "metadata": {},
   "outputs": [
    {
     "name": "stdout",
     "output_type": "stream",
     "text": [
      "[6 7 7 2 9]\n",
      "6\n",
      "7\n",
      "7\n",
      "2\n",
      "9\n"
     ]
    }
   ],
   "source": [
    "print(b[:,0]) # tüm satırların sıfırıncı sütunlarındaki elemanları al\n",
    "#Yani 0.sütunda bulunan tüm satır elemanlarını al:\n",
    "print(b[0,0])\n",
    "print(b[1,0])\n",
    "print(b[2,0])\n",
    "print(b[3,0])\n",
    "print(b[4,0])"
   ]
  },
  {
   "cell_type": "code",
   "execution_count": 50,
   "metadata": {},
   "outputs": [
    {
     "name": "stdout",
     "output_type": "stream",
     "text": [
      "[8 9 8 3 3]\n"
     ]
    }
   ],
   "source": [
    "print(b[:,1]) # tüm satırların birinci sütunlarındaki elemanları al "
   ]
  },
  {
   "cell_type": "code",
   "execution_count": 56,
   "metadata": {},
   "outputs": [
    {
     "name": "stdout",
     "output_type": "stream",
     "text": [
      "[6 8 9 5 8]\n",
      "6\n",
      "8\n",
      "9\n",
      "5\n",
      "8\n"
     ]
    }
   ],
   "source": [
    "print(b[0,:]) # tüm sütunların sıfırıncı satırlarındaki elemanları al\n",
    "#Yani 0.sütunda bulunan tüm satır elemanlarını al:\n",
    "print(b[0,0])\n",
    "print(b[0,1])\n",
    "print(b[0,2])\n",
    "print(b[0,3])\n",
    "print(b[0,4])"
   ]
  },
  {
   "cell_type": "code",
   "execution_count": 59,
   "metadata": {},
   "outputs": [
    {
     "name": "stdout",
     "output_type": "stream",
     "text": [
      "[[6 8 9 5 8]\n",
      " [7 9 5 8 6]\n",
      " [7 8 0 6 1]\n",
      " [2 3 0 6 0]\n",
      " [9 3 4 3 1]]\n"
     ]
    }
   ],
   "source": [
    "print(b)"
   ]
  },
  {
   "cell_type": "code",
   "execution_count": 58,
   "metadata": {},
   "outputs": [
    {
     "name": "stdout",
     "output_type": "stream",
     "text": [
      "[7 9 5 8 6]\n"
     ]
    }
   ],
   "source": [
    "print(b[1,:]) # tüm sütunların birinci satırlarındaki elemanları al"
   ]
  },
  {
   "cell_type": "code",
   "execution_count": 60,
   "metadata": {},
   "outputs": [
    {
     "name": "stdout",
     "output_type": "stream",
     "text": [
      "[[6 8 9]\n",
      " [7 9 5]]\n"
     ]
    }
   ],
   "source": [
    "print(b[0:2,0:3]) # 0 ve 1. satırların 0,1,2. sütunlarındaki elemanları al"
   ]
  },
  {
   "cell_type": "code",
   "execution_count": 64,
   "metadata": {},
   "outputs": [
    {
     "name": "stdout",
     "output_type": "stream",
     "text": [
      "[[6 9 8]\n",
      " [7 0 1]\n",
      " [9 4 1]]\n"
     ]
    }
   ],
   "source": [
    "print(b[::2,::2]) # 2şer 2şer atla\n",
    "#Yani:\n",
    "# b[0,0] b[0,2] b[0,4]\n",
    "# b[2,0] b[2,2] b[2,4]\n",
    "# b[4,0] b[4,2] b[4,4]"
   ]
  },
  {
   "attachments": {},
   "cell_type": "markdown",
   "metadata": {},
   "source": [
    "# Alt Küme Üzerinde İşlem Yapmak"
   ]
  },
  {
   "cell_type": "code",
   "execution_count": 66,
   "metadata": {},
   "outputs": [
    {
     "name": "stdout",
     "output_type": "stream",
     "text": [
      "[[6 8 9 5 8]\n",
      " [7 9 5 8 6]\n",
      " [7 8 0 6 1]\n",
      " [2 3 0 6 0]\n",
      " [9 3 4 3 1]]\n"
     ]
    }
   ],
   "source": [
    "print(b)"
   ]
  },
  {
   "cell_type": "code",
   "execution_count": 65,
   "metadata": {},
   "outputs": [
    {
     "name": "stdout",
     "output_type": "stream",
     "text": [
      "[[6 8]\n",
      " [7 9]\n",
      " [7 8]]\n"
     ]
    }
   ],
   "source": [
    "alt_b = b[0:3, 0:2]\n",
    "print(alt_b)"
   ]
  },
  {
   "cell_type": "code",
   "execution_count": 67,
   "metadata": {},
   "outputs": [
    {
     "name": "stdout",
     "output_type": "stream",
     "text": [
      "[[100   8]\n",
      " [  7 200]\n",
      " [  7   8]]\n"
     ]
    }
   ],
   "source": [
    "alt_b[0,0] = 100\n",
    "alt_b[1,1] = 200\n",
    "print(alt_b)"
   ]
  },
  {
   "cell_type": "code",
   "execution_count": 68,
   "metadata": {},
   "outputs": [
    {
     "name": "stdout",
     "output_type": "stream",
     "text": [
      "[[100   8   9   5   8]\n",
      " [  7 200   5   8   6]\n",
      " [  7   8   0   6   1]\n",
      " [  2   3   0   6   0]\n",
      " [  9   3   4   3   1]]\n"
     ]
    }
   ],
   "source": [
    "print(b)"
   ]
  },
  {
   "attachments": {},
   "cell_type": "markdown",
   "metadata": {},
   "source": [
    "# Fancy Index\n",
    "- Bir liste içine bir arrayden istediğimiz indislerini koyarak o indislerdeki verileri alabiliriz.Toplu getirme işlemi yapar."
   ]
  },
  {
   "cell_type": "code",
   "execution_count": 69,
   "metadata": {},
   "outputs": [
    {
     "name": "stdout",
     "output_type": "stream",
     "text": [
      "[ 0  3  6  9 12 15 18 21 24 27]\n"
     ]
    }
   ],
   "source": [
    "v = np.arange(0, 30, 3) # 0 dan 30'a üçer üçer atlayarak git.\n",
    "print(v)\n"
   ]
  },
  {
   "cell_type": "code",
   "execution_count": 70,
   "metadata": {},
   "outputs": [
    {
     "name": "stdout",
     "output_type": "stream",
     "text": [
      "[ 3  9 15]\n"
     ]
    }
   ],
   "source": [
    "getir = [1, 3, 5]\n",
    "print(v[getir])"
   ]
  },
  {
   "attachments": {},
   "cell_type": "markdown",
   "metadata": {},
   "source": [
    "``Bu işlemi altta olduğu gibi uzun uzadıya da yapabilirdik.Yukarıdaki kısa,aşağıdaki uzun yol.``"
   ]
  },
  {
   "cell_type": "code",
   "execution_count": 76,
   "metadata": {},
   "outputs": [
    {
     "name": "stdout",
     "output_type": "stream",
     "text": [
      "[3, 9, 15]\n"
     ]
    }
   ],
   "source": [
    "print([v[1] ,v[3], v[5]])"
   ]
  },
  {
   "attachments": {},
   "cell_type": "markdown",
   "metadata": {},
   "source": [
    "    veya"
   ]
  },
  {
   "cell_type": "code",
   "execution_count": 74,
   "metadata": {},
   "outputs": [
    {
     "name": "stdout",
     "output_type": "stream",
     "text": [
      "[3, 9, 15]\n"
     ]
    }
   ],
   "source": [
    "liste = [v[1], v[3], v[5]]\n",
    "print(liste)"
   ]
  },
  {
   "cell_type": "code",
   "execution_count": 78,
   "metadata": {},
   "outputs": [
    {
     "name": "stdout",
     "output_type": "stream",
     "text": [
      "[[0 1 2]\n",
      " [3 4 5]\n",
      " [6 7 8]]\n",
      "<----------->\n",
      "[1 5]\n"
     ]
    }
   ],
   "source": [
    "m = np.arange(9).reshape(3, 3)\n",
    "print(m)\n",
    "satir = np.array([0, 1])\n",
    "sutun = np.array([1, 2])\n",
    "print(\"<----------->\")\n",
    "print(m[satir, sutun])"
   ]
  },
  {
   "cell_type": "code",
   "execution_count": 91,
   "metadata": {},
   "outputs": [
    {
     "name": "stdout",
     "output_type": "stream",
     "text": [
      "[3]\n"
     ]
    }
   ],
   "source": [
    "print(m[1, [0]]) #1.satırın 0.indexindeki eleman"
   ]
  },
  {
   "cell_type": "code",
   "execution_count": 92,
   "metadata": {},
   "outputs": [
    {
     "name": "stdout",
     "output_type": "stream",
     "text": [
      "[3 4]\n"
     ]
    }
   ],
   "source": [
    "print(m[1, [0,1]]) #1.satırın 0. ve 1.indexindeki eleman"
   ]
  },
  {
   "cell_type": "code",
   "execution_count": 94,
   "metadata": {},
   "outputs": [
    {
     "name": "stdout",
     "output_type": "stream",
     "text": [
      "[7 8]\n"
     ]
    }
   ],
   "source": [
    "print(m[2, [1,2]]) #2.satırın 1. ve 2.indexindeki eleman"
   ]
  },
  {
   "cell_type": "code",
   "execution_count": 95,
   "metadata": {},
   "outputs": [
    {
     "name": "stdout",
     "output_type": "stream",
     "text": [
      "[[1 2]\n",
      " [4 5]\n",
      " [7 8]]\n"
     ]
    }
   ],
   "source": [
    "print(m[0:, [1, 2]]) #0 dahil olmak üzere ondan sonraki tüm satırlarda 1.ve 2.indexlerdeki sütun elemanları"
   ]
  },
  {
   "attachments": {},
   "cell_type": "markdown",
   "metadata": {},
   "source": [
    "# Koşullu Eleman İşlemleri"
   ]
  },
  {
   "cell_type": "code",
   "execution_count": 100,
   "metadata": {},
   "outputs": [
    {
     "name": "stdout",
     "output_type": "stream",
     "text": [
      "[False False False  True  True  True]\n"
     ]
    }
   ],
   "source": [
    "v = np.array([1, 2, 3, 4, 5,16])\n",
    "print(v > 3)"
   ]
  },
  {
   "cell_type": "code",
   "execution_count": 104,
   "metadata": {},
   "outputs": [
    {
     "data": {
      "text/plain": [
       "2"
      ]
     },
     "execution_count": 104,
     "metadata": {},
     "output_type": "execute_result"
    }
   ],
   "source": [
    "v[1]"
   ]
  },
  {
   "cell_type": "code",
   "execution_count": 101,
   "metadata": {},
   "outputs": [
    {
     "name": "stdout",
     "output_type": "stream",
     "text": [
      "[ 4  5 16]\n"
     ]
    }
   ],
   "source": [
    "print(v[v > 3]) #3den büyük olanları(4,5,6. indisler.) bul ve sonuçları v[sonucların indisleri] içine yaz.\n",
    "# v[4] , v[5] , v[6]\n",
    "#Bu şekilde yaptık çünkü yukarıda boolean(True or False) değer döndürürken burada değerin kendisini döndürür."
   ]
  },
  {
   "cell_type": "code",
   "execution_count": 105,
   "metadata": {},
   "outputs": [
    {
     "name": "stdout",
     "output_type": "stream",
     "text": [
      "[1 2]\n"
     ]
    }
   ],
   "source": [
    "print(v[v < 3])"
   ]
  },
  {
   "cell_type": "code",
   "execution_count": 106,
   "metadata": {},
   "outputs": [
    {
     "name": "stdout",
     "output_type": "stream",
     "text": [
      "[ 3  4  5 16]\n"
     ]
    }
   ],
   "source": [
    "print(v[v >= 3])"
   ]
  },
  {
   "cell_type": "code",
   "execution_count": 107,
   "metadata": {},
   "outputs": [
    {
     "name": "stdout",
     "output_type": "stream",
     "text": [
      "[1 2 3]\n"
     ]
    }
   ],
   "source": [
    "print(v[v <= 3])"
   ]
  },
  {
   "cell_type": "code",
   "execution_count": 109,
   "metadata": {},
   "outputs": [
    {
     "name": "stdout",
     "output_type": "stream",
     "text": [
      "[ True  True False  True  True  True]\n"
     ]
    }
   ],
   "source": [
    "print(v!=3)\n",
    "#Görüldüğü gibi array içerisindeki değerleri değil sonuçların True Falseliğine bakar.\n",
    "#Örneğin aşağıda olduğu gibi direkt 2.indexi False döndürerek onu sonuca almaz.\n",
    "#Yani 16 değerini : v[16] olarak değil v[5] (5.index True DÖndüğü için) = 16 olarak döndürdü."
   ]
  },
  {
   "cell_type": "code",
   "execution_count": 108,
   "metadata": {},
   "outputs": [
    {
     "name": "stdout",
     "output_type": "stream",
     "text": [
      "[ 1  2  4  5 16]\n"
     ]
    }
   ],
   "source": [
    "print(v[v != 3])"
   ]
  },
  {
   "cell_type": "code",
   "execution_count": 111,
   "metadata": {},
   "outputs": [
    {
     "name": "stdout",
     "output_type": "stream",
     "text": [
      "[False False False False False  True]\n"
     ]
    }
   ],
   "source": [
    "print(v == 16)"
   ]
  },
  {
   "cell_type": "code",
   "execution_count": 117,
   "metadata": {},
   "outputs": [
    {
     "name": "stdout",
     "output_type": "stream",
     "text": [
      "[16]\n"
     ]
    }
   ],
   "source": [
    "print(v[v == 16])\n"
   ]
  },
  {
   "cell_type": "code",
   "execution_count": 118,
   "metadata": {},
   "outputs": [
    {
     "name": "stdout",
     "output_type": "stream",
     "text": [
      "[16]\n",
      "16\n"
     ]
    },
    {
     "data": {
      "text/plain": [
       "True"
      ]
     },
     "execution_count": 118,
     "metadata": {},
     "output_type": "execute_result"
    }
   ],
   "source": [
    "print(v[v == 16]) == print(v[5])\n",
    "#Görüldüğü gibi TRUE değer döndürdü."
   ]
  },
  {
   "attachments": {},
   "cell_type": "markdown",
   "metadata": {},
   "source": [
    "Aksi olsaydı:"
   ]
  },
  {
   "cell_type": "code",
   "execution_count": 119,
   "metadata": {},
   "outputs": [
    {
     "ename": "IndexError",
     "evalue": "index 16 is out of bounds for axis 0 with size 6",
     "output_type": "error",
     "traceback": [
      "\u001b[1;31m---------------------------------------------------------------------------\u001b[0m",
      "\u001b[1;31mIndexError\u001b[0m                                Traceback (most recent call last)",
      "Cell \u001b[1;32mIn[119], line 1\u001b[0m\n\u001b[1;32m----> 1\u001b[0m (v[\u001b[39m16\u001b[39;49m]) \u001b[39m==\u001b[39m (v[\u001b[39m5\u001b[39m])\n",
      "\u001b[1;31mIndexError\u001b[0m: index 16 is out of bounds for axis 0 with size 6"
     ]
    }
   ],
   "source": [
    "(v[16]) == (v[5])\n",
    "#Bu işleme de TRUE döndürürdü.16 index yok ki getiremem diyor."
   ]
  },
  {
   "attachments": {},
   "cell_type": "markdown",
   "metadata": {},
   "source": [
    "# Matematiksel İşlemler"
   ]
  },
  {
   "cell_type": "code",
   "execution_count": 120,
   "metadata": {},
   "outputs": [
    {
     "name": "stdout",
     "output_type": "stream",
     "text": [
      "[ 1  2  3  4  5 16]\n"
     ]
    }
   ],
   "source": [
    "print(v)"
   ]
  },
  {
   "cell_type": "code",
   "execution_count": 121,
   "metadata": {},
   "outputs": [
    {
     "name": "stdout",
     "output_type": "stream",
     "text": [
      "[ 2  4  6  8 10 32]\n"
     ]
    }
   ],
   "source": [
    "print(v * 2)"
   ]
  },
  {
   "cell_type": "code",
   "execution_count": 122,
   "metadata": {},
   "outputs": [
    {
     "name": "stdout",
     "output_type": "stream",
     "text": [
      "[ 3  4  5  6  7 18]\n"
     ]
    }
   ],
   "source": [
    "print(v + 2)"
   ]
  },
  {
   "cell_type": "code",
   "execution_count": 123,
   "metadata": {},
   "outputs": [
    {
     "name": "stdout",
     "output_type": "stream",
     "text": [
      "[0.5 1.  1.5 2.  2.5 8. ]\n"
     ]
    }
   ],
   "source": [
    "print(v * 5 / 10)"
   ]
  },
  {
   "cell_type": "code",
   "execution_count": 124,
   "metadata": {},
   "outputs": [
    {
     "name": "stdout",
     "output_type": "stream",
     "text": [
      "[  1   4   9  16  25 256]\n"
     ]
    }
   ],
   "source": [
    "print(v ** 2)"
   ]
  },
  {
   "cell_type": "code",
   "execution_count": 126,
   "metadata": {},
   "outputs": [
    {
     "name": "stdout",
     "output_type": "stream",
     "text": [
      "[ 1  2  3  4  5 16]\n"
     ]
    }
   ],
   "source": [
    "print(v)"
   ]
  },
  {
   "cell_type": "code",
   "execution_count": 125,
   "metadata": {},
   "outputs": [
    {
     "name": "stdout",
     "output_type": "stream",
     "text": [
      "[-1  0  1  2  3 14]\n"
     ]
    }
   ],
   "source": [
    "print(np.subtract(v, 2)) # .subtract() fonksiyonu vektörlerde çıkarma işlemi yapar.\n",
    "# v deki elemanların hepsinden 2 çıkardık."
   ]
  },
  {
   "cell_type": "code",
   "execution_count": 127,
   "metadata": {},
   "outputs": [
    {
     "name": "stdout",
     "output_type": "stream",
     "text": [
      "[ 3  4  5  6  7 18]\n"
     ]
    }
   ],
   "source": [
    "print(np.add(v, 2)) # .add() fonksiyonu vektörlerde toplama işlemi yapar.\n",
    "#Hepsine 2 ekledik."
   ]
  },
  {
   "cell_type": "code",
   "execution_count": 128,
   "metadata": {},
   "outputs": [
    {
     "name": "stdout",
     "output_type": "stream",
     "text": [
      "[ 2  4  6  8 10 32]\n"
     ]
    }
   ],
   "source": [
    "print(np.multiply(v, 2)) # .multiply() fonksiyonu vektörlerde çarpma işlemi yapar."
   ]
  },
  {
   "cell_type": "code",
   "execution_count": 129,
   "metadata": {},
   "outputs": [
    {
     "name": "stdout",
     "output_type": "stream",
     "text": [
      "[0.5 1.  1.5 2.  2.5 8. ]\n"
     ]
    }
   ],
   "source": [
    "print(np.divide(v, 2)) #.divide()  fonksiyonu vektörlerde bölme işlemi yapar."
   ]
  },
  {
   "cell_type": "code",
   "execution_count": 130,
   "metadata": {},
   "outputs": [
    {
     "name": "stdout",
     "output_type": "stream",
     "text": [
      "[  1   4   9  16  25 256]\n"
     ]
    }
   ],
   "source": [
    "print(np.power(v, 2)) # .power() fonksiyonu vektörlerde üs alma işlemi yapar."
   ]
  },
  {
   "cell_type": "code",
   "execution_count": 131,
   "metadata": {},
   "outputs": [
    {
     "name": "stdout",
     "output_type": "stream",
     "text": [
      "[1 0 1 0 1 0]\n"
     ]
    }
   ],
   "source": [
    "print(np.mod(v, 2)) # .mod() fonksiyonu vektörlerde mod alma işlemi yapar."
   ]
  },
  {
   "cell_type": "code",
   "execution_count": 132,
   "metadata": {},
   "outputs": [
    {
     "name": "stdout",
     "output_type": "stream",
     "text": [
      "[ 1  2  3  4  5 16]\n"
     ]
    }
   ],
   "source": [
    "print(np.absolute(v)) # .absolute() fonksiyonu vektörlerde mutlak değer alma işlemi yapar."
   ]
  },
  {
   "cell_type": "code",
   "execution_count": 133,
   "metadata": {},
   "outputs": [
    {
     "name": "stdout",
     "output_type": "stream",
     "text": [
      "0.9589157234143065\n"
     ]
    }
   ],
   "source": [
    "print(np.sin(360)) # .sin() fonksiyonu vektörlerde sinüs alma işlemi yapar."
   ]
  },
  {
   "cell_type": "code",
   "execution_count": 134,
   "metadata": {},
   "outputs": [
    {
     "data": {
      "text/plain": [
       "-0.2836910914865273"
      ]
     },
     "execution_count": 134,
     "metadata": {},
     "output_type": "execute_result"
    }
   ],
   "source": [
    "np.cos(360) # .cos() fonksiyonu vektörlerde kosinüs alma işlemi yapar."
   ]
  },
  {
   "cell_type": "code",
   "execution_count": 135,
   "metadata": {},
   "outputs": [
    {
     "name": "stdout",
     "output_type": "stream",
     "text": [
      "2.302585092994046\n"
     ]
    }
   ],
   "source": [
    "print(np.log(10)) # .log() fonksiyonu vektörlerde logaritma alma işlemi yapar."
   ]
  }
 ],
 "metadata": {
  "kernelspec": {
   "display_name": "Python 3",
   "language": "python",
   "name": "python3"
  },
  "language_info": {
   "codemirror_mode": {
    "name": "ipython",
    "version": 3
   },
   "file_extension": ".py",
   "mimetype": "text/x-python",
   "name": "python",
   "nbconvert_exporter": "python",
   "pygments_lexer": "ipython3",
   "version": "3.11.1"
  },
  "orig_nbformat": 4
 },
 "nbformat": 4,
 "nbformat_minor": 2
}
