{
 "cells": [
  {
   "cell_type": "code",
   "execution_count": 104,
   "metadata": {},
   "outputs": [
    {
     "name": "stdout",
     "output_type": "stream",
     "text": [
      "1.kök: 1.0\n",
      "2.kök: -1.0\n"
     ]
    }
   ],
   "source": [
    "# a^2x + bx + c\n",
    "def kokbul(a,b,c):\n",
    "    delta = (b**2 -4*a*c)\n",
    "    if delta < 0:\n",
    "        print(\"Reel kök yoktur.\")\n",
    "        return #Bu return'ü her hnagi bir değer döndürmek için değil bu bloğun son bulması için yazdık.\n",
    "    \n",
    "    else:\n",
    "        x1 = (-(b)  + delta**0.5)/ 2*a\n",
    "        x2 = (+(b)  + delta**0.5) / 2*a\n",
    "        print(\"1.kök:\" , x1)\n",
    "        print(\"2.kök:\" , x2)\n",
    "kokbul(1,-2,1)\n"
   ]
  },
  {
   "cell_type": "code",
   "execution_count": 73,
   "metadata": {},
   "outputs": [
    {
     "name": "stdout",
     "output_type": "stream",
     "text": [
      "ax^2 + bx + c = 0 formatındaki parabolünüzün a,b ve c kat sayılarını giriniz.\n",
      "x1 , x2 : (-1.0, -3.5)\n",
      "Kökler toplamını görmek için T tuşuna, kökler çarpımını görmek için Ç basınız.Çıkmak için Q kullanınız.\n",
      "Kökler toplamı = -4.5\n",
      "Kökler çarpımını görmek için Ç basınız.Çıkmak için Q kullanınız.\n",
      "Kökler çarpımı = 3.5\n",
      "Çıkmak için Q kullanınız.\n",
      "Matematikli günler!\n"
     ]
    }
   ],
   "source": [
    "print(\"ax^2 + bx + c = 0 formatındaki parabolünüzün a,b ve c kat sayılarını giriniz.\")\n",
    "def kokbull(a,b,c):\n",
    "    delta = (b*b -4*a*c)\n",
    "    if delta < 0:\n",
    "        print(\"Reel kök yoktur.\")\n",
    "        return\n",
    "    global x1\n",
    "    global x2\n",
    "    x1 = (-(b)  + delta**0.5)/ (2*a)\n",
    "    x2 = (-(b)  - delta**0.5) / (2*a)\n",
    "    \n",
    "    return (x1,x2)\n",
    " \n",
    "a = int(input(\"a?:\"))\n",
    "b = int(input(\"b?:\"))\n",
    "c = int(input(\"c?:\"))\n",
    "sonuccc = kokbull(a,b,c)\n",
    "\n",
    "print(\"x1 , x2 :\" , sonuccc)\n",
    "\n",
    "print(\"Kökler toplamını görmek için T tuşuna, kökler çarpımını görmek için Ç basınız.Çıkmak için Q kullanınız.\")\n",
    "tc = input(\" \")\n",
    "if tc == \"T\":\n",
    "    print(f\"Kökler toplamı = {x1+x2}\")\n",
    "    print(\"Kökler çarpımını görmek için Ç basınız.Çıkmak için Q kullanınız.\")\n",
    "    insert = input(\" \")\n",
    "    if insert == \"Ç\":\n",
    "        print(f\"Kökler çarpımı = {x1*x2}\")\n",
    "        print(\"Çıkmak için Q kullanınız.\")\n",
    "        insert2 = input(\" \")\n",
    "        if insert2 == \"Q\":\n",
    "             print(\"Matematikli günler!\")\n",
    "        else:\n",
    "            print(\"Matematikli günler!\")\n",
    "elif tc == \"Ç\":\n",
    "    print(f\"Kökler çarpımı = {x1*x2}\")\n",
    "    print(\"Çıkmak için Q kullanınız.\")\n",
    "    insert3= input(\" \")\n",
    "    if insert3 == \"Q\":\n",
    "        print(\"Matematikli günler!\")    \n",
    "else:\n",
    "    print(\"Matematikli günler!\")"
   ]
  }
 ],
 "metadata": {
  "kernelspec": {
   "display_name": "Python 3",
   "language": "python",
   "name": "python3"
  },
  "language_info": {
   "codemirror_mode": {
    "name": "ipython",
    "version": 3
   },
   "file_extension": ".py",
   "mimetype": "text/x-python",
   "name": "python",
   "nbconvert_exporter": "python",
   "pygments_lexer": "ipython3",
   "version": "3.11.1"
  },
  "orig_nbformat": 4
 },
 "nbformat": 4,
 "nbformat_minor": 2
}
