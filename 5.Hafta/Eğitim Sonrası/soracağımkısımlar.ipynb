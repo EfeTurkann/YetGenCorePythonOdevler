{
 "cells": [
  {
   "attachments": {},
   "cell_type": "markdown",
   "metadata": {},
   "source": [
    "- \"Eğer bir ifade stringse listeye ekle.\" bunu pythona nasıl yazabiliriz.Örn:\n",
    "- liste = [1,2,3,4,5,\"x\" , \"y\" , \"z\" , 1.6 , 2.8] listesinden stringse yeni bir listeye,integer ise yeni bir listeye ekleme float ise yeni listeye ekleme?\n",
    "- strliste = []\n",
    "- intliste = []\n",
    "for i in range(len(liste)):\n",
    "    if [i] in liste"
   ]
  },
  {
   "attachments": {},
   "cell_type": "markdown",
   "metadata": {},
   "source": [
    "------\n"
   ]
  },
  {
   "attachments": {},
   "cell_type": "markdown",
   "metadata": {},
   "source": [
    "Recursion işlemini notlarına ekle."
   ]
  }
 ],
 "metadata": {
  "language_info": {
   "name": "python"
  },
  "orig_nbformat": 4
 },
 "nbformat": 4,
 "nbformat_minor": 2
}
