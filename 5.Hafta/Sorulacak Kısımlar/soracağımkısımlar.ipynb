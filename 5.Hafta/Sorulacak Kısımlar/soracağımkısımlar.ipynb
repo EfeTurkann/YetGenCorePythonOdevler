{
 "cells": [
  {
   "attachments": {},
   "cell_type": "markdown",
   "metadata": {},
   "source": [
    "- \"Eğer bir ifade stringse listeye ekle.\" bunu pythona nasıl yazabiliriz.Örn:\n",
    "- liste = [1,2,3,4,5,\"x\" , \"y\" , \"z\" , 1.6 , 2.8] listesinden stringse yeni bir listeye,integer ise yeni bir listeye ekleme float ise yeni listeye ekleme?\n",
    "- strliste = []\n",
    "- intliste = []\n",
    "- for i in range(len(liste)):\n",
    "    if [i] in liste"
   ]
  },
  {
   "attachments": {},
   "cell_type": "markdown",
   "metadata": {},
   "source": [
    "------\n"
   ]
  },
  {
   "attachments": {},
   "cell_type": "markdown",
   "metadata": {},
   "source": [
    "* Peki string ifadelerin uzunluklarına göre yapmak isteseydik?\n"
   ]
  },
  {
   "cell_type": "code",
   "execution_count": 9,
   "metadata": {},
   "outputs": [
    {
     "name": "stdout",
     "output_type": "stream",
     "text": [
      "Orijinal listemiz:\t\t     [['d4444', 4, 28], ['c22', 2, 20], ['b333', 1, 20], ['a1', 3, 21]]\n",
      "0. indexe göre sıralanmış listemiz:  [['a1', 3, 21], ['b333', 1, 20], ['c22', 2, 20], ['d4444', 4, 28]]\n"
     ]
    }
   ],
   "source": [
    "# liste oluşturalım.\n",
    "deneme_listesi = [['d4444', 4, 28], ['c22', 2, 20],\n",
    "\t\t\t['b333', 1, 20], ['a1', 3, 21]]\n",
    "\n",
    "#orijinal listeyi yazdıralım.\n",
    "print (\"Orijinal listemiz:\t\t    \" , deneme_listesi)\n",
    "\n",
    "# sort yöntemi ile listeyi sıralayalım.\n",
    "# 0.indexe göre sıralama işlemi yapalım.\n",
    "deneme_listesi.sort(key = lambda x :x[0])\n",
    "\n",
    "# sonucumuzu bastıralım.\n",
    "print (\"0. indexe göre sıralanmış listemiz: \" , deneme_listesi)\n",
    "# 0 indexdekileri alfabetik olarak sıraladı.\n"
   ]
  },
  {
   "cell_type": "code",
   "execution_count": 10,
   "metadata": {},
   "outputs": [
    {
     "name": "stdout",
     "output_type": "stream",
     "text": [
      "Orijinal listemiz:\t\t     [['efeeeeeeeeeeee', 4, 28, 7, 87], ['AEfen', 2, 20], ['efenno', 1, 23], ['eEfennos', 3, 21, 4]]\n",
      "['efeeeeeeeeeeee', 'AEfen', 'efenno', 'eEfennos']\n",
      "['AEfen', 'efenno', 'eEfennos', 'efeeeeeeeeeeee']\n"
     ]
    }
   ],
   "source": [
    "# liste oluşturalım.\n",
    "from operator import itemgetter\n",
    "\n",
    "deneme_listesi = [['efeeeeeeeeeeee', 4, 28,7,87], ['AEfen', 2, 20],\n",
    "\t\t\t['efenno', 1, 23], ['eEfennos', 3, 21,4]]\n",
    "\n",
    "#orijinal listeyi yazdıralım.\n",
    "print (\"Orijinal listemiz:\t\t    \" , deneme_listesi)\n",
    "\n",
    "new = []\n",
    "for i in deneme_listesi:\n",
    "    for j in i:\n",
    "        if j == str(j):\n",
    "            new.append(j)\n",
    "        \n",
    "print(new)\n",
    "new.sort(key = len)\n",
    "print(new)"
   ]
  },
  {
   "cell_type": "code",
   "execution_count": 11,
   "metadata": {},
   "outputs": [
    {
     "name": "stdout",
     "output_type": "stream",
     "text": [
      "['AEfen', 'efenno', 'eEfennos', 'efeeeeeeeeeeee']\n"
     ]
    }
   ],
   "source": [
    "l = sorted(new, key=len)\n",
    "print(l)"
   ]
  }
 ],
 "metadata": {
  "kernelspec": {
   "display_name": "Python 3",
   "language": "python",
   "name": "python3"
  },
  "language_info": {
   "codemirror_mode": {
    "name": "ipython",
    "version": 3
   },
   "file_extension": ".py",
   "mimetype": "text/x-python",
   "name": "python",
   "nbconvert_exporter": "python",
   "pygments_lexer": "ipython3",
   "version": "3.11.1"
  },
  "orig_nbformat": 4
 },
 "nbformat": 4,
 "nbformat_minor": 2
}
