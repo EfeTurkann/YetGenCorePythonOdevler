{
 "cells": [
  {
   "cell_type": "code",
   "execution_count": 1,
   "metadata": {},
   "outputs": [
    {
     "name": "stdout",
     "output_type": "stream",
     "text": [
      "0\n",
      "1\n"
     ]
    }
   ],
   "source": [
    "for i in range(2):\n",
    "    aa = input(\" \")\n",
    "    print(aa)"
   ]
  },
  {
   "cell_type": "code",
   "execution_count": 17,
   "metadata": {},
   "outputs": [
    {
     "data": {
      "text/plain": [
       "6"
      ]
     },
     "execution_count": 17,
     "metadata": {},
     "output_type": "execute_result"
    }
   ],
   "source": [
    "def deneme(a,b,c):\n",
    "    return a*b*c\n",
    "a = int(input(\"a?:\"))\n",
    "b = int(input(\"b?:\"))\n",
    "c = int(input(\"c?:\"))\n",
    "sonuc = deneme(a,b,c)\n",
    "\n",
    "deneme(1,2,3)"
   ]
  },
  {
   "cell_type": "code",
   "execution_count": 3,
   "metadata": {},
   "outputs": [
    {
     "name": "stdout",
     "output_type": "stream",
     "text": [
      "5\n"
     ]
    },
    {
     "data": {
      "text/plain": [
       "16"
      ]
     },
     "execution_count": 3,
     "metadata": {},
     "output_type": "execute_result"
    }
   ],
   "source": [
    "def topla(a,b):\n",
    "    c = a+b\n",
    "    print(c)\n",
    "    return c\n",
    "\n",
    "topla(2,3) + 11\n"
   ]
  },
  {
   "cell_type": "code",
   "execution_count": 74,
   "metadata": {},
   "outputs": [
    {
     "name": "stdout",
     "output_type": "stream",
     "text": [
      "5\n"
     ]
    },
    {
     "ename": "TypeError",
     "evalue": "unsupported operand type(s) for +: 'NoneType' and 'int'",
     "output_type": "error",
     "traceback": [
      "\u001b[1;31m---------------------------------------------------------------------------\u001b[0m",
      "\u001b[1;31mTypeError\u001b[0m                                 Traceback (most recent call last)",
      "Cell \u001b[1;32mIn[74], line 5\u001b[0m\n\u001b[0;32m      2\u001b[0m     c \u001b[39m=\u001b[39m a\u001b[39m+\u001b[39mb\n\u001b[0;32m      3\u001b[0m     \u001b[39mprint\u001b[39m(c)\n\u001b[1;32m----> 5\u001b[0m topla(\u001b[39m2\u001b[39;49m,\u001b[39m3\u001b[39;49m) \u001b[39m+\u001b[39;49m \u001b[39m6\u001b[39;49m\n",
      "\u001b[1;31mTypeError\u001b[0m: unsupported operand type(s) for +: 'NoneType' and 'int'"
     ]
    }
   ],
   "source": [
    "def topla(a,b):\n",
    "    c = a+b\n",
    "    print(c)\n",
    "\n",
    "topla(2,3) + 6"
   ]
  },
  {
   "cell_type": "code",
   "execution_count": 132,
   "metadata": {},
   "outputs": [
    {
     "data": {
      "text/plain": [
       "121"
      ]
     },
     "execution_count": 132,
     "metadata": {},
     "output_type": "execute_result"
    }
   ],
   "source": [
    "a = int(input(\"Sayı:\"))\n",
    "def fuck(x):\n",
    "    global sonuc\n",
    "    sonuc = 1\n",
    "    for i in range(1,x+1):\n",
    "        sonuc = sonuc * i\n",
    "    return sonuc\n",
    "\n",
    "fuck(a) + 1\n"
   ]
  },
  {
   "cell_type": "code",
   "execution_count": 1,
   "metadata": {},
   "outputs": [
    {
     "name": "stdout",
     "output_type": "stream",
     "text": [
      "120\n"
     ]
    }
   ],
   "source": [
    "a = int(input(\"Sayı:\"))\n",
    "def fuck(x):\n",
    "    global sonuc\n",
    "    sonuc = 1\n",
    "    for i in range(1,x+1):\n",
    "        sonuc = sonuc * i\n",
    "    print(sonuc)\n",
    "\n",
    "fuck(a) \n"
   ]
  },
  {
   "cell_type": "code",
   "execution_count": 5,
   "metadata": {},
   "outputs": [
    {
     "data": {
      "text/plain": [
       "11"
      ]
     },
     "execution_count": 5,
     "metadata": {},
     "output_type": "execute_result"
    }
   ],
   "source": [
    "def topla(a,b):\n",
    "    return a+b\n",
    "topla(2,3) +6 \n"
   ]
  }
 ],
 "metadata": {
  "kernelspec": {
   "display_name": "Python 3",
   "language": "python",
   "name": "python3"
  },
  "language_info": {
   "codemirror_mode": {
    "name": "ipython",
    "version": 3
   },
   "file_extension": ".py",
   "mimetype": "text/x-python",
   "name": "python",
   "nbconvert_exporter": "python",
   "pygments_lexer": "ipython3",
   "version": "3.11.1"
  },
  "orig_nbformat": 4
 },
 "nbformat": 4,
 "nbformat_minor": 2
}
