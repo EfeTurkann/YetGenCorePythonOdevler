{
 "cells": [
  {
   "cell_type": "code",
   "execution_count": 3,
   "metadata": {},
   "outputs": [
    {
     "name": "stdout",
     "output_type": "stream",
     "text": [
      "Hatalı Giriş!\n",
      "Hatalı Giriş!\n",
      "Hatalı Giriş!\n",
      "Hatalı Giriş!\n",
      "Hatalı Giriş!\n",
      "Hatalı Giriş!\n",
      "Hatalı Giriş!\n",
      "DOĞRU GİRİŞ!\n"
     ]
    }
   ],
   "source": [
    "kullaniciadi = \"efe\"\n",
    "sifre = \"123\"\n",
    "\n",
    "while True:\n",
    "    a = input(\"Kullanıcı adını giriniz. \")\n",
    "    b = input(\"Şifreyi giriniz. \")\n",
    "    if a != kullaniciadi or b != sifre:\n",
    "        print(\"Hatalı Giriş!\")\n",
    "    else:\n",
    "        print(\"DOĞRU GİRİŞ!\")\n",
    "        break"
   ]
  }
 ],
 "metadata": {
  "kernelspec": {
   "display_name": "Python 3",
   "language": "python",
   "name": "python3"
  },
  "language_info": {
   "codemirror_mode": {
    "name": "ipython",
    "version": 3
   },
   "file_extension": ".py",
   "mimetype": "text/x-python",
   "name": "python",
   "nbconvert_exporter": "python",
   "pygments_lexer": "ipython3",
   "version": "3.11.1"
  },
  "orig_nbformat": 4
 },
 "nbformat": 4,
 "nbformat_minor": 2
}
