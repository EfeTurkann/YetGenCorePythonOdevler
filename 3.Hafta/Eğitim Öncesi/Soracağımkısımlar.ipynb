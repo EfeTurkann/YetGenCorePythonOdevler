{
 "cells": [
  {
   "cell_type": "code",
   "execution_count": 17,
   "metadata": {},
   "outputs": [],
   "source": [
    "sayi = int(input(\"Sayı girin: \"))\n",
    "if sayi % 2 == 0:\n",
    "    print(f\"{sayi} sayısı çifttir.\")\n",
    "    if sayi % 2 !=  0:\n",
    "        print(f\"{sayi} sayısı tektir.\") \n",
    "#  Tek Sayı Girince Çıktı vermemesinin sebebi? iç içe if kullanmak istediğim için bu yolu tercih ettim. "
   ]
  }
 ],
 "metadata": {
  "kernelspec": {
   "display_name": "Python 3",
   "language": "python",
   "name": "python3"
  },
  "language_info": {
   "name": "python",
   "version": "3.11.1"
  },
  "orig_nbformat": 4
 },
 "nbformat": 4,
 "nbformat_minor": 2
}
