{
 "cells": [
  {
   "attachments": {},
   "cell_type": "markdown",
   "metadata": {},
   "source": [
    "# Karşılaştırma Operatörleri\n",
    "- = atama operatörüdür. x = 5 dersek x değerini 5'e atamış oluruz.\n",
    "- == iki değerin birbirine eşit olup olmadığını kontrol eder. Eşitse True değilse False değerini döndürür.\n",
    "- != eşit değil mi? Cevap eşit değilse True , eşitse False değerini döndürür.\n",
    "-     > büyüktür.\n",
    "- < küçüktür.\n",
    "-      >= büyük eşittir.\n",
    "- <= küçük eşittir."
   ]
  },
  {
   "cell_type": "code",
   "execution_count": 7,
   "metadata": {},
   "outputs": [],
   "source": [
    "a, b, c, d = 5, 5, 10, 4"
   ]
  },
  {
   "cell_type": "code",
   "execution_count": 3,
   "metadata": {},
   "outputs": [
    {
     "name": "stdout",
     "output_type": "stream",
     "text": [
      "True\n",
      "False\n"
     ]
    }
   ],
   "source": [
    "print(a==b) #True\n",
    "print(a==c) #False"
   ]
  },
  {
   "cell_type": "code",
   "execution_count": 5,
   "metadata": {},
   "outputs": [
    {
     "name": "stdout",
     "output_type": "stream",
     "text": [
      "False\n"
     ]
    },
    {
     "data": {
      "text/plain": [
       "True"
      ]
     },
     "execution_count": 5,
     "metadata": {},
     "output_type": "execute_result"
    }
   ],
   "source": [
    "username = \"admin\"\n",
    "password = \"12345\"\n",
    "print(\"berkcan\" == username) #False\n",
    "\"admin\" == username\n"
   ]
  },
  {
   "cell_type": "code",
   "execution_count": 5,
   "metadata": {},
   "outputs": [
    {
     "name": "stdout",
     "output_type": "stream",
     "text": [
      "False\n"
     ]
    }
   ],
   "source": [
    "print(a != b ) #False"
   ]
  },
  {
   "cell_type": "code",
   "execution_count": 6,
   "metadata": {},
   "outputs": [
    {
     "name": "stdout",
     "output_type": "stream",
     "text": [
      "True\n"
     ]
    }
   ],
   "source": [
    "print( a != c) #True"
   ]
  },
  {
   "cell_type": "code",
   "execution_count": 8,
   "metadata": {},
   "outputs": [
    {
     "data": {
      "text/plain": [
       "False"
      ]
     },
     "execution_count": 8,
     "metadata": {},
     "output_type": "execute_result"
    }
   ],
   "source": [
    "print( a > b)"
   ]
  },
  {
   "cell_type": "code",
   "execution_count": 8,
   "metadata": {},
   "outputs": [
    {
     "name": "stdout",
     "output_type": "stream",
     "text": [
      "False\n"
     ]
    }
   ],
   "source": [
    "print( a < b)"
   ]
  },
  {
   "cell_type": "code",
   "execution_count": 9,
   "metadata": {},
   "outputs": [
    {
     "name": "stdout",
     "output_type": "stream",
     "text": [
      "True\n"
     ]
    }
   ],
   "source": [
    "print( a >= b)"
   ]
  },
  {
   "cell_type": "code",
   "execution_count": 10,
   "metadata": {},
   "outputs": [
    {
     "name": "stdout",
     "output_type": "stream",
     "text": [
      "True\n"
     ]
    }
   ],
   "source": [
    "print(a <= b)"
   ]
  },
  {
   "attachments": {},
   "cell_type": "markdown",
   "metadata": {},
   "source": [
    "# Mantıksal Operatörler\n"
   ]
  },
  {
   "attachments": {},
   "cell_type": "markdown",
   "metadata": {},
   "source": [
    "## AND OPERATÖRÜ\n",
    "\n",
    "- True and True = True\n",
    "- True and False = False\n",
    "- False and True = False\n",
    "- False and False = False\n",
    "- Her iki durumda eğer doğruysa True değerini döndürür. Diğer durumlarda hep False değerini döndürür."
   ]
  },
  {
   "cell_type": "code",
   "execution_count": 10,
   "metadata": {},
   "outputs": [
    {
     "name": "stdout",
     "output_type": "stream",
     "text": [
      "False\n"
     ]
    }
   ],
   "source": [
    "x = int(input(\"Bir sayı girin; \"))\n",
    "print( x > 5 and x < 100) "
   ]
  },
  {
   "cell_type": "code",
   "execution_count": 14,
   "metadata": {},
   "outputs": [
    {
     "name": "stdout",
     "output_type": "stream",
     "text": [
      "True\n"
     ]
    }
   ],
   "source": [
    "hak = 5\n",
    "devamMi = True\n",
    "print(hak > 0 and devamMi == True)"
   ]
  },
  {
   "attachments": {},
   "cell_type": "markdown",
   "metadata": {},
   "source": [
    "## OR OPERATÖRÜ\n",
    "\n",
    "- True or True = True\n",
    "- True or False = True\n",
    "- False or True = True\n",
    "- False or False = False\n",
    "- Yalnızca 2 durum da yanlışsa False, diğer durumlarda True döndürür."
   ]
  },
  {
   "cell_type": "code",
   "execution_count": 11,
   "metadata": {},
   "outputs": [
    {
     "name": "stdout",
     "output_type": "stream",
     "text": [
      "True\n"
     ]
    }
   ],
   "source": [
    "x = int(input(\"Bir sayı girin; \"))\n",
    "print(x > 0 or x % 2 == 0 )"
   ]
  },
  {
   "cell_type": "code",
   "execution_count": 21,
   "metadata": {},
   "outputs": [
    {
     "name": "stdout",
     "output_type": "stream",
     "text": [
      "True\n"
     ]
    }
   ],
   "source": [
    "print( 3 > 1 and 3 > 2)"
   ]
  },
  {
   "cell_type": "code",
   "execution_count": 22,
   "metadata": {},
   "outputs": [
    {
     "name": "stdout",
     "output_type": "stream",
     "text": [
      "True\n"
     ]
    }
   ],
   "source": [
    "print(3 > 1 or 3 > 2)"
   ]
  },
  {
   "attachments": {},
   "cell_type": "markdown",
   "metadata": {},
   "source": [
    "## NOT OPERATÖRÜ \n",
    "\n",
    "- True değerini False\n",
    "- False değerini True döndürür."
   ]
  },
  {
   "cell_type": "code",
   "execution_count": 13,
   "metadata": {},
   "outputs": [
    {
     "name": "stdout",
     "output_type": "stream",
     "text": [
      "False\n"
     ]
    }
   ],
   "source": [
    "print(not(True))\n"
   ]
  },
  {
   "attachments": {},
   "cell_type": "markdown",
   "metadata": {},
   "source": [
    "# KARAR YAPILARI\n",
    "\n",
    "- Eğer if bloğu doğruysa diğer durumlara bakılmaz ve if bloğunun altındaki kodlar çalışır.\n",
    "- else yapısının kullanılması zorunlu değildir olsa da olur olmasa da olur.\n",
    "- elif yapısının kullanılması zorunlu değildir olsa da olur olmasa da olur.\n",
    "- elif yapısına birden çok farklı koşullardan doğacak durumların kontrolünü sağlamak için kullanırız.\n",
    "-  else yapısı if ve ,varsa, elif yapısının false olduğu durumlarda ikinci nihai durum olarak çalışır.\n",
    "\n"
   ]
  },
  {
   "attachments": {},
   "cell_type": "markdown",
   "metadata": {},
   "source": [
    "**if** koşul:\n",
    "-      # koşul doğruysa çalışacak kodlar\n",
    "**elif** koşul2:\n",
    "-      # koşul2 doğruysa çalışacak kodlar\n",
    "**else**\n",
    "-      # koşul ve koşul2 yanlışsa çalışacak kodlar          "
   ]
  },
  {
   "cell_type": "code",
   "execution_count": 33,
   "metadata": {},
   "outputs": [
    {
     "name": "stdout",
     "output_type": "stream",
     "text": [
      "If bloğu çalıştı\n",
      "Program sonlandı\n"
     ]
    }
   ],
   "source": [
    "if 3 > 1:\n",
    "    print(\"If bloğu çalıştı\")\n",
    "print(\"Program sonlandı\") \n",
    "# If True olduğu için her ikisi de çalıştı."
   ]
  },
  {
   "cell_type": "code",
   "execution_count": 36,
   "metadata": {},
   "outputs": [
    {
     "name": "stdout",
     "output_type": "stream",
     "text": [
      "Program sonlandı\n"
     ]
    }
   ],
   "source": [
    "if 0 > 1:\n",
    "    print(\"If bloğu çalıştı\") #If yaz (:) koy sonra alt satıra TAB(4Boşlukluk) bırak yoksa çalışmaz!\n",
    "print(\"Program sonlandı\")\n",
    "# If False olduğu için o bloğu pas geçti"
   ]
  },
  {
   "cell_type": "code",
   "execution_count": 71,
   "metadata": {},
   "outputs": [
    {
     "name": "stdout",
     "output_type": "stream",
     "text": [
      "2.sayı 1.sayıdan büyüktür.\n"
     ]
    }
   ],
   "source": [
    "sayi1 = int(input(\"1. Sayı: \"))\n",
    "sayi2 = int(input(\"2. Sayı: \"))\n",
    "if sayi1 > sayi2:\n",
    "    print(\"1. sayı 2. sayıdan büyüktür.\")\n",
    "elif sayi1 == sayi2:\n",
    "    print(\"Sayılar eşittir.\")\n",
    "else:   #Bunun yerine elif sayi1 < sayi2: şeklinde de yazabilirdik.\n",
    "    print(\"2.sayı 1.sayıdan büyüktür.\")\n",
    "\n"
   ]
  },
  {
   "cell_type": "code",
   "execution_count": 51,
   "metadata": {},
   "outputs": [
    {
     "name": "stdout",
     "output_type": "stream",
     "text": [
      "Batmanı seçtiniz.\n"
     ]
    }
   ],
   "source": [
    "superKahraman = input(\"Süper Kahraman Giriniz: \")\n",
    "if superKahraman == \"Batman\":\n",
    "    print(\"Batmanı seçtiniz.\")\n",
    "elif superKahraman == \"Superman\":\n",
    "    print(\"Supermanı seçtiniz\")\n",
    "elif superKahraman == \"IronMan\":\n",
    "    print(\"IronManı seçtiniz.\")\n",
    "else:\n",
    "    print(\"Bizde böyle bir süper kahraman yoktur.\")"
   ]
  },
  {
   "cell_type": "code",
   "execution_count": 14,
   "metadata": {},
   "outputs": [
    {
     "name": "stdout",
     "output_type": "stream",
     "text": [
      "10 sayısı 20 sayısından küçüktür ve 20 sayısı 30 sayısından küçüktür.\n"
     ]
    }
   ],
   "source": [
    "a = 10 \n",
    "b = 20\n",
    "c = 30\n",
    "\n",
    "if a>b and b>c:\n",
    "    print(f\"{a} sayısı {b} sayısından büyüktür ve {b} sayısı {c} sayısından büyüktür.\")\n",
    "if a<b and b<c:\n",
    "     print(f\"{a} sayısı {b} sayısından küçüktür ve {b} sayısı {c} sayısından küçüktür.\")\n",
    "else:\n",
    "     print(\"Bu koşullar tutmadı.\")\n"
   ]
  },
  {
   "cell_type": "code",
   "execution_count": 56,
   "metadata": {},
   "outputs": [
    {
     "name": "stdout",
     "output_type": "stream",
     "text": [
      "Yetgen Mezunusunuz. #YetGenBitmez\n"
     ]
    }
   ],
   "source": [
    "yetgenMezunu = True\n",
    "if yetgenMezunu:\n",
    "    print(\"Yetgen Mezunusunuz. #YetGenBitmez\")\n",
    "else:\n",
    "    print(\"YetGen Mezunu değilsiniz.\")"
   ]
  },
  {
   "cell_type": "code",
   "execution_count": 57,
   "metadata": {},
   "outputs": [
    {
     "name": "stdout",
     "output_type": "stream",
     "text": [
      "YetGen Mezunu değilsiniz.\n"
     ]
    }
   ],
   "source": [
    "yetgenMezunu = False\n",
    "if yetgenMezunu:\n",
    "    print(\"Yetgen Mezunusunuz. #YetGenBitmez\")\n",
    "else:\n",
    "    print(\"YetGen Mezunu değilsiniz.\")"
   ]
  },
  {
   "cell_type": "code",
   "execution_count": 16,
   "metadata": {},
   "outputs": [
    {
     "name": "stdout",
     "output_type": "stream",
     "text": [
      "3.sayı 5'ten büyüktür.\n",
      "4.Sayı 10'dan küçüktür.\n"
     ]
    }
   ],
   "source": [
    "sayi3 = 10\n",
    "sayi4 = 9\n",
    "if sayi3 > 5:\n",
    "    print(\"3.sayı 5'ten büyüktür.\" )\n",
    "    if sayi4 > 10:\n",
    "        print(\"4.Sayı 10'dan büyüktür.\")\n",
    "    else :\n",
    "        print(\"4.Sayı 10'dan küçüktür.\")\n",
    "else:\n",
    "    print(\"3.sayı 5 ten küçüktür.\")\n"
   ]
  },
  {
   "cell_type": "code",
   "execution_count": 69,
   "metadata": {},
   "outputs": [
    {
     "name": "stdout",
     "output_type": "stream",
     "text": [
      "Yokmuş.\n"
     ]
    }
   ],
   "source": [
    "isim = \"Efe\"\n",
    "if \"Türkan\" in isim: #in operatörü var mı ? anlamında kullanılır.\n",
    "    print(\"Varmış\")\n",
    "else:\n",
    "    print(\"Yokmuş.\")\n",
    "     "
   ]
  },
  {
   "cell_type": "code",
   "execution_count": 84,
   "metadata": {},
   "outputs": [
    {
     "name": "stdout",
     "output_type": "stream",
     "text": [
      "3 sayısı tektir.\n"
     ]
    }
   ],
   "source": [
    "sayi = int(input(\"Sayı girin: \"))\n",
    "if sayi % 2 == 0:\n",
    "    print(f\"{sayi} sayısı çifttir.\")\n",
    "else:\n",
    "    print(f\"{sayi} sayısı tektir.\")"
   ]
  },
  {
   "attachments": {},
   "cell_type": "markdown",
   "metadata": {},
   "source": [
    "## in Operatörü\n",
    "Belirtilen bir değerin dizi,metin,liste veya demet gib bir dizinin ögesi olup olmadığını kontrol eder.True ya da False değer döndürür."
   ]
  },
  {
   "cell_type": "code",
   "execution_count": 87,
   "metadata": {},
   "outputs": [
    {
     "data": {
      "text/plain": [
       "False"
      ]
     },
     "execution_count": 87,
     "metadata": {},
     "output_type": "execute_result"
    }
   ],
   "source": [
    "string = \"YetGen\"\n",
    "\"p\" in string"
   ]
  },
  {
   "cell_type": "code",
   "execution_count": 91,
   "metadata": {},
   "outputs": [
    {
     "data": {
      "text/plain": [
       "True"
      ]
     },
     "execution_count": 91,
     "metadata": {},
     "output_type": "execute_result"
    }
   ],
   "source": [
    "\"Y\" in string"
   ]
  },
  {
   "attachments": {},
   "cell_type": "markdown",
   "metadata": {},
   "source": [
    "# DÖNGÜLER\n",
    "- Döngüler, temel olarak, verilen koşullar karşılanana kadar devam eden tekrar eden bir süreçtir.\n",
    "- Döngünün koşulu her zaman doğruysa döngü sonsuza dek devam eder.Buna \"Sonsuz döngü\" denir.Bu tür döngülere genellikle while döngüsünde rastlarız.Bu tarz döngüler çalıştığında bilgisayarı çok yorar.\n",
    "- Eğer bir döngünün koşulu baştan yanlışsa, bu nedenle döngünün çalışmasına izin vermez. Buna \"sıfır açma döngüsü\" denir.\n",
    "\n"
   ]
  },
  {
   "attachments": {},
   "cell_type": "markdown",
   "metadata": {},
   "source": [
    "## FOR DÖNGÜSÜ\n",
    "-for döngüsü listelerin,demetlerin, stringlerin ve hatta sözlüklerin  üzerinde dolaşmamızı sağlayan bir öngü türüdür.Yapısı şu şekildedir:\n",
    "-     #for (bizim vereceğimiz isim) in (veriYapisi):\n",
    "                                 Yapılacak İşlemler"
   ]
  },
  {
   "cell_type": "code",
   "execution_count": 6,
   "metadata": {},
   "outputs": [
    {
     "name": "stdout",
     "output_type": "stream",
     "text": [
      "1\n",
      "2\n",
      "3\n",
      "4\n",
      "5\n"
     ]
    }
   ],
   "source": [
    "liste = [1,2,3,4,5]\n",
    "for i in liste:   # burdaki i benim verdiğim isim i listein içindde gezinsin elemanları teker teker yazsın demek.\n",
    "    print(i)"
   ]
  },
  {
   "cell_type": "code",
   "execution_count": 18,
   "metadata": {},
   "outputs": [
    {
     "name": "stdout",
     "output_type": "stream",
     "text": [
      "1\n",
      "2\n",
      "3\n",
      "4\n",
      "5\n"
     ]
    }
   ],
   "source": [
    "liste = [1,2,3,4,5]\n",
    "for efe in liste:   # burdaki efe benim verdiğim isim \n",
    "    print(efe)"
   ]
  },
  {
   "cell_type": "code",
   "execution_count": 19,
   "metadata": {},
   "outputs": [
    {
     "name": "stdout",
     "output_type": "stream",
     "text": [
      "1\n",
      "4\n",
      "9\n",
      "16\n",
      "25\n"
     ]
    }
   ],
   "source": [
    "for i in liste:\n",
    "    print(i**2) # i listenin içinde gezip elemanların karesini alsın."
   ]
  },
  {
   "cell_type": "code",
   "execution_count": 7,
   "metadata": {},
   "outputs": [
    {
     "name": "stdout",
     "output_type": "stream",
     "text": [
      "2\n",
      "3\n",
      "4\n",
      "5\n",
      "6\n"
     ]
    }
   ],
   "source": [
    "for i in liste: \n",
    "    print(i+1) # i listenin içinde gezip bir fazlalarını yazdırsın demek."
   ]
  },
  {
   "cell_type": "code",
   "execution_count": 38,
   "metadata": {},
   "outputs": [
    {
     "name": "stdout",
     "output_type": "stream",
     "text": [
      "E\n",
      "f\n",
      "e\n",
      " \n",
      "T\n",
      "ü\n",
      "r\n",
      "k\n",
      "a\n",
      "n\n"
     ]
    }
   ],
   "source": [
    "isim_soyisim = \"Efe Türkan\"\n",
    "for efe in isim_soyisim:\n",
    "    print(efe)"
   ]
  },
  {
   "cell_type": "code",
   "execution_count": 36,
   "metadata": {},
   "outputs": [
    {
     "name": "stdout",
     "output_type": "stream",
     "text": [
      "1\n",
      "4\n",
      "9\n",
      "16\n",
      "25\n"
     ]
    }
   ],
   "source": [
    "sayilar = \"12345\"\n",
    "for x in sayilar:\n",
    "    print(int(x) * int(x))"
   ]
  },
  {
   "attachments": {},
   "cell_type": "markdown",
   "metadata": {},
   "source": [
    "## While Döngüsü\n",
    "- while döngüleri belli bir koşul sağlandığı sürece bloğundaki işlemleri gerçekleştirmeye devam eder. while döngülerinin sona ermesi için koşul durumunun bir süre sonra FALSE olması gereklidir.Yapısı şu şekildedir;\n",
    "- while koşul:\n",
    "-            yapılacak işlemler"
   ]
  },
  {
   "cell_type": "code",
   "execution_count": 39,
   "metadata": {},
   "outputs": [],
   "source": [
    "# i = i+1 == i+=1\n",
    "# i = i-1 == i-=1\n",
    "# i = i*2 == i*=2"
   ]
  },
  {
   "cell_type": "code",
   "execution_count": 46,
   "metadata": {},
   "outputs": [
    {
     "name": "stdout",
     "output_type": "stream",
     "text": [
      "Toplam: 1\n",
      "Toplam: 3\n",
      "Toplam: 6\n",
      "Toplam: 10\n",
      "Toplam: 15\n",
      "Toplam: 21\n",
      "Toplam: 28\n",
      "Toplam: 36\n",
      "Toplam: 45\n",
      "Toplam: 55\n"
     ]
    }
   ],
   "source": [
    "sum = 0\n",
    "i = 1\n",
    "while i < 11:\n",
    "    sum += i # sum = i + sum yada sum = sum + i\n",
    "    i += 1\n",
    "    print(\"Toplam:\" , sum)\n"
   ]
  },
  {
   "attachments": {},
   "cell_type": "markdown",
   "metadata": {},
   "source": [
    "## range() Fonksiyonu\n",
    "- range(başlangıç, bitiş, artış miktarı) şeklinde kullanılır."
   ]
  },
  {
   "cell_type": "code",
   "execution_count": 12,
   "metadata": {},
   "outputs": [
    {
     "name": "stdout",
     "output_type": "stream",
     "text": [
      "range(1, 10, 2)\n"
     ]
    }
   ],
   "source": [
    "print(range(1,10,2))"
   ]
  },
  {
   "cell_type": "code",
   "execution_count": 13,
   "metadata": {},
   "outputs": [
    {
     "name": "stdout",
     "output_type": "stream",
     "text": [
      "1 6 11 16\n"
     ]
    }
   ],
   "source": [
    "print(*range(1,20,5)) #print ile range yazdırmak istiyorsan *range formatında kullanmak zorundasın aksi halde yukarıda olduğu gibi olmaz."
   ]
  },
  {
   "cell_type": "code",
   "execution_count": 48,
   "metadata": {},
   "outputs": [
    {
     "name": "stdout",
     "output_type": "stream",
     "text": [
      "1\n",
      "3\n",
      "5\n",
      "7\n",
      "9\n"
     ]
    }
   ],
   "source": [
    "for x in range(1,10,2):\n",
    "    print(x)"
   ]
  },
  {
   "cell_type": "code",
   "execution_count": 52,
   "metadata": {},
   "outputs": [
    {
     "name": "stdout",
     "output_type": "stream",
     "text": [
      "0\n",
      "1\n",
      "2\n",
      "3\n",
      "4\n"
     ]
    }
   ],
   "source": [
    "for x in range(5):  # for x in range(0,5,1) !AYNI ŞEY!\n",
    "    print(x) "
   ]
  },
  {
   "cell_type": "code",
   "execution_count": 54,
   "metadata": {},
   "outputs": [
    {
     "name": "stdout",
     "output_type": "stream",
     "text": [
      "0\n",
      "10\n",
      "20\n",
      "30\n",
      "40\n",
      "50\n",
      "60\n",
      "70\n",
      "80\n",
      "90\n",
      "100\n"
     ]
    }
   ],
   "source": [
    "for x in range(0,101,10):\n",
    "    print(x)"
   ]
  },
  {
   "cell_type": "code",
   "execution_count": 5,
   "metadata": {},
   "outputs": [
    {
     "name": "stdout",
     "output_type": "stream",
     "text": [
      "*\n",
      "**\n",
      "***\n",
      "****\n",
      "*****\n",
      "******\n",
      "*******\n",
      "********\n",
      "*********\n"
     ]
    }
   ],
   "source": [
    "for x in range(1,10):\n",
    "    print(x * \"*\")\n"
   ]
  },
  {
   "attachments": {},
   "cell_type": "markdown",
   "metadata": {},
   "source": [
    "## break\n",
    "- break ifadesi döngüyü sonlandırır."
   ]
  },
  {
   "attachments": {},
   "cell_type": "markdown",
   "metadata": {},
   "source": [
    "## continue\n",
    "-  continue ifadesi döngünün sonraki adımına geçer."
   ]
  },
  {
   "cell_type": "code",
   "execution_count": 55,
   "metadata": {},
   "outputs": [
    {
     "name": "stdout",
     "output_type": "stream",
     "text": [
      "0\n",
      "1\n",
      "2\n",
      "3\n",
      "4\n",
      "5\n",
      "6\n"
     ]
    }
   ],
   "source": [
    "i = 0\n",
    "while i<10:\n",
    "    if(i == 7):\n",
    "        break\n",
    "    else:\n",
    "        print(i)\n",
    "    i +=1"
   ]
  },
  {
   "cell_type": "code",
   "execution_count": 1,
   "metadata": {},
   "outputs": [
    {
     "name": "stdout",
     "output_type": "stream",
     "text": [
      "Uygulamadan çıkmak için e tuşuna basınız.\n",
      "Yaşınız 15\n",
      "Uygulamadan çıkmak için e tuşuna basınız.\n"
     ]
    }
   ],
   "source": [
    "while True:\n",
    "    print(\"Uygulamadan çıkmak için e tuşuna basınız.\")\n",
    "    yas = (input(\"Lütfen Yaşınızı Giriniz: \"))\n",
    "    if yas == \"e\" :\n",
    "        break\n",
    "    else:\n",
    "        print(\"Yaşınız\" , yas)"
   ]
  },
  {
   "cell_type": "code",
   "execution_count": 78,
   "metadata": {},
   "outputs": [
    {
     "name": "stdout",
     "output_type": "stream",
     "text": [
      "0\n",
      "1\n",
      "2\n",
      "3\n",
      "6\n"
     ]
    }
   ],
   "source": [
    "for x in range(7):\n",
    "    if x == 4 or x == 5: #x'ler 4 ve 5 olunca o adımı atla bir sonrakii adıma geç \n",
    "        continue\n",
    "    print(x)"
   ]
  },
  {
   "cell_type": "code",
   "execution_count": 5,
   "metadata": {},
   "outputs": [
    {
     "name": "stdout",
     "output_type": "stream",
     "text": [
      "1\n",
      "2\n",
      "4\n",
      "6\n",
      "8\n",
      "9\n"
     ]
    }
   ],
   "source": [
    "liste = [3,5,7]\n",
    "\n",
    "\n",
    "for i in range(1,10):\n",
    "    if (i in liste):\n",
    "        continue\n",
    "    print(i)"
   ]
  }
 ],
 "metadata": {
  "kernelspec": {
   "display_name": "Python 3",
   "language": "python",
   "name": "python3"
  },
  "language_info": {
   "codemirror_mode": {
    "name": "ipython",
    "version": 3
   },
   "file_extension": ".py",
   "mimetype": "text/x-python",
   "name": "python",
   "nbconvert_exporter": "python",
   "pygments_lexer": "ipython3",
   "version": "3.11.1"
  },
  "orig_nbformat": 4
 },
 "nbformat": 4,
 "nbformat_minor": 2
}
