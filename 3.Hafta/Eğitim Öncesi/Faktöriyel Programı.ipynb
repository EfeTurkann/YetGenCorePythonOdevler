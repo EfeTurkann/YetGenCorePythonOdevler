{
 "cells": [
  {
   "cell_type": "code",
   "execution_count": 30,
   "metadata": {},
   "outputs": [
    {
     "name": "stdout",
     "output_type": "stream",
     "text": [
      "5! = 120\n"
     ]
    }
   ],
   "source": [
    "faktoriyel = 1\n",
    "while True:\n",
    "    sayi = int(input(\"Lütfen negatif olmayan bir sayı giriniz:\"))\n",
    "    if sayi <= 0:\n",
    "        print(\"Negatif bir sayı girdiniz,lütfen pozitif bir sayı giriniz.\")\n",
    "    else:\n",
    "        for i in range(1,sayi+1):\n",
    "            faktoriyel *= i\n",
    "        \n",
    "        print(f\"{sayi}! = {faktoriyel}\")\n",
    "        break"
   ]
  },
  {
   "cell_type": "code",
   "execution_count": 1,
   "metadata": {},
   "outputs": [
    {
     "name": "stdout",
     "output_type": "stream",
     "text": [
      "Kendi Factorial fonksiyonum.\n"
     ]
    },
    {
     "data": {
      "text/plain": [
       "120"
      ]
     },
     "execution_count": 1,
     "metadata": {},
     "output_type": "execute_result"
    }
   ],
   "source": [
    "def factorial(sayı):\n",
    "    print(\"Kendi Factorial fonksiyonum.\")\n",
    "    faktoriyel = 1\n",
    "    if (sayı == 0 or sayı == 1):\n",
    "        return 1\n",
    "    while (sayı >= 1):\n",
    "        faktoriyel *= sayı \n",
    "        sayı -= 1\n",
    "    return faktoriyel\n",
    "factorial(5)\n",
    "# sayı = 5\n",
    "#1 1 = 1*5 sayı = 4\n",
    "#2 1*5 = 1*5*4 sayı = 3\n",
    "#3 1*5*4 = 1*5*4*3 sayı = 2\n",
    "#4 1*5*4*3 = 1*5*4*3*2 sayı = 1 old. için bir sonraki adımda if bloğuna girecek \n",
    "#5 1*5*4*3*2*1 i döndürecek sonucu 5 olarak verecek."
   ]
  },
  {
   "cell_type": "code",
   "execution_count": 2,
   "metadata": {},
   "outputs": [
    {
     "name": "stdout",
     "output_type": "stream",
     "text": [
      "120\n"
     ]
    }
   ],
   "source": [
    "a = int(input(\"Sayı:\"))\n",
    "def fuck(x):\n",
    "    global sonuc\n",
    "    sonuc = 1\n",
    "    for i in range(1,x+1):\n",
    "        sonuc = sonuc * i\n",
    "    print(sonuc)\n",
    "\n",
    "fuck(a)\n"
   ]
  }
 ],
 "metadata": {
  "kernelspec": {
   "display_name": "Python 3",
   "language": "python",
   "name": "python3"
  },
  "language_info": {
   "codemirror_mode": {
    "name": "ipython",
    "version": 3
   },
   "file_extension": ".py",
   "mimetype": "text/x-python",
   "name": "python",
   "nbconvert_exporter": "python",
   "pygments_lexer": "ipython3",
   "version": "3.11.1"
  },
  "orig_nbformat": 4
 },
 "nbformat": 4,
 "nbformat_minor": 2
}
