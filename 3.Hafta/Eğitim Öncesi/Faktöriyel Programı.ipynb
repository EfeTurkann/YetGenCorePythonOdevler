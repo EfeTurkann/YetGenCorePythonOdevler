{
 "cells": [
  {
   "cell_type": "code",
   "execution_count": 30,
   "metadata": {},
   "outputs": [
    {
     "name": "stdout",
     "output_type": "stream",
     "text": [
      "5! = 120\n"
     ]
    }
   ],
   "source": [
    "faktoriyel = 1\n",
    "while True:\n",
    "    sayi = int(input(\"Lütfen negatif olmayan bir sayı giriniz:\"))\n",
    "    if sayi <= 0:\n",
    "        print(\"Negatif bir sayı girdiniz,lütfen pozitif bir sayı giriniz.\")\n",
    "    else:\n",
    "        for i in range(1,sayi+1):\n",
    "            faktoriyel *= i\n",
    "        \n",
    "        print(f\"{sayi}! = {faktoriyel}\")\n",
    "        break"
   ]
  }
 ],
 "metadata": {
  "kernelspec": {
   "display_name": "Python 3",
   "language": "python",
   "name": "python3"
  },
  "language_info": {
   "codemirror_mode": {
    "name": "ipython",
    "version": 3
   },
   "file_extension": ".py",
   "mimetype": "text/x-python",
   "name": "python",
   "nbconvert_exporter": "python",
   "pygments_lexer": "ipython3",
   "version": "3.11.1"
  },
  "orig_nbformat": 4
 },
 "nbformat": 4,
 "nbformat_minor": 2
}
